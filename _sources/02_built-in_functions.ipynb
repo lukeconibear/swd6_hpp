{
 "cells": [
  {
   "cell_type": "markdown",
   "id": "591316ac-72a9-4d80-8220-0267b16f1358",
   "metadata": {},
   "source": [
    "# [Built-in functions](https://docs.python.org/3/library/functions.html)\n",
    "Optimised in C (statically typed and compiled)."
   ]
  },
  {
   "cell_type": "markdown",
   "id": "daae1cfb-6ea0-4942-85d4-4a61abb99459",
   "metadata": {},
   "source": [
    "## [`len`](https://docs.python.org/3/library/functions.html#len)"
   ]
  },
  {
   "cell_type": "code",
   "execution_count": 1,
   "id": "f563c49a-3dd3-435e-9ef5-9df8a55d3a65",
   "metadata": {},
   "outputs": [],
   "source": [
    "nums = [num for num in range(1_000_000)]"
   ]
  },
  {
   "cell_type": "code",
   "execution_count": 2,
   "id": "79cb72e1-870f-46df-a655-d88ef66dc114",
   "metadata": {},
   "outputs": [
    {
     "name": "stdout",
     "output_type": "stream",
     "text": [
      "38.7 ms ± 3.87 ms per loop (mean ± std. dev. of 7 runs, 10 loops each)\n"
     ]
    }
   ],
   "source": [
    "%%timeit\n",
    "count = 0\n",
    "for num in nums: # time O(n)\n",
    "    count += 1"
   ]
  },
  {
   "cell_type": "code",
   "execution_count": 3,
   "id": "e81f47a5-eb1e-41ba-89af-2eb3c1e0a4e8",
   "metadata": {},
   "outputs": [
    {
     "name": "stdout",
     "output_type": "stream",
     "text": [
      "56.2 ns ± 4.43 ns per loop (mean ± std. dev. of 7 runs, 10000000 loops each)\n"
     ]
    }
   ],
   "source": [
    "%timeit len(nums) # time O(1)"
   ]
  },
  {
   "cell_type": "code",
   "execution_count": null,
   "id": "8631be1e-726b-44b2-b972-fd45af1bb82e",
   "metadata": {},
   "outputs": [],
   "source": []
  },
  {
   "cell_type": "code",
   "execution_count": null,
   "id": "3448c0b1-1016-4c76-92ba-23775064efc3",
   "metadata": {},
   "outputs": [],
   "source": []
  }
 ],
 "metadata": {
  "kernelspec": {
   "display_name": "swd6_hpp",
   "language": "python",
   "name": "swd6_hpp"
  },
  "language_info": {
   "codemirror_mode": {
    "name": "ipython",
    "version": 3
   },
   "file_extension": ".py",
   "mimetype": "text/x-python",
   "name": "python",
   "nbconvert_exporter": "python",
   "pygments_lexer": "ipython3",
   "version": "3.9.7"
  }
 },
 "nbformat": 4,
 "nbformat_minor": 5
}
