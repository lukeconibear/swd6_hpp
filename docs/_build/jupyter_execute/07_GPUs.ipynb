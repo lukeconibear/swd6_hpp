{
 "cells": [
  {
   "cell_type": "markdown",
   "id": "3c417818-9ff3-42f3-8e45-453b9a8e1c4e",
   "metadata": {},
   "source": [
    "# GPUs\n",
    "- *GPUs (Graphics Processing Units) are optimised for numerical operations, while CPUs perform general computation.*\n",
    "- [cuPy](https://cupy.dev/) (NumPy).\n",
    "```python\n",
    "import cupy as cp\n",
    "x = cp.arange(6).reshape(2, 3).astype('f')\n",
    "x.sum(axis=1)\n",
    "```\n",
    "- [cuDF](https://docs.rapids.ai/api/cudf/stable/) (Pandas).\n",
    "- Can run in [parallel](https://docs.dask.org/en/latest/gpu.html).\n",
    "  - GPUs available on [ARC4](https://arcdocs.leeds.ac.uk/systems/arc4.html#using-the-v100-gpu-nodes)."
   ]
  },
  {
   "cell_type": "code",
   "execution_count": null,
   "id": "dfd89b1e-adda-4978-a771-cdf0682d0ca0",
   "metadata": {},
   "outputs": [],
   "source": []
  }
 ],
 "metadata": {
  "kernelspec": {
   "display_name": "swd6_hpp",
   "language": "python",
   "name": "swd6_hpp"
  },
  "language_info": {
   "codemirror_mode": {
    "name": "ipython",
    "version": 3
   },
   "file_extension": ".py",
   "mimetype": "text/x-python",
   "name": "python",
   "nbconvert_exporter": "python",
   "pygments_lexer": "ipython3",
   "version": "3.9.7"
  }
 },
 "nbformat": 4,
 "nbformat_minor": 5
}