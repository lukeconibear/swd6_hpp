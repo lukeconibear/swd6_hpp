{
 "cells": [
  {
   "cell_type": "markdown",
   "id": "9b05fc18-8748-41aa-b795-f1364eaf9acd",
   "metadata": {},
   "source": [
    "# Parallelisation"
   ]
  },
  {
   "cell_type": "markdown",
   "id": "9c590ffe-72a8-4f07-8a1d-0b3094b1d315",
   "metadata": {},
   "source": [
    "[![Open in Colab](https://colab.research.google.com/assets/colab-badge.svg)](https://colab.research.google.com/github/lukeconibear/swd6_hpp/blob/main/docs/06_parallelisation.ipynb)"
   ]
  },
  {
   "cell_type": "code",
   "execution_count": 1,
   "id": "c4a1b046-1d41-480f-b464-30c5aa65d601",
   "metadata": {},
   "outputs": [],
   "source": [
    "import sys\n",
    "IN_COLAB = 'google.colab' in sys.modules\n",
    "if IN_COLAB:\n",
    "    !pip install dask[dataframe] joblib ray"
   ]
  },
  {
   "cell_type": "markdown",
   "id": "bbdb26f9-e07f-46af-a1f4-e8d03138a9dc",
   "metadata": {
    "jp-MarkdownHeadingCollapsed": true,
    "tags": []
   },
   "source": [
    "## What is it?\n",
    "\n",
    "Parallelisation divides a large problem into many smaller ones and solves them *simultaneously*.\n",
    "- *Divides up the time/space complexity across workers.*\n",
    "- Tasks centrally managed by a scheduler.\n",
    "- Multi-processing (cores)\n",
    "    - Useful for compute-bound problems.\n",
    "    - Overcomes the [Global Interpreter Lock, GIL](https://wiki.python.org/moin/GlobalInterpreterLock) (prevents running the bytecode on mutliple threads simutaneously).  \n",
    "    - Lower performance when need to exchange/aggregate data\n",
    "- Multi-threading (parts of processes)\n",
    "    - Useful for memory-bound problems.  \n",
    "    \n",
    "Parallelised code often introduces overheads. So, the speed-up benefits are more pronounced with bigger jobs, rather than some of the small examples used in this tutorial."
   ]
  },
  {
   "cell_type": "markdown",
   "id": "e9c09f95-164c-42fb-bb5e-65b632353227",
   "metadata": {
    "tags": []
   },
   "source": [
    "## Parallelising a Python?\n",
    "\n",
    "Python itself is not designed for massive scalability and controls threads preemptively using the GIL. This has lead many libraries to work around this using C/C++ backends.  \n",
    "\n",
    "Some options include:  "
   ]
  },
  {
   "cell_type": "markdown",
   "id": "12e2f939-6b83-4368-a790-e523f830d7c2",
   "metadata": {},
   "source": [
    "[multiprocessing](https://docs.python.org/3/library/multiprocessing.html) for creating a pool of asynchronous workers. "
   ]
  },
  {
   "cell_type": "code",
   "execution_count": 2,
   "id": "e735fffb-03cc-4645-8021-79f0b526c1fe",
   "metadata": {},
   "outputs": [
    {
     "name": "stdout",
     "output_type": "stream",
     "text": [
      "[1, 4, 9]\n"
     ]
    }
   ],
   "source": [
    "from multiprocessing import Pool\n",
    "\n",
    "def my_function(x):\n",
    "    return x * x\n",
    "\n",
    "with Pool(3) as workers:\n",
    "    print(workers.map(my_function, [1, 2, 3]))"
   ]
  },
  {
   "cell_type": "markdown",
   "id": "4f4d1f6a-25ee-48e2-ba15-312647c16007",
   "metadata": {},
   "source": [
    "[joblib](https://joblib.readthedocs.io/en/latest/) for creating lightweight pipelines that help with \"embaressingly parallel\" tasks."
   ]
  },
  {
   "cell_type": "code",
   "execution_count": 3,
   "id": "3489f601-410e-4730-9bfc-0034471e6045",
   "metadata": {},
   "outputs": [],
   "source": [
    "import joblib\n",
    "import math"
   ]
  },
  {
   "cell_type": "code",
   "execution_count": 4,
   "id": "ae3e6016-8fd7-4ece-9c4c-b14c55d0d3a9",
   "metadata": {},
   "outputs": [
    {
     "data": {
      "text/plain": [
       "[0.0, 1.0, 2.0, 3.0, 4.0, 5.0, 6.0, 7.0, 8.0, 9.0]"
      ]
     },
     "execution_count": 4,
     "metadata": {},
     "output_type": "execute_result"
    }
   ],
   "source": [
    "joblib.Parallel(n_jobs=1)(\n",
    "    joblib.delayed(math.sqrt)(i**2) for i in range(10)\n",
    ")"
   ]
  },
  {
   "cell_type": "markdown",
   "id": "2d8264d7-b205-4a05-9f15-e3fe80c17532",
   "metadata": {},
   "source": [
    "[asyncio](https://docs.python.org/3/library/asyncio.html) for concurrent programs, especially ones that are IO-bound.  \n",
    "\n",
    "```python\n",
    "import asyncio\n",
    "\n",
    "async def main():\n",
    "    print('Hello ...')\n",
    "    await asyncio.sleep(1)\n",
    "    print('... World!')\n",
    "    \n",
    "asyncio.run(main())\n",
    "```"
   ]
  },
  {
   "cell_type": "markdown",
   "id": "a68d15a9-431d-4356-a71b-962cd45de919",
   "metadata": {},
   "source": [
    "These options work well for the CPU cores on your machine, though not really beyond that.  "
   ]
  },
  {
   "cell_type": "markdown",
   "id": "4597b004-9e8b-4bde-a0c7-5ce0471aeb7a",
   "metadata": {},
   "source": [
    "## [Vectorisation](https://jakevdp.github.io/PythonDataScienceHandbook/02.03-computation-on-arrays-ufuncs.html)\n",
    "[Vectors](https://en.wikipedia.org/wiki/Automatic_vectorization) effectively \"parallelise\" the code by operating on multiple array elements at once, rather than looping through them one at a time.  \n",
    "Under the hood for NumPy arrays, functions, and aggregations (e.g., mean, sum)."
   ]
  },
  {
   "cell_type": "code",
   "execution_count": 5,
   "id": "19082375-793b-499a-b649-d44e19a50134",
   "metadata": {},
   "outputs": [],
   "source": [
    "import numpy as np"
   ]
  },
  {
   "cell_type": "code",
   "execution_count": 6,
   "id": "1b190311-321a-4ea2-8508-923929ad6c48",
   "metadata": {},
   "outputs": [],
   "source": [
    "nums = np.arange(1_000_000)"
   ]
  },
  {
   "cell_type": "code",
   "execution_count": 7,
   "id": "999227a6-2efa-493e-9ea7-e2df6e206d34",
   "metadata": {},
   "outputs": [
    {
     "name": "stdout",
     "output_type": "stream",
     "text": [
      "200 ms ± 30.5 ms per loop (mean ± std. dev. of 7 runs, 1 loop each)\n"
     ]
    }
   ],
   "source": [
    "%%timeit\n",
    "[num + 2 for num in nums]"
   ]
  },
  {
   "cell_type": "code",
   "execution_count": 8,
   "id": "4f7dfb1e-8826-4a20-87e9-b8c11d2643e5",
   "metadata": {},
   "outputs": [
    {
     "name": "stdout",
     "output_type": "stream",
     "text": [
      "580 µs ± 3.01 µs per loop (mean ± std. dev. of 7 runs, 1000 loops each)\n"
     ]
    }
   ],
   "source": [
    "%%timeit\n",
    "nums + 2 # adds 2 to every elements by overloading the +"
   ]
  },
  {
   "cell_type": "code",
   "execution_count": 9,
   "id": "ca21907e-bd96-4c01-b1cf-aaa74808e459",
   "metadata": {},
   "outputs": [
    {
     "name": "stdout",
     "output_type": "stream",
     "text": [
      "583 µs ± 1.65 µs per loop (mean ± std. dev. of 7 runs, 1000 loops each)\n"
     ]
    }
   ],
   "source": [
    "%%timeit\n",
    "np.add(nums, 2)"
   ]
  },
  {
   "cell_type": "markdown",
   "id": "90bf59a0-d6eb-43c8-8113-c365c5ff94b3",
   "metadata": {},
   "source": [
    "[Broadcasting](https://jakevdp.github.io/PythonDataScienceHandbook/02.05-computation-on-arrays-broadcasting.html) (operations with different shaped arrays, [NumPy](https://numpy.org/doc/stable/user/basics.broadcasting.html), [xarray](https://xarray.pydata.org/en/v0.16.2/computation.html?highlight=Broadcasting#broadcasting-by-dimension-name))."
   ]
  },
  {
   "cell_type": "markdown",
   "id": "a2718892-211e-4329-bab2-1d167cb5ab95",
   "metadata": {},
   "source": [
    "![broadcasting.png](images/broadcasting.png)  \n",
    "\n",
    "*[Image source](https://mathematica.stackexchange.com/questions/99171/how-to-implement-the-general-array-broadcasting-method-from-numpy)*"
   ]
  },
  {
   "cell_type": "code",
   "execution_count": 10,
   "id": "a66ac0b9-5b05-49ed-8e82-d284c0a2931a",
   "metadata": {},
   "outputs": [
    {
     "data": {
      "text/plain": [
       "array([[ 0,  1,  2],\n",
       "       [10, 11, 12],\n",
       "       [20, 21, 22],\n",
       "       [30, 31, 32]])"
      ]
     },
     "execution_count": 10,
     "metadata": {},
     "output_type": "execute_result"
    }
   ],
   "source": [
    "nums_col = np.array([0, 10, 20, 30]).reshape(4, 1)\n",
    "nums_row = np.array([0, 1, 2])\n",
    "\n",
    "nums_col + nums_row"
   ]
  },
  {
   "cell_type": "code",
   "execution_count": 11,
   "id": "c3262510-6993-4845-8461-991616822c70",
   "metadata": {},
   "outputs": [],
   "source": [
    "import xarray as xr"
   ]
  },
  {
   "cell_type": "code",
   "execution_count": 12,
   "id": "700fd095-83f8-4846-92cd-efd37c84a8ce",
   "metadata": {},
   "outputs": [
    {
     "data": {
      "text/html": [
       "<div><svg style=\"position: absolute; width: 0; height: 0; overflow: hidden\">\n",
       "<defs>\n",
       "<symbol id=\"icon-database\" viewBox=\"0 0 32 32\">\n",
       "<path d=\"M16 0c-8.837 0-16 2.239-16 5v4c0 2.761 7.163 5 16 5s16-2.239 16-5v-4c0-2.761-7.163-5-16-5z\"></path>\n",
       "<path d=\"M16 17c-8.837 0-16-2.239-16-5v6c0 2.761 7.163 5 16 5s16-2.239 16-5v-6c0 2.761-7.163 5-16 5z\"></path>\n",
       "<path d=\"M16 26c-8.837 0-16-2.239-16-5v6c0 2.761 7.163 5 16 5s16-2.239 16-5v-6c0 2.761-7.163 5-16 5z\"></path>\n",
       "</symbol>\n",
       "<symbol id=\"icon-file-text2\" viewBox=\"0 0 32 32\">\n",
       "<path d=\"M28.681 7.159c-0.694-0.947-1.662-2.053-2.724-3.116s-2.169-2.030-3.116-2.724c-1.612-1.182-2.393-1.319-2.841-1.319h-15.5c-1.378 0-2.5 1.121-2.5 2.5v27c0 1.378 1.122 2.5 2.5 2.5h23c1.378 0 2.5-1.122 2.5-2.5v-19.5c0-0.448-0.137-1.23-1.319-2.841zM24.543 5.457c0.959 0.959 1.712 1.825 2.268 2.543h-4.811v-4.811c0.718 0.556 1.584 1.309 2.543 2.268zM28 29.5c0 0.271-0.229 0.5-0.5 0.5h-23c-0.271 0-0.5-0.229-0.5-0.5v-27c0-0.271 0.229-0.5 0.5-0.5 0 0 15.499-0 15.5 0v7c0 0.552 0.448 1 1 1h7v19.5z\"></path>\n",
       "<path d=\"M23 26h-14c-0.552 0-1-0.448-1-1s0.448-1 1-1h14c0.552 0 1 0.448 1 1s-0.448 1-1 1z\"></path>\n",
       "<path d=\"M23 22h-14c-0.552 0-1-0.448-1-1s0.448-1 1-1h14c0.552 0 1 0.448 1 1s-0.448 1-1 1z\"></path>\n",
       "<path d=\"M23 18h-14c-0.552 0-1-0.448-1-1s0.448-1 1-1h14c0.552 0 1 0.448 1 1s-0.448 1-1 1z\"></path>\n",
       "</symbol>\n",
       "</defs>\n",
       "</svg>\n",
       "<style>/* CSS stylesheet for displaying xarray objects in jupyterlab.\n",
       " *\n",
       " */\n",
       "\n",
       ":root {\n",
       "  --xr-font-color0: var(--jp-content-font-color0, rgba(0, 0, 0, 1));\n",
       "  --xr-font-color2: var(--jp-content-font-color2, rgba(0, 0, 0, 0.54));\n",
       "  --xr-font-color3: var(--jp-content-font-color3, rgba(0, 0, 0, 0.38));\n",
       "  --xr-border-color: var(--jp-border-color2, #e0e0e0);\n",
       "  --xr-disabled-color: var(--jp-layout-color3, #bdbdbd);\n",
       "  --xr-background-color: var(--jp-layout-color0, white);\n",
       "  --xr-background-color-row-even: var(--jp-layout-color1, white);\n",
       "  --xr-background-color-row-odd: var(--jp-layout-color2, #eeeeee);\n",
       "}\n",
       "\n",
       "html[theme=dark],\n",
       "body.vscode-dark {\n",
       "  --xr-font-color0: rgba(255, 255, 255, 1);\n",
       "  --xr-font-color2: rgba(255, 255, 255, 0.54);\n",
       "  --xr-font-color3: rgba(255, 255, 255, 0.38);\n",
       "  --xr-border-color: #1F1F1F;\n",
       "  --xr-disabled-color: #515151;\n",
       "  --xr-background-color: #111111;\n",
       "  --xr-background-color-row-even: #111111;\n",
       "  --xr-background-color-row-odd: #313131;\n",
       "}\n",
       "\n",
       ".xr-wrap {\n",
       "  display: block;\n",
       "  min-width: 300px;\n",
       "  max-width: 700px;\n",
       "}\n",
       "\n",
       ".xr-text-repr-fallback {\n",
       "  /* fallback to plain text repr when CSS is not injected (untrusted notebook) */\n",
       "  display: none;\n",
       "}\n",
       "\n",
       ".xr-header {\n",
       "  padding-top: 6px;\n",
       "  padding-bottom: 6px;\n",
       "  margin-bottom: 4px;\n",
       "  border-bottom: solid 1px var(--xr-border-color);\n",
       "}\n",
       "\n",
       ".xr-header > div,\n",
       ".xr-header > ul {\n",
       "  display: inline;\n",
       "  margin-top: 0;\n",
       "  margin-bottom: 0;\n",
       "}\n",
       "\n",
       ".xr-obj-type,\n",
       ".xr-array-name {\n",
       "  margin-left: 2px;\n",
       "  margin-right: 10px;\n",
       "}\n",
       "\n",
       ".xr-obj-type {\n",
       "  color: var(--xr-font-color2);\n",
       "}\n",
       "\n",
       ".xr-sections {\n",
       "  padding-left: 0 !important;\n",
       "  display: grid;\n",
       "  grid-template-columns: 150px auto auto 1fr 20px 20px;\n",
       "}\n",
       "\n",
       ".xr-section-item {\n",
       "  display: contents;\n",
       "}\n",
       "\n",
       ".xr-section-item input {\n",
       "  display: none;\n",
       "}\n",
       "\n",
       ".xr-section-item input + label {\n",
       "  color: var(--xr-disabled-color);\n",
       "}\n",
       "\n",
       ".xr-section-item input:enabled + label {\n",
       "  cursor: pointer;\n",
       "  color: var(--xr-font-color2);\n",
       "}\n",
       "\n",
       ".xr-section-item input:enabled + label:hover {\n",
       "  color: var(--xr-font-color0);\n",
       "}\n",
       "\n",
       ".xr-section-summary {\n",
       "  grid-column: 1;\n",
       "  color: var(--xr-font-color2);\n",
       "  font-weight: 500;\n",
       "}\n",
       "\n",
       ".xr-section-summary > span {\n",
       "  display: inline-block;\n",
       "  padding-left: 0.5em;\n",
       "}\n",
       "\n",
       ".xr-section-summary-in:disabled + label {\n",
       "  color: var(--xr-font-color2);\n",
       "}\n",
       "\n",
       ".xr-section-summary-in + label:before {\n",
       "  display: inline-block;\n",
       "  content: '►';\n",
       "  font-size: 11px;\n",
       "  width: 15px;\n",
       "  text-align: center;\n",
       "}\n",
       "\n",
       ".xr-section-summary-in:disabled + label:before {\n",
       "  color: var(--xr-disabled-color);\n",
       "}\n",
       "\n",
       ".xr-section-summary-in:checked + label:before {\n",
       "  content: '▼';\n",
       "}\n",
       "\n",
       ".xr-section-summary-in:checked + label > span {\n",
       "  display: none;\n",
       "}\n",
       "\n",
       ".xr-section-summary,\n",
       ".xr-section-inline-details {\n",
       "  padding-top: 4px;\n",
       "  padding-bottom: 4px;\n",
       "}\n",
       "\n",
       ".xr-section-inline-details {\n",
       "  grid-column: 2 / -1;\n",
       "}\n",
       "\n",
       ".xr-section-details {\n",
       "  display: none;\n",
       "  grid-column: 1 / -1;\n",
       "  margin-bottom: 5px;\n",
       "}\n",
       "\n",
       ".xr-section-summary-in:checked ~ .xr-section-details {\n",
       "  display: contents;\n",
       "}\n",
       "\n",
       ".xr-array-wrap {\n",
       "  grid-column: 1 / -1;\n",
       "  display: grid;\n",
       "  grid-template-columns: 20px auto;\n",
       "}\n",
       "\n",
       ".xr-array-wrap > label {\n",
       "  grid-column: 1;\n",
       "  vertical-align: top;\n",
       "}\n",
       "\n",
       ".xr-preview {\n",
       "  color: var(--xr-font-color3);\n",
       "}\n",
       "\n",
       ".xr-array-preview,\n",
       ".xr-array-data {\n",
       "  padding: 0 5px !important;\n",
       "  grid-column: 2;\n",
       "}\n",
       "\n",
       ".xr-array-data,\n",
       ".xr-array-in:checked ~ .xr-array-preview {\n",
       "  display: none;\n",
       "}\n",
       "\n",
       ".xr-array-in:checked ~ .xr-array-data,\n",
       ".xr-array-preview {\n",
       "  display: inline-block;\n",
       "}\n",
       "\n",
       ".xr-dim-list {\n",
       "  display: inline-block !important;\n",
       "  list-style: none;\n",
       "  padding: 0 !important;\n",
       "  margin: 0;\n",
       "}\n",
       "\n",
       ".xr-dim-list li {\n",
       "  display: inline-block;\n",
       "  padding: 0;\n",
       "  margin: 0;\n",
       "}\n",
       "\n",
       ".xr-dim-list:before {\n",
       "  content: '(';\n",
       "}\n",
       "\n",
       ".xr-dim-list:after {\n",
       "  content: ')';\n",
       "}\n",
       "\n",
       ".xr-dim-list li:not(:last-child):after {\n",
       "  content: ',';\n",
       "  padding-right: 5px;\n",
       "}\n",
       "\n",
       ".xr-has-index {\n",
       "  font-weight: bold;\n",
       "}\n",
       "\n",
       ".xr-var-list,\n",
       ".xr-var-item {\n",
       "  display: contents;\n",
       "}\n",
       "\n",
       ".xr-var-item > div,\n",
       ".xr-var-item label,\n",
       ".xr-var-item > .xr-var-name span {\n",
       "  background-color: var(--xr-background-color-row-even);\n",
       "  margin-bottom: 0;\n",
       "}\n",
       "\n",
       ".xr-var-item > .xr-var-name:hover span {\n",
       "  padding-right: 5px;\n",
       "}\n",
       "\n",
       ".xr-var-list > li:nth-child(odd) > div,\n",
       ".xr-var-list > li:nth-child(odd) > label,\n",
       ".xr-var-list > li:nth-child(odd) > .xr-var-name span {\n",
       "  background-color: var(--xr-background-color-row-odd);\n",
       "}\n",
       "\n",
       ".xr-var-name {\n",
       "  grid-column: 1;\n",
       "}\n",
       "\n",
       ".xr-var-dims {\n",
       "  grid-column: 2;\n",
       "}\n",
       "\n",
       ".xr-var-dtype {\n",
       "  grid-column: 3;\n",
       "  text-align: right;\n",
       "  color: var(--xr-font-color2);\n",
       "}\n",
       "\n",
       ".xr-var-preview {\n",
       "  grid-column: 4;\n",
       "}\n",
       "\n",
       ".xr-var-name,\n",
       ".xr-var-dims,\n",
       ".xr-var-dtype,\n",
       ".xr-preview,\n",
       ".xr-attrs dt {\n",
       "  white-space: nowrap;\n",
       "  overflow: hidden;\n",
       "  text-overflow: ellipsis;\n",
       "  padding-right: 10px;\n",
       "}\n",
       "\n",
       ".xr-var-name:hover,\n",
       ".xr-var-dims:hover,\n",
       ".xr-var-dtype:hover,\n",
       ".xr-attrs dt:hover {\n",
       "  overflow: visible;\n",
       "  width: auto;\n",
       "  z-index: 1;\n",
       "}\n",
       "\n",
       ".xr-var-attrs,\n",
       ".xr-var-data {\n",
       "  display: none;\n",
       "  background-color: var(--xr-background-color) !important;\n",
       "  padding-bottom: 5px !important;\n",
       "}\n",
       "\n",
       ".xr-var-attrs-in:checked ~ .xr-var-attrs,\n",
       ".xr-var-data-in:checked ~ .xr-var-data {\n",
       "  display: block;\n",
       "}\n",
       "\n",
       ".xr-var-data > table {\n",
       "  float: right;\n",
       "}\n",
       "\n",
       ".xr-var-name span,\n",
       ".xr-var-data,\n",
       ".xr-attrs {\n",
       "  padding-left: 25px !important;\n",
       "}\n",
       "\n",
       ".xr-attrs,\n",
       ".xr-var-attrs,\n",
       ".xr-var-data {\n",
       "  grid-column: 1 / -1;\n",
       "}\n",
       "\n",
       "dl.xr-attrs {\n",
       "  padding: 0;\n",
       "  margin: 0;\n",
       "  display: grid;\n",
       "  grid-template-columns: 125px auto;\n",
       "}\n",
       "\n",
       ".xr-attrs dt,\n",
       ".xr-attrs dd {\n",
       "  padding: 0;\n",
       "  margin: 0;\n",
       "  float: left;\n",
       "  padding-right: 10px;\n",
       "  width: auto;\n",
       "}\n",
       "\n",
       ".xr-attrs dt {\n",
       "  font-weight: normal;\n",
       "  grid-column: 1;\n",
       "}\n",
       "\n",
       ".xr-attrs dt:hover span {\n",
       "  display: inline-block;\n",
       "  background: var(--xr-background-color);\n",
       "  padding-right: 10px;\n",
       "}\n",
       "\n",
       ".xr-attrs dd {\n",
       "  grid-column: 2;\n",
       "  white-space: pre-wrap;\n",
       "  word-break: break-all;\n",
       "}\n",
       "\n",
       ".xr-icon-database,\n",
       ".xr-icon-file-text2 {\n",
       "  display: inline-block;\n",
       "  vertical-align: middle;\n",
       "  width: 1em;\n",
       "  height: 1.5em !important;\n",
       "  stroke-width: 0;\n",
       "  stroke: currentColor;\n",
       "  fill: currentColor;\n",
       "}\n",
       "</style><pre class='xr-text-repr-fallback'>&lt;xarray.DataArray (col: 4, row: 3)&gt;\n",
       "array([[ 0,  1,  2],\n",
       "       [10, 11, 12],\n",
       "       [20, 21, 22],\n",
       "       [30, 31, 32]])\n",
       "Coordinates:\n",
       "  * col      (col) int64 0 10 20 30\n",
       "  * row      (row) int64 0 1 2</pre><div class='xr-wrap' hidden><div class='xr-header'><div class='xr-obj-type'>xarray.DataArray</div><div class='xr-array-name'></div><ul class='xr-dim-list'><li><span class='xr-has-index'>col</span>: 4</li><li><span class='xr-has-index'>row</span>: 3</li></ul></div><ul class='xr-sections'><li class='xr-section-item'><div class='xr-array-wrap'><input id='section-33ffed75-6aeb-4899-96ee-67509d983606' class='xr-array-in' type='checkbox' checked><label for='section-33ffed75-6aeb-4899-96ee-67509d983606' title='Show/hide data repr'><svg class='icon xr-icon-database'><use xlink:href='#icon-database'></use></svg></label><div class='xr-array-preview xr-preview'><span>0 1 2 10 11 12 20 21 22 30 31 32</span></div><div class='xr-array-data'><pre>array([[ 0,  1,  2],\n",
       "       [10, 11, 12],\n",
       "       [20, 21, 22],\n",
       "       [30, 31, 32]])</pre></div></div></li><li class='xr-section-item'><input id='section-1b303e96-db02-4136-9b95-ff7473c0ed41' class='xr-section-summary-in' type='checkbox'  checked><label for='section-1b303e96-db02-4136-9b95-ff7473c0ed41' class='xr-section-summary' >Coordinates: <span>(2)</span></label><div class='xr-section-inline-details'></div><div class='xr-section-details'><ul class='xr-var-list'><li class='xr-var-item'><div class='xr-var-name'><span class='xr-has-index'>col</span></div><div class='xr-var-dims'>(col)</div><div class='xr-var-dtype'>int64</div><div class='xr-var-preview xr-preview'>0 10 20 30</div><input id='attrs-b0c9e9e3-f85a-4a7b-a158-ed4c5fbb2783' class='xr-var-attrs-in' type='checkbox' disabled><label for='attrs-b0c9e9e3-f85a-4a7b-a158-ed4c5fbb2783' title='Show/Hide attributes'><svg class='icon xr-icon-file-text2'><use xlink:href='#icon-file-text2'></use></svg></label><input id='data-fbe40070-bbab-4b21-a02f-7f0ba485e532' class='xr-var-data-in' type='checkbox'><label for='data-fbe40070-bbab-4b21-a02f-7f0ba485e532' title='Show/Hide data repr'><svg class='icon xr-icon-database'><use xlink:href='#icon-database'></use></svg></label><div class='xr-var-attrs'><dl class='xr-attrs'></dl></div><div class='xr-var-data'><pre>array([ 0, 10, 20, 30])</pre></div></li><li class='xr-var-item'><div class='xr-var-name'><span class='xr-has-index'>row</span></div><div class='xr-var-dims'>(row)</div><div class='xr-var-dtype'>int64</div><div class='xr-var-preview xr-preview'>0 1 2</div><input id='attrs-4ae673b4-20d9-486a-98cf-7c47bd742fbf' class='xr-var-attrs-in' type='checkbox' disabled><label for='attrs-4ae673b4-20d9-486a-98cf-7c47bd742fbf' title='Show/Hide attributes'><svg class='icon xr-icon-file-text2'><use xlink:href='#icon-file-text2'></use></svg></label><input id='data-cffcfbb5-0a78-4d21-b8a7-1cf61ed77fca' class='xr-var-data-in' type='checkbox'><label for='data-cffcfbb5-0a78-4d21-b8a7-1cf61ed77fca' title='Show/Hide data repr'><svg class='icon xr-icon-database'><use xlink:href='#icon-database'></use></svg></label><div class='xr-var-attrs'><dl class='xr-attrs'></dl></div><div class='xr-var-data'><pre>array([0, 1, 2])</pre></div></li></ul></div></li><li class='xr-section-item'><input id='section-8e67039c-bf3d-460b-99d0-f58861e7a878' class='xr-section-summary-in' type='checkbox' disabled ><label for='section-8e67039c-bf3d-460b-99d0-f58861e7a878' class='xr-section-summary'  title='Expand/collapse section'>Attributes: <span>(0)</span></label><div class='xr-section-inline-details'></div><div class='xr-section-details'><dl class='xr-attrs'></dl></div></li></ul></div></div>"
      ],
      "text/plain": [
       "<xarray.DataArray (col: 4, row: 3)>\n",
       "array([[ 0,  1,  2],\n",
       "       [10, 11, 12],\n",
       "       [20, 21, 22],\n",
       "       [30, 31, 32]])\n",
       "Coordinates:\n",
       "  * col      (col) int64 0 10 20 30\n",
       "  * row      (row) int64 0 1 2"
      ]
     },
     "execution_count": 12,
     "metadata": {},
     "output_type": "execute_result"
    }
   ],
   "source": [
    "nums_col = xr.DataArray([0, 10, 20, 30], [('col', [0, 10, 20, 30])])\n",
    "nums_row = xr.DataArray([0, 1, 2], [('row', [0, 1, 2])])\n",
    "\n",
    "nums_col + nums_row"
   ]
  },
  {
   "cell_type": "markdown",
   "id": "0d39c998-f239-42fe-b37c-452c5f4cf95f",
   "metadata": {},
   "source": [
    "NumPy [ufuncs](https://numpy.org/doc/stable/reference/ufuncs.html) (universal functions).\n",
    "- *Optimised in C (statically typed and compiled).*\n",
    "- Arbitrary Python function to NumPy ufunc:\n",
    "    - [`np.frompyfunc`](https://numpy.org/doc/stable/reference/generated/numpy.frompyfunc.html). \n",
    "    - [`np.vectorize`](https://numpy.org/doc/stable/reference/generated/numpy.vectorize.html) (keeps the documentation).  "
   ]
  },
  {
   "cell_type": "code",
   "execution_count": 13,
   "id": "ad42fbcb-6ea0-4e4c-becb-a2dd1120e755",
   "metadata": {},
   "outputs": [
    {
     "data": {
      "text/plain": [
       "array([[0.78046373, 0.02082283, 0.66327924, 0.96713496, 0.04232469],\n",
       "       [0.10403072, 0.92562836, 0.59985643, 0.21840083, 0.31095524],\n",
       "       [0.11727009, 0.52451126, 0.61290502, 0.098795  , 0.62898025],\n",
       "       [0.83474084, 0.15081632, 0.73288648, 0.4118689 , 0.52985103],\n",
       "       [0.02298189, 0.89237702, 0.3305164 , 0.37169666, 0.69242908]])"
      ]
     },
     "execution_count": 13,
     "metadata": {},
     "output_type": "execute_result"
    }
   ],
   "source": [
    "random_array = np.random.rand(5, 5)\n",
    "random_array"
   ]
  },
  {
   "cell_type": "code",
   "execution_count": 14,
   "id": "b6834bec-e92b-47a5-a573-2e7fac891b67",
   "metadata": {},
   "outputs": [],
   "source": [
    "def my_function(array, threshold):\n",
    "    \"\"\"Compare an array to a threshold.\"\"\"\n",
    "    if array > threshold:\n",
    "        return round(array - threshold, 1)\n",
    "    else:\n",
    "        return round(array + threshold, 1)"
   ]
  },
  {
   "cell_type": "code",
   "execution_count": 15,
   "id": "f1186d64-95ea-4749-8909-49994cd66dd1",
   "metadata": {},
   "outputs": [
    {
     "data": {
      "text/plain": [
       "array([[0.3, 0.5, 0.2, 0.5, 0.5],\n",
       "       [0.6, 0.4, 0.1, 0.7, 0.8],\n",
       "       [0.6, 0.0, 0.1, 0.6, 0.1],\n",
       "       [0.3, 0.7, 0.2, 0.9, 0.0],\n",
       "       [0.5, 0.4, 0.8, 0.9, 0.2]], dtype=object)"
      ]
     },
     "execution_count": 15,
     "metadata": {},
     "output_type": "execute_result"
    }
   ],
   "source": [
    "frompyfunc_function = np.frompyfunc(\n",
    "    my_function, \n",
    "    2, # number of input arguments \n",
    "    1) # number of returned objects\n",
    "frompyfunc_function(random_array, 0.5)"
   ]
  },
  {
   "cell_type": "code",
   "execution_count": 16,
   "id": "a8d2a996-ddae-45ee-97e2-d9d7f33022d9",
   "metadata": {},
   "outputs": [
    {
     "data": {
      "text/plain": [
       "\"my_function (vectorized)(x1, x2, /, out=None, *, where=True, casting='same_kind', order='K', dtype=None, subok=True[, signature, extobj])\\n\\ndynamic ufunc based on a python function\""
      ]
     },
     "execution_count": 16,
     "metadata": {},
     "output_type": "execute_result"
    }
   ],
   "source": [
    "frompyfunc_function.__doc__"
   ]
  },
  {
   "cell_type": "code",
   "execution_count": 17,
   "id": "11d872ff-ccef-4bda-b3d6-04aa69b61bcc",
   "metadata": {},
   "outputs": [
    {
     "data": {
      "text/plain": [
       "array([[0.3, 0.5, 0.2, 0.5, 0.5],\n",
       "       [0.6, 0.4, 0.1, 0.7, 0.8],\n",
       "       [0.6, 0. , 0.1, 0.6, 0.1],\n",
       "       [0.3, 0.7, 0.2, 0.9, 0. ],\n",
       "       [0.5, 0.4, 0.8, 0.9, 0.2]])"
      ]
     },
     "execution_count": 17,
     "metadata": {},
     "output_type": "execute_result"
    }
   ],
   "source": [
    "vectorized_function = np.vectorize(my_function)\n",
    "vectorized_function(random_array, 0.5)"
   ]
  },
  {
   "cell_type": "code",
   "execution_count": 18,
   "id": "8e9771aa-2efc-4339-9af8-e3f1e9a4508a",
   "metadata": {},
   "outputs": [
    {
     "data": {
      "text/plain": [
       "'Compare an array to a threshold.'"
      ]
     },
     "execution_count": 18,
     "metadata": {},
     "output_type": "execute_result"
    }
   ],
   "source": [
    "vectorized_function.__doc__"
   ]
  },
  {
   "cell_type": "markdown",
   "id": "aa323619-ca8d-4baf-b261-41822de65db4",
   "metadata": {},
   "source": [
    "## [Dask](https://docs.dask.org/en/latest/)\n",
    "\n",
    "- Great features.\n",
    "- Helpful documentation.\n",
    "- Familiar API.\n",
    "- Under the hood for many libraries e.g. [xarray](http://xarray.pydata.org/en/stable/dask.html), [iris](https://scitools.org.uk/iris/docs/v2.4.0/userguide/real_and_lazy_data.html), [scikit-learn](https://ml.dask.org/)."
   ]
  },
  {
   "cell_type": "markdown",
   "id": "3d190ba5-8dd6-479e-9302-2d54218f2547",
   "metadata": {
    "tags": []
   },
   "source": [
    "### [Single machine](https://docs.dask.org/en/latest/setup/single-distributed.html)\n",
    "\n",
    "See the excellent video from Dask creator, Matthew Rocklin, below."
   ]
  },
  {
   "cell_type": "code",
   "execution_count": 19,
   "id": "5dbe580d-24d3-4c68-b2ea-76cdc1e35290",
   "metadata": {
    "jupyter": {
     "source_hidden": true
    },
    "tags": [
     "remove_input"
    ]
   },
   "outputs": [
    {
     "data": {
      "text/html": [
       "\n",
       "<iframe\n",
       "    width=\"560\"\n",
       "    height=\"315\"\n",
       "    src=\"https://www.youtube.com/embed/ods97a5Pzw0\"\n",
       "    frameborder=\"0\"\n",
       "    allowfullscreen\n",
       "\n",
       "></iframe>\n"
      ],
      "text/plain": [
       "<IPython.lib.display.IFrame at 0x7f6030c3dd60>"
      ]
     },
     "execution_count": 19,
     "metadata": {},
     "output_type": "execute_result"
    }
   ],
   "source": [
    "from IPython.display import IFrame\n",
    "IFrame(src='https://www.youtube.com/embed/ods97a5Pzw0', width='560', height='315')"
   ]
  },
  {
   "cell_type": "code",
   "execution_count": 20,
   "id": "14ba8c55-a3a1-429b-8a14-64082ab7e704",
   "metadata": {},
   "outputs": [
    {
     "name": "stderr",
     "output_type": "stream",
     "text": [
      "/nfs/b0122/Users/earlacoa/miniconda3/envs/swd6_hpp/lib/python3.9/site-packages/distributed/node.py:160: UserWarning: Port 8787 is already in use.\n",
      "Perhaps you already have a cluster running?\n",
      "Hosting the HTTP server on port 40179 instead\n",
      "  warnings.warn(\n"
     ]
    }
   ],
   "source": [
    "if not IN_COLAB:\n",
    "    from dask.distributed import Client\n",
    "    client = Client()\n",
    "    client "
   ]
  },
  {
   "cell_type": "markdown",
   "id": "b248ae5b-1a0f-4e21-a673-88820b089e28",
   "metadata": {},
   "source": [
    "If want multiple threads, then could use keyword arguments in Client instance:\n",
    "```python\n",
    "client = Client(processes=False, threads_per_worker=4, n_workers=1)\n",
    "```"
   ]
  },
  {
   "cell_type": "markdown",
   "id": "395bb449-ebc8-4e9d-a1f5-6de7b7b76702",
   "metadata": {},
   "source": [
    "Remember (important), always need to close down the client at the end:\n",
    "```python\n",
    "client.close()\n",
    "```"
   ]
  },
  {
   "cell_type": "markdown",
   "id": "679e9e9b-83a5-43f9-b362-0e7dbb49c49f",
   "metadata": {},
   "source": [
    "### Dask behind the scenes"
   ]
  },
  {
   "cell_type": "code",
   "execution_count": 21,
   "id": "0b11d37d-da70-4b7b-a96d-5f2b14a87936",
   "metadata": {},
   "outputs": [],
   "source": [
    "import xarray as xr"
   ]
  },
  {
   "cell_type": "code",
   "execution_count": 22,
   "id": "cfdae6a8-2b7b-448c-bf63-cf2a6a7e2a9c",
   "metadata": {},
   "outputs": [],
   "source": [
    "ds = xr.tutorial.open_dataset(\n",
    "    'air_temperature',\n",
    "    chunks={'time': 'auto'} # dask chunks\n",
    ")"
   ]
  },
  {
   "cell_type": "code",
   "execution_count": 23,
   "id": "b42e895d-8c79-40fa-8142-49315f8e737b",
   "metadata": {},
   "outputs": [
    {
     "data": {
      "text/html": [
       "<div><svg style=\"position: absolute; width: 0; height: 0; overflow: hidden\">\n",
       "<defs>\n",
       "<symbol id=\"icon-database\" viewBox=\"0 0 32 32\">\n",
       "<path d=\"M16 0c-8.837 0-16 2.239-16 5v4c0 2.761 7.163 5 16 5s16-2.239 16-5v-4c0-2.761-7.163-5-16-5z\"></path>\n",
       "<path d=\"M16 17c-8.837 0-16-2.239-16-5v6c0 2.761 7.163 5 16 5s16-2.239 16-5v-6c0 2.761-7.163 5-16 5z\"></path>\n",
       "<path d=\"M16 26c-8.837 0-16-2.239-16-5v6c0 2.761 7.163 5 16 5s16-2.239 16-5v-6c0 2.761-7.163 5-16 5z\"></path>\n",
       "</symbol>\n",
       "<symbol id=\"icon-file-text2\" viewBox=\"0 0 32 32\">\n",
       "<path d=\"M28.681 7.159c-0.694-0.947-1.662-2.053-2.724-3.116s-2.169-2.030-3.116-2.724c-1.612-1.182-2.393-1.319-2.841-1.319h-15.5c-1.378 0-2.5 1.121-2.5 2.5v27c0 1.378 1.122 2.5 2.5 2.5h23c1.378 0 2.5-1.122 2.5-2.5v-19.5c0-0.448-0.137-1.23-1.319-2.841zM24.543 5.457c0.959 0.959 1.712 1.825 2.268 2.543h-4.811v-4.811c0.718 0.556 1.584 1.309 2.543 2.268zM28 29.5c0 0.271-0.229 0.5-0.5 0.5h-23c-0.271 0-0.5-0.229-0.5-0.5v-27c0-0.271 0.229-0.5 0.5-0.5 0 0 15.499-0 15.5 0v7c0 0.552 0.448 1 1 1h7v19.5z\"></path>\n",
       "<path d=\"M23 26h-14c-0.552 0-1-0.448-1-1s0.448-1 1-1h14c0.552 0 1 0.448 1 1s-0.448 1-1 1z\"></path>\n",
       "<path d=\"M23 22h-14c-0.552 0-1-0.448-1-1s0.448-1 1-1h14c0.552 0 1 0.448 1 1s-0.448 1-1 1z\"></path>\n",
       "<path d=\"M23 18h-14c-0.552 0-1-0.448-1-1s0.448-1 1-1h14c0.552 0 1 0.448 1 1s-0.448 1-1 1z\"></path>\n",
       "</symbol>\n",
       "</defs>\n",
       "</svg>\n",
       "<style>/* CSS stylesheet for displaying xarray objects in jupyterlab.\n",
       " *\n",
       " */\n",
       "\n",
       ":root {\n",
       "  --xr-font-color0: var(--jp-content-font-color0, rgba(0, 0, 0, 1));\n",
       "  --xr-font-color2: var(--jp-content-font-color2, rgba(0, 0, 0, 0.54));\n",
       "  --xr-font-color3: var(--jp-content-font-color3, rgba(0, 0, 0, 0.38));\n",
       "  --xr-border-color: var(--jp-border-color2, #e0e0e0);\n",
       "  --xr-disabled-color: var(--jp-layout-color3, #bdbdbd);\n",
       "  --xr-background-color: var(--jp-layout-color0, white);\n",
       "  --xr-background-color-row-even: var(--jp-layout-color1, white);\n",
       "  --xr-background-color-row-odd: var(--jp-layout-color2, #eeeeee);\n",
       "}\n",
       "\n",
       "html[theme=dark],\n",
       "body.vscode-dark {\n",
       "  --xr-font-color0: rgba(255, 255, 255, 1);\n",
       "  --xr-font-color2: rgba(255, 255, 255, 0.54);\n",
       "  --xr-font-color3: rgba(255, 255, 255, 0.38);\n",
       "  --xr-border-color: #1F1F1F;\n",
       "  --xr-disabled-color: #515151;\n",
       "  --xr-background-color: #111111;\n",
       "  --xr-background-color-row-even: #111111;\n",
       "  --xr-background-color-row-odd: #313131;\n",
       "}\n",
       "\n",
       ".xr-wrap {\n",
       "  display: block;\n",
       "  min-width: 300px;\n",
       "  max-width: 700px;\n",
       "}\n",
       "\n",
       ".xr-text-repr-fallback {\n",
       "  /* fallback to plain text repr when CSS is not injected (untrusted notebook) */\n",
       "  display: none;\n",
       "}\n",
       "\n",
       ".xr-header {\n",
       "  padding-top: 6px;\n",
       "  padding-bottom: 6px;\n",
       "  margin-bottom: 4px;\n",
       "  border-bottom: solid 1px var(--xr-border-color);\n",
       "}\n",
       "\n",
       ".xr-header > div,\n",
       ".xr-header > ul {\n",
       "  display: inline;\n",
       "  margin-top: 0;\n",
       "  margin-bottom: 0;\n",
       "}\n",
       "\n",
       ".xr-obj-type,\n",
       ".xr-array-name {\n",
       "  margin-left: 2px;\n",
       "  margin-right: 10px;\n",
       "}\n",
       "\n",
       ".xr-obj-type {\n",
       "  color: var(--xr-font-color2);\n",
       "}\n",
       "\n",
       ".xr-sections {\n",
       "  padding-left: 0 !important;\n",
       "  display: grid;\n",
       "  grid-template-columns: 150px auto auto 1fr 20px 20px;\n",
       "}\n",
       "\n",
       ".xr-section-item {\n",
       "  display: contents;\n",
       "}\n",
       "\n",
       ".xr-section-item input {\n",
       "  display: none;\n",
       "}\n",
       "\n",
       ".xr-section-item input + label {\n",
       "  color: var(--xr-disabled-color);\n",
       "}\n",
       "\n",
       ".xr-section-item input:enabled + label {\n",
       "  cursor: pointer;\n",
       "  color: var(--xr-font-color2);\n",
       "}\n",
       "\n",
       ".xr-section-item input:enabled + label:hover {\n",
       "  color: var(--xr-font-color0);\n",
       "}\n",
       "\n",
       ".xr-section-summary {\n",
       "  grid-column: 1;\n",
       "  color: var(--xr-font-color2);\n",
       "  font-weight: 500;\n",
       "}\n",
       "\n",
       ".xr-section-summary > span {\n",
       "  display: inline-block;\n",
       "  padding-left: 0.5em;\n",
       "}\n",
       "\n",
       ".xr-section-summary-in:disabled + label {\n",
       "  color: var(--xr-font-color2);\n",
       "}\n",
       "\n",
       ".xr-section-summary-in + label:before {\n",
       "  display: inline-block;\n",
       "  content: '►';\n",
       "  font-size: 11px;\n",
       "  width: 15px;\n",
       "  text-align: center;\n",
       "}\n",
       "\n",
       ".xr-section-summary-in:disabled + label:before {\n",
       "  color: var(--xr-disabled-color);\n",
       "}\n",
       "\n",
       ".xr-section-summary-in:checked + label:before {\n",
       "  content: '▼';\n",
       "}\n",
       "\n",
       ".xr-section-summary-in:checked + label > span {\n",
       "  display: none;\n",
       "}\n",
       "\n",
       ".xr-section-summary,\n",
       ".xr-section-inline-details {\n",
       "  padding-top: 4px;\n",
       "  padding-bottom: 4px;\n",
       "}\n",
       "\n",
       ".xr-section-inline-details {\n",
       "  grid-column: 2 / -1;\n",
       "}\n",
       "\n",
       ".xr-section-details {\n",
       "  display: none;\n",
       "  grid-column: 1 / -1;\n",
       "  margin-bottom: 5px;\n",
       "}\n",
       "\n",
       ".xr-section-summary-in:checked ~ .xr-section-details {\n",
       "  display: contents;\n",
       "}\n",
       "\n",
       ".xr-array-wrap {\n",
       "  grid-column: 1 / -1;\n",
       "  display: grid;\n",
       "  grid-template-columns: 20px auto;\n",
       "}\n",
       "\n",
       ".xr-array-wrap > label {\n",
       "  grid-column: 1;\n",
       "  vertical-align: top;\n",
       "}\n",
       "\n",
       ".xr-preview {\n",
       "  color: var(--xr-font-color3);\n",
       "}\n",
       "\n",
       ".xr-array-preview,\n",
       ".xr-array-data {\n",
       "  padding: 0 5px !important;\n",
       "  grid-column: 2;\n",
       "}\n",
       "\n",
       ".xr-array-data,\n",
       ".xr-array-in:checked ~ .xr-array-preview {\n",
       "  display: none;\n",
       "}\n",
       "\n",
       ".xr-array-in:checked ~ .xr-array-data,\n",
       ".xr-array-preview {\n",
       "  display: inline-block;\n",
       "}\n",
       "\n",
       ".xr-dim-list {\n",
       "  display: inline-block !important;\n",
       "  list-style: none;\n",
       "  padding: 0 !important;\n",
       "  margin: 0;\n",
       "}\n",
       "\n",
       ".xr-dim-list li {\n",
       "  display: inline-block;\n",
       "  padding: 0;\n",
       "  margin: 0;\n",
       "}\n",
       "\n",
       ".xr-dim-list:before {\n",
       "  content: '(';\n",
       "}\n",
       "\n",
       ".xr-dim-list:after {\n",
       "  content: ')';\n",
       "}\n",
       "\n",
       ".xr-dim-list li:not(:last-child):after {\n",
       "  content: ',';\n",
       "  padding-right: 5px;\n",
       "}\n",
       "\n",
       ".xr-has-index {\n",
       "  font-weight: bold;\n",
       "}\n",
       "\n",
       ".xr-var-list,\n",
       ".xr-var-item {\n",
       "  display: contents;\n",
       "}\n",
       "\n",
       ".xr-var-item > div,\n",
       ".xr-var-item label,\n",
       ".xr-var-item > .xr-var-name span {\n",
       "  background-color: var(--xr-background-color-row-even);\n",
       "  margin-bottom: 0;\n",
       "}\n",
       "\n",
       ".xr-var-item > .xr-var-name:hover span {\n",
       "  padding-right: 5px;\n",
       "}\n",
       "\n",
       ".xr-var-list > li:nth-child(odd) > div,\n",
       ".xr-var-list > li:nth-child(odd) > label,\n",
       ".xr-var-list > li:nth-child(odd) > .xr-var-name span {\n",
       "  background-color: var(--xr-background-color-row-odd);\n",
       "}\n",
       "\n",
       ".xr-var-name {\n",
       "  grid-column: 1;\n",
       "}\n",
       "\n",
       ".xr-var-dims {\n",
       "  grid-column: 2;\n",
       "}\n",
       "\n",
       ".xr-var-dtype {\n",
       "  grid-column: 3;\n",
       "  text-align: right;\n",
       "  color: var(--xr-font-color2);\n",
       "}\n",
       "\n",
       ".xr-var-preview {\n",
       "  grid-column: 4;\n",
       "}\n",
       "\n",
       ".xr-var-name,\n",
       ".xr-var-dims,\n",
       ".xr-var-dtype,\n",
       ".xr-preview,\n",
       ".xr-attrs dt {\n",
       "  white-space: nowrap;\n",
       "  overflow: hidden;\n",
       "  text-overflow: ellipsis;\n",
       "  padding-right: 10px;\n",
       "}\n",
       "\n",
       ".xr-var-name:hover,\n",
       ".xr-var-dims:hover,\n",
       ".xr-var-dtype:hover,\n",
       ".xr-attrs dt:hover {\n",
       "  overflow: visible;\n",
       "  width: auto;\n",
       "  z-index: 1;\n",
       "}\n",
       "\n",
       ".xr-var-attrs,\n",
       ".xr-var-data {\n",
       "  display: none;\n",
       "  background-color: var(--xr-background-color) !important;\n",
       "  padding-bottom: 5px !important;\n",
       "}\n",
       "\n",
       ".xr-var-attrs-in:checked ~ .xr-var-attrs,\n",
       ".xr-var-data-in:checked ~ .xr-var-data {\n",
       "  display: block;\n",
       "}\n",
       "\n",
       ".xr-var-data > table {\n",
       "  float: right;\n",
       "}\n",
       "\n",
       ".xr-var-name span,\n",
       ".xr-var-data,\n",
       ".xr-attrs {\n",
       "  padding-left: 25px !important;\n",
       "}\n",
       "\n",
       ".xr-attrs,\n",
       ".xr-var-attrs,\n",
       ".xr-var-data {\n",
       "  grid-column: 1 / -1;\n",
       "}\n",
       "\n",
       "dl.xr-attrs {\n",
       "  padding: 0;\n",
       "  margin: 0;\n",
       "  display: grid;\n",
       "  grid-template-columns: 125px auto;\n",
       "}\n",
       "\n",
       ".xr-attrs dt,\n",
       ".xr-attrs dd {\n",
       "  padding: 0;\n",
       "  margin: 0;\n",
       "  float: left;\n",
       "  padding-right: 10px;\n",
       "  width: auto;\n",
       "}\n",
       "\n",
       ".xr-attrs dt {\n",
       "  font-weight: normal;\n",
       "  grid-column: 1;\n",
       "}\n",
       "\n",
       ".xr-attrs dt:hover span {\n",
       "  display: inline-block;\n",
       "  background: var(--xr-background-color);\n",
       "  padding-right: 10px;\n",
       "}\n",
       "\n",
       ".xr-attrs dd {\n",
       "  grid-column: 2;\n",
       "  white-space: pre-wrap;\n",
       "  word-break: break-all;\n",
       "}\n",
       "\n",
       ".xr-icon-database,\n",
       ".xr-icon-file-text2 {\n",
       "  display: inline-block;\n",
       "  vertical-align: middle;\n",
       "  width: 1em;\n",
       "  height: 1.5em !important;\n",
       "  stroke-width: 0;\n",
       "  stroke: currentColor;\n",
       "  fill: currentColor;\n",
       "}\n",
       "</style><pre class='xr-text-repr-fallback'>&lt;xarray.Dataset&gt;\n",
       "Dimensions:  ()\n",
       "Data variables:\n",
       "    air      float32 dask.array&lt;chunksize=(), meta=np.ndarray&gt;</pre><div class='xr-wrap' hidden><div class='xr-header'><div class='xr-obj-type'>xarray.Dataset</div></div><ul class='xr-sections'><li class='xr-section-item'><input id='section-60cc0a6d-97da-4f16-a5fe-f556dfe9287b' class='xr-section-summary-in' type='checkbox' disabled ><label for='section-60cc0a6d-97da-4f16-a5fe-f556dfe9287b' class='xr-section-summary'  title='Expand/collapse section'>Dimensions:</label><div class='xr-section-inline-details'></div><div class='xr-section-details'></div></li><li class='xr-section-item'><input id='section-e87cebb9-29a4-466d-bb32-996b5530b583' class='xr-section-summary-in' type='checkbox' disabled ><label for='section-e87cebb9-29a4-466d-bb32-996b5530b583' class='xr-section-summary'  title='Expand/collapse section'>Coordinates: <span>(0)</span></label><div class='xr-section-inline-details'></div><div class='xr-section-details'><ul class='xr-var-list'></ul></div></li><li class='xr-section-item'><input id='section-1eb981e7-fd01-4089-b63e-8c798ce3e4ee' class='xr-section-summary-in' type='checkbox'  checked><label for='section-1eb981e7-fd01-4089-b63e-8c798ce3e4ee' class='xr-section-summary' >Data variables: <span>(1)</span></label><div class='xr-section-inline-details'></div><div class='xr-section-details'><ul class='xr-var-list'><li class='xr-var-item'><div class='xr-var-name'><span>air</span></div><div class='xr-var-dims'>()</div><div class='xr-var-dtype'>float32</div><div class='xr-var-preview xr-preview'>dask.array&lt;chunksize=(), meta=np.ndarray&gt;</div><input id='attrs-0ad93189-a1c0-463b-acd9-58ca67118de6' class='xr-var-attrs-in' type='checkbox' disabled><label for='attrs-0ad93189-a1c0-463b-acd9-58ca67118de6' title='Show/Hide attributes'><svg class='icon xr-icon-file-text2'><use xlink:href='#icon-file-text2'></use></svg></label><input id='data-0c906c1c-1441-44ac-826c-da4cf00e8aa6' class='xr-var-data-in' type='checkbox'><label for='data-0c906c1c-1441-44ac-826c-da4cf00e8aa6' title='Show/Hide data repr'><svg class='icon xr-icon-database'><use xlink:href='#icon-database'></use></svg></label><div class='xr-var-attrs'><dl class='xr-attrs'></dl></div><div class='xr-var-data'><table>\n",
       "    <tr>\n",
       "        <td>\n",
       "            <table>\n",
       "                <thead>\n",
       "                    <tr>\n",
       "                        <td> </td>\n",
       "                        <th> Array </th>\n",
       "                        <th> Chunk </th>\n",
       "                    </tr>\n",
       "                </thead>\n",
       "                <tbody>\n",
       "\n",
       "                    <tr>\n",
       "                        <th> Bytes </th>\n",
       "                        <td> 4 B </td>\n",
       "                        <td> 4.0 B </td>\n",
       "                    </tr>\n",
       "\n",
       "                    <tr>\n",
       "                        <th> Shape </th>\n",
       "                        <td> () </td>\n",
       "                        <td> () </td>\n",
       "                    </tr>\n",
       "                    <tr>\n",
       "                        <th> Count </th>\n",
       "                        <td> 4 Tasks </td>\n",
       "                        <td> 1 Chunks </td>\n",
       "                    </tr>\n",
       "                    <tr>\n",
       "                    <th> Type </th>\n",
       "                    <td> float32 </td>\n",
       "                    <td> numpy.ndarray </td>\n",
       "                    </tr>\n",
       "                </tbody>\n",
       "            </table>\n",
       "        </td>\n",
       "        <td>\n",
       "\n",
       "        </td>\n",
       "    </tr>\n",
       "</table></div></li></ul></div></li><li class='xr-section-item'><input id='section-7db44b3c-1ee6-4405-8795-d138aa7c0cd9' class='xr-section-summary-in' type='checkbox' disabled ><label for='section-7db44b3c-1ee6-4405-8795-d138aa7c0cd9' class='xr-section-summary'  title='Expand/collapse section'>Attributes: <span>(0)</span></label><div class='xr-section-inline-details'></div><div class='xr-section-details'><dl class='xr-attrs'></dl></div></li></ul></div></div>"
      ],
      "text/plain": [
       "<xarray.Dataset>\n",
       "Dimensions:  ()\n",
       "Data variables:\n",
       "    air      float32 dask.array<chunksize=(), meta=np.ndarray>"
      ]
     },
     "execution_count": 23,
     "metadata": {},
     "output_type": "execute_result"
    }
   ],
   "source": [
    "ds_mean = ds.mean()\n",
    "ds_mean # a dask.array (an unexecuted task graph)"
   ]
  },
  {
   "cell_type": "code",
   "execution_count": 24,
   "id": "f8dc51a6-be50-42ab-8f49-ffeba6959653",
   "metadata": {},
   "outputs": [
    {
     "data": {
      "text/html": [
       "<div><svg style=\"position: absolute; width: 0; height: 0; overflow: hidden\">\n",
       "<defs>\n",
       "<symbol id=\"icon-database\" viewBox=\"0 0 32 32\">\n",
       "<path d=\"M16 0c-8.837 0-16 2.239-16 5v4c0 2.761 7.163 5 16 5s16-2.239 16-5v-4c0-2.761-7.163-5-16-5z\"></path>\n",
       "<path d=\"M16 17c-8.837 0-16-2.239-16-5v6c0 2.761 7.163 5 16 5s16-2.239 16-5v-6c0 2.761-7.163 5-16 5z\"></path>\n",
       "<path d=\"M16 26c-8.837 0-16-2.239-16-5v6c0 2.761 7.163 5 16 5s16-2.239 16-5v-6c0 2.761-7.163 5-16 5z\"></path>\n",
       "</symbol>\n",
       "<symbol id=\"icon-file-text2\" viewBox=\"0 0 32 32\">\n",
       "<path d=\"M28.681 7.159c-0.694-0.947-1.662-2.053-2.724-3.116s-2.169-2.030-3.116-2.724c-1.612-1.182-2.393-1.319-2.841-1.319h-15.5c-1.378 0-2.5 1.121-2.5 2.5v27c0 1.378 1.122 2.5 2.5 2.5h23c1.378 0 2.5-1.122 2.5-2.5v-19.5c0-0.448-0.137-1.23-1.319-2.841zM24.543 5.457c0.959 0.959 1.712 1.825 2.268 2.543h-4.811v-4.811c0.718 0.556 1.584 1.309 2.543 2.268zM28 29.5c0 0.271-0.229 0.5-0.5 0.5h-23c-0.271 0-0.5-0.229-0.5-0.5v-27c0-0.271 0.229-0.5 0.5-0.5 0 0 15.499-0 15.5 0v7c0 0.552 0.448 1 1 1h7v19.5z\"></path>\n",
       "<path d=\"M23 26h-14c-0.552 0-1-0.448-1-1s0.448-1 1-1h14c0.552 0 1 0.448 1 1s-0.448 1-1 1z\"></path>\n",
       "<path d=\"M23 22h-14c-0.552 0-1-0.448-1-1s0.448-1 1-1h14c0.552 0 1 0.448 1 1s-0.448 1-1 1z\"></path>\n",
       "<path d=\"M23 18h-14c-0.552 0-1-0.448-1-1s0.448-1 1-1h14c0.552 0 1 0.448 1 1s-0.448 1-1 1z\"></path>\n",
       "</symbol>\n",
       "</defs>\n",
       "</svg>\n",
       "<style>/* CSS stylesheet for displaying xarray objects in jupyterlab.\n",
       " *\n",
       " */\n",
       "\n",
       ":root {\n",
       "  --xr-font-color0: var(--jp-content-font-color0, rgba(0, 0, 0, 1));\n",
       "  --xr-font-color2: var(--jp-content-font-color2, rgba(0, 0, 0, 0.54));\n",
       "  --xr-font-color3: var(--jp-content-font-color3, rgba(0, 0, 0, 0.38));\n",
       "  --xr-border-color: var(--jp-border-color2, #e0e0e0);\n",
       "  --xr-disabled-color: var(--jp-layout-color3, #bdbdbd);\n",
       "  --xr-background-color: var(--jp-layout-color0, white);\n",
       "  --xr-background-color-row-even: var(--jp-layout-color1, white);\n",
       "  --xr-background-color-row-odd: var(--jp-layout-color2, #eeeeee);\n",
       "}\n",
       "\n",
       "html[theme=dark],\n",
       "body.vscode-dark {\n",
       "  --xr-font-color0: rgba(255, 255, 255, 1);\n",
       "  --xr-font-color2: rgba(255, 255, 255, 0.54);\n",
       "  --xr-font-color3: rgba(255, 255, 255, 0.38);\n",
       "  --xr-border-color: #1F1F1F;\n",
       "  --xr-disabled-color: #515151;\n",
       "  --xr-background-color: #111111;\n",
       "  --xr-background-color-row-even: #111111;\n",
       "  --xr-background-color-row-odd: #313131;\n",
       "}\n",
       "\n",
       ".xr-wrap {\n",
       "  display: block;\n",
       "  min-width: 300px;\n",
       "  max-width: 700px;\n",
       "}\n",
       "\n",
       ".xr-text-repr-fallback {\n",
       "  /* fallback to plain text repr when CSS is not injected (untrusted notebook) */\n",
       "  display: none;\n",
       "}\n",
       "\n",
       ".xr-header {\n",
       "  padding-top: 6px;\n",
       "  padding-bottom: 6px;\n",
       "  margin-bottom: 4px;\n",
       "  border-bottom: solid 1px var(--xr-border-color);\n",
       "}\n",
       "\n",
       ".xr-header > div,\n",
       ".xr-header > ul {\n",
       "  display: inline;\n",
       "  margin-top: 0;\n",
       "  margin-bottom: 0;\n",
       "}\n",
       "\n",
       ".xr-obj-type,\n",
       ".xr-array-name {\n",
       "  margin-left: 2px;\n",
       "  margin-right: 10px;\n",
       "}\n",
       "\n",
       ".xr-obj-type {\n",
       "  color: var(--xr-font-color2);\n",
       "}\n",
       "\n",
       ".xr-sections {\n",
       "  padding-left: 0 !important;\n",
       "  display: grid;\n",
       "  grid-template-columns: 150px auto auto 1fr 20px 20px;\n",
       "}\n",
       "\n",
       ".xr-section-item {\n",
       "  display: contents;\n",
       "}\n",
       "\n",
       ".xr-section-item input {\n",
       "  display: none;\n",
       "}\n",
       "\n",
       ".xr-section-item input + label {\n",
       "  color: var(--xr-disabled-color);\n",
       "}\n",
       "\n",
       ".xr-section-item input:enabled + label {\n",
       "  cursor: pointer;\n",
       "  color: var(--xr-font-color2);\n",
       "}\n",
       "\n",
       ".xr-section-item input:enabled + label:hover {\n",
       "  color: var(--xr-font-color0);\n",
       "}\n",
       "\n",
       ".xr-section-summary {\n",
       "  grid-column: 1;\n",
       "  color: var(--xr-font-color2);\n",
       "  font-weight: 500;\n",
       "}\n",
       "\n",
       ".xr-section-summary > span {\n",
       "  display: inline-block;\n",
       "  padding-left: 0.5em;\n",
       "}\n",
       "\n",
       ".xr-section-summary-in:disabled + label {\n",
       "  color: var(--xr-font-color2);\n",
       "}\n",
       "\n",
       ".xr-section-summary-in + label:before {\n",
       "  display: inline-block;\n",
       "  content: '►';\n",
       "  font-size: 11px;\n",
       "  width: 15px;\n",
       "  text-align: center;\n",
       "}\n",
       "\n",
       ".xr-section-summary-in:disabled + label:before {\n",
       "  color: var(--xr-disabled-color);\n",
       "}\n",
       "\n",
       ".xr-section-summary-in:checked + label:before {\n",
       "  content: '▼';\n",
       "}\n",
       "\n",
       ".xr-section-summary-in:checked + label > span {\n",
       "  display: none;\n",
       "}\n",
       "\n",
       ".xr-section-summary,\n",
       ".xr-section-inline-details {\n",
       "  padding-top: 4px;\n",
       "  padding-bottom: 4px;\n",
       "}\n",
       "\n",
       ".xr-section-inline-details {\n",
       "  grid-column: 2 / -1;\n",
       "}\n",
       "\n",
       ".xr-section-details {\n",
       "  display: none;\n",
       "  grid-column: 1 / -1;\n",
       "  margin-bottom: 5px;\n",
       "}\n",
       "\n",
       ".xr-section-summary-in:checked ~ .xr-section-details {\n",
       "  display: contents;\n",
       "}\n",
       "\n",
       ".xr-array-wrap {\n",
       "  grid-column: 1 / -1;\n",
       "  display: grid;\n",
       "  grid-template-columns: 20px auto;\n",
       "}\n",
       "\n",
       ".xr-array-wrap > label {\n",
       "  grid-column: 1;\n",
       "  vertical-align: top;\n",
       "}\n",
       "\n",
       ".xr-preview {\n",
       "  color: var(--xr-font-color3);\n",
       "}\n",
       "\n",
       ".xr-array-preview,\n",
       ".xr-array-data {\n",
       "  padding: 0 5px !important;\n",
       "  grid-column: 2;\n",
       "}\n",
       "\n",
       ".xr-array-data,\n",
       ".xr-array-in:checked ~ .xr-array-preview {\n",
       "  display: none;\n",
       "}\n",
       "\n",
       ".xr-array-in:checked ~ .xr-array-data,\n",
       ".xr-array-preview {\n",
       "  display: inline-block;\n",
       "}\n",
       "\n",
       ".xr-dim-list {\n",
       "  display: inline-block !important;\n",
       "  list-style: none;\n",
       "  padding: 0 !important;\n",
       "  margin: 0;\n",
       "}\n",
       "\n",
       ".xr-dim-list li {\n",
       "  display: inline-block;\n",
       "  padding: 0;\n",
       "  margin: 0;\n",
       "}\n",
       "\n",
       ".xr-dim-list:before {\n",
       "  content: '(';\n",
       "}\n",
       "\n",
       ".xr-dim-list:after {\n",
       "  content: ')';\n",
       "}\n",
       "\n",
       ".xr-dim-list li:not(:last-child):after {\n",
       "  content: ',';\n",
       "  padding-right: 5px;\n",
       "}\n",
       "\n",
       ".xr-has-index {\n",
       "  font-weight: bold;\n",
       "}\n",
       "\n",
       ".xr-var-list,\n",
       ".xr-var-item {\n",
       "  display: contents;\n",
       "}\n",
       "\n",
       ".xr-var-item > div,\n",
       ".xr-var-item label,\n",
       ".xr-var-item > .xr-var-name span {\n",
       "  background-color: var(--xr-background-color-row-even);\n",
       "  margin-bottom: 0;\n",
       "}\n",
       "\n",
       ".xr-var-item > .xr-var-name:hover span {\n",
       "  padding-right: 5px;\n",
       "}\n",
       "\n",
       ".xr-var-list > li:nth-child(odd) > div,\n",
       ".xr-var-list > li:nth-child(odd) > label,\n",
       ".xr-var-list > li:nth-child(odd) > .xr-var-name span {\n",
       "  background-color: var(--xr-background-color-row-odd);\n",
       "}\n",
       "\n",
       ".xr-var-name {\n",
       "  grid-column: 1;\n",
       "}\n",
       "\n",
       ".xr-var-dims {\n",
       "  grid-column: 2;\n",
       "}\n",
       "\n",
       ".xr-var-dtype {\n",
       "  grid-column: 3;\n",
       "  text-align: right;\n",
       "  color: var(--xr-font-color2);\n",
       "}\n",
       "\n",
       ".xr-var-preview {\n",
       "  grid-column: 4;\n",
       "}\n",
       "\n",
       ".xr-var-name,\n",
       ".xr-var-dims,\n",
       ".xr-var-dtype,\n",
       ".xr-preview,\n",
       ".xr-attrs dt {\n",
       "  white-space: nowrap;\n",
       "  overflow: hidden;\n",
       "  text-overflow: ellipsis;\n",
       "  padding-right: 10px;\n",
       "}\n",
       "\n",
       ".xr-var-name:hover,\n",
       ".xr-var-dims:hover,\n",
       ".xr-var-dtype:hover,\n",
       ".xr-attrs dt:hover {\n",
       "  overflow: visible;\n",
       "  width: auto;\n",
       "  z-index: 1;\n",
       "}\n",
       "\n",
       ".xr-var-attrs,\n",
       ".xr-var-data {\n",
       "  display: none;\n",
       "  background-color: var(--xr-background-color) !important;\n",
       "  padding-bottom: 5px !important;\n",
       "}\n",
       "\n",
       ".xr-var-attrs-in:checked ~ .xr-var-attrs,\n",
       ".xr-var-data-in:checked ~ .xr-var-data {\n",
       "  display: block;\n",
       "}\n",
       "\n",
       ".xr-var-data > table {\n",
       "  float: right;\n",
       "}\n",
       "\n",
       ".xr-var-name span,\n",
       ".xr-var-data,\n",
       ".xr-attrs {\n",
       "  padding-left: 25px !important;\n",
       "}\n",
       "\n",
       ".xr-attrs,\n",
       ".xr-var-attrs,\n",
       ".xr-var-data {\n",
       "  grid-column: 1 / -1;\n",
       "}\n",
       "\n",
       "dl.xr-attrs {\n",
       "  padding: 0;\n",
       "  margin: 0;\n",
       "  display: grid;\n",
       "  grid-template-columns: 125px auto;\n",
       "}\n",
       "\n",
       ".xr-attrs dt,\n",
       ".xr-attrs dd {\n",
       "  padding: 0;\n",
       "  margin: 0;\n",
       "  float: left;\n",
       "  padding-right: 10px;\n",
       "  width: auto;\n",
       "}\n",
       "\n",
       ".xr-attrs dt {\n",
       "  font-weight: normal;\n",
       "  grid-column: 1;\n",
       "}\n",
       "\n",
       ".xr-attrs dt:hover span {\n",
       "  display: inline-block;\n",
       "  background: var(--xr-background-color);\n",
       "  padding-right: 10px;\n",
       "}\n",
       "\n",
       ".xr-attrs dd {\n",
       "  grid-column: 2;\n",
       "  white-space: pre-wrap;\n",
       "  word-break: break-all;\n",
       "}\n",
       "\n",
       ".xr-icon-database,\n",
       ".xr-icon-file-text2 {\n",
       "  display: inline-block;\n",
       "  vertical-align: middle;\n",
       "  width: 1em;\n",
       "  height: 1.5em !important;\n",
       "  stroke-width: 0;\n",
       "  stroke: currentColor;\n",
       "  fill: currentColor;\n",
       "}\n",
       "</style><pre class='xr-text-repr-fallback'>&lt;xarray.Dataset&gt;\n",
       "Dimensions:  ()\n",
       "Data variables:\n",
       "    air      float32 281.3</pre><div class='xr-wrap' hidden><div class='xr-header'><div class='xr-obj-type'>xarray.Dataset</div></div><ul class='xr-sections'><li class='xr-section-item'><input id='section-67be956e-a85d-4e7b-845c-40c51af5dcb4' class='xr-section-summary-in' type='checkbox' disabled ><label for='section-67be956e-a85d-4e7b-845c-40c51af5dcb4' class='xr-section-summary'  title='Expand/collapse section'>Dimensions:</label><div class='xr-section-inline-details'></div><div class='xr-section-details'></div></li><li class='xr-section-item'><input id='section-dd31df20-de89-4493-bb8a-bad51f330a81' class='xr-section-summary-in' type='checkbox' disabled ><label for='section-dd31df20-de89-4493-bb8a-bad51f330a81' class='xr-section-summary'  title='Expand/collapse section'>Coordinates: <span>(0)</span></label><div class='xr-section-inline-details'></div><div class='xr-section-details'><ul class='xr-var-list'></ul></div></li><li class='xr-section-item'><input id='section-f9f5e3dd-4bd2-427f-ae0c-6fad3713777c' class='xr-section-summary-in' type='checkbox'  checked><label for='section-f9f5e3dd-4bd2-427f-ae0c-6fad3713777c' class='xr-section-summary' >Data variables: <span>(1)</span></label><div class='xr-section-inline-details'></div><div class='xr-section-details'><ul class='xr-var-list'><li class='xr-var-item'><div class='xr-var-name'><span>air</span></div><div class='xr-var-dims'>()</div><div class='xr-var-dtype'>float32</div><div class='xr-var-preview xr-preview'>281.3</div><input id='attrs-54a32db2-69b5-454e-a5f4-004f308565e5' class='xr-var-attrs-in' type='checkbox' disabled><label for='attrs-54a32db2-69b5-454e-a5f4-004f308565e5' title='Show/Hide attributes'><svg class='icon xr-icon-file-text2'><use xlink:href='#icon-file-text2'></use></svg></label><input id='data-84410538-5512-42f9-8a61-c3360e97bc96' class='xr-var-data-in' type='checkbox'><label for='data-84410538-5512-42f9-8a61-c3360e97bc96' title='Show/Hide data repr'><svg class='icon xr-icon-database'><use xlink:href='#icon-database'></use></svg></label><div class='xr-var-attrs'><dl class='xr-attrs'></dl></div><div class='xr-var-data'><pre>array(281.25513, dtype=float32)</pre></div></li></ul></div></li><li class='xr-section-item'><input id='section-66854ca6-eca0-4d59-8312-5d89b4a4d71f' class='xr-section-summary-in' type='checkbox' disabled ><label for='section-66854ca6-eca0-4d59-8312-5d89b4a4d71f' class='xr-section-summary'  title='Expand/collapse section'>Attributes: <span>(0)</span></label><div class='xr-section-inline-details'></div><div class='xr-section-details'><dl class='xr-attrs'></dl></div></li></ul></div></div>"
      ],
      "text/plain": [
       "<xarray.Dataset>\n",
       "Dimensions:  ()\n",
       "Data variables:\n",
       "    air      float32 281.3"
      ]
     },
     "execution_count": 24,
     "metadata": {},
     "output_type": "execute_result"
    }
   ],
   "source": [
    "ds_mean.compute()"
   ]
  },
  {
   "cell_type": "code",
   "execution_count": 25,
   "id": "c06d899e-3204-4f6d-9ff6-3c373816ad38",
   "metadata": {},
   "outputs": [],
   "source": [
    "ds.close()"
   ]
  },
  {
   "cell_type": "markdown",
   "id": "5336846e-6d68-4fb8-a984-08da52783304",
   "metadata": {},
   "source": [
    "### [dask.array](https://examples.dask.org/array.html) (NumPy)\n",
    "See the excellent video from Dask creator, Matthew Rocklin, below."
   ]
  },
  {
   "cell_type": "code",
   "execution_count": 26,
   "id": "04b1fe62-6ef0-4d93-9f21-755581fbd7e7",
   "metadata": {
    "tags": [
     "remove_input"
    ]
   },
   "outputs": [
    {
     "data": {
      "text/html": [
       "\n",
       "<iframe\n",
       "    width=\"560\"\n",
       "    height=\"315\"\n",
       "    src=\"https://www.youtube.com/embed/ZrP-QTxwwnU\"\n",
       "    frameborder=\"0\"\n",
       "    allowfullscreen\n",
       "\n",
       "></iframe>\n"
      ],
      "text/plain": [
       "<IPython.lib.display.IFrame at 0x7f60d67ad520>"
      ]
     },
     "execution_count": 26,
     "metadata": {},
     "output_type": "execute_result"
    }
   ],
   "source": [
    "from IPython.display import IFrame\n",
    "IFrame(src='https://www.youtube.com/embed/ZrP-QTxwwnU', width='560', height='315')"
   ]
  },
  {
   "cell_type": "code",
   "execution_count": 27,
   "id": "7957233c-9915-42a6-acc2-fe4e44dbd499",
   "metadata": {},
   "outputs": [],
   "source": [
    "import dask.array as da"
   ]
  },
  {
   "cell_type": "code",
   "execution_count": 28,
   "id": "96a19fd6-f8b7-460c-907a-9a9bf6da017c",
   "metadata": {},
   "outputs": [
    {
     "data": {
      "text/html": [
       "<table>\n",
       "    <tr>\n",
       "        <td>\n",
       "            <table>\n",
       "                <thead>\n",
       "                    <tr>\n",
       "                        <td> </td>\n",
       "                        <th> Array </th>\n",
       "                        <th> Chunk </th>\n",
       "                    </tr>\n",
       "                </thead>\n",
       "                <tbody>\n",
       "\n",
       "                    <tr>\n",
       "                        <th> Bytes </th>\n",
       "                        <td> 190.73 MiB </td>\n",
       "                        <td> 1.91 MiB </td>\n",
       "                    </tr>\n",
       "\n",
       "                    <tr>\n",
       "                        <th> Shape </th>\n",
       "                        <td> (5000, 5000) </td>\n",
       "                        <td> (500, 500) </td>\n",
       "                    </tr>\n",
       "                    <tr>\n",
       "                        <th> Count </th>\n",
       "                        <td> 300 Tasks </td>\n",
       "                        <td> 100 Chunks </td>\n",
       "                    </tr>\n",
       "                    <tr>\n",
       "                    <th> Type </th>\n",
       "                    <td> float64 </td>\n",
       "                    <td> numpy.ndarray </td>\n",
       "                    </tr>\n",
       "                </tbody>\n",
       "            </table>\n",
       "        </td>\n",
       "        <td>\n",
       "        <svg width=\"170\" height=\"170\" style=\"stroke:rgb(0,0,0);stroke-width:1\" >\n",
       "\n",
       "  <!-- Horizontal lines -->\n",
       "  <line x1=\"0\" y1=\"0\" x2=\"120\" y2=\"0\" style=\"stroke-width:2\" />\n",
       "  <line x1=\"0\" y1=\"12\" x2=\"120\" y2=\"12\" />\n",
       "  <line x1=\"0\" y1=\"24\" x2=\"120\" y2=\"24\" />\n",
       "  <line x1=\"0\" y1=\"36\" x2=\"120\" y2=\"36\" />\n",
       "  <line x1=\"0\" y1=\"48\" x2=\"120\" y2=\"48\" />\n",
       "  <line x1=\"0\" y1=\"60\" x2=\"120\" y2=\"60\" />\n",
       "  <line x1=\"0\" y1=\"72\" x2=\"120\" y2=\"72\" />\n",
       "  <line x1=\"0\" y1=\"84\" x2=\"120\" y2=\"84\" />\n",
       "  <line x1=\"0\" y1=\"96\" x2=\"120\" y2=\"96\" />\n",
       "  <line x1=\"0\" y1=\"108\" x2=\"120\" y2=\"108\" />\n",
       "  <line x1=\"0\" y1=\"120\" x2=\"120\" y2=\"120\" style=\"stroke-width:2\" />\n",
       "\n",
       "  <!-- Vertical lines -->\n",
       "  <line x1=\"0\" y1=\"0\" x2=\"0\" y2=\"120\" style=\"stroke-width:2\" />\n",
       "  <line x1=\"12\" y1=\"0\" x2=\"12\" y2=\"120\" />\n",
       "  <line x1=\"24\" y1=\"0\" x2=\"24\" y2=\"120\" />\n",
       "  <line x1=\"36\" y1=\"0\" x2=\"36\" y2=\"120\" />\n",
       "  <line x1=\"48\" y1=\"0\" x2=\"48\" y2=\"120\" />\n",
       "  <line x1=\"60\" y1=\"0\" x2=\"60\" y2=\"120\" />\n",
       "  <line x1=\"72\" y1=\"0\" x2=\"72\" y2=\"120\" />\n",
       "  <line x1=\"84\" y1=\"0\" x2=\"84\" y2=\"120\" />\n",
       "  <line x1=\"96\" y1=\"0\" x2=\"96\" y2=\"120\" />\n",
       "  <line x1=\"108\" y1=\"0\" x2=\"108\" y2=\"120\" />\n",
       "  <line x1=\"120\" y1=\"0\" x2=\"120\" y2=\"120\" style=\"stroke-width:2\" />\n",
       "\n",
       "  <!-- Colored Rectangle -->\n",
       "  <polygon points=\"0.0,0.0 120.0,0.0 120.0,120.0 0.0,120.0\" style=\"fill:#ECB172A0;stroke-width:0\"/>\n",
       "\n",
       "  <!-- Text -->\n",
       "  <text x=\"60.000000\" y=\"140.000000\" font-size=\"1.0rem\" font-weight=\"100\" text-anchor=\"middle\" >5000</text>\n",
       "  <text x=\"140.000000\" y=\"60.000000\" font-size=\"1.0rem\" font-weight=\"100\" text-anchor=\"middle\" transform=\"rotate(-90,140.000000,60.000000)\">5000</text>\n",
       "</svg>\n",
       "        </td>\n",
       "    </tr>\n",
       "</table>"
      ],
      "text/plain": [
       "dask.array<add, shape=(5000, 5000), dtype=float64, chunksize=(500, 500), chunktype=numpy.ndarray>"
      ]
     },
     "execution_count": 28,
     "metadata": {},
     "output_type": "execute_result"
    }
   ],
   "source": [
    "my_array = da.random.random(\n",
    "    (5_000, 5_000),\n",
    "    chunks=(500, 500) # dask chunks\n",
    ")\n",
    "result = my_array + my_array.T\n",
    "result"
   ]
  },
  {
   "cell_type": "code",
   "execution_count": 29,
   "id": "99e56303-36e0-4315-93cb-0bae62a779d0",
   "metadata": {},
   "outputs": [],
   "source": [
    "if not IN_COLAB:\n",
    "    result.compute()"
   ]
  },
  {
   "cell_type": "markdown",
   "id": "a0e22457-c5da-4cae-8630-656e41c178cf",
   "metadata": {},
   "source": [
    "### [dask.dataframe](https://examples.dask.org/dataframe.html) (Pandas)\n",
    "See the excellent video from Dask creator, Matthew Rocklin, below."
   ]
  },
  {
   "cell_type": "code",
   "execution_count": 30,
   "id": "45b09b7a-0074-44ce-bc8d-9381941aa76e",
   "metadata": {
    "tags": [
     "remove_input"
    ]
   },
   "outputs": [
    {
     "data": {
      "text/html": [
       "\n",
       "<iframe\n",
       "    width=\"560\"\n",
       "    height=\"315\"\n",
       "    src=\"https://www.youtube.com/embed/6qwlDc959b0\"\n",
       "    frameborder=\"0\"\n",
       "    allowfullscreen\n",
       "\n",
       "></iframe>\n"
      ],
      "text/plain": [
       "<IPython.lib.display.IFrame at 0x7f6092775a60>"
      ]
     },
     "execution_count": 30,
     "metadata": {},
     "output_type": "execute_result"
    }
   ],
   "source": [
    "IFrame(src='https://www.youtube.com/embed/6qwlDc959b0', width='560', height='315')"
   ]
  },
  {
   "cell_type": "code",
   "execution_count": 31,
   "id": "be313ba8-8bc0-448c-b2ff-1e7d03a82470",
   "metadata": {},
   "outputs": [],
   "source": [
    "import dask"
   ]
  },
  {
   "cell_type": "code",
   "execution_count": 32,
   "id": "8872db13-89b2-4bae-9095-eec4e0374355",
   "metadata": {},
   "outputs": [
    {
     "data": {
      "text/html": [
       "<div><strong>Dask DataFrame Structure:</strong></div>\n",
       "<div>\n",
       "<style scoped>\n",
       "    .dataframe tbody tr th:only-of-type {\n",
       "        vertical-align: middle;\n",
       "    }\n",
       "\n",
       "    .dataframe tbody tr th {\n",
       "        vertical-align: top;\n",
       "    }\n",
       "\n",
       "    .dataframe thead th {\n",
       "        text-align: right;\n",
       "    }\n",
       "</style>\n",
       "<table border=\"1\" class=\"dataframe\">\n",
       "  <thead>\n",
       "    <tr style=\"text-align: right;\">\n",
       "      <th></th>\n",
       "      <th>id</th>\n",
       "      <th>name</th>\n",
       "      <th>x</th>\n",
       "      <th>y</th>\n",
       "    </tr>\n",
       "    <tr>\n",
       "      <th>npartitions=30</th>\n",
       "      <th></th>\n",
       "      <th></th>\n",
       "      <th></th>\n",
       "      <th></th>\n",
       "    </tr>\n",
       "  </thead>\n",
       "  <tbody>\n",
       "    <tr>\n",
       "      <th>2000-01-01</th>\n",
       "      <td>int64</td>\n",
       "      <td>object</td>\n",
       "      <td>float64</td>\n",
       "      <td>float64</td>\n",
       "    </tr>\n",
       "    <tr>\n",
       "      <th>2000-01-02</th>\n",
       "      <td>...</td>\n",
       "      <td>...</td>\n",
       "      <td>...</td>\n",
       "      <td>...</td>\n",
       "    </tr>\n",
       "    <tr>\n",
       "      <th>...</th>\n",
       "      <td>...</td>\n",
       "      <td>...</td>\n",
       "      <td>...</td>\n",
       "      <td>...</td>\n",
       "    </tr>\n",
       "    <tr>\n",
       "      <th>2000-01-30</th>\n",
       "      <td>...</td>\n",
       "      <td>...</td>\n",
       "      <td>...</td>\n",
       "      <td>...</td>\n",
       "    </tr>\n",
       "    <tr>\n",
       "      <th>2000-01-31</th>\n",
       "      <td>...</td>\n",
       "      <td>...</td>\n",
       "      <td>...</td>\n",
       "      <td>...</td>\n",
       "    </tr>\n",
       "  </tbody>\n",
       "</table>\n",
       "</div>\n",
       "<div>Dask Name: make-timeseries, 30 tasks</div>"
      ],
      "text/plain": [
       "Dask DataFrame Structure:\n",
       "                   id    name        x        y\n",
       "npartitions=30                                 \n",
       "2000-01-01      int64  object  float64  float64\n",
       "2000-01-02        ...     ...      ...      ...\n",
       "...               ...     ...      ...      ...\n",
       "2000-01-30        ...     ...      ...      ...\n",
       "2000-01-31        ...     ...      ...      ...\n",
       "Dask Name: make-timeseries, 30 tasks"
      ]
     },
     "execution_count": 32,
     "metadata": {},
     "output_type": "execute_result"
    }
   ],
   "source": [
    "df = dask.datasets.timeseries()\n",
    "df"
   ]
  },
  {
   "cell_type": "code",
   "execution_count": 33,
   "id": "9270f5a1-0cc0-448f-bae3-9152a965ba1f",
   "metadata": {},
   "outputs": [
    {
     "data": {
      "text/plain": [
       "dask.dataframe.core.DataFrame"
      ]
     },
     "execution_count": 33,
     "metadata": {},
     "output_type": "execute_result"
    }
   ],
   "source": [
    "type(df)"
   ]
  },
  {
   "cell_type": "code",
   "execution_count": 34,
   "id": "12eda54c-5add-4220-9384-363481bccadc",
   "metadata": {},
   "outputs": [
    {
     "data": {
      "text/plain": [
       "Dask Series Structure:\n",
       "npartitions=1\n",
       "    float64\n",
       "        ...\n",
       "Name: x, dtype: float64\n",
       "Dask Name: sqrt, 67 tasks"
      ]
     },
     "execution_count": 34,
     "metadata": {},
     "output_type": "execute_result"
    }
   ],
   "source": [
    "result = df.groupby('name').x.std()\n",
    "result"
   ]
  },
  {
   "cell_type": "code",
   "execution_count": 35,
   "id": "cbcb38f5-18c6-4885-b328-655a20181a57",
   "metadata": {},
   "outputs": [],
   "source": [
    "# result.visualize()"
   ]
  },
  {
   "cell_type": "code",
   "execution_count": 36,
   "id": "8b93ced4-6be9-4e22-8611-3ecb3d1b1c7e",
   "metadata": {},
   "outputs": [],
   "source": [
    "result_computed = result.compute()"
   ]
  },
  {
   "cell_type": "code",
   "execution_count": 37,
   "id": "50f988a7-0f86-4acf-93f2-6e242ec79c4a",
   "metadata": {},
   "outputs": [
    {
     "data": {
      "text/plain": [
       "pandas.core.series.Series"
      ]
     },
     "execution_count": 37,
     "metadata": {},
     "output_type": "execute_result"
    }
   ],
   "source": [
    "type(result_computed)"
   ]
  },
  {
   "cell_type": "markdown",
   "id": "c54a2bea-f6c7-4426-aa74-46274fbb339b",
   "metadata": {},
   "source": [
    "### [dask.bag](https://examples.dask.org/bag.html)\n",
    "Iterate over a bag of independent objects (embarrassingly parallel)."
   ]
  },
  {
   "cell_type": "code",
   "execution_count": 38,
   "id": "504b9b4e-db14-4312-bbc2-7e98a002d569",
   "metadata": {},
   "outputs": [],
   "source": [
    "import numpy as np\n",
    "import dask.bag as db"
   ]
  },
  {
   "cell_type": "code",
   "execution_count": 39,
   "id": "8ea84bb0-c031-4c81-9ed8-cce667e4de94",
   "metadata": {},
   "outputs": [
    {
     "data": {
      "text/plain": [
       "array([ 2, 92,  6, ..., 74, 70, 73])"
      ]
     },
     "execution_count": 39,
     "metadata": {},
     "output_type": "execute_result"
    }
   ],
   "source": [
    "nums = np.random.randint(low=0, high=100, size=(5_000))\n",
    "nums"
   ]
  },
  {
   "cell_type": "code",
   "execution_count": 40,
   "id": "5d89c351-165c-4b5c-a30f-e8e33dca89fa",
   "metadata": {},
   "outputs": [],
   "source": [
    "def function(nums):\n",
    "    return chr(nums)"
   ]
  },
  {
   "cell_type": "code",
   "execution_count": 41,
   "id": "371db54a-453f-4479-9e83-4dca896b9459",
   "metadata": {},
   "outputs": [],
   "source": [
    "if not IN_COLAB:\n",
    "    bag = db.from_sequence(nums)\n",
    "    bag = bag.map(function)\n",
    "    \n",
    "    bag.visualize()\n",
    "    \n",
    "    result = bag.compute()\n",
    "    \n",
    "    client.close()"
   ]
  },
  {
   "cell_type": "markdown",
   "id": "4bc84ee4-b552-4c3e-93e8-00778dbc6457",
   "metadata": {},
   "source": [
    "### [Dask on HPC](https://docs.dask.org/en/latest/setup/hpc.html)\n",
    "\n",
    "- Create/edit the [`dask_on_hpc.py`](https://github.com/lukeconibear/swd6_hpp/blob/main/docs/dask_on_hpc.py) file.\n",
    "- Submit to the queue using [`qsub dask_on_hpc.bash`](https://github.com/lukeconibear/swd6_hpp/blob/main/docs/dask_on_hpc.bash).\n",
    "\n",
    "If need to share memory across chunks:  \n",
    "- Use [shared memory](https://docs.dask.org/en/latest/shared.html) (commonly OpenMP, Open Multi-Processing).\n",
    "- `-pe smp np` on ARC4\n",
    "\n",
    "Otherwise:  \n",
    "- Use [message passing interface, MPI](https://docs.dask.org/en/latest/setup/hpc.html?highlight=mpi#using-mpi) (commonly OpenMPI).\n",
    "- `-pe ib np` on ARC4"
   ]
  },
  {
   "cell_type": "markdown",
   "id": "ffddfeac-ddd8-4380-b817-b893effe6831",
   "metadata": {},
   "source": [
    "## [Ray](https://www.ray.io/)\n",
    "Ray will automatically detect the available GPUs and CPUs on the machine.\n",
    "- Can also [specify required resources](https://docs.ray.io/en/latest/walkthrough.html#specifying-required-resources).  "
   ]
  },
  {
   "cell_type": "markdown",
   "id": "5449c4d4-bf18-46c4-a572-8d8e957c1674",
   "metadata": {},
   "source": [
    "First, initialise Ray."
   ]
  },
  {
   "cell_type": "code",
   "execution_count": 42,
   "id": "305875bc-134a-4f22-80ed-a0117345ae29",
   "metadata": {},
   "outputs": [
    {
     "data": {
      "text/plain": [
       "{'node_ip_address': '129.11.87.102',\n",
       " 'raylet_ip_address': '129.11.87.102',\n",
       " 'redis_address': '129.11.87.102:27892',\n",
       " 'object_store_address': '/tmp/ray/session_2021-12-20_17-32-09_242176_105537/sockets/plasma_store',\n",
       " 'raylet_socket_name': '/tmp/ray/session_2021-12-20_17-32-09_242176_105537/sockets/raylet',\n",
       " 'webui_url': None,\n",
       " 'session_dir': '/tmp/ray/session_2021-12-20_17-32-09_242176_105537',\n",
       " 'metrics_export_port': 59763,\n",
       " 'node_id': '82d29a72a86915913fc10e583c4494dbc3ab17c1ece79b64f311d9e9'}"
      ]
     },
     "execution_count": 42,
     "metadata": {},
     "output_type": "execute_result"
    }
   ],
   "source": [
    "import ray\n",
    "ray.init()"
   ]
  },
  {
   "cell_type": "markdown",
   "id": "08be24a6-c056-4013-8dc8-41f204c7e421",
   "metadata": {
    "tags": []
   },
   "source": [
    "### Functions become Tasks\n",
    "- Parallelise functions by adding `@ray.remote` decorator  \n",
    "- Then instead of calling it normally, use the `.remote()` method  \n",
    "- This yields a future object reference that you can retrieve with `ray.get(object)` "
   ]
  },
  {
   "cell_type": "code",
   "execution_count": 43,
   "id": "cc39f660-734d-4b53-84a7-3b8c8df07f58",
   "metadata": {},
   "outputs": [],
   "source": [
    "@ray.remote\n",
    "def f(x):\n",
    "    return x * x"
   ]
  },
  {
   "cell_type": "code",
   "execution_count": 44,
   "id": "a3454321-f0c0-4d61-ad32-00e29f21f330",
   "metadata": {},
   "outputs": [
    {
     "name": "stdout",
     "output_type": "stream",
     "text": [
      "[0, 1, 4, 9]\n"
     ]
    }
   ],
   "source": [
    "# asynchronously run a task\n",
    "futures = [f.remote(i) for i in range(4)]\n",
    "print(ray.get(futures))"
   ]
  },
  {
   "cell_type": "markdown",
   "id": "c7eb9d5a-64bb-4b42-a06e-52e20e8fb74b",
   "metadata": {},
   "source": [
    "### Classes become Actors\n",
    "- Parallelise classes the same way\n",
    "- These actors maintain their internal state  "
   ]
  },
  {
   "cell_type": "code",
   "execution_count": 45,
   "id": "6d3b3e05-e18a-4a19-bbba-17159ac6a9bf",
   "metadata": {},
   "outputs": [],
   "source": [
    "@ray.remote\n",
    "class Counter(object):\n",
    "    def __init__(self):\n",
    "        self.value = 0\n",
    "        \n",
    "    def increment(self):\n",
    "        self.value += 1\n",
    "    \n",
    "    def read(self):\n",
    "        return self.value"
   ]
  },
  {
   "cell_type": "code",
   "execution_count": 46,
   "id": "4037ffcb-dccd-408b-bcf7-2df61e337905",
   "metadata": {},
   "outputs": [],
   "source": [
    "# construct an actor instance using .remote()\n",
    "counters = [Counter.remote() for i in range(4)]"
   ]
  },
  {
   "cell_type": "code",
   "execution_count": 47,
   "id": "4cf0a7b5-6b32-4238-ba7b-1e4005837f35",
   "metadata": {},
   "outputs": [
    {
     "name": "stdout",
     "output_type": "stream",
     "text": [
      "[1, 1, 1, 1]\n"
     ]
    }
   ],
   "source": [
    "# asynchronously run actor methods\n",
    "[counter.increment.remote() for counter in counters]\n",
    "futures = [counter.read.remote() for counter in counters]\n",
    "print(ray.get(futures))"
   ]
  },
  {
   "cell_type": "markdown",
   "id": "358a0190-d4b4-488e-bbb1-1a79bf5b07b4",
   "metadata": {},
   "source": [
    "Other key API methods:\n",
    "- `ray.put()`\n",
    "    - Put a value in the distributed object store.\n",
    "    - `put_id = ray.put(my_object)`\n",
    "- `ray.get()`\n",
    "    - Get an object from the distributed object store, either placed there by `ray.put()` explicitly or by a task or actor method, blocking until object is available.\n",
    "    - `thing = ray.get(put_id)`\n",
    "- `ray.wait()`\n",
    "    - Wait on a list of ids until one of the corresponding objects is available (e.g., the task completes). Return two lists, one with ids for the available objects and the other with ids for the still-running tasks or method calls.\n",
    "    `finished, running = ray.wait([train_id, track_id])`"
   ]
  },
  {
   "cell_type": "markdown",
   "id": "17ff7718-e93c-497d-90bf-8da746d31add",
   "metadata": {},
   "source": [
    "### Ray's [`multiprocessing`](https://docs.ray.io/en/latest/multiprocessing.html)\n",
    "To scale beyond one machine and generally manage a pool of processes.  \n",
    "\n",
    "Replace:\n",
    "```python\n",
    "from multiprocessing.pool import Pool\n",
    "```\n",
    "\n",
    "With:\n",
    "\n",
    "```python\n",
    "from ray.util.multiprocessing.pool import Pool\n",
    "```\n"
   ]
  },
  {
   "cell_type": "code",
   "execution_count": 48,
   "id": "d2e3793a-c08f-4fbb-bbc7-074a8e309d6a",
   "metadata": {},
   "outputs": [],
   "source": [
    "from ray.util.multiprocessing.pool import Pool"
   ]
  },
  {
   "cell_type": "code",
   "execution_count": 49,
   "id": "441e6b75-ce18-4b02-b3db-0ad8fcad4533",
   "metadata": {},
   "outputs": [],
   "source": [
    "def my_function(x):\n",
    "    return x * x"
   ]
  },
  {
   "cell_type": "code",
   "execution_count": 50,
   "id": "24ec938a-652c-4636-8da1-1a177eb989eb",
   "metadata": {},
   "outputs": [
    {
     "name": "stdout",
     "output_type": "stream",
     "text": [
      "[1, 4, 9]\n"
     ]
    }
   ],
   "source": [
    "with Pool(2) as workers:\n",
    "    print(workers.map(my_function, [1, 2, 3]))"
   ]
  },
  {
   "cell_type": "markdown",
   "id": "cf4457d7-d7b3-4364-8d71-40455a3bd225",
   "metadata": {
    "tags": []
   },
   "source": [
    "### Ray's [`joblib`](https://docs.ray.io/en/latest/joblib.html)\n",
    "The underpinnings of [scikit-learn](https://scikit-learn.org/stable/), which Ray can scale to a cluster.\n",
    "\n",
    "Import and instantiate `register_ray`, which registers Ray as a `joblib` backend for `scikit-learn`:  \n",
    "```python\n",
    "import joblib\n",
    "from ray.util.joblib import register_ray\n",
    "register_ray()\n",
    "```\n",
    "\n",
    "Then run your original `scikit-learn` code within a Ray/`joblib` backend:\n",
    "```python\n",
    "with joblib.parallel_backend('ray'):\n",
    "    # original scikit-learn code\n",
    "```\n",
    "\n",
    "For example, here's some parallel hyperparameter tuning:\n",
    "```python\n",
    "import joblib\n",
    "from ray.util.joblib import register_ray\n",
    "register_ray()\n",
    "\n",
    "import numpy as np\n",
    "from sklearn.datasets import load_digits\n",
    "from sklearn.svm import SVC\n",
    "from sklearn.model_selection import RandomizedSearchCV\n",
    "\n",
    "digits = load_digits()\n",
    "param_space = {\n",
    "    'C': np.logspace(-6, 6, 30),\n",
    "    'gamma': np.logspace(-8, 8, 30),\n",
    "    'tol': np.logspace(-4, -1, 30),\n",
    "    'class_weight': [None, 'balanced'],\n",
    "}\n",
    "model = SVC(kernel='rbf')\n",
    "search = sklearn.model_selection.RandomizedSearchCV(\n",
    "    model, param_space, cv=5, n_iter=300, verbose=10)\n",
    "\n",
    "with joblib.parallel_backend('ray'):\n",
    "    search.fit(digits.data, digits.target)\n",
    "```"
   ]
  },
  {
   "cell_type": "markdown",
   "id": "16793ada-97bd-4723-b225-bce2c1d24fd6",
   "metadata": {},
   "source": [
    "When finished, remember to shut down the Ray connection."
   ]
  },
  {
   "cell_type": "code",
   "execution_count": 51,
   "id": "636be3a3-28d6-4663-8a78-fb8292b27223",
   "metadata": {},
   "outputs": [],
   "source": [
    "ray.shutdown()"
   ]
  },
  {
   "cell_type": "markdown",
   "id": "33ebccf4-2bc3-4fbc-97b9-8ce74fa30698",
   "metadata": {},
   "source": [
    "Please see this [repository](https://github.com/lukeconibear/distributed_deep_learning) for examples of how to do distributed deep learning using Ray Train with TensorFlow, PyTorch, and Horovod."
   ]
  },
  {
   "cell_type": "markdown",
   "id": "380cf30b-7eec-4d87-9dc2-1ae4c480cfb2",
   "metadata": {},
   "source": [
    "## [Dask on Ray](https://docs.ray.io/en/latest/data/dask-on-ray.html)\n",
    "Use Ray as a backend for Dask tasks.  \n",
    "Dask dispatches tasks to Ray for scheduling and execution."
   ]
  },
  {
   "cell_type": "code",
   "execution_count": 52,
   "id": "4dc0ae7b-4d26-4410-aec6-fc104f8a8135",
   "metadata": {},
   "outputs": [],
   "source": [
    "import ray\n",
    "import dask\n",
    "import dask.dataframe as dd \n",
    "import pandas as pd\n",
    "import numpy as np\n",
    "from ray.util.dask import ray_dask_get"
   ]
  },
  {
   "cell_type": "code",
   "execution_count": 53,
   "id": "57a8ef39-65df-45ca-b26e-9b539cc523ea",
   "metadata": {},
   "outputs": [
    {
     "data": {
      "text/plain": [
       "{'node_ip_address': '129.11.87.102',\n",
       " 'raylet_ip_address': '129.11.87.102',\n",
       " 'redis_address': '129.11.87.102:57522',\n",
       " 'object_store_address': '/tmp/ray/session_2021-12-20_17-32-21_571729_105537/sockets/plasma_store',\n",
       " 'raylet_socket_name': '/tmp/ray/session_2021-12-20_17-32-21_571729_105537/sockets/raylet',\n",
       " 'webui_url': None,\n",
       " 'session_dir': '/tmp/ray/session_2021-12-20_17-32-21_571729_105537',\n",
       " 'metrics_export_port': 62666,\n",
       " 'node_id': 'ae2f6013df29314db76b2d234d8c1fca5206cc59e3b159c23e25b29f'}"
      ]
     },
     "execution_count": 53,
     "metadata": {},
     "output_type": "execute_result"
    }
   ],
   "source": [
    "dask.config.set(scheduler=ray_dask_get) \n",
    "ray.init()"
   ]
  },
  {
   "cell_type": "code",
   "execution_count": 54,
   "id": "dab4eba7-acfb-4aff-b525-c4d9e8022689",
   "metadata": {},
   "outputs": [
    {
     "data": {
      "text/html": [
       "<div>\n",
       "<style scoped>\n",
       "    .dataframe tbody tr th:only-of-type {\n",
       "        vertical-align: middle;\n",
       "    }\n",
       "\n",
       "    .dataframe tbody tr th {\n",
       "        vertical-align: top;\n",
       "    }\n",
       "\n",
       "    .dataframe thead th {\n",
       "        text-align: right;\n",
       "    }\n",
       "</style>\n",
       "<table border=\"1\" class=\"dataframe\">\n",
       "  <thead>\n",
       "    <tr style=\"text-align: right;\">\n",
       "      <th></th>\n",
       "      <th>0</th>\n",
       "      <th>1</th>\n",
       "      <th>2</th>\n",
       "      <th>3</th>\n",
       "      <th>4</th>\n",
       "      <th>5</th>\n",
       "      <th>6</th>\n",
       "      <th>7</th>\n",
       "      <th>8</th>\n",
       "      <th>9</th>\n",
       "      <th>...</th>\n",
       "      <th>246</th>\n",
       "      <th>247</th>\n",
       "      <th>248</th>\n",
       "      <th>249</th>\n",
       "      <th>250</th>\n",
       "      <th>251</th>\n",
       "      <th>252</th>\n",
       "      <th>253</th>\n",
       "      <th>254</th>\n",
       "      <th>255</th>\n",
       "    </tr>\n",
       "  </thead>\n",
       "  <tbody>\n",
       "    <tr>\n",
       "      <th>0</th>\n",
       "      <td>53</td>\n",
       "      <td>72</td>\n",
       "      <td>0</td>\n",
       "      <td>7</td>\n",
       "      <td>83</td>\n",
       "      <td>74</td>\n",
       "      <td>86</td>\n",
       "      <td>49</td>\n",
       "      <td>81</td>\n",
       "      <td>42</td>\n",
       "      <td>...</td>\n",
       "      <td>77</td>\n",
       "      <td>81</td>\n",
       "      <td>65</td>\n",
       "      <td>45</td>\n",
       "      <td>35</td>\n",
       "      <td>2</td>\n",
       "      <td>22</td>\n",
       "      <td>45</td>\n",
       "      <td>30</td>\n",
       "      <td>33</td>\n",
       "    </tr>\n",
       "    <tr>\n",
       "      <th>1</th>\n",
       "      <td>45</td>\n",
       "      <td>65</td>\n",
       "      <td>41</td>\n",
       "      <td>25</td>\n",
       "      <td>62</td>\n",
       "      <td>29</td>\n",
       "      <td>69</td>\n",
       "      <td>77</td>\n",
       "      <td>46</td>\n",
       "      <td>91</td>\n",
       "      <td>...</td>\n",
       "      <td>56</td>\n",
       "      <td>42</td>\n",
       "      <td>85</td>\n",
       "      <td>31</td>\n",
       "      <td>69</td>\n",
       "      <td>49</td>\n",
       "      <td>8</td>\n",
       "      <td>75</td>\n",
       "      <td>9</td>\n",
       "      <td>36</td>\n",
       "    </tr>\n",
       "    <tr>\n",
       "      <th>2</th>\n",
       "      <td>64</td>\n",
       "      <td>14</td>\n",
       "      <td>42</td>\n",
       "      <td>25</td>\n",
       "      <td>95</td>\n",
       "      <td>4</td>\n",
       "      <td>79</td>\n",
       "      <td>80</td>\n",
       "      <td>8</td>\n",
       "      <td>36</td>\n",
       "      <td>...</td>\n",
       "      <td>5</td>\n",
       "      <td>48</td>\n",
       "      <td>91</td>\n",
       "      <td>33</td>\n",
       "      <td>63</td>\n",
       "      <td>93</td>\n",
       "      <td>30</td>\n",
       "      <td>98</td>\n",
       "      <td>8</td>\n",
       "      <td>20</td>\n",
       "    </tr>\n",
       "    <tr>\n",
       "      <th>3</th>\n",
       "      <td>21</td>\n",
       "      <td>30</td>\n",
       "      <td>95</td>\n",
       "      <td>17</td>\n",
       "      <td>64</td>\n",
       "      <td>12</td>\n",
       "      <td>97</td>\n",
       "      <td>69</td>\n",
       "      <td>5</td>\n",
       "      <td>75</td>\n",
       "      <td>...</td>\n",
       "      <td>45</td>\n",
       "      <td>77</td>\n",
       "      <td>79</td>\n",
       "      <td>54</td>\n",
       "      <td>60</td>\n",
       "      <td>15</td>\n",
       "      <td>7</td>\n",
       "      <td>55</td>\n",
       "      <td>94</td>\n",
       "      <td>93</td>\n",
       "    </tr>\n",
       "    <tr>\n",
       "      <th>4</th>\n",
       "      <td>50</td>\n",
       "      <td>25</td>\n",
       "      <td>15</td>\n",
       "      <td>27</td>\n",
       "      <td>3</td>\n",
       "      <td>77</td>\n",
       "      <td>0</td>\n",
       "      <td>15</td>\n",
       "      <td>30</td>\n",
       "      <td>68</td>\n",
       "      <td>...</td>\n",
       "      <td>67</td>\n",
       "      <td>74</td>\n",
       "      <td>80</td>\n",
       "      <td>29</td>\n",
       "      <td>78</td>\n",
       "      <td>69</td>\n",
       "      <td>97</td>\n",
       "      <td>0</td>\n",
       "      <td>7</td>\n",
       "      <td>9</td>\n",
       "    </tr>\n",
       "    <tr>\n",
       "      <th>5</th>\n",
       "      <td>64</td>\n",
       "      <td>73</td>\n",
       "      <td>66</td>\n",
       "      <td>77</td>\n",
       "      <td>72</td>\n",
       "      <td>20</td>\n",
       "      <td>57</td>\n",
       "      <td>70</td>\n",
       "      <td>41</td>\n",
       "      <td>19</td>\n",
       "      <td>...</td>\n",
       "      <td>97</td>\n",
       "      <td>70</td>\n",
       "      <td>54</td>\n",
       "      <td>29</td>\n",
       "      <td>1</td>\n",
       "      <td>28</td>\n",
       "      <td>15</td>\n",
       "      <td>98</td>\n",
       "      <td>40</td>\n",
       "      <td>65</td>\n",
       "    </tr>\n",
       "    <tr>\n",
       "      <th>6</th>\n",
       "      <td>11</td>\n",
       "      <td>84</td>\n",
       "      <td>8</td>\n",
       "      <td>81</td>\n",
       "      <td>73</td>\n",
       "      <td>12</td>\n",
       "      <td>38</td>\n",
       "      <td>82</td>\n",
       "      <td>57</td>\n",
       "      <td>34</td>\n",
       "      <td>...</td>\n",
       "      <td>60</td>\n",
       "      <td>59</td>\n",
       "      <td>2</td>\n",
       "      <td>76</td>\n",
       "      <td>38</td>\n",
       "      <td>57</td>\n",
       "      <td>19</td>\n",
       "      <td>23</td>\n",
       "      <td>9</td>\n",
       "      <td>53</td>\n",
       "    </tr>\n",
       "    <tr>\n",
       "      <th>7</th>\n",
       "      <td>21</td>\n",
       "      <td>76</td>\n",
       "      <td>6</td>\n",
       "      <td>13</td>\n",
       "      <td>54</td>\n",
       "      <td>95</td>\n",
       "      <td>17</td>\n",
       "      <td>50</td>\n",
       "      <td>15</td>\n",
       "      <td>82</td>\n",
       "      <td>...</td>\n",
       "      <td>93</td>\n",
       "      <td>35</td>\n",
       "      <td>47</td>\n",
       "      <td>22</td>\n",
       "      <td>97</td>\n",
       "      <td>96</td>\n",
       "      <td>10</td>\n",
       "      <td>18</td>\n",
       "      <td>54</td>\n",
       "      <td>89</td>\n",
       "    </tr>\n",
       "    <tr>\n",
       "      <th>8</th>\n",
       "      <td>82</td>\n",
       "      <td>31</td>\n",
       "      <td>3</td>\n",
       "      <td>95</td>\n",
       "      <td>74</td>\n",
       "      <td>82</td>\n",
       "      <td>71</td>\n",
       "      <td>77</td>\n",
       "      <td>25</td>\n",
       "      <td>29</td>\n",
       "      <td>...</td>\n",
       "      <td>37</td>\n",
       "      <td>27</td>\n",
       "      <td>81</td>\n",
       "      <td>26</td>\n",
       "      <td>26</td>\n",
       "      <td>33</td>\n",
       "      <td>32</td>\n",
       "      <td>31</td>\n",
       "      <td>80</td>\n",
       "      <td>31</td>\n",
       "    </tr>\n",
       "    <tr>\n",
       "      <th>9</th>\n",
       "      <td>46</td>\n",
       "      <td>28</td>\n",
       "      <td>57</td>\n",
       "      <td>72</td>\n",
       "      <td>47</td>\n",
       "      <td>40</td>\n",
       "      <td>93</td>\n",
       "      <td>93</td>\n",
       "      <td>76</td>\n",
       "      <td>89</td>\n",
       "      <td>...</td>\n",
       "      <td>28</td>\n",
       "      <td>66</td>\n",
       "      <td>78</td>\n",
       "      <td>17</td>\n",
       "      <td>69</td>\n",
       "      <td>7</td>\n",
       "      <td>25</td>\n",
       "      <td>39</td>\n",
       "      <td>24</td>\n",
       "      <td>24</td>\n",
       "    </tr>\n",
       "  </tbody>\n",
       "</table>\n",
       "<p>10 rows × 256 columns</p>\n",
       "</div>"
      ],
      "text/plain": [
       "   0    1    2    3    4    5    6    7    8    9    ...  246  247  248  249  \\\n",
       "0   53   72    0    7   83   74   86   49   81   42  ...   77   81   65   45   \n",
       "1   45   65   41   25   62   29   69   77   46   91  ...   56   42   85   31   \n",
       "2   64   14   42   25   95    4   79   80    8   36  ...    5   48   91   33   \n",
       "3   21   30   95   17   64   12   97   69    5   75  ...   45   77   79   54   \n",
       "4   50   25   15   27    3   77    0   15   30   68  ...   67   74   80   29   \n",
       "5   64   73   66   77   72   20   57   70   41   19  ...   97   70   54   29   \n",
       "6   11   84    8   81   73   12   38   82   57   34  ...   60   59    2   76   \n",
       "7   21   76    6   13   54   95   17   50   15   82  ...   93   35   47   22   \n",
       "8   82   31    3   95   74   82   71   77   25   29  ...   37   27   81   26   \n",
       "9   46   28   57   72   47   40   93   93   76   89  ...   28   66   78   17   \n",
       "\n",
       "   250  251  252  253  254  255  \n",
       "0   35    2   22   45   30   33  \n",
       "1   69   49    8   75    9   36  \n",
       "2   63   93   30   98    8   20  \n",
       "3   60   15    7   55   94   93  \n",
       "4   78   69   97    0    7    9  \n",
       "5    1   28   15   98   40   65  \n",
       "6   38   57   19   23    9   53  \n",
       "7   97   96   10   18   54   89  \n",
       "8   26   33   32   31   80   31  \n",
       "9   69    7   25   39   24   24  \n",
       "\n",
       "[10 rows x 256 columns]"
      ]
     },
     "execution_count": 54,
     "metadata": {},
     "output_type": "execute_result"
    }
   ],
   "source": [
    "df = pd.DataFrame(np.random.randint(0, 100, size=(2**10, 2**8)))\n",
    "df = dd.from_pandas(df, npartitions=10)\n",
    "df.head(10)"
   ]
  },
  {
   "cell_type": "code",
   "execution_count": 55,
   "id": "d5359569-5cf9-4adf-b0ae-e63a9564cd41",
   "metadata": {},
   "outputs": [],
   "source": [
    "ray.shutdown()"
   ]
  },
  {
   "cell_type": "markdown",
   "id": "353b15d2-b1a9-466d-814d-464bd604af6c",
   "metadata": {
    "tags": []
   },
   "source": [
    "## [Modin](https://modin.readthedocs.io/en/latest/)\n",
    "Modin uses Ray or Dask to easily speed up your Pandas code.  \n",
    "To use Modin, simply replace the import and use Pandas API as normal."
   ]
  },
  {
   "cell_type": "code",
   "execution_count": 56,
   "id": "b6d3c4fa-a1ec-47e2-85dc-a2f63a7fd39c",
   "metadata": {},
   "outputs": [],
   "source": [
    "import os\n",
    "os.environ['MODIN_ENGINE'] = 'ray'\n",
    "# os.environ['MODIN_ENGINE'] = 'dask'"
   ]
  },
  {
   "cell_type": "code",
   "execution_count": 57,
   "id": "12ad3d71-41f0-4787-9a01-7b9e2ec38d32",
   "metadata": {},
   "outputs": [
    {
     "name": "stderr",
     "output_type": "stream",
     "text": [
      "UserWarning: Ray execution environment not yet initialized. Initializing...\n",
      "To remove this warning, run the following python code before doing dataframe operations:\n",
      "\n",
      "    import ray\n",
      "    ray.init()\n",
      "\n"
     ]
    },
    {
     "name": "stderr",
     "output_type": "stream",
     "text": [
      "UserWarning: Distributing <class 'numpy.ndarray'> object. This may take some time.\n"
     ]
    }
   ],
   "source": [
    "if not IN_COLAB:\n",
    "    # import pandas as pd\n",
    "    import modin.pandas as pd\n",
    "\n",
    "    frame_data = np.random.randint(0, 100, size=(5_000, 1_000))\n",
    "    df = pd.DataFrame(frame_data)\n",
    "    df.head(10)"
   ]
  },
  {
   "cell_type": "markdown",
   "id": "37df20c4-256a-4c2b-9e2f-c5a203fcace0",
   "metadata": {
    "tags": []
   },
   "source": [
    "## [Mars](https://docs.pymars.org/en/latest/)\n",
    "Mars is a tensor-based unified framework for large-scale data computation which scales numpy, pandas, scikit-learn and many other libraries.  \n",
    "Swap out the library import, use the same API, and add `.execute()`."
   ]
  },
  {
   "cell_type": "markdown",
   "id": "bda31ec9-176e-4679-8784-813c31903324",
   "metadata": {},
   "source": [
    "```python\n",
    "import mars\n",
    "mars.new_session()\n",
    "```"
   ]
  },
  {
   "cell_type": "markdown",
   "id": "698d3654-01af-4911-b4bd-aee8014784a1",
   "metadata": {},
   "source": [
    "### [Mars Tensor](https://docs.pymars.org/en/latest/getting_started/tensor.html) for NumPy"
   ]
  },
  {
   "cell_type": "markdown",
   "id": "c9e221d2-ee8d-4af9-af6c-bffa43ce19d7",
   "metadata": {},
   "source": [
    "```python\n",
    "# import numpy as np\n",
    "# np.random.rand(10)\n",
    "\n",
    "import mars.tensor as mt\n",
    "mt.random.rand(10).execute()\n",
    "```"
   ]
  },
  {
   "cell_type": "markdown",
   "id": "bcd3eaa9-ef97-4bd1-acc5-5d15267d1742",
   "metadata": {
    "tags": []
   },
   "source": [
    "### [Mars DataFrame](https://docs.pymars.org/en/latest/getting_started/dataframe.html) for Pandas"
   ]
  },
  {
   "cell_type": "markdown",
   "id": "841d1b30-83ec-46ff-bf4d-e1bc61baaf51",
   "metadata": {},
   "source": [
    "```python\n",
    "# import pandas as pd\n",
    "# df = pd.DataFrame(\n",
    "#     np.random.rand(10),\n",
    "#     columns=['random_numbers']\n",
    "# )\n",
    "\n",
    "import mars.dataframe as md\n",
    "df = md.DataFrame(\n",
    "    np.random.rand(10),\n",
    "    columns=['random_numbers']\n",
    ").execute()\n",
    "```"
   ]
  },
  {
   "cell_type": "markdown",
   "id": "46bce7f3-a7ff-4319-8807-8091df26a54e",
   "metadata": {},
   "source": [
    "And remember to stop the server when you're finished."
   ]
  },
  {
   "cell_type": "markdown",
   "id": "36d10183-bf83-416d-96e0-6a2c070d088f",
   "metadata": {},
   "source": [
    "```python\n",
    "mars.stop_server()\n",
    "```"
   ]
  },
  {
   "cell_type": "markdown",
   "id": "6069567e-0f2f-4be3-b9bf-5422c9f5bebc",
   "metadata": {},
   "source": [
    "Mars can also use Ray as the backend ([instructions](https://docs.ray.io/en/latest/data/mars-on-ray.html))."
   ]
  },
  {
   "cell_type": "markdown",
   "id": "a3c97e49-4137-4cc7-ba53-1dd42feb7084",
   "metadata": {},
   "source": [
    "## Further information\n",
    "- [Using IPython for parallel computing](https://ipyparallel.readthedocs.io/en/latest/)\n",
    "- [Spark on Ray](https://docs.ray.io/en/latest/data/raydp.html): RayDP combines your Spark and Ray clusters, making it easy to do large scale data processing using the PySpark API and seemlessly use that data to train your models using TensorFlow and PyTorch.\n",
    "- [Concurrency](https://youtu.be/18B1pznaU1o) can also run different tasks together, but work is not done at the same time.  \n",
    "- [Asynchronous](https://youtu.be/iG6fr81xHKA) (multi-threading), useful for massive scaling, threads controlled explicitly.  "
   ]
  }
 ],
 "metadata": {
  "kernelspec": {
   "display_name": "swd6_hpp",
   "language": "python",
   "name": "swd6_hpp"
  },
  "language_info": {
   "codemirror_mode": {
    "name": "ipython",
    "version": 3
   },
   "file_extension": ".py",
   "mimetype": "text/x-python",
   "name": "python",
   "nbconvert_exporter": "python",
   "pygments_lexer": "ipython3",
   "version": "3.9.7"
  }
 },
 "nbformat": 4,
 "nbformat_minor": 5
}