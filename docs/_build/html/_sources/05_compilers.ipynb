{
 "cells": [
  {
   "cell_type": "markdown",
   "id": "7226fa6c-aa30-47d0-99b4-475adfab7b24",
   "metadata": {},
   "source": [
    "# [Compilers](https://youtu.be/I4nkgJdVZFA)\n",
    "- [CPython](https://www.python.org/)\n",
    "  - *Ahead-Of-Time (AOT) compiler.*\n",
    "    - Statically compiled C extensions.\n",
    "  - General purpose interpreter.\n",
    "    - Can work on a variety of problems.\n",
    "  - Dynamically typed.\n",
    "    - Types can change e.g. `x = 5`, then later `x = 'gary'`.\n",
    "- [PyPy](https://www.pypy.org/)\n",
    "  - *Just−In−Time (JIT) compiler (written in Python).*\n",
    "    - Enables optimisations at run time, especially for numerical tasks with repitition and loops.\n",
    "    - Replaces CPython.\n",
    "    - Faster, though overheads for start-up and memory.\n",
    "    - Helpful when want to speed up numerical opterations in all of code.  \n",
    "- [Numba](http://numba.pydata.org/)\n",
    "  - *Uses JIT compiler on functions.*\n",
    "    - Converts to fast machine code (LLVM).\n",
    "    - Uses decorators around functions.\n",
    "    - Use with the default CPython.\n",
    "    - Helpful when want to speed up numerical opterations in specific functions.  \n",
    "    - Examples for [NumPy](https://numba.pydata.org/numba-doc/dev/reference/numpysupported.html) and [Pandas](https://pandas.pydata.org/pandas-docs/stable/user_guide/enhancingperf.html#using-numba)."
   ]
  },
  {
   "cell_type": "code",
   "execution_count": null,
   "id": "a75a8351-5c29-45c1-aca3-404f31cd30f2",
   "metadata": {},
   "outputs": [],
   "source": [
    "from numba import njit\n",
    "\n",
    "nums = np.arange(1_000_000)"
   ]
  },
  {
   "cell_type": "code",
   "execution_count": null,
   "id": "66e12c99-3efc-450d-8d02-a714d41ddd68",
   "metadata": {},
   "outputs": [],
   "source": [
    "def super_function(nums):\n",
    "    trace = 0.0\n",
    "    for num in nums: # loop\n",
    "        trace += np.cos(num) # numpy\n",
    "    return nums + trace # broadcasting"
   ]
  },
  {
   "cell_type": "code",
   "execution_count": null,
   "id": "bc13dda5-b28a-45ba-811f-5b19efd47541",
   "metadata": {},
   "outputs": [],
   "source": [
    "%timeit super_function(nums)"
   ]
  },
  {
   "cell_type": "code",
   "execution_count": null,
   "id": "813e0666-4516-483f-bb94-ffbce61a3b1c",
   "metadata": {},
   "outputs": [],
   "source": [
    "@njit # numba decorator\n",
    "def super_function(nums):\n",
    "    trace = 0.0\n",
    "    for num in nums: # loop\n",
    "        trace += np.cos(num) # numpy\n",
    "    return nums + trace # broadcasting"
   ]
  },
  {
   "cell_type": "code",
   "execution_count": null,
   "id": "71903154-46f8-4378-8396-938a70e49794",
   "metadata": {},
   "outputs": [],
   "source": [
    "%timeit super_function(nums)"
   ]
  },
  {
   "cell_type": "markdown",
   "id": "4f5c8e69-8ff2-44d1-a6a8-3c8ae5b3707e",
   "metadata": {},
   "source": [
    "- [Cython](https://cython.org/)\n",
    "  - *Compiles to statically typed C/C++*.\n",
    "  - Use for any amount of code.\n",
    "  - Use with the default CPython.\n",
    "  - Helpful when need static typing.  \n",
    "  - Examples [not using IPython](https://cython.readthedocs.io/en/latest/src/quickstart/build.html#building-a-cython-module-using-setuptools), [NumPy](https://cython.readthedocs.io/en/latest/src/tutorial/numpy.html), [Pandas](https://pandas.pydata.org/pandas-docs/stable/user_guide/enhancingperf.html) (example below)."
   ]
  },
  {
   "cell_type": "code",
   "execution_count": null,
   "id": "935842ef-5fec-4fc3-81de-807a743e2082",
   "metadata": {},
   "outputs": [],
   "source": [
    "import pandas as pd"
   ]
  },
  {
   "cell_type": "code",
   "execution_count": null,
   "id": "41e0618f-0a4c-4b0c-9565-261c3b16ea61",
   "metadata": {},
   "outputs": [],
   "source": [
    "df = pd.DataFrame({\n",
    "    \"a\": np.random.randn(1000),\n",
    "    \"b\": np.random.randn(1000),\n",
    "    \"N\": np.random.randint(100, 1000, (1000)),\n",
    "    \"x\": \"x\",\n",
    "})\n",
    "df.head()"
   ]
  },
  {
   "cell_type": "code",
   "execution_count": null,
   "id": "39365c06-ffda-4f14-b9a1-b919ffcd0a02",
   "metadata": {},
   "outputs": [],
   "source": [
    "def f(x):\n",
    "    return x * (x - 1)\n",
    "   \n",
    "\n",
    "def integrate_f(a, b, N):\n",
    "    s = 0\n",
    "    dx = (b - a) / N\n",
    "    for i in range(N):\n",
    "        s += f(a + i * dx)\n",
    "        \n",
    "    return s * dx"
   ]
  },
  {
   "cell_type": "code",
   "execution_count": null,
   "id": "9b7b5751-46be-44f7-b8f5-cdab2454ad10",
   "metadata": {},
   "outputs": [],
   "source": [
    "%timeit df.apply(lambda x: integrate_f(x[\"a\"], x[\"b\"], x[\"N\"]), axis=1)"
   ]
  },
  {
   "cell_type": "code",
   "execution_count": null,
   "id": "a28ee7c5-9019-4780-9afc-501e333f9684",
   "metadata": {},
   "outputs": [],
   "source": [
    "%load_ext Cython"
   ]
  },
  {
   "cell_type": "code",
   "execution_count": null,
   "id": "e38f883c-3723-41b0-8a6e-4fc5b0bd720c",
   "metadata": {},
   "outputs": [],
   "source": [
    "%%cython # only change\n",
    "def f(x):\n",
    "    return x * (x - 1)\n",
    "   \n",
    "\n",
    "def integrate_f(a, b, N):\n",
    "    s = 0\n",
    "    dx = (b - a) / N\n",
    "    for i in range(N):\n",
    "        s += f(a + i * dx)\n",
    "        \n",
    "    return s * dx"
   ]
  },
  {
   "cell_type": "code",
   "execution_count": null,
   "id": "2d18d4d2-05e5-42e0-a0f6-44b5ec7b869c",
   "metadata": {},
   "outputs": [],
   "source": [
    "%timeit df.apply(lambda x: integrate_f(x[\"a\"], x[\"b\"], x[\"N\"]), axis=1)"
   ]
  },
  {
   "cell_type": "code",
   "execution_count": null,
   "id": "89f6fb6b-6fd6-4dcc-9e81-855ead973bdd",
   "metadata": {},
   "outputs": [],
   "source": [
    "%%cython\n",
    "cdef double f(double x) except? -2:                  # adding types\n",
    "    return x * (x - 1)\n",
    "   \n",
    "\n",
    "cpdef double integrate_f(double a, double b, int N): # adding types\n",
    "    cdef int i                                       # adding types\n",
    "    cdef double s, dx                                # adding types\n",
    "    s = 0\n",
    "    dx = (b - a) / N\n",
    "    for i in range(N):\n",
    "        s += f(a + i * dx)\n",
    "        \n",
    "    return s * dx"
   ]
  },
  {
   "cell_type": "code",
   "execution_count": null,
   "id": "8d49a2b3-49c5-4c4f-a859-3f5501bdd8ec",
   "metadata": {},
   "outputs": [],
   "source": [
    "%timeit df.apply(lambda x: integrate_f(x[\"a\"], x[\"b\"], x[\"N\"]), axis=1)"
   ]
  },
  {
   "cell_type": "markdown",
   "id": "71ec8c44-4ca3-4ee1-bac3-fc788b771946",
   "metadata": {},
   "source": [
    "## Further information\n",
    "[Why is Python slow?](https://youtu.be/I4nkgJdVZFA), Anthony Shaw, PyCon 2020. [CPython Internals](https://realpython.com/products/cpython-internals-book/)."
   ]
  },
  {
   "cell_type": "code",
   "execution_count": null,
   "id": "4c72440f-4b6a-4d85-98c3-a98fb8d514e9",
   "metadata": {},
   "outputs": [],
   "source": []
  },
  {
   "cell_type": "code",
   "execution_count": null,
   "id": "26be63d9-c31c-49bd-b4aa-98e4a4822133",
   "metadata": {},
   "outputs": [],
   "source": []
  }
 ],
 "metadata": {
  "kernelspec": {
   "display_name": "swd6_hpp",
   "language": "python",
   "name": "swd6_hpp"
  },
  "language_info": {
   "codemirror_mode": {
    "name": "ipython",
    "version": 3
   },
   "file_extension": ".py",
   "mimetype": "text/x-python",
   "name": "python",
   "nbconvert_exporter": "python",
   "pygments_lexer": "ipython3",
   "version": "3.9.7"
  }
 },
 "nbformat": 4,
 "nbformat_minor": 5
}
