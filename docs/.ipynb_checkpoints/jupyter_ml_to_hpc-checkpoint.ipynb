{
 "cells": [
  {
   "cell_type": "markdown",
   "id": "38c71064-c708-4744-91fe-daea2316b91b",
   "metadata": {},
   "source": [
    "- Interact with Jupyter Lab to test out ideas\n",
    "  - Either locally, or on a interactive node on HPC to work from /nobackup\n",
    "  - Create code that automatically uses the available cores (Ray) or GPU over CPU if available (Jax)\n",
    "  - When ready to train, convert to .py (executable script) and move to HPC for static job"
   ]
  },
  {
   "cell_type": "code",
   "execution_count": null,
   "id": "3547c331-268c-498a-bf2a-1b41927e9f86",
   "metadata": {},
   "outputs": [],
   "source": []
  }
 ],
 "metadata": {
  "kernelspec": {
   "display_name": "swd6_hpp",
   "language": "python",
   "name": "swd6_hpp"
  },
  "language_info": {
   "codemirror_mode": {
    "name": "ipython",
    "version": 3
   },
   "file_extension": ".py",
   "mimetype": "text/x-python",
   "name": "python",
   "nbconvert_exporter": "python",
   "pygments_lexer": "ipython3",
   "version": "3.9.7"
  }
 },
 "nbformat": 4,
 "nbformat_minor": 5
}
