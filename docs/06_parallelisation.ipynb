{
 "cells": [
  {
   "cell_type": "markdown",
   "id": "9b05fc18-8748-41aa-b795-f1364eaf9acd",
   "metadata": {},
   "source": [
    "# Parallelisation"
   ]
  },
  {
   "cell_type": "markdown",
   "id": "9c590ffe-72a8-4f07-8a1d-0b3094b1d315",
   "metadata": {},
   "source": [
    "[![Open in Colab](https://colab.research.google.com/assets/colab-badge.svg)](https://colab.research.google.com/github/lukeconibear/swd6_hpp/blob/main/docs/06_parallelisation.ipynb)"
   ]
  },
  {
   "cell_type": "code",
   "execution_count": null,
   "id": "c4a1b046-1d41-480f-b464-30c5aa65d601",
   "metadata": {},
   "outputs": [],
   "source": [
    "import sys\n",
    "IN_COLAB = 'google.colab' in sys.modules\n",
    "if IN_COLAB:\n",
    "    !pip install dask[dataframe]"
   ]
  },
  {
   "cell_type": "markdown",
   "id": "bbdb26f9-e07f-46af-a1f4-e8d03138a9dc",
   "metadata": {
    "jp-MarkdownHeadingCollapsed": true,
    "tags": []
   },
   "source": [
    "## What is it?\n",
    "\n",
    "Parallelisation divides a large problem into many smaller ones and solves them *simultaneously*.\n",
    "- *Divides up the time/space complexity across workers.*\n",
    "- Tasks centrally managed by a scheduler.\n",
    "- Multi-processing (cores)\n",
    "    - Useful for compute-bound problems.\n",
    "    - Don't need to worry about the GIL.  \n",
    "- Multi-threading (parts of processes)\n",
    "    - Useful for memory-bound problems."
   ]
  },
  {
   "cell_type": "markdown",
   "id": "e9c09f95-164c-42fb-bb5e-65b632353227",
   "metadata": {
    "tags": []
   },
   "source": [
    "## Parallelising a Python?\n",
    "\n",
    "Python itself is not designed for massive scalability and controls threads preemptively using a [Global Interpreter Lock, GIL](https://wiki.python.org/moin/GlobalInterpreterLock). This has lead many libraries to work around this using C/C++ backends.  \n",
    "\n",
    "Some options include:  "
   ]
  },
  {
   "cell_type": "markdown",
   "id": "12e2f939-6b83-4368-a790-e523f830d7c2",
   "metadata": {},
   "source": [
    "[multiprocessing](https://docs.python.org/3/library/multiprocessing.html) for creating a pool of asynchronous workers. "
   ]
  },
  {
   "cell_type": "code",
   "execution_count": null,
   "id": "e735fffb-03cc-4645-8021-79f0b526c1fe",
   "metadata": {},
   "outputs": [],
   "source": [
    "from multiprocessing import Pool"
   ]
  },
  {
   "cell_type": "code",
   "execution_count": null,
   "id": "ac4c008b-46b9-4e6f-b5a7-49cabfa5e4f7",
   "metadata": {},
   "outputs": [],
   "source": [
    "def my_function(x):\n",
    "    return x * x"
   ]
  },
  {
   "cell_type": "code",
   "execution_count": null,
   "id": "c878864c-e3a3-47c3-8256-579db3e257f6",
   "metadata": {},
   "outputs": [],
   "source": [
    "with Pool(3) as workers:\n",
    "    print(workers.map(my_function, [1, 2, 3]))"
   ]
  },
  {
   "cell_type": "markdown",
   "id": "4f4d1f6a-25ee-48e2-ba15-312647c16007",
   "metadata": {},
   "source": [
    "[joblib](https://joblib.readthedocs.io/en/latest/) for creating lightweight pipelines. "
   ]
  },
  {
   "cell_type": "code",
   "execution_count": null,
   "id": "3489f601-410e-4730-9bfc-0034471e6045",
   "metadata": {},
   "outputs": [],
   "source": [
    "import joblib\n",
    "import math"
   ]
  },
  {
   "cell_type": "code",
   "execution_count": null,
   "id": "ae3e6016-8fd7-4ece-9c4c-b14c55d0d3a9",
   "metadata": {},
   "outputs": [],
   "source": [
    "joblib.Parallel(n_jobs=1)(\n",
    "    joblib.delayed(math.sqrt)(i**2) for i in range(10)\n",
    ")"
   ]
  },
  {
   "cell_type": "markdown",
   "id": "2d8264d7-b205-4a05-9f15-e3fe80c17532",
   "metadata": {},
   "source": [
    "[asyncio](https://docs.python.org/3/library/asyncio.html) for concurrent programs.  \n",
    "\n",
    "```python\n",
    "import asyncio\n",
    "\n",
    "async def main():\n",
    "    print('Hello ...')\n",
    "    await asyncio.sleep(1)\n",
    "    print('... World!')\n",
    "    \n",
    "asyncio.run(main())\n",
    "```"
   ]
  },
  {
   "cell_type": "markdown",
   "id": "a68d15a9-431d-4356-a71b-962cd45de919",
   "metadata": {},
   "source": [
    "These options work well for the CPU cores on your machine, though not really beyond that.  "
   ]
  },
  {
   "cell_type": "markdown",
   "id": "aa323619-ca8d-4baf-b261-41822de65db4",
   "metadata": {},
   "source": [
    "## [Dask](https://docs.dask.org/en/latest/)\n",
    "\n",
    "- Great features.\n",
    "- Helpful documentation.\n",
    "- Familiar API.\n",
    "- Under the hood for many libraries e.g. [xarray](http://xarray.pydata.org/en/stable/dask.html), [iris](https://scitools.org.uk/iris/docs/v2.4.0/userguide/real_and_lazy_data.html), [scikit-learn](https://ml.dask.org/)."
   ]
  },
  {
   "cell_type": "markdown",
   "id": "3d190ba5-8dd6-479e-9302-2d54218f2547",
   "metadata": {
    "tags": []
   },
   "source": [
    "### [Single machine](https://docs.dask.org/en/latest/setup/single-distributed.html)\n",
    "\n",
    "See the excellent video from Dask creator, Matthew Rocklin, below."
   ]
  },
  {
   "cell_type": "code",
   "execution_count": null,
   "id": "5dbe580d-24d3-4c68-b2ea-76cdc1e35290",
   "metadata": {
    "jupyter": {
     "source_hidden": true
    },
    "tags": [
     "remove_input"
    ]
   },
   "outputs": [],
   "source": [
    "from IPython.display import IFrame\n",
    "IFrame(src='https://www.youtube.com/embed/ods97a5Pzw0', width='560', height='315')"
   ]
  },
  {
   "cell_type": "code",
   "execution_count": null,
   "id": "14ba8c55-a3a1-429b-8a14-64082ab7e704",
   "metadata": {},
   "outputs": [],
   "source": [
    "if not IN_COLAB:\n",
    "    from dask.distributed import Client\n",
    "    client = Client()\n",
    "    client "
   ]
  },
  {
   "cell_type": "markdown",
   "id": "b248ae5b-1a0f-4e21-a673-88820b089e28",
   "metadata": {},
   "source": [
    "If want multiple threads, then could use keyword arguments in Client instance:\n",
    "```python\n",
    "client = Client(processes=False, threads_per_worker=4, n_workers=1)\n",
    "```"
   ]
  },
  {
   "cell_type": "markdown",
   "id": "395bb449-ebc8-4e9d-a1f5-6de7b7b76702",
   "metadata": {},
   "source": [
    "Remember (important), always need to close down the client at the end:\n",
    "```python\n",
    "client.close()\n",
    "```"
   ]
  },
  {
   "cell_type": "markdown",
   "id": "679e9e9b-83a5-43f9-b362-0e7dbb49c49f",
   "metadata": {},
   "source": [
    "### Dask behind the scenes"
   ]
  },
  {
   "cell_type": "code",
   "execution_count": null,
   "id": "0b11d37d-da70-4b7b-a96d-5f2b14a87936",
   "metadata": {},
   "outputs": [],
   "source": [
    "import xarray as xr"
   ]
  },
  {
   "cell_type": "code",
   "execution_count": null,
   "id": "cfdae6a8-2b7b-448c-bf63-cf2a6a7e2a9c",
   "metadata": {},
   "outputs": [],
   "source": [
    "ds = xr.tutorial.open_dataset(\n",
    "    'air_temperature',\n",
    "    chunks={'time': 'auto'} # dask chunks\n",
    ")"
   ]
  },
  {
   "cell_type": "code",
   "execution_count": null,
   "id": "29fa3499-af44-441c-9d7a-e2fcfd7c815e",
   "metadata": {},
   "outputs": [],
   "source": [
    "ds.nbytes * (2 ** -30)"
   ]
  },
  {
   "cell_type": "code",
   "execution_count": null,
   "id": "b42e895d-8c79-40fa-8142-49315f8e737b",
   "metadata": {},
   "outputs": [],
   "source": [
    "ds_mean = ds.mean()\n",
    "ds_mean # a dask.array (an unexecuted task graph)"
   ]
  },
  {
   "cell_type": "code",
   "execution_count": null,
   "id": "f8dc51a6-be50-42ab-8f49-ffeba6959653",
   "metadata": {},
   "outputs": [],
   "source": [
    "ds_mean.compute()"
   ]
  },
  {
   "cell_type": "code",
   "execution_count": null,
   "id": "4e543a61-a3ca-4650-9b4b-ec4403204d07",
   "metadata": {},
   "outputs": [],
   "source": [
    "ds.close()"
   ]
  },
  {
   "cell_type": "markdown",
   "id": "5336846e-6d68-4fb8-a984-08da52783304",
   "metadata": {},
   "source": [
    "### [dask.array](https://examples.dask.org/array.html) (NumPy)\n",
    "See the excellent video from Dask creator, Matthew Rocklin, below."
   ]
  },
  {
   "cell_type": "code",
   "execution_count": null,
   "id": "04b1fe62-6ef0-4d93-9f21-755581fbd7e7",
   "metadata": {
    "jupyter": {
     "source_hidden": true
    },
    "tags": [
     "remove_input"
    ]
   },
   "outputs": [],
   "source": [
    "IFrame(src='https://www.youtube.com/embed/ZrP-QTxwwnU', width='560', height='315')"
   ]
  },
  {
   "cell_type": "code",
   "execution_count": null,
   "id": "7957233c-9915-42a6-acc2-fe4e44dbd499",
   "metadata": {},
   "outputs": [],
   "source": [
    "import dask.array as da"
   ]
  },
  {
   "cell_type": "code",
   "execution_count": null,
   "id": "96a19fd6-f8b7-460c-907a-9a9bf6da017c",
   "metadata": {},
   "outputs": [],
   "source": [
    "my_array = da.random.random(\n",
    "    (50_000, 50_000),\n",
    "    chunks=(5_000, 5_000) # dask chunks\n",
    ")\n",
    "result = my_array + my_array.T\n",
    "result"
   ]
  },
  {
   "cell_type": "code",
   "execution_count": null,
   "id": "b92bb3bf-7c20-45cf-b350-60912bf9fbe2",
   "metadata": {},
   "outputs": [],
   "source": [
    "if not IN_COLAB:\n",
    "    result.compute()"
   ]
  },
  {
   "cell_type": "markdown",
   "id": "a0e22457-c5da-4cae-8630-656e41c178cf",
   "metadata": {},
   "source": [
    "### [dask.dataframe](https://examples.dask.org/dataframe.html) (Pandas)\n",
    "See the excellent video from Dask creator, Matthew Rocklin, below."
   ]
  },
  {
   "cell_type": "code",
   "execution_count": null,
   "id": "45b09b7a-0074-44ce-bc8d-9381941aa76e",
   "metadata": {
    "jupyter": {
     "source_hidden": true
    },
    "tags": [
     "remove_input"
    ]
   },
   "outputs": [],
   "source": [
    "IFrame(src='https://www.youtube.com/embed/6qwlDc959b0', width='560', height='315')"
   ]
  },
  {
   "cell_type": "code",
   "execution_count": null,
   "id": "be313ba8-8bc0-448c-b2ff-1e7d03a82470",
   "metadata": {},
   "outputs": [],
   "source": [
    "import dask"
   ]
  },
  {
   "cell_type": "code",
   "execution_count": null,
   "id": "8872db13-89b2-4bae-9095-eec4e0374355",
   "metadata": {},
   "outputs": [],
   "source": [
    "df = dask.datasets.timeseries()\n",
    "df"
   ]
  },
  {
   "cell_type": "code",
   "execution_count": null,
   "id": "9270f5a1-0cc0-448f-bae3-9152a965ba1f",
   "metadata": {},
   "outputs": [],
   "source": [
    "type(df)"
   ]
  },
  {
   "cell_type": "code",
   "execution_count": null,
   "id": "12eda54c-5add-4220-9384-363481bccadc",
   "metadata": {},
   "outputs": [],
   "source": [
    "result = df.groupby('name').x.std()\n",
    "result"
   ]
  },
  {
   "cell_type": "code",
   "execution_count": null,
   "id": "cbcb38f5-18c6-4885-b328-655a20181a57",
   "metadata": {},
   "outputs": [],
   "source": [
    "result.visualize()"
   ]
  },
  {
   "cell_type": "code",
   "execution_count": null,
   "id": "8b93ced4-6be9-4e22-8611-3ecb3d1b1c7e",
   "metadata": {},
   "outputs": [],
   "source": [
    "result_computed = result.compute()"
   ]
  },
  {
   "cell_type": "code",
   "execution_count": null,
   "id": "50f988a7-0f86-4acf-93f2-6e242ec79c4a",
   "metadata": {},
   "outputs": [],
   "source": [
    "type(result_computed)"
   ]
  },
  {
   "cell_type": "markdown",
   "id": "c54a2bea-f6c7-4426-aa74-46274fbb339b",
   "metadata": {},
   "source": [
    "### [dask.bag](https://examples.dask.org/bag.html)\n",
    "Iterate over a bag of independent objects (embarrassingly parallel)."
   ]
  },
  {
   "cell_type": "code",
   "execution_count": null,
   "id": "504b9b4e-db14-4312-bbc2-7e98a002d569",
   "metadata": {},
   "outputs": [],
   "source": [
    "import numpy as np\n",
    "import dask.bag as db"
   ]
  },
  {
   "cell_type": "code",
   "execution_count": null,
   "id": "8ea84bb0-c031-4c81-9ed8-cce667e4de94",
   "metadata": {},
   "outputs": [],
   "source": [
    "nums = np.random.randint(low=0, high=100, size=(5_000_000))\n",
    "nums"
   ]
  },
  {
   "cell_type": "code",
   "execution_count": null,
   "id": "5d89c351-165c-4b5c-a30f-e8e33dca89fa",
   "metadata": {},
   "outputs": [],
   "source": [
    "def weird_function(nums):\n",
    "    return chr(nums)"
   ]
  },
  {
   "cell_type": "code",
   "execution_count": null,
   "id": "371db54a-453f-4479-9e83-4dca896b9459",
   "metadata": {},
   "outputs": [],
   "source": [
    "if not IN_COLAB:\n",
    "    bag = db.from_sequence(nums)\n",
    "    bag = bag.map(weird_function)\n",
    "    \n",
    "    bag.visualize()\n",
    "    \n",
    "    result = bag.compute()\n",
    "    \n",
    "    client.close()"
   ]
  },
  {
   "cell_type": "markdown",
   "id": "4bc84ee4-b552-4c3e-93e8-00778dbc6457",
   "metadata": {},
   "source": [
    "### [Dask on HPC](https://docs.dask.org/en/latest/setup/hpc.html)\n",
    "\n",
    "- Non-interactive\n",
    "- Create/edit the [`dask_on_hpc.py`](https://github.com/lukeconibear/swd6_hpp/blob/main/docs/dask_on_hpc.py) file.\n",
    "- Submit to the queue using [`qsub dask_on_hpc.bash`](https://github.com/lukeconibear/swd6_hpp/blob/main/docs/dask_on_hpc.bash).\n",
    "\n",
    "If need to share memory across chunks:  \n",
    "- Use [shared memory](https://docs.dask.org/en/latest/shared.html) (commonly OpenMP, Open Multi-Processing).\n",
    "- `-pe smp np` on ARC4\n",
    "\n",
    "Otherwise:  \n",
    "- Use [message passing interface, MPI](https://docs.dask.org/en/latest/setup/hpc.html?highlight=mpi#using-mpi) (commonly OpenMPI).\n",
    "- `-pe ib np` on ARC4"
   ]
  },
  {
   "cell_type": "markdown",
   "id": "51d375cf-85c8-49d9-a7a7-295068dd1f68",
   "metadata": {},
   "source": [
    "### [Interactive Jupyter/Dask on HPC](https://pangeo.io/setup_guides/hpc.html)\n",
    "See the excellent video from Dask creator, Matthew Rocklin, below.\n",
    "- Create or edit the [`~/.config/dask/jobqueue.yaml`](https://github.com/lukeconibear/swd6_hpp/blob/main/docs/jobqueue.yaml) file within this repository.\n",
    "- Check the [`~/.config/dask/distributed.yaml`](https://github.com/lukeconibear/swd6_hpp/blob/main/docs/distributed.yaml) file with this repository."
   ]
  },
  {
   "cell_type": "code",
   "execution_count": null,
   "id": "10360dcc-b089-4f8f-8401-9d352c2f6176",
   "metadata": {
    "jupyter": {
     "source_hidden": true
    },
    "tags": [
     "remove_input"
    ]
   },
   "outputs": [],
   "source": [
    "IFrame(src='https://www.youtube.com/embed/FXsgmwpRExM', width='560', height='315')"
   ]
  },
  {
   "cell_type": "markdown",
   "id": "84fafa47-5e39-45ac-92b3-650b3b7917b5",
   "metadata": {},
   "source": [
    "```bash\n",
    "# in a terminal\n",
    "\n",
    "# log onto arc4\n",
    "ssh ${USER}@arc4.leeds.ac.uk\n",
    "\n",
    "# start an interactive session on a compute node on arc4\n",
    "qlogin -l h_rt=04:00:00 -l h_vmem=12G\n",
    "\n",
    "# activate your python environment\n",
    "conda activate my_python_environment\n",
    "\n",
    "# echo back the ssh command to connect to this compute node\n",
    "echo \"ssh -N -L 2222:`hostname`:2222 -L 2727:`hostname`:2727 ${USER}@arc4.leeds.ac.uk\"\n",
    "\n",
    "# launch a jupyter lab session on this compute node\n",
    "jupyter lab --no-browser --ip=`hostname` --port=2222\n",
    "```\n",
    "___\n",
    "```bash\n",
    "# in a local terminal\n",
    "# ssh into the compute node\n",
    "ssh -N -L 2222:`hostname`:2222 -L 2727:`hostname`:2727 ${USER}@arc4.leeds.ac.uk\n",
    "```\n",
    "___\n",
    "```bash\n",
    "# open up a local browser (e.g. chrome)\n",
    "# go to the jupyter lab session by pasting into the url bar\n",
    "localhost:2222\n",
    "    \n",
    "# can also load the dask dashboard in the browser at localhost:2727\n",
    "```\n",
    "___\n",
    "```python\n",
    "# now the jupyter code\n",
    "from dask_jobqueue import SGECluster\n",
    "from dask.distributed import Client\n",
    "\n",
    "cluster = Client(\n",
    "    walltime='01:00:00',\n",
    "    memory='4 G',\n",
    "    resource_spec='h_vmem=4G',\n",
    "    scheduler_options={\n",
    "        'dashboard_address': ':2727',\n",
    "    },\n",
    ")\n",
    "\n",
    "client = Client(cluster)\n",
    "\n",
    "cluster.scale(jobs=20)\n",
    "# cluster.adapt(minimum=0, maximum=20)\n",
    "\n",
    "client.close()\n",
    "cluster.close()\n",
    "```"
   ]
  },
  {
   "cell_type": "markdown",
   "id": "ffddfeac-ddd8-4380-b817-b893effe6831",
   "metadata": {},
   "source": [
    "## [Ray](https://www.ray.io/)\n",
    "Ray will automatically detect the available GPUs and CPUs on the machine.\n",
    "- Can also [specify required resources](https://docs.ray.io/en/latest/walkthrough.html#specifying-required-resources).  \n",
    "\n",
    "Remote function\n",
    "- Convert regular Python function to Remote function by adding `@ray.remote` decorator  \n",
    "- Then use `.remote()` method  \n",
    "- Retrieved with `ray.get(object)` \n",
    "\n",
    "tasks, actors, ML"
   ]
  },
  {
   "cell_type": "markdown",
   "id": "353b15d2-b1a9-466d-814d-464bd604af6c",
   "metadata": {},
   "source": [
    "## [Modin](https://modin.readthedocs.io/en/latest/)\n",
    "..."
   ]
  },
  {
   "cell_type": "code",
   "execution_count": null,
   "id": "daeb7d73-b5b3-462b-94b4-def9a85dacc3",
   "metadata": {},
   "outputs": [],
   "source": []
  },
  {
   "cell_type": "markdown",
   "id": "a3c97e49-4137-4cc7-ba53-1dd42feb7084",
   "metadata": {},
   "source": [
    "## Further information\n",
    "[Concurrency](https://youtu.be/18B1pznaU1o) can also run different tasks together, but work is not done at the same time.  \n",
    "[Asynchronous](https://youtu.be/iG6fr81xHKA) (multi-threading), useful for massive scaling, threads controlled explicitly.  "
   ]
  },
  {
   "cell_type": "code",
   "execution_count": null,
   "id": "d22f36d6-627f-4eba-bfa7-a01973e3b322",
   "metadata": {},
   "outputs": [],
   "source": []
  }
 ],
 "metadata": {
  "kernelspec": {
   "display_name": "swd6_hpp",
   "language": "python",
   "name": "swd6_hpp"
  },
  "language_info": {
   "codemirror_mode": {
    "name": "ipython",
    "version": 3
   },
   "file_extension": ".py",
   "mimetype": "text/x-python",
   "name": "python",
   "nbconvert_exporter": "python",
   "pygments_lexer": "ipython3",
   "version": "3.9.7"
  }
 },
 "nbformat": 4,
 "nbformat_minor": 5
}
