{
 "cells": [
  {
   "cell_type": "markdown",
   "id": "e1f167c0-52a8-4800-9999-0419acc312a8",
   "metadata": {},
   "source": [
    "# Profiling"
   ]
  },
  {
   "cell_type": "markdown",
   "id": "a6ae8044-47c9-4c48-b50d-e3dadb441757",
   "metadata": {},
   "source": [
    "[![Open in Colab](https://colab.research.google.com/assets/colab-badge.svg)](https://colab.research.google.com/github/lukeconibear/swd6_hpp/blob/main/docs/01_profiling.ipynb)"
   ]
  },
  {
   "cell_type": "code",
   "execution_count": null,
   "id": "49aef6fc-d7fe-45a5-9593-f9092ae02ebe",
   "metadata": {},
   "outputs": [],
   "source": [
    "# if you're using colab, then install the required modules\n",
    "import sys\n",
    "IN_COLAB = 'google.colab' in sys.modules\n",
    "if IN_COLAB:\n",
    "    %pip install line_profiler snakeviz pyinstrument eliot eliot-tree"
   ]
  },
  {
   "cell_type": "markdown",
   "id": "c24c725f-0aed-4b26-b2c0-6e02de0ad324",
   "metadata": {},
   "source": [
    "[Profiling](https://jakevdp.github.io/PythonDataScienceHandbook/01.07-timing-and-profiling.html) analyses your code in terms of speed or memory. \n",
    "\n",
    "This helps identify where the bottlenecks are and how much potential there is for improvement."
   ]
  },
  {
   "cell_type": "markdown",
   "id": "56d83eb4-a94b-4b03-bb66-dc2f00fb7357",
   "metadata": {},
   "source": [
    "_Side note_: [IPython magic commands](https://jakevdp.github.io/PythonDataScienceHandbook/01.03-magic-commands.html) are useful, commonly used commands in Jupyter Notebooks.  \n",
    "\n",
    "- They have one `%` at the start for use on a single line.\n",
    "- Or two `%%` at the start for use over a whole cell.\n",
    "\n",
    "For example:"
   ]
  },
  {
   "cell_type": "markdown",
   "id": "e9c991ec-da35-4765-b919-9a7e2c7fabf3",
   "metadata": {
    "tags": []
   },
   "source": [
    "## [`timeit`](https://ipython.readthedocs.io/en/stable/interactive/magics.html#magic-timeit)\n",
    "\n",
    "A IPython magic command that measures the time execution of an expression. \n",
    "\n",
    "It runs a few times, depending on how intensive the expression is, and returns the best result with the uncertainty.\n",
    "\n",
    "It is useful for benchmarking a small code snippet."
   ]
  },
  {
   "cell_type": "code",
   "execution_count": 1,
   "id": "dfe4a003-8f16-451d-8b13-d3556df15eed",
   "metadata": {},
   "outputs": [
    {
     "name": "stdout",
     "output_type": "stream",
     "text": [
      "63.8 ns ± 0.283 ns per loop (mean ± std. dev. of 7 runs, 10000000 loops each)\n"
     ]
    }
   ],
   "source": [
    "%timeit range(100)"
   ]
  },
  {
   "cell_type": "code",
   "execution_count": 2,
   "id": "c30554f8-1066-4350-bce7-1ed758da1c45",
   "metadata": {},
   "outputs": [
    {
     "name": "stdout",
     "output_type": "stream",
     "text": [
      "720 ns ± 5.57 ns per loop (mean ± std. dev. of 7 runs, 1000000 loops each)\n"
     ]
    }
   ],
   "source": [
    "%%timeit\n",
    "for x in range(100):\n",
    "    pass"
   ]
  },
  {
   "cell_type": "markdown",
   "id": "d0f35ee0-8611-4398-911d-51b81b04bf0d",
   "metadata": {},
   "source": [
    "Another option is:"
   ]
  },
  {
   "cell_type": "markdown",
   "id": "7f879806-bf28-44e0-8c53-6b72d640f3de",
   "metadata": {
    "tags": []
   },
   "source": [
    "## [`line_profiler`](https://github.com/pyutils/line_profiler)\n",
    "\n",
    "A module that measures the time spent in each line of a function."
   ]
  },
  {
   "cell_type": "code",
   "execution_count": 3,
   "id": "19304421-9f5a-483e-92eb-5ac32a2f7be2",
   "metadata": {},
   "outputs": [],
   "source": [
    "%load_ext line_profiler"
   ]
  },
  {
   "cell_type": "code",
   "execution_count": 6,
   "id": "fa6b7bee-588b-46f5-a7fd-46b471c9d58c",
   "metadata": {},
   "outputs": [],
   "source": [
    "import time\n",
    "\n",
    "def relax():\n",
    "    pass\n",
    "\n",
    "def bottleneck():\n",
    "    time.sleep(0.001)\n",
    "\n",
    "def some_function():\n",
    "    nums = [num for num in range(1_000)]\n",
    "    bigger_nums = [num ** 2 for num in nums]\n",
    "    bottleneck()\n",
    "    bigger_nums.extend(bigger_nums)\n",
    "    relax()"
   ]
  },
  {
   "cell_type": "markdown",
   "id": "dfa0f9dc-099e-46d2-b584-9751694c4ec9",
   "metadata": {},
   "source": [
    "- The `Timer unit` is the conversion to seconds.\n",
    "- The table shows the following columns for each line of the function (each row):\n",
    "    - `Line #`: The line number.\n",
    "    - `Hits`: The number of times that line was called.\n",
    "    - `Time`: The total time spent calling that line (in the `Timer units`).\n",
    "    - `Per Hit`: The time spend for one call of that line.\n",
    "    - `% Time`: The percentage of total time spent on that line (this is the often the most useful column).\n",
    "    - `Line Contents`: The source code for that line."
   ]
  },
  {
   "cell_type": "code",
   "execution_count": 7,
   "id": "015b9b11-0da5-4ba7-91fc-9427752a7360",
   "metadata": {},
   "outputs": [
    {
     "data": {
      "text/plain": [
       "Timer unit: 1e-06 s\n",
       "\n",
       "Total time: 0.001427 s\n",
       "File: /tmp/ipykernel_1040/572293778.py\n",
       "Function: some_function at line 9\n",
       "\n",
       "Line #      Hits         Time  Per Hit   % Time  Line Contents\n",
       "==============================================================\n",
       "     9                                           def some_function():\n",
       "    10         1         74.0     74.0      5.2      nums = [num for num in range(1_000)]\n",
       "    11         1        248.0    248.0     17.4      bigger_nums = [num ** 2 for num in nums]\n",
       "    12         1       1101.0   1101.0     77.2      bottleneck()\n",
       "    13         1          3.0      3.0      0.2      bigger_nums.extend(bigger_nums)\n",
       "    14         1          1.0      1.0      0.1      relax()"
      ]
     },
     "metadata": {},
     "output_type": "display_data"
    }
   ],
   "source": [
    "%lprun -f some_function some_function()"
   ]
  },
  {
   "cell_type": "markdown",
   "id": "7b80dfb8-2796-4cd3-8a47-19317971652b",
   "metadata": {},
   "source": [
    "We can see that most of the time was in the `bottleneck()` call, highlighting the potential here for possible improvements."
   ]
  },
  {
   "cell_type": "markdown",
   "id": "452482a7-70b5-48b5-82fc-0f6513673de5",
   "metadata": {
    "tags": []
   },
   "source": [
    "## [`SnakeViz`](https://jiffyclub.github.io/snakeviz/)\n",
    "\n",
    "`SnakeViz` visualises the output from `cProfile` in nice interactive plots.\n",
    "\n",
    "`cProfile` is part of the Python standard library.\n",
    "\n",
    "It's a deterministic profiler of wallclock time (giving the same output for the same input).\n",
    "\n",
    "However, the output has lots of tabular information that isn't ideal. Every function call gets measured in seconds (each row).\n",
    "\n",
    "For example:"
   ]
  },
  {
   "cell_type": "code",
   "execution_count": null,
   "id": "2c761faa-9cea-4631-b107-97f36c8db947",
   "metadata": {},
   "outputs": [],
   "source": [
    "import cProfile"
   ]
  },
  {
   "cell_type": "code",
   "execution_count": null,
   "id": "d8b10e06-cbb9-4c26-948a-e118a64b6d4d",
   "metadata": {},
   "outputs": [],
   "source": [
    "cProfile.run('some_function()')"
   ]
  },
  {
   "cell_type": "markdown",
   "id": "b7315479-2804-4ca2-a917-19a78cb496ee",
   "metadata": {},
   "source": [
    "Visualising this output in `SnakeViz` is nicer.\n",
    "\n",
    "You can switch between the two styles using the \"Style\" dropdown.\n",
    "\n",
    "### Style: Icicle\n",
    "\n",
    "- Functions are represented by rectangles.\n",
    "- The root function is the _top-most rectangle_, with functions it calls below it, then the functions those call below them, and so on.\n",
    "- The amount of time spent inside a function is represented by the width of the rectangle.\n",
    "    - A big rectangle that stretches across most of the visualization represents a function that is taking up most of the time of its calling function, while a small rectangle represents a function that is using hardly any time at all.\n",
    "\n",
    "### Style: Sunburst\n",
    "\n",
    "- Functions are represented by arcs.\n",
    "- The root function is the _centre circle_, with functions it calls around, then the functions those functions call, and so on. \n",
    "- The amount of time spent inside a function is represented by how far around the circle the arc goes.\n",
    "    - An big arc that wraps most of the way around the circle represents a function that is taking up most of the time of its calling function, while a small arc represents a function that is using hardly any time at all."
   ]
  },
  {
   "cell_type": "code",
   "execution_count": null,
   "id": "f7ca3dec-e4cf-4224-bb53-bc574d3c12e9",
   "metadata": {},
   "outputs": [],
   "source": [
    "%load_ext snakeviz"
   ]
  },
  {
   "cell_type": "code",
   "execution_count": null,
   "id": "7b40c61a-2567-4f4c-af36-5a74dbb32687",
   "metadata": {},
   "outputs": [],
   "source": [
    "%%snakeviz\n",
    "some_function()"
   ]
  },
  {
   "cell_type": "markdown",
   "id": "dbf4c5cc-bc45-4175-a817-24cc92026ad3",
   "metadata": {},
   "source": [
    "Note, `SnakeViz` doesn't currently work with Colab ([issue](https://github.com/jiffyclub/snakeviz/issues/164))."
   ]
  },
  {
   "cell_type": "markdown",
   "id": "e0bb8bdf-622b-4df7-bf82-5dbdcf16ead0",
   "metadata": {},
   "source": [
    "## [`pyinstrument`](https://pyinstrument.readthedocs.io/en/latest/)\n",
    "\n",
    "A statistical profiler of wall-clock time (recording the call stack every 1ms), lowering the overhead compared to tracing profilers (like `cProfile`).\n",
    "\n",
    "It hides library frames and fast functions, so you can focus on the slow parts of your code.\n",
    "\n",
    "The output shows a tree of actions of *how* the function executes, using a traffic light colour legend (i.e., red = slow)."
   ]
  },
  {
   "cell_type": "code",
   "execution_count": null,
   "id": "c8a93895-c394-4485-a567-0f59aad35ad6",
   "metadata": {},
   "outputs": [],
   "source": [
    "%load_ext pyinstrument"
   ]
  },
  {
   "cell_type": "code",
   "execution_count": null,
   "id": "96600a3d-27a5-4632-9a20-beae74cf5d39",
   "metadata": {},
   "outputs": [],
   "source": [
    "%%pyinstrument\n",
    "some_function()"
   ]
  },
  {
   "cell_type": "markdown",
   "id": "dac65adf-de3c-4cf6-8fa0-52bb409bc4e3",
   "metadata": {},
   "source": [
    "## [`Eliot`](https://eliot.readthedocs.io/en/stable/index.html)\n",
    "\n",
    "Logs the performance information. \n",
    "\n",
    "It tracks each function called, its arguments, the return values, and any rasied exceptions.\n",
    "\n",
    "Hence, it can be helpful for profiling in real use cases.\n",
    "\n",
    "Note, that this logging has a higher overhead than `cProfile`.\n",
    "\n",
    "It works by using decorators, which are a nice way for functions to return other functions.\n",
    "\n",
    "For example, here is one that logs calls to a function:"
   ]
  },
  {
   "cell_type": "code",
   "execution_count": null,
   "id": "c96dc758-f536-4590-8d0c-8a4304adb8b8",
   "metadata": {},
   "outputs": [],
   "source": [
    "def log_calls(function):\n",
    "    \n",
    "    def wrapper():\n",
    "        name = function.__name__\n",
    "        \n",
    "        print(f'Before {name} was called ...')\n",
    "        function()\n",
    "        print(f'After {name} was called ...')\n",
    "        \n",
    "    return wrapper"
   ]
  },
  {
   "cell_type": "markdown",
   "id": "9a0bc9f4-3188-444e-af51-11cfc8fff298",
   "metadata": {},
   "source": [
    "Calling this returns a function:"
   ]
  },
  {
   "cell_type": "code",
   "execution_count": null,
   "id": "9937156f-1092-4d12-a04c-cae4db4ff002",
   "metadata": {},
   "outputs": [],
   "source": [
    "log_calls(some_function)"
   ]
  },
  {
   "cell_type": "markdown",
   "id": "216425cf-f9e1-40aa-9484-92aec032e560",
   "metadata": {},
   "source": [
    "So, to execute it we add `()`:"
   ]
  },
  {
   "cell_type": "code",
   "execution_count": null,
   "id": "8a8d6b72-77ce-4a79-be8f-7836cd743599",
   "metadata": {},
   "outputs": [],
   "source": [
    "log_calls(some_function)()"
   ]
  },
  {
   "cell_type": "markdown",
   "id": "ad641bba-ff0c-486f-bc4f-c41f50e25f67",
   "metadata": {},
   "source": [
    "The `@wrapper` syntax is a nice way to return this same result, where the outer function is placed above the inner function:"
   ]
  },
  {
   "cell_type": "code",
   "execution_count": null,
   "id": "49027e96-0e9d-4ff5-8392-7d25f48a6057",
   "metadata": {},
   "outputs": [],
   "source": [
    "@log_calls\n",
    "def some_function_with_logging():\n",
    "    some_function()"
   ]
  },
  {
   "cell_type": "code",
   "execution_count": null,
   "id": "f7df5af4-a7fd-4de5-8359-70147d86a504",
   "metadata": {},
   "outputs": [],
   "source": [
    "some_function_with_logging()"
   ]
  },
  {
   "cell_type": "markdown",
   "id": "898cacc4-43b7-4057-ae79-4b6581270745",
   "metadata": {},
   "source": [
    "Okay, so now we can use the `@eliot.log_call` decorator to profile a function:"
   ]
  },
  {
   "cell_type": "code",
   "execution_count": null,
   "id": "2d5f0fbe-6ff5-4463-bbee-1391bd5936e7",
   "metadata": {},
   "outputs": [],
   "source": [
    "import eliot"
   ]
  },
  {
   "cell_type": "code",
   "execution_count": null,
   "id": "a2ee4034-d27c-46c0-8ff6-dd2a90a627fd",
   "metadata": {},
   "outputs": [],
   "source": [
    "def bottleneck():\n",
    "    time.sleep(0.5)\n",
    "\n",
    "@eliot.log_call\n",
    "def multiply(x, y):\n",
    "    bottleneck()\n",
    "    return x * y\n",
    "\n",
    "@eliot.log_call\n",
    "def add(x, y):\n",
    "    return x + y\n",
    "\n",
    "# tell eliot where to log the output messages\n",
    "eliot.to_file(open('profiling_some_function.log', 'a'))\n",
    "result = multiply(add(3, 4), add(5, 6))"
   ]
  },
  {
   "cell_type": "code",
   "execution_count": null,
   "id": "f06fd33e-83c0-4bdb-9a86-83135b545cdb",
   "metadata": {},
   "outputs": [],
   "source": [
    "!eliot-tree profiling_some_function.log"
   ]
  },
  {
   "cell_type": "markdown",
   "id": "b9a55c68-fb4d-42c9-a2df-d5efcbe55f11",
   "metadata": {},
   "source": [
    "[Aside: Visualising how functions work in Python](https://pythontutor.com/composingprograms.html#code=def%20multiply%28x,%20y%29%3A%0A%20%20%20%20return%20x%20*%20y%0A%0Adef%20add%28x,%20y%29%3A%0A%20%20%20%20return%20x%20%2B%20y%0A%0Amultiply%28add%283,%204%29,%20add%285,%206%29%29&cumulative=true&curInstr=0&mode=display&origin=composingprograms.js&py=3&rawInputLstJSON=%5B%5D)"
   ]
  },
  {
   "cell_type": "markdown",
   "id": "42a7146e-bc2d-4078-b65e-b6b983d588e1",
   "metadata": {},
   "source": [
    "## Exercise\n",
    "\n",
    "..."
   ]
  },
  {
   "cell_type": "code",
   "execution_count": null,
   "id": "3fd726f4-e429-430a-a05d-ad7be409172f",
   "metadata": {},
   "outputs": [],
   "source": []
  },
  {
   "cell_type": "markdown",
   "id": "d73bcbb5-e4c3-4032-b7af-8fd24d9e19e9",
   "metadata": {
    "tags": []
   },
   "source": [
    "## Further information\n",
    "\n",
    "### Other options\n",
    "\n",
    "- [`VizTracer`](https://github.com/gaogaotiantian/viztracer)\n",
    "  - A low-overhead logging/debugging/profiling tool that can trace and visualize your python code execution.\n",
    "- [Using `eliot` with Dask](https://eliot.readthedocs.io/en/stable/scientific-computing.html)\n",
    "- [Profile parallel code with Dask](https://docs.dask.org/en/latest/diagnostics-local.html#example)  \n",
    "\n",
    "#### Memory profiling\n",
    "\n",
    "- [`memory_profiler`](https://github.com/pythonprofilers/memory_profiler)\n",
    "  - Measures the memory used by a function, at its peak and the overall increment.\n",
    "  \n",
    "### Resources\n",
    "\n",
    "- [Beyond `cProfile`: Choosing the right tool for performance optimization](https://pythonspeed.com/articles/beyond-cprofile/)"
   ]
  }
 ],
 "metadata": {
  "interpreter": {
   "hash": "b1ffad78e3b53a26aeabe29bd69865e9fcde2eed64638bf28084d4e5d53534f3"
  },
  "kernelspec": {
   "display_name": "Python 3",
   "language": "python",
   "name": "python3"
  },
  "language_info": {
   "codemirror_mode": {
    "name": "ipython",
    "version": 3
   },
   "file_extension": ".py",
   "mimetype": "text/x-python",
   "name": "python",
   "nbconvert_exporter": "python",
   "pygments_lexer": "ipython3",
   "version": "3.9.7"
  }
 },
 "nbformat": 4,
 "nbformat_minor": 5
}
