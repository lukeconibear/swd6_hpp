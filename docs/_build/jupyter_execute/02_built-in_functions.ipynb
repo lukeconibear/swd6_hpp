{
 "cells": [
  {
   "cell_type": "markdown",
   "id": "591316ac-72a9-4d80-8220-0267b16f1358",
   "metadata": {},
   "source": [
    "# Built-in functions"
   ]
  },
  {
   "cell_type": "markdown",
   "id": "94351edd-5d8b-4a0b-b552-aa2eefecef88",
   "metadata": {},
   "source": [
    "<table align=\"left\">\n",
    "\n",
    "  <td>\n",
    "    <a href=\"https://colab.research.google.com/github/lukeconibear/swd6_hpp/blob/main/docs/02_build-it_functions.ipynb\" target=\"_parent\"><img src=\"https://colab.research.google.com/assets/colab-badge.svg\" alt=\"Open In Colab\"/></a>\n",
    "  </td>\n",
    "\n",
    "</table>"
   ]
  },
  {
   "cell_type": "markdown",
   "id": "5b5e4991-2286-4c93-b9cc-2a08e7511ddc",
   "metadata": {},
   "source": [
    "___\n",
    "\n",
    "[Built-in functions](https://docs.python.org/3/library/functions.html) are optimised in C (statically typed and compiled)."
   ]
  },
  {
   "cell_type": "markdown",
   "id": "daae1cfb-6ea0-4942-85d4-4a61abb99459",
   "metadata": {},
   "source": [
    "## [`len`](https://docs.python.org/3/library/functions.html#len)"
   ]
  },
  {
   "cell_type": "code",
   "execution_count": 1,
   "id": "f563c49a-3dd3-435e-9ef5-9df8a55d3a65",
   "metadata": {},
   "outputs": [],
   "source": [
    "nums = [num for num in range(1_000_000)]"
   ]
  },
  {
   "cell_type": "code",
   "execution_count": 2,
   "id": "79cb72e1-870f-46df-a655-d88ef66dc114",
   "metadata": {},
   "outputs": [
    {
     "name": "stdout",
     "output_type": "stream",
     "text": [
      "478 ms ± 102 ms per loop (mean ± std. dev. of 7 runs, 1 loop each)\n"
     ]
    }
   ],
   "source": [
    "%%timeit\n",
    "count = 0\n",
    "for num in nums: # time O(n)\n",
    "    count += 1"
   ]
  },
  {
   "cell_type": "code",
   "execution_count": 3,
   "id": "e81f47a5-eb1e-41ba-89af-2eb3c1e0a4e8",
   "metadata": {},
   "outputs": [
    {
     "name": "stdout",
     "output_type": "stream",
     "text": [
      "356 ns ± 279 ns per loop (mean ± std. dev. of 7 runs, 1000000 loops each)\n"
     ]
    }
   ],
   "source": [
    "%timeit len(nums) # time O(1)"
   ]
  },
  {
   "cell_type": "code",
   "execution_count": null,
   "id": "3448c0b1-1016-4c76-92ba-23775064efc3",
   "metadata": {},
   "outputs": [],
   "source": []
  }
 ],
 "metadata": {
  "kernelspec": {
   "display_name": "swd6_hpp",
   "language": "python",
   "name": "swd6_hpp"
  },
  "language_info": {
   "codemirror_mode": {
    "name": "ipython",
    "version": 3
   },
   "file_extension": ".py",
   "mimetype": "text/x-python",
   "name": "python",
   "nbconvert_exporter": "python",
   "pygments_lexer": "ipython3",
   "version": "3.9.7"
  }
 },
 "nbformat": 4,
 "nbformat_minor": 5
}