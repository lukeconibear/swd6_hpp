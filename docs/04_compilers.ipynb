{
 "cells": [
  {
   "cell_type": "markdown",
   "id": "e959b40e-a651-404d-aee8-f23870af2e9c",
   "metadata": {},
   "source": [
    "# Compilers"
   ]
  },
  {
   "cell_type": "markdown",
   "id": "8aa45220-a638-4a4d-8fe1-f78e67007ea9",
   "metadata": {},
   "source": [
    "[![Open in Colab](https://colab.research.google.com/assets/colab-badge.svg)](https://colab.research.google.com/github/lukeconibear/swd6_hpp/blob/main/docs/05_compilers.ipynb)"
   ]
  },
  {
   "cell_type": "markdown",
   "id": "0f76a704-552e-4e76-9209-d8aba17057db",
   "metadata": {},
   "source": [
    "## [CPython](https://www.python.org/)\n",
    "\n",
    "The main Python distribution.\n",
    "\n",
    "Uses an Ahead-Of-Time (AOT) compiler i.e., the code was compiled in advance.\n",
    "\n",
    "This was as an assortment of statically compiled C extensions.\n",
    "\n",
    "CPython is a general purpose interpreter, allowing it to work on a variety of problems.\n",
    "\n",
    "It is dynamically typed, so types can change as you go e.g., `x = 5`, then later `x = 'gary'`."
   ]
  },
  {
   "cell_type": "markdown",
   "id": "7226fa6c-aa30-47d0-99b4-475adfab7b24",
   "metadata": {},
   "source": [
    "## [Numba](http://numba.pydata.org/)\n",
    "\n",
    "Uses JIT (just-in-time) compiler on functions i.e., compile the function at execution time.\n",
    "\n",
    "This converts it to fast machine code ([LLVM](https://en.wikipedia.org/wiki/LLVM)).\n",
    "\n",
    "Numba works with the default CPython.\n",
    "\n",
    "It uses decorators around functions.\n",
    "\n",
    "There are two main modes:\n",
    "- [`nopython`](https://numba.readthedocs.io/en/stable/glossary.html#term-nopython-mode) mode: `@jit(nopython=True)`, `@njit`, [`@vectorize`](https://numba.pydata.org/numba-doc/latest/user/vectorize.html)\n",
    "    - Compiles code that does not access CPython.\n",
    "    - Highest performance.\n",
    "    - Requires specific types (mainly numbers), otherwise returns error.\n",
    "    - Recommended.\n",
    "- [`object`](https://numba.readthedocs.io/en/stable/glossary.html#term-object-mode) mode: [`@jit`](https://numba.readthedocs.io/en/stable/user/jit.html)\n",
    "    - Compiles code that handles all values as Python objects and uses CPython to work on those objects.\n",
    "    - `@jit` first tries to use `nopython` mode, and if it fails uses `object` mode.\n",
    "    - Main improvement over CPython is for loops.\n",
    "\n",
    "Numba is helpful when want to speed up numerical opterations in specific functions.  \n",
    "\n",
    "Here are some examples for [NumPy](https://numba.pydata.org/numba-doc/dev/reference/numpysupported.html) and [Pandas](https://pandas.pydata.org/pandas-docs/stable/user_guide/enhancingperf.html#numba-jit-compilation)."
   ]
  },
  {
   "cell_type": "code",
   "execution_count": 1,
   "id": "e3fe07c7-ddb3-457b-926a-846182d047d4",
   "metadata": {},
   "outputs": [],
   "source": [
    "import numpy as np\n",
    "from numba import njit, vectorize"
   ]
  },
  {
   "cell_type": "code",
   "execution_count": 2,
   "id": "86ab87f6-c63e-4a87-afa9-84afd3ea9a4b",
   "metadata": {},
   "outputs": [],
   "source": [
    "nums = np.arange(1_000_000)"
   ]
  },
  {
   "cell_type": "code",
   "execution_count": 3,
   "id": "d2880a2f-474e-4f76-96b2-18e732b63a5d",
   "metadata": {},
   "outputs": [],
   "source": [
    "def super_function(nums):\n",
    "    trace = 0.0\n",
    "    for num in nums: # loop\n",
    "        trace += np.cos(num) # numpy\n",
    "    return nums + trace # broadcasting"
   ]
  },
  {
   "cell_type": "code",
   "execution_count": 4,
   "id": "bc13dda5-b28a-45ba-811f-5b19efd47541",
   "metadata": {},
   "outputs": [
    {
     "name": "stdout",
     "output_type": "stream",
     "text": [
      "965 ms ± 113 ms per loop (mean ± std. dev. of 7 runs, 1 loop each)\n"
     ]
    }
   ],
   "source": [
    "%timeit super_function(nums)"
   ]
  },
  {
   "cell_type": "code",
   "execution_count": 9,
   "id": "813e0666-4516-483f-bb94-ffbce61a3b1c",
   "metadata": {},
   "outputs": [],
   "source": [
    "@njit # numba decorator\n",
    "def super_function(nums):\n",
    "    trace = 0.0\n",
    "    for num in nums: # loop\n",
    "        trace += np.cos(num) # numpy\n",
    "    return nums + trace # broadcasting"
   ]
  },
  {
   "cell_type": "markdown",
   "id": "db5b57c0-adee-4c40-862a-894730bf15d7",
   "metadata": {},
   "source": [
    "The first call of the expression has an overhead to compile the function."
   ]
  },
  {
   "cell_type": "code",
   "execution_count": 10,
   "id": "71903154-46f8-4378-8396-938a70e49794",
   "metadata": {},
   "outputs": [
    {
     "name": "stdout",
     "output_type": "stream",
     "text": [
      "152 ms ± 0 ns per loop (mean ± std. dev. of 1 run, 1 loop each)\n"
     ]
    }
   ],
   "source": [
    "%%timeit -n 1 -r 1\n",
    "super_function(nums)"
   ]
  },
  {
   "cell_type": "markdown",
   "id": "0f3fee17-da48-4faa-b535-6b57b5bc552a",
   "metadata": {},
   "source": [
    "All subsequent calls use this compiled version, and are therefore much faster."
   ]
  },
  {
   "cell_type": "code",
   "execution_count": 11,
   "id": "82098da6-655c-4d0f-9926-239e2a2d9da1",
   "metadata": {},
   "outputs": [
    {
     "name": "stdout",
     "output_type": "stream",
     "text": [
      "11.4 ms ± 0 ns per loop (mean ± std. dev. of 1 run, 1 loop each)\n"
     ]
    }
   ],
   "source": [
    "%%timeit -n 1 -r 1\n",
    "super_function(nums)"
   ]
  },
  {
   "cell_type": "markdown",
   "id": "37196609-daeb-4122-9c63-1d45cbd1bc48",
   "metadata": {},
   "source": [
    "## Exercise\n",
    "\n",
    "..."
   ]
  },
  {
   "cell_type": "markdown",
   "id": "71ec8c44-4ca3-4ee1-bac3-fc788b771946",
   "metadata": {},
   "source": [
    "## Further information\n",
    "\n",
    "### Other options\n",
    "\n",
    "- [Cython](https://cython.org/)\n",
    "  - *Compiles to statically typed C/C++*.\n",
    "  - Use for any amount of code.\n",
    "  - Use with the default CPython.\n",
    "  - Helpful when need static typing and optimising libraries.  \n",
    "  - Examples [not using IPython](https://cython.readthedocs.io/en/latest/src/quickstart/build.html#building-a-cython-module-using-setuptools), [NumPy](https://cython.readthedocs.io/en/latest/src/tutorial/numpy.html), [Pandas](https://pandas.pydata.org/pandas-docs/stable/user_guide/enhancingperf.html).\n",
    "- [PyPy](https://www.pypy.org/)\n",
    "  - *Just−In−Time (JIT) compiler (written in Python).*\n",
    "  - Enables optimisations at run time, especially for numerical tasks with repitition and loops.\n",
    "  - Replaces CPython.\n",
    "  - Faster, though overheads for start-up and memory.\n",
    "  - Helpful when want to speed up numerical opterations in all of code. \n",
    "  - May not be [compatible](http://packages.pypy.org/) with the libraries you use.\n",
    "\n",
    "### Resources\n",
    "\n",
    "- [Why is Python slow?](https://youtu.be/I4nkgJdVZFA), Anthony Shaw, PyCon 2020. [CPython Internals](https://realpython.com/products/cpython-internals-book/)."
   ]
  },
  {
   "cell_type": "code",
   "execution_count": null,
   "id": "18537ec4-1f09-4d7b-afaf-5b6cf25646bd",
   "metadata": {},
   "outputs": [],
   "source": []
  }
 ],
 "metadata": {
  "interpreter": {
   "hash": "b1ffad78e3b53a26aeabe29bd69865e9fcde2eed64638bf28084d4e5d53534f3"
  },
  "kernelspec": {
   "display_name": "Python 3 (ipykernel)",
   "language": "python",
   "name": "python3"
  },
  "language_info": {
   "codemirror_mode": {
    "name": "ipython",
    "version": 3
   },
   "file_extension": ".py",
   "mimetype": "text/x-python",
   "name": "python",
   "nbconvert_exporter": "python",
   "pygments_lexer": "ipython3",
   "version": "3.9.7"
  }
 },
 "nbformat": 4,
 "nbformat_minor": 5
}
