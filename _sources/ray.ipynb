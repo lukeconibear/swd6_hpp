{
 "cells": [
  {
   "cell_type": "markdown",
   "id": "bbfc3ed1-8023-4df3-9a28-41e353d29320",
   "metadata": {},
   "source": [
    "Ray will automatically detect the available GPUs and CPUs on the machine.\n",
    "- Can also [specify required resources](https://docs.ray.io/en/latest/walkthrough.html#specifying-required-resources).  \n",
    "\n",
    "\n",
    "include modin for pandas\n",
    "\n",
    "Remote function\n",
    "- Convert regular Python function to Remote function by adding `@ray.remote` decorator  \n",
    "- Then use `.remote()` method  \n",
    "- Retrieved with `ray.get(object)`  \n",
    "\n",
    "\n"
   ]
  },
  {
   "cell_type": "code",
   "execution_count": null,
   "id": "75053e53-2428-4072-b153-d8b1331b3478",
   "metadata": {},
   "outputs": [],
   "source": [
    "Uses "
   ]
  },
  {
   "cell_type": "code",
   "execution_count": 1,
   "id": "cdf814fc-3362-4175-ac52-c98024d6a9a3",
   "metadata": {},
   "outputs": [
    {
     "name": "stderr",
     "output_type": "stream",
     "text": [
      "/nfs/b0122/Users/earlacoa/miniconda3/envs/swd6_hpp/lib/python3.9/site-packages/redis/connection.py:72: UserWarning: redis-py works best with hiredis. Please consider installing\n",
      "  warnings.warn(msg)\n"
     ]
    }
   ],
   "source": [
    "import ray"
   ]
  },
  {
   "cell_type": "code",
   "execution_count": null,
   "id": "e218dcf0-2a6a-460b-a013-8717c5aade4b",
   "metadata": {},
   "outputs": [],
   "source": []
  }
 ],
 "metadata": {
  "kernelspec": {
   "display_name": "swd6_hpp",
   "language": "python",
   "name": "swd6_hpp"
  },
  "language_info": {
   "codemirror_mode": {
    "name": "ipython",
    "version": 3
   },
   "file_extension": ".py",
   "mimetype": "text/x-python",
   "name": "python",
   "nbconvert_exporter": "python",
   "pygments_lexer": "ipython3",
   "version": "3.9.7"
  }
 },
 "nbformat": 4,
 "nbformat_minor": 5
}
