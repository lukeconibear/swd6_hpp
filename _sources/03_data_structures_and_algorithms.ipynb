{
 "cells": [
  {
   "cell_type": "markdown",
   "id": "9698fc7e-86fb-4f7e-bcc2-0a064277c161",
   "metadata": {},
   "source": [
    "# Data structures and algorithms"
   ]
  },
  {
   "cell_type": "markdown",
   "id": "8e831c73-095d-4ab4-a2bf-fcbb1442ac70",
   "metadata": {},
   "source": [
    "## [Data structures](https://docs.python.org/3/library/datatypes.html)\n",
    "- [Common](https://docs.python.org/3/tutorial/datastructures.html) and [additional data structures](https://docs.python.org/3/library/collections.html)."
   ]
  },
  {
   "cell_type": "markdown",
   "id": "cd43f4dd-ed22-4d8c-96a5-a6c817061888",
   "metadata": {},
   "source": [
    "### [Lists](https://docs.python.org/3/tutorial/datastructures.html#more-on-lists)\n",
    "- Append to lists, rather than concatenating.  \n",
    "- *Lists are allocated twice the memory required, so appending fills this up in O(1) (long-term average), while concatenating creates a new list each time in O(n).*\n"
   ]
  },
  {
   "cell_type": "code",
   "execution_count": null,
   "id": "dac03c79-dd8c-44ba-806e-a7e457a9df1c",
   "metadata": {},
   "outputs": [],
   "source": [
    "%%timeit\n",
    "my_list = []\n",
    "for num in range(1_000):\n",
    "    my_list += [num] # time O(n)"
   ]
  },
  {
   "cell_type": "code",
   "execution_count": null,
   "id": "b6e2ea35-c056-4284-81e4-a2cfadf52da5",
   "metadata": {},
   "outputs": [],
   "source": [
    "%%timeit\n",
    "my_list = []\n",
    "for num in range(1_000):\n",
    "    my_list.append(num) # time O(1)"
   ]
  },
  {
   "cell_type": "markdown",
   "id": "bce4aea0-8975-44a6-8720-596d2001b7d6",
   "metadata": {},
   "source": [
    "### [Dictionaries](https://docs.python.org/3/tutorial/datastructures.html#dictionaries)\n",
    "- Fast to search, O(1).  \n",
    "\n",
    "*Example from Luciano Ramalho, [Fluent Python, Clear, Concise, and Effective Programming](https://www.oreilly.com/library/view/fluent-python/9781491946237/), 2015. O'Reilly Media, Inc.*"
   ]
  },
  {
   "cell_type": "code",
   "execution_count": 4,
   "id": "6883f471-e94e-45e9-be02-46d7afe112b9",
   "metadata": {},
   "outputs": [],
   "source": [
    "import numpy as np"
   ]
  },
  {
   "cell_type": "code",
   "execution_count": 5,
   "id": "d1101ea6-57e3-48f5-ae2e-4d40ab0b13be",
   "metadata": {},
   "outputs": [],
   "source": [
    "haystack_list = np.random.uniform(low=0, high=100, size=(1_000_000))\n",
    "\n",
    "haystack_dict = {key: value for key, value in enumerate(haystack_list)}\n",
    "\n",
    "needles = [0.1, 50.1, 99.1]"
   ]
  },
  {
   "cell_type": "code",
   "execution_count": 6,
   "id": "50ccae52-8233-4a80-a533-416c9704bdd8",
   "metadata": {},
   "outputs": [
    {
     "name": "stdout",
     "output_type": "stream",
     "text": [
      "1.08 ms ± 35.3 µs per loop (mean ± std. dev. of 7 runs, 1000 loops each)\n"
     ]
    }
   ],
   "source": [
    "%%timeit\n",
    "needles_found = 0\n",
    "for needle in needles:\n",
    "    if needle in haystack_list: # time O(n) within list\n",
    "        needles_found += 1"
   ]
  },
  {
   "cell_type": "code",
   "execution_count": 7,
   "id": "a20cbc8f-c4c3-4f17-9ad8-178841a28ce8",
   "metadata": {},
   "outputs": [
    {
     "name": "stdout",
     "output_type": "stream",
     "text": [
      "188 ns ± 0.151 ns per loop (mean ± std. dev. of 7 runs, 1000000 loops each)\n"
     ]
    }
   ],
   "source": [
    "%%timeit\n",
    "needles_found = 0\n",
    "for needle in needles:\n",
    "    if needle in haystack_dict: # time O(1) within dict\n",
    "        needles_found += 1"
   ]
  },
  {
   "cell_type": "markdown",
   "id": "c8cf9093-6398-463f-b875-93e1aba1baf2",
   "metadata": {},
   "source": [
    "- Many more [examples](https://www.bigocheatsheet.com/) e.g.:\n",
    "  - Generators save memory by yielding only the next iteration.\n",
    "  - Memory usage for floats/integers of 16 bit < 32 bit < 64 bit.\n",
    "  - For NetCDFs, using [`engine='h5netcdf'`](https://github.com/shoyer/h5netcdf) with `xarray` can be faster, over than the default [`engine='netcdf4'`](https://github.com/Unidata/netcdf4-python).  \n",
    "  - *[Compression](https://youtu.be/8pFnrr0NnwY)*: If arrays are mostly 0, then can save memory using [sparse arrays](https://sparse.pydata.org/en/stable/quickstart.html).\n",
    "  - *[Chunking](https://youtu.be/8pFnrr0NnwY)*: If need all data, then can load/process in chunks to reduce amount in memory: [Zarr](https://zarr.readthedocs.io/en/stable/) for arrays, [Pandas](https://pythonspeed.com/articles/chunking-pandas/).\n",
    "  - *[Indexing](https://youtu.be/8pFnrr0NnwY)*: If need a subset of the data, then can index (multi-index) to reduce memory and increase speed for queries: [Pandas](https://pythonspeed.com/articles/indexing-pandas-sqlite/), [SQLite](https://docs.python.org/3/library/sqlite3.html)."
   ]
  },
  {
   "cell_type": "markdown",
   "id": "ade5c419-e87b-45ae-a9d6-7cee7248f68f",
   "metadata": {},
   "source": [
    "### Reduce repeated calculations with [caching](https://realpython.com/lru-cache-python/)\n",
    "- e.g. [Fibonacci sequence](https://en.wikipedia.org/wiki/Fibonacci_number) (each number is the sum of the two preceding ones starting from 0 and 1 e.g. 0, 1, 1, 2, 3, 5, 8, 13, 21, 34)."
   ]
  },
  {
   "cell_type": "code",
   "execution_count": null,
   "id": "9f552e55-b9f2-4aaf-8f67-002657435b70",
   "metadata": {},
   "outputs": [],
   "source": [
    "def fibonacci(n): # time O(2^n) as 2 calls to the function n times (a balanced tree of repeated calls)\n",
    "    if n == 0 or n == 1:\n",
    "        return 0\n",
    "    elif n == 2:\n",
    "        return 1\n",
    "    else:\n",
    "        return fibonacci(n - 1) + fibonacci(n - 2)"
   ]
  },
  {
   "cell_type": "code",
   "execution_count": null,
   "id": "ac61ea2d-cd7a-4583-b459-cdb1475a71f3",
   "metadata": {},
   "outputs": [],
   "source": [
    "%timeit fibonacci(20)"
   ]
  },
  {
   "cell_type": "code",
   "execution_count": null,
   "id": "35407a52-c1f3-4f99-abea-a6330dd146c0",
   "metadata": {},
   "outputs": [],
   "source": [
    "def fibonacci_with_caching(n, cache={0: 0, 1: 0, 2: 1}): # time O(n) as 1 call per n\n",
    "    if n in cache:\n",
    "        return cache[n]\n",
    "    else:\n",
    "        cache[n] = fibonacci_with_caching(n - 1, cache) + fibonacci_with_caching(n - 2, cache)\n",
    "        return cache[n]"
   ]
  },
  {
   "cell_type": "code",
   "execution_count": null,
   "id": "4bcb40cb-5542-4d46-a52c-c07be5b09ff5",
   "metadata": {},
   "outputs": [],
   "source": [
    "%timeit fibonacci_with_caching(20, cache={0: 0, 1: 0, 2: 1})"
   ]
  },
  {
   "cell_type": "markdown",
   "id": "7c8ca115-c7dc-4c42-8cb9-fbee4c5a137c",
   "metadata": {},
   "source": [
    "### [Lazy loading](https://xarray.pydata.org/en/v0.16.2/dask.html) and [execution](https://tutorial.dask.org/01x_lazy.html)\n",
    "- Lazily loads metadata only, rather than eagerly loading data into memory.\n",
    "- Creates task graph of scheduled work awaiting execution (`.compute()`)."
   ]
  },
  {
   "cell_type": "code",
   "execution_count": null,
   "id": "e8ab9784-288f-4956-a8d1-a8349cc639a2",
   "metadata": {},
   "outputs": [],
   "source": [
    "xr.tutorial.open_dataset('air_temperature')"
   ]
  },
  {
   "cell_type": "markdown",
   "id": "ff646131-2f70-4355-945d-be015ef5c9a0",
   "metadata": {},
   "source": [
    "### Suitable data types for parallel computing\n",
    "- [Parquet](https://examples.dask.org/dataframes/01-data-access.html#Write-to-Parquet) creates efficient tabular data (e.g. dataframes), useful for parallel computing.\n",
    "  - Accessed via [pyarrow](https://arrow.apache.org/docs/python/install.html).\n",
    "- [Zarr](https://zarr.readthedocs.io/en/stable/) creates compressed, chunked, N-dimensional arrays, designed for use in parallel computing."
   ]
  },
  {
   "cell_type": "markdown",
   "id": "97d8f15a-75fc-4808-af56-a2ccdcd6d155",
   "metadata": {
    "jp-MarkdownHeadingCollapsed": true,
    "tags": []
   },
   "source": [
    "## Algorithms\n",
    "- The instructions to solve the problem.\n",
    "  - Free MIT course on '*Introduction to algorithms*', [video lectures](https://youtube.com/playlist?list=PLUl4u3cNGP61Oq3tWYp6V_F-5jb5L2iHb).\n",
    "- Many existing libraries are already optimised (computationally and algorithmically).\n",
    "  - [Minimal examples of data structures and algorithms in Python](https://github.com/keon/algorithms).\n",
    "  - e.g. [Find multiple strings in a text](https://pythonspeed.com/articles/do-you-need-cluster-or-multiprocessing/).\n",
    "    - [Aho-Corasick algorithm](https://github.com/WojciechMula/pyahocorasick), 25x faster than using regex naively."
   ]
  },
  {
   "cell_type": "markdown",
   "id": "c7fa64b2-519a-44cb-8083-9a635d90de41",
   "metadata": {},
   "source": [
    "## Further information\n",
    "[LeetCode](https://leetcode.com)  \n",
    "[AlgoExpert](https://www.algoexpert.io/product)"
   ]
  },
  {
   "cell_type": "code",
   "execution_count": null,
   "id": "2ae6e359-b5b1-472d-901e-87540b03e3da",
   "metadata": {},
   "outputs": [],
   "source": []
  }
 ],
 "metadata": {
  "kernelspec": {
   "display_name": "swd6_hpp",
   "language": "python",
   "name": "swd6_hpp"
  },
  "language_info": {
   "codemirror_mode": {
    "name": "ipython",
    "version": 3
   },
   "file_extension": ".py",
   "mimetype": "text/x-python",
   "name": "python",
   "nbconvert_exporter": "python",
   "pygments_lexer": "ipython3",
   "version": "3.9.7"
  }
 },
 "nbformat": 4,
 "nbformat_minor": 5
}
