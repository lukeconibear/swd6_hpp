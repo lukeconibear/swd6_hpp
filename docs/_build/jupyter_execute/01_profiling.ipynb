{
 "cells": [
  {
   "cell_type": "markdown",
   "id": "c24c725f-0aed-4b26-b2c0-6e02de0ad324",
   "metadata": {},
   "source": [
    "# Profiling"
   ]
  },
  {
   "cell_type": "markdown",
   "id": "618f4195-eff8-44a9-8ffc-e600ccb9d85c",
   "metadata": {},
   "source": [
    "[Profiling](https://jakevdp.github.io/PythonDataScienceHandbook/01.07-timing-and-profiling.html) analyses your in terms of speed and/or memory. This can help identify where the bottlenecks are and how much potential there is for improvement.\n",
    "\n",
    "\n",
    "Speed\n",
    "  - [`line_profiler`](https://github.com/pyutils/line_profiler)\n",
    "    - [IPython magic](https://jakevdp.github.io/PythonDataScienceHandbook/01.03-magic-commands.html) (Jupyter Lab)\n",
    "      - Line: `%timeit`\n",
    "      - Cell: `%%timeit`\n",
    "      - If `pip install line_profiler`:\n",
    "        - First load module: `%load_ext line_profiler`\n",
    "        - Scripts: `%prun`\n",
    "        - Line-by-line: `%lprun`\n",
    "          - `@profile` decorator around the function\n",
    "          \n",
    "          \n",
    "Memory\n",
    "  - [`memory_profiler`](https://github.com/pythonprofilers/memory_profiler)\n",
    "    - If `pip install memory_profiler`:\n",
    "    - First load module:\n",
    "      - `%load_ext memory_profiler`\n",
    "      - Line: `%memit`\n",
    "      - Cell: `%%memit`\n",
    "      - Line-by-line: `%mprun`\n",
    "- [Profile parallel code](#Profile-parallel-code)"
   ]
  },
  {
   "cell_type": "code",
   "execution_count": 1,
   "id": "d656abe7-7d53-4b75-9775-68881349bc9e",
   "metadata": {},
   "outputs": [
    {
     "name": "stdout",
     "output_type": "stream",
     "text": [
      "Object `pyinstrument` not found.\n"
     ]
    }
   ],
   "source": [
    "pyinstrument?"
   ]
  },
  {
   "cell_type": "code",
   "execution_count": null,
   "id": "b744e190-f7a0-4047-a49b-b02754040121",
   "metadata": {},
   "outputs": [],
   "source": []
  }
 ],
 "metadata": {
  "kernelspec": {
   "display_name": "swd6_hpp",
   "language": "python",
   "name": "swd6_hpp"
  },
  "language_info": {
   "codemirror_mode": {
    "name": "ipython",
    "version": 3
   },
   "file_extension": ".py",
   "mimetype": "text/x-python",
   "name": "python",
   "nbconvert_exporter": "python",
   "pygments_lexer": "ipython3",
   "version": "3.9.7"
  }
 },
 "nbformat": 4,
 "nbformat_minor": 5
}