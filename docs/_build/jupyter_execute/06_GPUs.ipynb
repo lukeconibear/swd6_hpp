{
 "cells": [
  {
   "cell_type": "markdown",
   "id": "b8eda9a1-0b12-40da-836e-96f0cebf1b25",
   "metadata": {},
   "source": [
    "# GPUs"
   ]
  },
  {
   "cell_type": "markdown",
   "id": "69c16cb6-0cba-4fda-acf4-03b9a791df9a",
   "metadata": {},
   "source": [
    "[![Open in Colab](https://colab.research.google.com/assets/colab-badge.svg)](https://colab.research.google.com/github/lukeconibear/swd6_hpp/blob/main/docs/07_GPUs.ipynb)"
   ]
  },
  {
   "cell_type": "markdown",
   "id": "3c417818-9ff3-42f3-8e45-453b9a8e1c4e",
   "metadata": {
    "tags": []
   },
   "source": [
    "GPUs (Graphics Processing Units) are optimised for numerical operations, while CPUs (central processing units) perform general computation.\n",
    "\n",
    "Could use other types of accelerators too."
   ]
  },
  {
   "cell_type": "markdown",
   "id": "4f0279a4-f16a-4838-b477-cb29e3fa222f",
   "metadata": {},
   "source": [
    "## [JAX](https://jax.readthedocs.io/en/latest/index.html)"
   ]
  },
  {
   "cell_type": "markdown",
   "id": "0d4d30fc-c48f-4e05-a479-4659170ba0b4",
   "metadata": {},
   "source": [
    "..."
   ]
  },
  {
   "cell_type": "code",
   "execution_count": null,
   "id": "17ad1338-41dc-4178-b825-6895429e03fe",
   "metadata": {},
   "outputs": [],
   "source": []
  },
  {
   "cell_type": "markdown",
   "id": "cc8033c1-a474-4acc-a389-7a42f9547c0b",
   "metadata": {},
   "source": [
    "## Automatic detection"
   ]
  },
  {
   "cell_type": "markdown",
   "id": "25f8b804-2628-4ada-863a-e8ad3693b5aa",
   "metadata": {},
   "source": [
    "Many libraries can use GPUs automatically if they can detect one.\n",
    "\n",
    "[`TensorFlow`](https://www.tensorflow.org/install/gpu)\n",
    "```python\n",
    "import tensorflow as tf\n",
    "tf.config.list_physical_devices('GPU')\n",
    "```\n",
    "\n",
    "[`PyTorch`](https://pytorch.org/docs/stable/notes/cuda.html)\n",
    "```python\n",
    "import torch\n",
    "torch.cuda.is_available()\n",
    "```"
   ]
  },
  {
   "cell_type": "markdown",
   "id": "ac66de92-f1d9-40d9-8030-f6940348aaef",
   "metadata": {},
   "source": [
    "## [CUDA](https://developer.nvidia.com/how-to-cuda-python)"
   ]
  },
  {
   "cell_type": "markdown",
   "id": "dbc3329e-6d98-4232-844b-dc3708e7617d",
   "metadata": {},
   "source": [
    "..."
   ]
  },
  {
   "cell_type": "code",
   "execution_count": null,
   "id": "18986b35-ae89-4e44-a288-1fa2465adf7e",
   "metadata": {},
   "outputs": [],
   "source": []
  },
  {
   "cell_type": "markdown",
   "id": "a0b679d8-1df4-4cbb-a7ad-161e8ea4658d",
   "metadata": {},
   "source": [
    "## [RAPIDS](https://developer.nvidia.com/rapids)\n",
    "Accelerated data science libraries, including cuPy for NumPy and SciPy, cuDF for Pandas, and others such as XGBoost, cuML, cuGraph."
   ]
  },
  {
   "cell_type": "markdown",
   "id": "52016c4b-e769-4a0d-ae9a-a223bc352f89",
   "metadata": {},
   "source": [
    "### [cuPy](https://cupy.dev/)\n",
    "\n",
    "```python\n",
    "# NumPy for CPU\n",
    ">>> import numpy as np\n",
    ">>> x_cpu = np.zeros((10, ))\n",
    ">>> y_cpu = np.zeros((10, 5))\n",
    ">>> z_cpu = np.dot(x_cpu, y_cpu)\n",
    ">>> z_cpu = cp.asnumpy(z_gpu) # convert over\n",
    "\n",
    "# CuPy for GPU\n",
    ">>> import cupy as cp\n",
    ">>> x_gpu = cp.zeros((10, ))\n",
    ">>> y_gpu = cp.zeros((10, 5))\n",
    ">>> z_gpu = cp.dot(x_gpu, y_gpu)\n",
    ">>> z_gpu = cp.asarray(z_cpu) # convert over\n",
    "```"
   ]
  },
  {
   "cell_type": "markdown",
   "id": "56bb3717-1976-4ea1-b440-eeb6de205b7c",
   "metadata": {},
   "source": [
    "### [cuDF](https://docs.rapids.ai/api/cudf/stable/)\n",
    "\n",
    "```python\n",
    "# Pandas for CPU\n",
    ">>> import pandas as pd\n",
    ">>> df = pd.DataFrame({\n",
    "        'a': list(range(20)),\n",
    "        'b': list(reversed(range(20))),\n",
    "        'c': list(range(20))\n",
    "    })\n",
    "\n",
    "# cuDF for GPU\n",
    ">>> import cudf\n",
    ">>> df = cudf.DataFrame({\n",
    "        'a': list(range(20)),\n",
    "        'b': list(reversed(range(20))),\n",
    "        'c': list(range(20))\n",
    "    })\n",
    "```"
   ]
  },
  {
   "cell_type": "markdown",
   "id": "7dc18c18-2055-46ce-946b-80788d28a27a",
   "metadata": {},
   "source": [
    "## Parallel GPUs\n",
    "Can run across multiple GPUs in [parallel](https://docs.dask.org/en/latest/gpu.html).  \n",
    "GPUs available on [ARC4](https://arcdocs.leeds.ac.uk/systems/arc4.html#using-the-v100-gpu-nodes).  "
   ]
  },
  {
   "cell_type": "markdown",
   "id": "ea113ee0-9ed3-4b77-9f5f-eca6600f7d22",
   "metadata": {},
   "source": [
    "## Further information\n",
    "[CuPy - Sean Farley](https://www.youtube.com/watch?v=_AKDqw6li58), PyBay 2019.  \n",
    "[cuDF - Mark Harris](https://www.youtube.com/watch?v=lV7rtDW94do), PyCon AU 2019.  "
   ]
  }
 ],
 "metadata": {
  "kernelspec": {
   "display_name": "swd6_hpp",
   "language": "python",
   "name": "swd6_hpp"
  },
  "language_info": {
   "codemirror_mode": {
    "name": "ipython",
    "version": 3
   },
   "file_extension": ".py",
   "mimetype": "text/x-python",
   "name": "python",
   "nbconvert_exporter": "python",
   "pygments_lexer": "ipython3",
   "version": "3.9.7"
  }
 },
 "nbformat": 4,
 "nbformat_minor": 5
}