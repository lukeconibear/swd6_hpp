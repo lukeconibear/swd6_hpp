{
 "cells": [
  {
   "cell_type": "markdown",
   "id": "e959b40e-a651-404d-aee8-f23870af2e9c",
   "metadata": {},
   "source": [
    "# Compilers"
   ]
  },
  {
   "cell_type": "markdown",
   "id": "8aa45220-a638-4a4d-8fe1-f78e67007ea9",
   "metadata": {},
   "source": [
    "[![Open in Colab](https://colab.research.google.com/assets/colab-badge.svg)](https://colab.research.google.com/github/lukeconibear/swd6_hpp/blob/main/docs/05_compilers.ipynb)"
   ]
  },
  {
   "cell_type": "markdown",
   "id": "0f76a704-552e-4e76-9209-d8aba17057db",
   "metadata": {},
   "source": [
    "## [CPython](https://www.python.org/)\n",
    "\n",
    "CPython is the main Python distribution.\n",
    "\n",
    "(Not to be confused with Cython, which I'll touch on later).\n",
    "\n",
    "CPython uses an Ahead-Of-Time (AOT) compiler i.e., the code is compiled in advance.\n",
    "\n",
    "This is as an assortment of statically compiled C extensions.\n",
    "\n",
    "CPython is a general purpose interpreter, allowing it to work on a variety of problems.\n",
    "\n",
    "It is dynamically typed, so types can change as you go.\n",
    "\n",
    "For example:"
   ]
  },
  {
   "cell_type": "code",
   "execution_count": 107,
   "id": "9138a5f0-335e-4c25-9c13-b5f8b7435cbb",
   "metadata": {},
   "outputs": [
    {
     "name": "stdout",
     "output_type": "stream",
     "text": [
      "5\n",
      "Gary\n"
     ]
    }
   ],
   "source": [
    "# define x to be an integer\n",
    "x = 5\n",
    "print(x)\n",
    "\n",
    "# then define x to be a string\n",
    "x = 'Gary'\n",
    "print(x)"
   ]
  },
  {
   "cell_type": "markdown",
   "id": "7226fa6c-aa30-47d0-99b4-475adfab7b24",
   "metadata": {},
   "source": [
    "## [Numba](http://numba.pydata.org/)\n",
    "\n",
    "Numba uses a JIT (just-in-time) compiler on functions i.e., compiles the function at execution time.\n",
    "\n",
    "This converts the function to fast machine code ([LLVM](https://en.wikipedia.org/wiki/LLVM)).\n",
    "\n",
    "Numba works with the default CPython.\n",
    "\n",
    "It works by adding decorators around functions.\n",
    "\n",
    "There are two main modes:\n",
    "- [`object`](https://numba.readthedocs.io/en/stable/glossary.html#term-object-mode) mode: [`@jit`](https://numba.readthedocs.io/en/stable/user/jit.html)\n",
    "    - Compiles code that handles all values as Python objects and uses CPython to work on those objects.\n",
    "    - `@jit` first tries to use `nopython` mode, and if it fails uses `object` mode.\n",
    "    - Main improvement over CPython is for [loops](https://numba.readthedocs.io/en/stable/glossary.html#term-loop-lifting).\n",
    "- [`nopython`](https://numba.readthedocs.io/en/stable/glossary.html#term-nopython-mode) mode: `@jit(nopython=True)` aliased as `@njit`.\n",
    "    - Compiles code that does not access CPython.\n",
    "    - Highest performance.\n",
    "    - Requires [specific types](https://numba.readthedocs.io/en/stable/reference/pysupported.html#pysupported) (mainly numbers), otherwise returns error.\n",
    "\n",
    "\n",
    "Numba is helpful when you want to speed up numerical operations in specific functions.  \n",
    "\n",
    "For example:"
   ]
  },
  {
   "cell_type": "markdown",
   "id": "2e73ab3a-79ed-4f90-8659-beb9e3c9bba3",
   "metadata": {},
   "source": [
    "### [`@njit`](https://numba.readthedocs.io/en/stable/glossary.html#term-nopython-mode)"
   ]
  },
  {
   "cell_type": "code",
   "execution_count": 108,
   "id": "e3fe07c7-ddb3-457b-926a-846182d047d4",
   "metadata": {},
   "outputs": [],
   "source": [
    "import numpy as np\n",
    "from numba import njit"
   ]
  },
  {
   "cell_type": "markdown",
   "id": "1fd4f2bb-3208-4bf9-94b0-c1e530d4a696",
   "metadata": {},
   "source": [
    "First, lets profile an example numerical function without Numba:"
   ]
  },
  {
   "cell_type": "code",
   "execution_count": 109,
   "id": "86ab87f6-c63e-4a87-afa9-84afd3ea9a4b",
   "metadata": {},
   "outputs": [],
   "source": [
    "nums = np.arange(1_000_000)"
   ]
  },
  {
   "cell_type": "code",
   "execution_count": 110,
   "id": "d2880a2f-474e-4f76-96b2-18e732b63a5d",
   "metadata": {},
   "outputs": [],
   "source": [
    "def slow_function(nums):\n",
    "    trace = 0.0\n",
    "    for num in nums:          # loop\n",
    "        trace += np.cos(num)  # numpy\n",
    "    return nums + trace       # broadcasting"
   ]
  },
  {
   "cell_type": "code",
   "execution_count": 111,
   "id": "bc13dda5-b28a-45ba-811f-5b19efd47541",
   "metadata": {},
   "outputs": [
    {
     "name": "stdout",
     "output_type": "stream",
     "text": [
      "900 ms ± 35.6 ms per loop (mean ± std. dev. of 7 runs, 1 loop each)\n"
     ]
    }
   ],
   "source": [
    "%%timeit\n",
    "slow_function(nums)"
   ]
  },
  {
   "cell_type": "markdown",
   "id": "aa373c38-68b2-4564-ac86-e8a8042c6275",
   "metadata": {},
   "source": [
    "Now, lets add the Numba `njit` decorator on the same function:"
   ]
  },
  {
   "cell_type": "code",
   "execution_count": 112,
   "id": "813e0666-4516-483f-bb94-ffbce61a3b1c",
   "metadata": {},
   "outputs": [],
   "source": [
    "@njit\n",
    "def fast_function(nums):\n",
    "    trace = 0.0\n",
    "    for num in nums:         # loop\n",
    "        trace += np.cos(num) # numpy\n",
    "    return nums + trace      # broadcasting"
   ]
  },
  {
   "cell_type": "markdown",
   "id": "db5b57c0-adee-4c40-862a-894730bf15d7",
   "metadata": {},
   "source": [
    "The first call to the Numba function has an overhead to compile the function."
   ]
  },
  {
   "cell_type": "code",
   "execution_count": 113,
   "id": "71903154-46f8-4378-8396-938a70e49794",
   "metadata": {},
   "outputs": [
    {
     "name": "stdout",
     "output_type": "stream",
     "text": [
      "89.1 ms ± 0 ns per loop (mean ± std. dev. of 1 run, 1 loop each)\n"
     ]
    }
   ],
   "source": [
    "%%timeit -n 1 -r 1 # -n 1 means execute the statement once, -r 1 means for one repetition\n",
    "fast_function(nums)"
   ]
  },
  {
   "cell_type": "markdown",
   "id": "0f3fee17-da48-4faa-b535-6b57b5bc552a",
   "metadata": {},
   "source": [
    "Then, all subsequent calls use this compiled version, which are much faster."
   ]
  },
  {
   "cell_type": "code",
   "execution_count": 114,
   "id": "82098da6-655c-4d0f-9926-239e2a2d9da1",
   "metadata": {},
   "outputs": [
    {
     "name": "stdout",
     "output_type": "stream",
     "text": [
      "11.1 ms ± 0 ns per loop (mean ± std. dev. of 1 run, 1 loop each)\n"
     ]
    }
   ],
   "source": [
    "%%timeit -n 1 -r 1\n",
    "fast_function(nums)"
   ]
  },
  {
   "cell_type": "markdown",
   "id": "8aca7221-c0f9-4895-bf93-aa0e7939d7db",
   "metadata": {},
   "source": [
    "```{admonition} Question\n",
    "For the function (`fast_add`) below, what will happen when it is called with: `fast_add(1, (2,))`?\n",
    "```"
   ]
  },
  {
   "cell_type": "code",
   "execution_count": 115,
   "id": "aea019bc-93d6-4c35-9717-daa22f071507",
   "metadata": {},
   "outputs": [],
   "source": [
    "@njit()\n",
    "def fast_add(x, y):\n",
    "    return x + y"
   ]
  },
  {
   "cell_type": "markdown",
   "id": "1c8137c4-644f-42aa-8e01-c1cc6a38b442",
   "metadata": {},
   "source": [
    "```{admonition} Solution\n",
    ":class: dropdown\n",
    "\n",
    "A `TypingError` is returned.\n",
    "\n",
    "This is because Numba is trying to compile a function that adds a `int64` to a `tuple`.\n",
    "\n",
    "Take care with types.\n",
    "\n",
    "Ensure the function works without Numba first.\n",
    "\n",
    "```"
   ]
  },
  {
   "cell_type": "markdown",
   "id": "e224e31c-f95c-4bfb-9dc0-8a08926b7a89",
   "metadata": {},
   "source": [
    "### [`@vectorize`](https://numba.readthedocs.io/en/stable/user/vectorize.html#vectorize)\n",
    "\n",
    "Numba also simplifies the creation of a NumPy ufunc using `vectorize`.\n",
    "\n",
    "This works on one element at a time.\n",
    "\n",
    "They can be targeted to different hardware in the signature (i.e., the decorator arguments).\n",
    "\n",
    "The [default](http://numba.pydata.org/numba-doc/latest/user/vectorize.html#dynamic-universal-functions) target is for a single CPU case (least overhead).\n",
    "\n",
    "This is suitable for smaller data sizes (<1 KB) and low compute intensities.\n",
    "\n",
    "For example:"
   ]
  },
  {
   "cell_type": "code",
   "execution_count": 132,
   "id": "9fd7df8b-c025-4051-93b6-734f771ea75e",
   "metadata": {},
   "outputs": [],
   "source": [
    "import math\n",
    "from numba import vectorize"
   ]
  },
  {
   "cell_type": "code",
   "execution_count": 133,
   "id": "0177fd88-a863-48a5-a0f4-1ebecbc80e1f",
   "metadata": {},
   "outputs": [],
   "source": [
    "SQRT_2PI = np.float32((2.0 * math.pi)**0.5)\n",
    "\n",
    "@vectorize\n",
    "def numba_my_function(x, mean, sigma):\n",
    "    '''Compute the value of a Gaussian probability density function at x with given mean and sigma.'''\n",
    "    return math.exp(-0.5 * ((x - mean) / sigma)**2.0) / (sigma * SQRT_2PI)"
   ]
  },
  {
   "cell_type": "code",
   "execution_count": 134,
   "id": "b8fda4bf-a18f-4945-a7e4-46916c95d68c",
   "metadata": {},
   "outputs": [],
   "source": [
    "x = np.random.uniform(-3.0, 3.0, size=1_000_000)"
   ]
  },
  {
   "cell_type": "markdown",
   "id": "99519866-68bf-4227-831d-53c048885ca5",
   "metadata": {},
   "source": [
    "First call to compile:"
   ]
  },
  {
   "cell_type": "code",
   "execution_count": 135,
   "id": "ab865d7a-7788-43a9-88fd-25d13d42400a",
   "metadata": {},
   "outputs": [
    {
     "name": "stdout",
     "output_type": "stream",
     "text": [
      "61.7 ms ± 0 ns per loop (mean ± std. dev. of 1 run, 1 loop each)\n"
     ]
    }
   ],
   "source": [
    "%%timeit -n 1 -r 1\n",
    "numba_my_function(x, 0.0, 1.0)"
   ]
  },
  {
   "cell_type": "markdown",
   "id": "1aafcf83-e64a-48f8-92ec-b9466e3941fa",
   "metadata": {},
   "source": [
    "Second call to see how fast it goes:"
   ]
  },
  {
   "cell_type": "code",
   "execution_count": 136,
   "id": "9fb96111-db39-49ac-be6d-89c76b6615f7",
   "metadata": {},
   "outputs": [
    {
     "name": "stdout",
     "output_type": "stream",
     "text": [
      "14.7 ms ± 0 ns per loop (mean ± std. dev. of 1 run, 1 loop each)\n"
     ]
    }
   ],
   "source": [
    "%%timeit -n 1 -r 1\n",
    "numba_my_function(x, 0.0, 1.0)"
   ]
  },
  {
   "cell_type": "markdown",
   "id": "cdffe3fd-c278-41e4-868a-386261884fdd",
   "metadata": {
    "tags": []
   },
   "source": [
    "### [`@guvectorize`](http://numba.pydata.org/numba-doc/latest/user/vectorize.html#the-guvectorize-decorator)\n",
    "\n",
    "Extends `vectorize` to work on many input elements (similar to NumPy's gufuncs).\n",
    "\n",
    "The signature requires the types to be specified first in a list.\n",
    "\n",
    "For example: `[(int64[:], int64, int64[:])]` means an n-element one-dimensional array of `int64`, a scalar of `int64`, and another n-element one-dimensional array of `int64`.\n",
    "\n",
    "The signature also includes the input(s) and output(s) dimensions in symbolic form.\n",
    "\n",
    "For example: `'(n),()->(n)'` means input an n-element one-dimensional array (`(n)`) and a scalar (`()`), and output an n-element one-dimensional array (`(n)`)."
   ]
  },
  {
   "cell_type": "code",
   "execution_count": 95,
   "id": "9365acb5-3355-431f-92cf-f61d25ede48b",
   "metadata": {},
   "outputs": [],
   "source": [
    "from numba import guvectorize"
   ]
  },
  {
   "cell_type": "code",
   "execution_count": 96,
   "id": "ede6d132-6106-4ff6-9a55-43506f8c5dd7",
   "metadata": {},
   "outputs": [],
   "source": [
    "@guvectorize([(int64[:], int64, int64[:])], '(n),()->(n)')\n",
    "def g(x, y, res):\n",
    "    for i in range(x.shape[0]):\n",
    "        res[i] = x[i] + y"
   ]
  },
  {
   "cell_type": "code",
   "execution_count": 101,
   "id": "0de8d344-aca9-4a9a-bd1d-a62fe8237f87",
   "metadata": {},
   "outputs": [
    {
     "data": {
      "text/plain": [
       "array([0, 1, 2, 3, 4])"
      ]
     },
     "execution_count": 101,
     "metadata": {},
     "output_type": "execute_result"
    }
   ],
   "source": [
    "x = np.arange(5)\n",
    "x"
   ]
  },
  {
   "cell_type": "code",
   "execution_count": 102,
   "id": "ae40cdc4-56bd-4ab7-9c30-a42dab690466",
   "metadata": {},
   "outputs": [
    {
     "data": {
      "text/plain": [
       "array([5, 6, 7, 8, 9])"
      ]
     },
     "execution_count": 102,
     "metadata": {},
     "output_type": "execute_result"
    }
   ],
   "source": [
    "g(x, 5)"
   ]
  },
  {
   "cell_type": "code",
   "execution_count": 103,
   "id": "994c66f5-51c6-43ec-9aec-063fa9cae239",
   "metadata": {},
   "outputs": [
    {
     "data": {
      "text/plain": [
       "array([[0, 1, 2],\n",
       "       [3, 4, 5]])"
      ]
     },
     "execution_count": 103,
     "metadata": {},
     "output_type": "execute_result"
    }
   ],
   "source": [
    "x = np.arange(6).reshape(2, 3)\n",
    "x"
   ]
  },
  {
   "cell_type": "code",
   "execution_count": 105,
   "id": "746210ed-ea6d-4076-bf0b-102aead6225e",
   "metadata": {},
   "outputs": [
    {
     "data": {
      "text/plain": [
       "array([[10, 11, 12],\n",
       "       [13, 14, 15]])"
      ]
     },
     "execution_count": 105,
     "metadata": {},
     "output_type": "execute_result"
    }
   ],
   "source": [
    "g(x, 10)"
   ]
  },
  {
   "cell_type": "code",
   "execution_count": 106,
   "id": "9c23587b-f630-4396-8cc7-571b4c4c94ac",
   "metadata": {},
   "outputs": [
    {
     "data": {
      "text/plain": [
       "array([[10, 11, 12],\n",
       "       [23, 24, 25]])"
      ]
     },
     "execution_count": 106,
     "metadata": {},
     "output_type": "execute_result"
    }
   ],
   "source": [
    "g(x, np.array([10, 20]))"
   ]
  },
  {
   "cell_type": "markdown",
   "id": "3095ea78-6587-43e3-ae2d-aadbd54c0a3e",
   "metadata": {
    "tags": []
   },
   "source": [
    "### [`parallel = True`](https://numba.readthedocs.io/en/stable/user/performance-tips.html#parallel-true)\n",
    "\n",
    "Another target is for a multi-core CPU.\n",
    "\n",
    "This has small additional overheads for threading.\n",
    "\n",
    "This suitable for medium data sizes (1 KB - 1 MB).\n",
    "\n",
    "If code contains operations that are parallelisable (and [supported](https://numba.readthedocs.io/en/stable/user/parallel.html#numba-parallel-supported)) Numba can compile a version that will run in parallel on multiple threads.\n",
    "\n",
    "This parallelisation is performed automatically and is enabled by simply adding the keyword agurment `parallel=True` to `@njit`."
   ]
  },
  {
   "cell_type": "code",
   "execution_count": 3,
   "id": "3544de3b-4757-4cfd-a46f-35bd018a3f58",
   "metadata": {},
   "outputs": [],
   "source": [
    "x = np.arange(1.e7)"
   ]
  },
  {
   "cell_type": "markdown",
   "id": "8d646367-e902-4edf-a9bc-87aef4304143",
   "metadata": {},
   "source": [
    "First, in serial (i.e., `parallel=False`, also the default):"
   ]
  },
  {
   "cell_type": "code",
   "execution_count": 4,
   "id": "52f21516-cbcf-4a0f-8a61-38b64c0b8fc9",
   "metadata": {},
   "outputs": [],
   "source": [
    "@njit(parallel=False)\n",
    "def ident_serial(x):\n",
    "    return np.cos(x) ** 2 + np.sin(x) ** 2"
   ]
  },
  {
   "cell_type": "code",
   "execution_count": 5,
   "id": "076553a1-7730-4e3a-8541-c0c50b4b0f8d",
   "metadata": {},
   "outputs": [
    {
     "name": "stdout",
     "output_type": "stream",
     "text": [
      "139 ms ± 1.9 ms per loop (mean ± std. dev. of 7 runs, 1 loop each)\n"
     ]
    }
   ],
   "source": [
    "%%timeit\n",
    "ident_serial(x)"
   ]
  },
  {
   "cell_type": "markdown",
   "id": "894f39b9-efea-4611-8b28-8639e21cc0f5",
   "metadata": {},
   "source": [
    "And now in parallel:"
   ]
  },
  {
   "cell_type": "code",
   "execution_count": 6,
   "id": "61deda26-70f5-493e-a619-944ba54a9cae",
   "metadata": {},
   "outputs": [],
   "source": [
    "@njit(parallel=True)\n",
    "def ident_parallel(x):\n",
    "    return np.cos(x) ** 2 + np.sin(x) ** 2"
   ]
  },
  {
   "cell_type": "code",
   "execution_count": 7,
   "id": "549e8c67-be86-4ac3-b729-6cc6abe5d8be",
   "metadata": {},
   "outputs": [
    {
     "name": "stderr",
     "output_type": "stream",
     "text": [
      "/home/earlacoa/miniconda3/envs/swd6_hpp/lib/python3.9/site-packages/numba/np/ufunc/parallel.py:365: NumbaWarning: \u001b[1mThe TBB threading layer requires TBB version 2019.5 or later i.e., TBB_INTERFACE_VERSION >= 11005. Found TBB_INTERFACE_VERSION = 10002. The TBB threading layer is disabled.\u001b[0m\n",
      "  warnings.warn(problem)\n"
     ]
    },
    {
     "name": "stdout",
     "output_type": "stream",
     "text": [
      "50.1 ms ± 3.69 ms per loop (mean ± std. dev. of 7 runs, 1 loop each)\n"
     ]
    }
   ],
   "source": [
    "%%timeit\n",
    "ident_parallel(x)"
   ]
  },
  {
   "cell_type": "markdown",
   "id": "37196609-daeb-4122-9c63-1d45cbd1bc48",
   "metadata": {},
   "source": [
    "## Exercise\n",
    "\n",
    "..."
   ]
  },
  {
   "cell_type": "markdown",
   "id": "71ec8c44-4ca3-4ee1-bac3-fc788b771946",
   "metadata": {},
   "source": [
    "## Further information\n",
    "\n",
    "### More information and considerations\n",
    "\n",
    "- Factor out the performance-critical part of the code for compilation in Numba.\n",
    "- What data precision is required i.e., is 64-bit needed?\n",
    "- Numba examples for [NumPy](https://numba.pydata.org/numba-doc/dev/reference/numpysupported.html) and [Pandas](https://pandas.pydata.org/pandas-docs/stable/user_guide/enhancingperf.html#numba-jit-compilation).\n",
    "- Custom functions beyond ufuncs ([kernels](https://numba.pydata.org/numba-doc/dev/cuda/kernels.html)).\n",
    "- [Troubleshooting](https://numba.readthedocs.io/en/stable/user/troubleshoot.html#)\n",
    "\n",
    "### Other options\n",
    "\n",
    "- [Cython](https://cython.org/)\n",
    "  - *Compiles to statically typed C/C++*.\n",
    "  - Use for any amount of code.\n",
    "  - Use with the default CPython.\n",
    "  - Helpful when need static typing and optimising libraries.  \n",
    "  - Examples [not using IPython](https://cython.readthedocs.io/en/latest/src/quickstart/build.html#building-a-cython-module-using-setuptools), [NumPy](https://cython.readthedocs.io/en/latest/src/tutorial/numpy.html), [Pandas](https://pandas.pydata.org/pandas-docs/stable/user_guide/enhancingperf.html).\n",
    "- [PyPy](https://www.pypy.org/)\n",
    "  - *Just−In−Time (JIT) compiler (written in Python).*\n",
    "  - Enables optimisations at run time, especially for numerical tasks with repitition and loops.\n",
    "  - Replaces CPython.\n",
    "  - Faster, though overheads for start-up and memory.\n",
    "  - Helpful when want to speed up numerical opterations in all of code. \n",
    "  - May not be [compatible](http://packages.pypy.org/) with the libraries you use.\n",
    "\n",
    "### Resources\n",
    "\n",
    "- [Why is Python slow?](https://youtu.be/I4nkgJdVZFA), Anthony Shaw, PyCon 2020. [CPython Internals](https://realpython.com/products/cpython-internals-book/)."
   ]
  },
  {
   "cell_type": "code",
   "execution_count": null,
   "id": "77d25b8a-57e7-4a54-9424-f5ef692f5053",
   "metadata": {},
   "outputs": [],
   "source": []
  }
 ],
 "metadata": {
  "interpreter": {
   "hash": "b1ffad78e3b53a26aeabe29bd69865e9fcde2eed64638bf28084d4e5d53534f3"
  },
  "kernelspec": {
   "display_name": "Python 3 (ipykernel)",
   "language": "python",
   "name": "python3"
  },
  "language_info": {
   "codemirror_mode": {
    "name": "ipython",
    "version": 3
   },
   "file_extension": ".py",
   "mimetype": "text/x-python",
   "name": "python",
   "nbconvert_exporter": "python",
   "pygments_lexer": "ipython3",
   "version": "3.9.7"
  }
 },
 "nbformat": 4,
 "nbformat_minor": 5
}
