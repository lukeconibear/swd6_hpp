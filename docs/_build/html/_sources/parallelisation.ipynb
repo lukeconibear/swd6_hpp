{
 "cells": [
  {
   "cell_type": "markdown",
   "id": "9b05fc18-8748-41aa-b795-f1364eaf9acd",
   "metadata": {},
   "source": [
    "# Parallelisation"
   ]
  },
  {
   "cell_type": "markdown",
   "id": "bbdb26f9-e07f-46af-a1f4-e8d03138a9dc",
   "metadata": {},
   "source": [
    "## What is it?\n",
    "\n",
    "Parallelisation divides a large problem into many smaller ones and solves them *simultaneously*.\n",
    "- *Divides up the time/space complexity across workers.*\n",
    "- Tasks centrally managed by a scheduler.\n",
    "- Multi-processing (cores) - useful for compute-bound problems.\n",
    "- Multi-threading (parts of processes) - useful for memory-bound problems."
   ]
  },
  {
   "cell_type": "markdown",
   "id": "e9c09f95-164c-42fb-bb5e-65b632353227",
   "metadata": {
    "tags": []
   },
   "source": [
    "## Parallelising a Python?\n",
    "\n",
    "Python itself is not designed for massive scalability and controls threads preemptively using a [Global Interpreter Lock, GIL](https://wiki.python.org/moin/GlobalInterpreterLock). This has lead many libraries to work around this using C/C++ backends. Some options include:\n",
    "- [multiprocessing](https://docs.python.org/3/library/multiprocessing.html) for creating a pool of asynchronous workers.  \n",
    "- [joblib](https://joblib.readthedocs.io/en/latest/) for creating lightweight pipelines.  \n",
    "- [asyncio](https://docs.python.org/3/library/asyncio.html) for concurrent programs.  \n",
    "\n",
    "These options work well for the CPU cores on your machine, though not really beyond that.  "
   ]
  },
  {
   "cell_type": "markdown",
   "id": "e21fa857-1eb0-4ba0-b9c9-4ad1d17fbc97",
   "metadata": {},
   "source": [
    "## Moving over to HPC\n",
    "\n",
    "If need to share memory across chunks:  \n",
    "- Use [shared memory](https://docs.dask.org/en/latest/shared.html) (commonly OpenMP, Open Multi-Processing).\n",
    "- `-pe smp np` on ARC4\n",
    "\n",
    "Otherwise:  \n",
    "- Use [message passing interface, MPI](https://docs.dask.org/en/latest/setup/hpc.html?highlight=mpi#using-mpi) (commonly OpenMPI).\n",
    "- `-pe ib np` on ARC4"
   ]
  },
  {
   "cell_type": "code",
   "execution_count": null,
   "id": "4e543a61-a3ca-4650-9b4b-ec4403204d07",
   "metadata": {},
   "outputs": [],
   "source": []
  },
  {
   "cell_type": "code",
   "execution_count": null,
   "id": "54b9f04c-7154-4761-b124-1a77faee9d94",
   "metadata": {},
   "outputs": [],
   "source": []
  }
 ],
 "metadata": {
  "kernelspec": {
   "display_name": "swd6_hpp",
   "language": "python",
   "name": "swd6_hpp"
  },
  "language_info": {
   "codemirror_mode": {
    "name": "ipython",
    "version": 3
   },
   "file_extension": ".py",
   "mimetype": "text/x-python",
   "name": "python",
   "nbconvert_exporter": "python",
   "pygments_lexer": "ipython3",
   "version": "3.9.7"
  }
 },
 "nbformat": 4,
 "nbformat_minor": 5
}
