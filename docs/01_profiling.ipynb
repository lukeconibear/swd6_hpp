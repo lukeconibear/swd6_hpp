{
 "cells": [
  {
   "cell_type": "markdown",
   "id": "e1f167c0-52a8-4800-9999-0419acc312a8",
   "metadata": {},
   "source": [
    "# Profiling"
   ]
  },
  {
   "cell_type": "markdown",
   "id": "a6ae8044-47c9-4c48-b50d-e3dadb441757",
   "metadata": {},
   "source": [
    "[![Open in Colab](https://colab.research.google.com/assets/colab-badge.svg)](https://colab.research.google.com/github/lukeconibear/swd6_hpp/blob/main/docs/01_profiling.ipynb)"
   ]
  },
  {
   "cell_type": "code",
   "execution_count": null,
   "id": "49aef6fc-d7fe-45a5-9593-f9092ae02ebe",
   "metadata": {},
   "outputs": [],
   "source": [
    "# if you're using colab, then install the required modules\n",
    "import sys\n",
    "IN_COLAB = 'google.colab' in sys.modules\n",
    "if IN_COLAB:\n",
    "    %pip install line_profiler snakeviz"
   ]
  },
  {
   "cell_type": "markdown",
   "id": "c24c725f-0aed-4b26-b2c0-6e02de0ad324",
   "metadata": {},
   "source": [
    "[Profiling](https://jakevdp.github.io/PythonDataScienceHandbook/01.07-timing-and-profiling.html) analyses your code in terms of speed and/or memory.  \n",
    "\n",
    "This can help identify where the bottlenecks are and how much potential there is for improvement."
   ]
  },
  {
   "cell_type": "markdown",
   "id": "56d83eb4-a94b-4b03-bb66-dc2f00fb7357",
   "metadata": {},
   "source": [
    "_Side note_\n",
    "\n",
    "[IPython magic commands](https://jakevdp.github.io/PythonDataScienceHandbook/01.03-magic-commands.html) are very useful for common problems in data analysis.  \n",
    "\n",
    "- These have one `%` at the start for a single line.\n",
    "- Or two `%%` at the start for a cell."
   ]
  },
  {
   "cell_type": "markdown",
   "id": "e9c991ec-da35-4765-b919-9a7e2c7fabf3",
   "metadata": {
    "tags": []
   },
   "source": [
    "## [timeit](https://ipython.readthedocs.io/en/stable/interactive/magics.html#magic-timeit)\n",
    "\n",
    "`timeit` (a IPython magic command) measures the time execution of an expression.\n",
    "\n",
    "It runs a few times, depending on how intensive the expression is, and returns the best result with the uncertainty.\n",
    "\n",
    "It is useful for benchmarking a small code snippet."
   ]
  },
  {
   "cell_type": "code",
   "execution_count": null,
   "id": "dfe4a003-8f16-451d-8b13-d3556df15eed",
   "metadata": {},
   "outputs": [],
   "source": [
    "%timeit range(100)"
   ]
  },
  {
   "cell_type": "code",
   "execution_count": null,
   "id": "c30554f8-1066-4350-bce7-1ed758da1c45",
   "metadata": {},
   "outputs": [],
   "source": [
    "%%timeit\n",
    "for x in range(100):\n",
    "    pass"
   ]
  },
  {
   "cell_type": "markdown",
   "id": "7f879806-bf28-44e0-8c53-6b72d640f3de",
   "metadata": {
    "tags": []
   },
   "source": [
    "## [line_profiler](https://github.com/pyutils/line_profiler)\n",
    "\n",
    "The `line_profiler` module measures the time spent in each line of a function."
   ]
  },
  {
   "cell_type": "code",
   "execution_count": null,
   "id": "19304421-9f5a-483e-92eb-5ac32a2f7be2",
   "metadata": {},
   "outputs": [],
   "source": [
    "%load_ext line_profiler"
   ]
  },
  {
   "cell_type": "code",
   "execution_count": null,
   "id": "fa6b7bee-588b-46f5-a7fd-46b471c9d58c",
   "metadata": {},
   "outputs": [],
   "source": [
    "def bottleneck(nums):\n",
    "    for index, num in enumerate(nums):\n",
    "        nums[index] = num ** 2\n",
    "        \n",
    "    return nums\n",
    "\n",
    "def my_function():\n",
    "    nums = [num for num in range(1_000)]\n",
    "    nums = bottleneck(nums)\n",
    "    nums.append(1_001)"
   ]
  },
  {
   "cell_type": "code",
   "execution_count": null,
   "id": "015b9b11-0da5-4ba7-91fc-9427752a7360",
   "metadata": {},
   "outputs": [],
   "source": [
    "%lprun -f my_function my_function()"
   ]
  },
  {
   "cell_type": "markdown",
   "id": "452482a7-70b5-48b5-82fc-0f6513673de5",
   "metadata": {},
   "source": [
    "## [SnakeViz](https://jiffyclub.github.io/snakeviz/)\n",
    "\n",
    "`cProfile` is part of the Python standard library (like [`profile`](https://docs.python.org/3/library/profile.html#module-profile)).\n",
    "\n",
    "You can profiling longer functions and programs with it.\n",
    "\n",
    "However, the output isn't very intuitive:"
   ]
  },
  {
   "cell_type": "code",
   "execution_count": null,
   "id": "2c761faa-9cea-4631-b107-97f36c8db947",
   "metadata": {},
   "outputs": [],
   "source": [
    "import cProfile"
   ]
  },
  {
   "cell_type": "code",
   "execution_count": null,
   "id": "d8b10e06-cbb9-4c26-948a-e118a64b6d4d",
   "metadata": {},
   "outputs": [],
   "source": [
    "cProfile.run('my_function()')"
   ]
  },
  {
   "cell_type": "markdown",
   "id": "b7315479-2804-4ca2-a917-19a78cb496ee",
   "metadata": {},
   "source": [
    "SnakeViz visualises this output from `cProfile` in nice interactive plots."
   ]
  },
  {
   "cell_type": "code",
   "execution_count": null,
   "id": "f7ca3dec-e4cf-4224-bb53-bc574d3c12e9",
   "metadata": {},
   "outputs": [],
   "source": [
    "%load_ext snakeviz"
   ]
  },
  {
   "cell_type": "code",
   "execution_count": null,
   "id": "7b40c61a-2567-4f4c-af36-5a74dbb32687",
   "metadata": {},
   "outputs": [],
   "source": [
    "%%snakeviz  \n",
    "my_function()"
   ]
  },
  {
   "cell_type": "markdown",
   "id": "490678ba-f6ac-445f-aec7-a3b882e30e3a",
   "metadata": {},
   "source": [
    "Switch between the two styles using the \"Style\" dropdown.\n",
    "\n",
    "### Style: Icicle\n",
    "\n",
    "- Functions are represented by rectangles.\n",
    "- The root function is the _top-most rectangle_, with functions it calls below it, then the functions those call below them, and so on.\n",
    "- The amount of time spent inside a function is represented by the width of the rectangle.\n",
    "    - A rectangle that stretches across most of the visualization represents a function that is taking up most of the time of its calling function, while a skinny rectangle represents a function that is using hardly any time at all.\n",
    "\n",
    "### Style: Sunburst\n",
    "\n",
    "- Functions are represented by arcs.\n",
    "- The root function is the _centre circle_, with functions it calls around, then the functions those functions call, and so on. \n",
    "- The amount of time spent inside a function is represented by the angular extent of the arc (how far around the circle it goes).\n",
    "    - An arc that wraps most of the way around the circle represents a function that is taking up most of the time of its calling function, while a skinny arc represents a function that is using hardly any time at all."
   ]
  },
  {
   "cell_type": "markdown",
   "id": "42a7146e-bc2d-4078-b65e-b6b983d588e1",
   "metadata": {},
   "source": [
    "## Exercise\n",
    "\n",
    "..."
   ]
  },
  {
   "cell_type": "markdown",
   "id": "d73bcbb5-e4c3-4032-b7af-8fd24d9e19e9",
   "metadata": {},
   "source": [
    "## Further information\n",
    "\n",
    "### Other options\n",
    "\n",
    "- [VizTracer](https://github.com/gaogaotiantian/viztracer)\n",
    "  - A low-overhead logging/debugging/profiling tool that can trace and visualize your python code execution.\n",
    "- [pyinstrument](https://pyinstrument.readthedocs.io/en/latest/)\n",
    "  - A statistical profiling module of wall-clock time (recording the call stack every 1ms), lowering the overhead compared to tracing profilers. It hides library frames, so you can focus on the slow parts of your code. The output shows *how* the function executes using a traffic light colour legend.\n",
    "- [Profile parallel code with Dask](https://docs.dask.org/en/latest/diagnostics-local.html#example)  \n",
    "\n",
    "#### Memory profiling\n",
    "- [memory_profiler](https://github.com/pythonprofilers/memory_profiler)\n",
    "  - Measures the memory used by a function, at its peak and the overall increment."
   ]
  }
 ],
 "metadata": {
  "interpreter": {
   "hash": "b1ffad78e3b53a26aeabe29bd69865e9fcde2eed64638bf28084d4e5d53534f3"
  },
  "kernelspec": {
   "display_name": "Python 3",
   "language": "python",
   "name": "python3"
  },
  "language_info": {
   "codemirror_mode": {
    "name": "ipython",
    "version": 3
   },
   "file_extension": ".py",
   "mimetype": "text/x-python",
   "name": "python",
   "nbconvert_exporter": "python",
   "pygments_lexer": "ipython3",
   "version": "3.9.7"
  }
 },
 "nbformat": 4,
 "nbformat_minor": 5
}
