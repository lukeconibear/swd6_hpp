{
 "cells": [
  {
   "cell_type": "markdown",
   "id": "e959b40e-a651-404d-aee8-f23870af2e9c",
   "metadata": {},
   "source": [
    "# Compilers"
   ]
  },
  {
   "cell_type": "markdown",
   "id": "8aa45220-a638-4a4d-8fe1-f78e67007ea9",
   "metadata": {},
   "source": [
    "[![Open in Colab](https://colab.research.google.com/assets/colab-badge.svg)](https://colab.research.google.com/github/lukeconibear/swd6_hpp/blob/main/docs/05_compilers.ipynb)"
   ]
  },
  {
   "cell_type": "markdown",
   "id": "3c2ce3bb-c985-4909-9b77-ae7e4d506819",
   "metadata": {},
   "source": [
    "## [CPython](https://www.python.org/)\n",
    "- *Ahead-Of-Time (AOT) compiler.*\n",
    "    - Statically compiled C extensions.\n",
    "- General purpose interpreter.\n",
    "    - Can work on a variety of problems.\n",
    "- Dynamically typed.\n",
    "    - Types can change e.g. `x = 5`, then later `x = 'gary'`."
   ]
  },
  {
   "cell_type": "markdown",
   "id": "7226fa6c-aa30-47d0-99b4-475adfab7b24",
   "metadata": {},
   "source": [
    "## [Numba](http://numba.pydata.org/)\n",
    "- *Uses JIT compiler on functions.*\n",
    "    - Converts to fast machine code (LLVM).\n",
    "    - Uses decorators around functions.\n",
    "    - Use with the default CPython.\n",
    "    - Helpful when want to speed up numerical opterations in specific functions.  \n",
    "    - Examples for [NumPy](https://numba.pydata.org/numba-doc/dev/reference/numpysupported.html) and [Pandas](https://pandas.pydata.org/pandas-docs/stable/user_guide/enhancingperf.html#using-numba)."
   ]
  },
  {
   "cell_type": "code",
   "execution_count": 1,
   "id": "06499d6a-ba3d-4562-874a-9ada15483633",
   "metadata": {},
   "outputs": [],
   "source": [
    "import numpy as np\n",
    "from numba import njit"
   ]
  },
  {
   "cell_type": "code",
   "execution_count": 2,
   "id": "a75a8351-5c29-45c1-aca3-404f31cd30f2",
   "metadata": {},
   "outputs": [],
   "source": [
    "nums = np.arange(1_000_000)"
   ]
  },
  {
   "cell_type": "code",
   "execution_count": 3,
   "id": "66e12c99-3efc-450d-8d02-a714d41ddd68",
   "metadata": {},
   "outputs": [],
   "source": [
    "def super_function(nums):\n",
    "    trace = 0.0\n",
    "    for num in nums: # loop\n",
    "        trace += np.cos(num) # numpy\n",
    "    return nums + trace # broadcasting"
   ]
  },
  {
   "cell_type": "code",
   "execution_count": 4,
   "id": "bc13dda5-b28a-45ba-811f-5b19efd47541",
   "metadata": {},
   "outputs": [
    {
     "name": "stdout",
     "output_type": "stream",
     "text": [
      "1.39 s ± 13 ms per loop (mean ± std. dev. of 7 runs, 1 loop each)\n"
     ]
    }
   ],
   "source": [
    "%timeit super_function(nums)"
   ]
  },
  {
   "cell_type": "code",
   "execution_count": 20,
   "id": "813e0666-4516-483f-bb94-ffbce61a3b1c",
   "metadata": {},
   "outputs": [],
   "source": [
    "@njit # numba decorator\n",
    "def super_function(nums):\n",
    "    trace = 0.0\n",
    "    for num in nums: # loop\n",
    "        trace += np.cos(num) # numpy\n",
    "    return nums + trace # broadcasting"
   ]
  },
  {
   "cell_type": "markdown",
   "id": "db5b57c0-adee-4c40-862a-894730bf15d7",
   "metadata": {},
   "source": [
    "The first call of the expression has an overhead to compile the function."
   ]
  },
  {
   "cell_type": "code",
   "execution_count": 21,
   "id": "71903154-46f8-4378-8396-938a70e49794",
   "metadata": {},
   "outputs": [
    {
     "name": "stdout",
     "output_type": "stream",
     "text": [
      "225 ms ± 0 ns per loop (mean ± std. dev. of 1 run, 1 loop each)\n"
     ]
    }
   ],
   "source": [
    "%%timeit -n 1 -r 1\n",
    "super_function(nums)"
   ]
  },
  {
   "cell_type": "markdown",
   "id": "0f3fee17-da48-4faa-b535-6b57b5bc552a",
   "metadata": {},
   "source": [
    "All subsequent calls use this compiled version, and are therefore much faster."
   ]
  },
  {
   "cell_type": "code",
   "execution_count": 22,
   "id": "82098da6-655c-4d0f-9926-239e2a2d9da1",
   "metadata": {},
   "outputs": [
    {
     "name": "stdout",
     "output_type": "stream",
     "text": [
      "73.2 ms ± 0 ns per loop (mean ± std. dev. of 1 run, 1 loop each)\n"
     ]
    }
   ],
   "source": [
    "%%timeit -n 1 -r 1\n",
    "super_function(nums)"
   ]
  },
  {
   "cell_type": "markdown",
   "id": "37196609-daeb-4122-9c63-1d45cbd1bc48",
   "metadata": {},
   "source": [
    "## Exercise\n",
    "\n",
    "..."
   ]
  },
  {
   "cell_type": "markdown",
   "id": "71ec8c44-4ca3-4ee1-bac3-fc788b771946",
   "metadata": {},
   "source": [
    "## Further information\n",
    "\n",
    "### Other options\n",
    "\n",
    "- [Cython](https://cython.org/)\n",
    "  - *Compiles to statically typed C/C++*.\n",
    "  - Use for any amount of code.\n",
    "  - Use with the default CPython.\n",
    "  - Helpful when need static typing and optimising libraries.  \n",
    "  - Examples [not using IPython](https://cython.readthedocs.io/en/latest/src/quickstart/build.html#building-a-cython-module-using-setuptools), [NumPy](https://cython.readthedocs.io/en/latest/src/tutorial/numpy.html), [Pandas](https://pandas.pydata.org/pandas-docs/stable/user_guide/enhancingperf.html).\n",
    "- [PyPy](https://www.pypy.org/)\n",
    "  - *Just−In−Time (JIT) compiler (written in Python).*\n",
    "  - Enables optimisations at run time, especially for numerical tasks with repitition and loops.\n",
    "  - Replaces CPython.\n",
    "  - Faster, though overheads for start-up and memory.\n",
    "  - Helpful when want to speed up numerical opterations in all of code. \n",
    "  - May not be [compatible](http://packages.pypy.org/) with the libraries you use.\n",
    "\n",
    "### Resources\n",
    "\n",
    "- [Why is Python slow?](https://youtu.be/I4nkgJdVZFA), Anthony Shaw, PyCon 2020. [CPython Internals](https://realpython.com/products/cpython-internals-book/)."
   ]
  }
 ],
 "metadata": {
  "interpreter": {
   "hash": "b1ffad78e3b53a26aeabe29bd69865e9fcde2eed64638bf28084d4e5d53534f3"
  },
  "kernelspec": {
   "display_name": "Python 3",
   "language": "python",
   "name": "python3"
  },
  "language_info": {
   "codemirror_mode": {
    "name": "ipython",
    "version": 3
   },
   "file_extension": ".py",
   "mimetype": "text/x-python",
   "name": "python",
   "nbconvert_exporter": "python",
   "pygments_lexer": "ipython3",
   "version": "3.9.7"
  }
 },
 "nbformat": 4,
 "nbformat_minor": 5
}
