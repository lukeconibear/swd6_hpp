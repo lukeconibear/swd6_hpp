{
 "cells": [
  {
   "cell_type": "markdown",
   "id": "d08764b1-bdf8-42e8-9f55-9500f7641f7c",
   "metadata": {},
   "source": [
    "# Vectorisation"
   ]
  },
  {
   "cell_type": "markdown",
   "id": "2d17bc36-fe3b-4c7c-bef8-8f31fe457783",
   "metadata": {},
   "source": [
    "## [Loop-invariants](https://en.wikipedia.org/wiki/Loop_invariant)\n",
    "Move them *outside* the loop."
   ]
  },
  {
   "cell_type": "code",
   "execution_count": null,
   "id": "3e2a7249-5de4-46d1-aaa6-f0aac10a3bd1",
   "metadata": {},
   "outputs": [],
   "source": [
    "%%timeit\n",
    "for num in range(1_000_000):\n",
    "    constant = 500_000\n",
    "    bigger_num = max(num, constant)"
   ]
  },
  {
   "cell_type": "code",
   "execution_count": null,
   "id": "325fe9d3-7495-46e9-b413-7ec7d7eaf5ef",
   "metadata": {},
   "outputs": [],
   "source": [
    "%%timeit\n",
    "constant = 500_000\n",
    "for num in range(1_000_000):\n",
    "    bigger_num = max(num, constant)"
   ]
  },
  {
   "cell_type": "markdown",
   "id": "d279b36f-c9fe-4310-a980-8ed6938de6b9",
   "metadata": {
    "tags": []
   },
   "source": [
    "## Use [vectorisation](https://jakevdp.github.io/PythonDataScienceHandbook/02.03-computation-on-arrays-ufuncs.html) instead of loops\n",
    "- Loops are slow in Python ([CPython](https://www.python.org/), default interpreter).\n",
    "  - *Because loops type−check and dispatch functions per cycle.*\n",
    "- [Vectors](https://en.wikipedia.org/wiki/Automatic_vectorization) can work on many parts of the problem at once.\n",
    "- NumPy [ufuncs](https://numpy.org/doc/stable/reference/ufuncs.html) (universal functions).\n",
    "  - *Optimised in C (statically typed and compiled).*\n",
    "  - [Arbitrary Python function to NumPy ufunc](https://numpy.org/doc/stable/reference/generated/numpy.frompyfunc.html)."
   ]
  },
  {
   "cell_type": "code",
   "execution_count": null,
   "id": "a6b4af31-dd2f-4efd-b7fc-a53a0245c073",
   "metadata": {},
   "outputs": [],
   "source": [
    "import numpy as np\n",
    "import xarray as xr"
   ]
  },
  {
   "cell_type": "code",
   "execution_count": null,
   "id": "c11224a2-7a94-4a52-9adf-e4aea9c5f217",
   "metadata": {},
   "outputs": [],
   "source": [
    "nums = np.arange(1_000_000)"
   ]
  },
  {
   "cell_type": "code",
   "execution_count": null,
   "id": "7427378a-fdcc-49bd-994d-2953149ea460",
   "metadata": {},
   "outputs": [],
   "source": [
    "%%timeit\n",
    "for num in nums:\n",
    "    num *= 2"
   ]
  },
  {
   "cell_type": "code",
   "execution_count": null,
   "id": "ef8c4cc5-cfdd-4b70-90a6-9d796a8329e1",
   "metadata": {},
   "outputs": [],
   "source": [
    "%%timeit\n",
    "double_nums = np.multiply(nums, 2)"
   ]
  },
  {
   "cell_type": "markdown",
   "id": "4a14040f-f170-45d6-bb6f-1f6ac3289c26",
   "metadata": {},
   "source": [
    "- [Broadcasting](https://jakevdp.github.io/PythonDataScienceHandbook/02.05-computation-on-arrays-broadcasting.html) (ufuncs over different shaped arrays, [NumPy](https://numpy.org/doc/stable/user/basics.broadcasting.html), [xarray](https://xarray.pydata.org/en/v0.16.2/computation.html?highlight=Broadcasting#broadcasting-by-dimension-name))."
   ]
  },
  {
   "cell_type": "markdown",
   "id": "e14670ad-0bce-4d27-8fc4-a8e19139dae3",
   "metadata": {},
   "source": [
    "![broadcasting.png](images/broadcasting.png)  \n",
    "\n",
    "*[Image source](https://mathematica.stackexchange.com/questions/99171/how-to-implement-the-general-array-broadcasting-method-from-numpy)*"
   ]
  },
  {
   "cell_type": "code",
   "execution_count": null,
   "id": "a2374579-7900-4265-b2fc-be98f469bccd",
   "metadata": {},
   "outputs": [],
   "source": [
    "nums_col = np.array([0, 10, 20, 30]).reshape(4, 1)\n",
    "nums_row = np.array([0, 1, 2])\n",
    "\n",
    "nums_col + nums_row"
   ]
  },
  {
   "cell_type": "code",
   "execution_count": null,
   "id": "dd0b19d9-e868-4795-9f59-a389f8b9b08b",
   "metadata": {},
   "outputs": [],
   "source": [
    "nums_col = xr.DataArray([0, 10, 20, 30], [('col', [0, 10, 20, 30])])\n",
    "nums_row = xr.DataArray([0, 1, 2], [('row', [0, 1, 2])])\n",
    "\n",
    "nums_col + nums_row"
   ]
  },
  {
   "cell_type": "code",
   "execution_count": null,
   "id": "be66469d-2d77-4b82-9794-69777c36aed5",
   "metadata": {},
   "outputs": [],
   "source": []
  }
 ],
 "metadata": {
  "kernelspec": {
   "display_name": "swd6_hpp",
   "language": "python",
   "name": "swd6_hpp"
  },
  "language_info": {
   "codemirror_mode": {
    "name": "ipython",
    "version": 3
   },
   "file_extension": ".py",
   "mimetype": "text/x-python",
   "name": "python",
   "nbconvert_exporter": "python",
   "pygments_lexer": "ipython3",
   "version": "3.9.7"
  }
 },
 "nbformat": 4,
 "nbformat_minor": 5
}
