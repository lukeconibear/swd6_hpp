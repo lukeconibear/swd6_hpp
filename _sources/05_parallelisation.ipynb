{
 "cells": [
  {
   "cell_type": "markdown",
   "id": "9b05fc18-8748-41aa-b795-f1364eaf9acd",
   "metadata": {},
   "source": [
    "# Parallelisation"
   ]
  },
  {
   "cell_type": "markdown",
   "id": "9c590ffe-72a8-4f07-8a1d-0b3094b1d315",
   "metadata": {},
   "source": [
    "[![Open in Colab](https://colab.research.google.com/assets/colab-badge.svg)](https://colab.research.google.com/github/lukeconibear/swd6_hpp/blob/main/docs/06_parallelisation.ipynb)"
   ]
  },
  {
   "cell_type": "code",
   "execution_count": null,
   "id": "c4a1b046-1d41-480f-b464-30c5aa65d601",
   "metadata": {},
   "outputs": [],
   "source": [
    "import sys\n",
    "IN_COLAB = 'google.colab' in sys.modules\n",
    "if IN_COLAB:\n",
    "    %pip install dask[dataframe] joblib ray"
   ]
  },
  {
   "cell_type": "markdown",
   "id": "bbdb26f9-e07f-46af-a1f4-e8d03138a9dc",
   "metadata": {
    "tags": []
   },
   "source": [
    "## What is it?\n",
    "\n",
    "Parallelisation divides a large problem into many smaller ones and solves them *simultaneously*.\n",
    "- *Divides up the time/space complexity across workers.*\n",
    "- Tasks centrally managed by a scheduler.\n",
    "- Multi-processing (cores)\n",
    "    - Useful for compute-bound problems.\n",
    "    - Overcomes the [Global Interpreter Lock, GIL](https://wiki.python.org/moin/GlobalInterpreterLock) (prevents running the bytecode on mutliple threads simutaneously).  \n",
    "    - Lower performance when need to exchange/aggregate data.\n",
    "    - Suitable for text data and collections.\n",
    "- Multi-threading (parts of processes)\n",
    "    - Useful for memory-bound problems.  \n",
    "    - Suitable for numeric data (e.g., NumPy).\n",
    "    \n",
    "Parallelised code often introduces overheads. So, the speed-up benefits are more pronounced with bigger jobs, rather than some of the small examples used in this tutorial."
   ]
  },
  {
   "cell_type": "code",
   "execution_count": null,
   "id": "d2752000-3b42-4685-a8a2-c6249e732c92",
   "metadata": {},
   "outputs": [],
   "source": []
  },
  {
   "cell_type": "code",
   "execution_count": null,
   "id": "d3cbdf4f-ad1f-49df-adc9-5809c5755afc",
   "metadata": {},
   "outputs": [],
   "source": []
  },
  {
   "cell_type": "markdown",
   "id": "a41785c7-16d2-4a36-8aed-22fc3302a586",
   "metadata": {},
   "source": [
    "```{warning}\n",
    "Issues can arise from pinning processes to specific cores and oversubscribing threads.\n",
    "The following lines are recommended to be placed at the top of your job submission script.\n",
    "```"
   ]
  },
  {
   "cell_type": "markdown",
   "id": "250297b7-d799-492f-b314-9c4f010da51e",
   "metadata": {},
   "source": [
    "```bash\n",
    "# ensure processes not pinned\n",
    "unset GOMP_CPU_AFFINITY\n",
    "\n",
    "# ensure linear algebra libraries using 1 thread\n",
    "# https://docs.dask.org/en/stable/array-best-practices.html#avoid-oversubscribing-threads\n",
    "export OMP_NUM_THREADS=1\n",
    "export MKL_NUM_THREADS=1\n",
    "export OPENBLAS_NUM_THREADS=1\n",
    "```"
   ]
  },
  {
   "cell_type": "markdown",
   "id": "e9c09f95-164c-42fb-bb5e-65b632353227",
   "metadata": {
    "tags": []
   },
   "source": [
    "## Parallelising a Python?\n",
    "\n",
    "Python itself is not designed for massive scalability and controls threads preemptively using the GIL. This has lead many libraries to work around this using C/C++ backends.  \n",
    "\n",
    "Some options include:  "
   ]
  },
  {
   "cell_type": "markdown",
   "id": "12e2f939-6b83-4368-a790-e523f830d7c2",
   "metadata": {},
   "source": [
    "[multiprocessing](https://docs.python.org/3/library/multiprocessing.html) for creating a pool of asynchronous workers. "
   ]
  },
  {
   "cell_type": "code",
   "execution_count": 6,
   "id": "e735fffb-03cc-4645-8021-79f0b526c1fe",
   "metadata": {},
   "outputs": [
    {
     "name": "stdout",
     "output_type": "stream",
     "text": [
      "[1, 4, 9]\n"
     ]
    }
   ],
   "source": [
    "from multiprocessing import Pool\n",
    "\n",
    "def my_function(x):\n",
    "    return x * x\n",
    "\n",
    "if __name__ == '__main__':\n",
    "    with Pool(3) as workers:\n",
    "        print(workers.map(my_function, [1, 2, 3]))"
   ]
  },
  {
   "cell_type": "markdown",
   "id": "4f4d1f6a-25ee-48e2-ba15-312647c16007",
   "metadata": {},
   "source": [
    "[joblib](https://joblib.readthedocs.io/en/latest/) for creating lightweight pipelines that help with \"embaressingly parallel\" tasks."
   ]
  },
  {
   "cell_type": "code",
   "execution_count": 5,
   "id": "3489f601-410e-4730-9bfc-0034471e6045",
   "metadata": {},
   "outputs": [
    {
     "data": {
      "text/plain": [
       "[0.0, 1.0, 2.0, 3.0, 4.0, 5.0, 6.0, 7.0]"
      ]
     },
     "execution_count": 5,
     "metadata": {},
     "output_type": "execute_result"
    }
   ],
   "source": [
    "import joblib\n",
    "import math\n",
    "\n",
    "joblib.Parallel(n_jobs=1)(\n",
    "    joblib.delayed(math.sqrt)(i ** 2) for i in range(8)\n",
    ")"
   ]
  },
  {
   "cell_type": "markdown",
   "id": "2d8264d7-b205-4a05-9f15-e3fe80c17532",
   "metadata": {},
   "source": [
    "[asyncio](https://docs.python.org/3/library/asyncio.html) for concurrent programs, especially ones that are IO-bound.  \n",
    "\n",
    "```python\n",
    "import asyncio\n",
    "\n",
    "async def main():\n",
    "    print('Hello ...')\n",
    "    await asyncio.sleep(1)\n",
    "    print('... World!')\n",
    "    \n",
    "asyncio.run(main())\n",
    "```"
   ]
  },
  {
   "cell_type": "markdown",
   "id": "a68d15a9-431d-4356-a71b-962cd45de919",
   "metadata": {},
   "source": [
    "These options work well for the CPU cores on your machine, though not really beyond that.  "
   ]
  },
  {
   "cell_type": "markdown",
   "id": "aa323619-ca8d-4baf-b261-41822de65db4",
   "metadata": {},
   "source": [
    "## [Dask](https://docs.dask.org/en/latest/)\n",
    "\n",
    "Dask has great features, helpful documentation, and a familiar API.\n",
    "\n",
    "It works through creating and computing [task graphs](https://docs.dask.org/en/stable/graphs.html). \n",
    "\n",
    "Task graphs have nodes (functions) and edges (objects). \n",
    "\n",
    "For example, the task graph might be:\n",
    "- [Embarrassingly parallel](https://en.wikipedia.org/wiki/Embarrassingly_parallel) (apply one function to many pieces of data independently)\n",
    "- [MapReduce](https://en.wikipedia.org/wiki/MapReduce) (map a function to the data and reduce / summarise the output)"
   ]
  },
  {
   "cell_type": "markdown",
   "id": "ce003d62-74a2-4e7f-ab0d-2d4323339586",
   "metadata": {},
   "source": [
    "![dask-task-graphs.svg](images/dask-task-graphs.svg)  \n",
    "\n",
    "*[Image source](https://docs.dask.org/en/stable/graphs.html)*"
   ]
  },
  {
   "cell_type": "markdown",
   "id": "92cd6b67-e9c3-4120-b2cd-69b08b575f56",
   "metadata": {},
   "source": [
    "These task graphs are executed by a [scheduler](https://docs.dask.org/en/stable/scheduling.html).\n",
    "\n",
    "The resources used by this scheduler are managed by a cluster.\n",
    "\n",
    "_Note, this is separate to [ARC's scheduler](https://arcdocs.leeds.ac.uk/usage/start.html)._\n",
    "\n",
    "There are two main types of Dask scheduler which can [deploy jobs](https://docs.dask.org/en/stable/deploying.html):\n",
    "\n",
    "- [Single machine](https://docs.dask.org/en/stable/deploying-python.html)\n",
    "    - Cluster manager: [`LocalCluster()`](http://distributed.dask.org/en/stable/api.html#distributed.LocalCluster)\n",
    "    - Simpler.\n",
    "    - For your laptop or a local server.\n",
    "- [Distributed](https://docs.dask.org/en/stable/deploying-hpc.html)\n",
    "    - Cluster manager: [`SGECluster()`](http://jobqueue.dask.org/en/latest/generated/dask_jobqueue.SGECluster.html), [`SLURMCluster()`](http://jobqueue.dask.org/en/latest/generated/dask_jobqueue.SLURMCluster.html)\n",
    "    - More complex.\n",
    "    - For a cluster on a high performance computer (e.g., SGE, SLURM), Kubernetes, or cloud."
   ]
  },
  {
   "cell_type": "markdown",
   "id": "b926dca7-f1f0-4512-a640-e78143e6a33f",
   "metadata": {},
   "source": [
    "![dask-cluster-manager.svg](images/dask-cluster-manager.svg)  \n",
    "\n",
    "*[Image source](https://docs.dask.org/en/stable/deploying.html)*"
   ]
  },
  {
   "cell_type": "markdown",
   "id": "3d190ba5-8dd6-479e-9302-2d54218f2547",
   "metadata": {
    "tags": []
   },
   "source": [
    "### [Single machine](https://docs.dask.org/en/stable/deploying-python.html)"
   ]
  },
  {
   "cell_type": "code",
   "execution_count": null,
   "id": "14ba8c55-a3a1-429b-8a14-64082ab7e704",
   "metadata": {},
   "outputs": [],
   "source": [
    "if not IN_COLAB:\n",
    "    from dask.distributed import Client, LocalCluster\n",
    "    cluster = LocalCluster()\n",
    "    client = Client(cluster)\n",
    "    client "
   ]
  },
  {
   "cell_type": "markdown",
   "id": "b248ae5b-1a0f-4e21-a673-88820b089e28",
   "metadata": {},
   "source": [
    "If want multiple threads, then could use keyword arguments in Client instance:\n",
    "```python\n",
    "client = Client(processes=False, threads_per_worker=4, n_workers=1)\n",
    "```"
   ]
  },
  {
   "cell_type": "markdown",
   "id": "395bb449-ebc8-4e9d-a1f5-6de7b7b76702",
   "metadata": {},
   "source": [
    "Remember (important), always need to close down the client at the end:\n",
    "```python\n",
    "client.close()\n",
    "```"
   ]
  },
  {
   "cell_type": "markdown",
   "id": "9d96c381-a0bc-4933-82cc-897c7db6a8d1",
   "metadata": {},
   "source": [
    "### Applications"
   ]
  },
  {
   "cell_type": "markdown",
   "id": "877f34e0-90a1-49de-a227-6c404d71043a",
   "metadata": {},
   "source": [
    "#### [dask.array](https://examples.dask.org/array.html) (NumPy)"
   ]
  },
  {
   "cell_type": "code",
   "execution_count": null,
   "id": "8ee52823-6b0e-4e2b-8bd0-d02057492269",
   "metadata": {},
   "outputs": [],
   "source": [
    "import dask.array as da\n",
    "\n",
    "my_array = da.random.random(\n",
    "    (5_000, 5_000),\n",
    "    chunks=(500, 500) # dask chunks\n",
    ")\n",
    "result = my_array + my_array.T\n",
    "print(result)\n",
    "\n",
    "if not IN_COLAB:\n",
    "    result.compute()"
   ]
  },
  {
   "cell_type": "markdown",
   "id": "5678a15a-ac7b-472d-a68d-3ed729945096",
   "metadata": {},
   "source": [
    "#### [dask.dataframe](https://examples.dask.org/dataframe.html) (Pandas)\n",
    "\n",
    "#### [dask.bag](https://examples.dask.org/bag.html)\n",
    "\n",
    "Iterate over a bag of independent objects (embarrassingly parallel)."
   ]
  },
  {
   "cell_type": "markdown",
   "id": "679e9e9b-83a5-43f9-b362-0e7dbb49c49f",
   "metadata": {},
   "source": [
    "#### Dask behind the scenes\n",
    "\n",
    "Dask is under the hood for many libraries e.g. [xarray](http://xarray.pydata.org/en/stable/dask.html), [iris](https://scitools.org.uk/iris/docs/v2.4.0/userguide/real_and_lazy_data.html), [scikit-learn](https://ml.dask.org/)."
   ]
  },
  {
   "cell_type": "code",
   "execution_count": null,
   "id": "0b11d37d-da70-4b7b-a96d-5f2b14a87936",
   "metadata": {},
   "outputs": [],
   "source": [
    "import xarray as xr\n",
    "\n",
    "ds = xr.tutorial.open_dataset(\n",
    "    'air_temperature',\n",
    "    chunks={'time': 'auto'} # dask chunks\n",
    ")\n",
    "\n",
    "ds_mean = ds.mean()\n",
    "print(ds_mean) # a dask.array (an unexecuted task graph)\n",
    "\n",
    "ds_mean.compute()\n",
    "\n",
    "ds.close()"
   ]
  },
  {
   "cell_type": "code",
   "execution_count": null,
   "id": "d14fe2b6-7996-4b7d-a038-01bf6c374bc2",
   "metadata": {},
   "outputs": [],
   "source": [
    "if not IN_COLAB:   \n",
    "    client.close()"
   ]
  },
  {
   "cell_type": "markdown",
   "id": "7db5e4ba-bc52-4214-9284-7e56d72ba9e5",
   "metadata": {},
   "source": [
    "### [Distributed](https://docs.dask.org/en/stable/deploying-hpc.html)"
   ]
  },
  {
   "cell_type": "markdown",
   "id": "a454e8e9-2c23-48d4-b425-c8ddf758eaed",
   "metadata": {},
   "source": [
    "#### [Dask-Jobqueue](http://jobqueue.dask.org/en/latest/)\n",
    "\n",
    "- A variety of resource managers (e.g., [SGE](http://jobqueue.dask.org/en/latest/examples.html#sge-deployments), [SLURM](http://jobqueue.dask.org/en/latest/examples.html#slurm-deployments)).\n",
    "- Batch jobs (recommended)\n",
    "- Interactive jobs \n",
    "    - Dask-Jobqueue is more for interactive work and the adaptive, dynamic scaling of workers.\n",
    "\n",
    "```python\n",
    "from dask.distributed import Client\n",
    "from dask_jobqueue import SGECluster\n",
    "\n",
    "cluster = SGECluster(...)\n",
    "client = Client(cluster)\n",
    "```"
   ]
  },
  {
   "cell_type": "markdown",
   "id": "81f54c13-df58-4183-8350-13f7cc7fa364",
   "metadata": {},
   "source": [
    "#### [Configuration files](http://jobqueue.dask.org/en/latest/configuration.html)\n",
    "\n",
    "- Add ( / update) the [`~/.config/dask/jobqueue.yaml`](https://github.com/lukeconibear/swd6_hpp/blob/main/docs/jobqueue.yaml) file.\n",
    "- [Examples](http://jobqueue.dask.org/en/latest/configurations.html)\n",
    "\n",
    "```yaml\n",
    "jobqueue:\n",
    "\n",
    "  sge:\n",
    "    name: dask-worker\n",
    "\n",
    "    # Dask worker options\n",
    "    cores: 1                   # Total number of cores per job\n",
    "    memory: '1 GB'            # Total amount of memory per job\n",
    "    processes: 1                # Number of Python processes per job\n",
    "\n",
    "    interface: ib0                       # Network interface to use like eth0 or ib0\n",
    "    death-timeout: 60                    # Number of seconds to wait if a worker can not find a scheduler\n",
    "    local-directory: null                # Location of fast local storage like /scratch or $TMPDIR\n",
    "\n",
    "    # SGE resource manager options\n",
    "    shebang: \"#!/usr/bin/env bash\"\n",
    "    queue: null\n",
    "    project: null\n",
    "    walltime: '01:00:00'\n",
    "    extra: []\n",
    "    env-extra: []\n",
    "    job-extra: []\n",
    "    log-directory: null\n",
    "\n",
    "    resource-spec: null\n",
    "\n",
    "distributed:\n",
    "  worker:\n",
    "    memory:\n",
    "      target: false # dont spill to disk\n",
    "      spill: false # dont spill to disk\n",
    "      pause: 0.80 # pause memory execution at 80% use\n",
    "      terminate: 0.95 # restart the worker at 95% use\n",
    "\n",
    "```"
   ]
  },
  {
   "cell_type": "markdown",
   "id": "7df96a59-290f-4aff-9644-e3f5f65d5c97",
   "metadata": {
    "tags": []
   },
   "source": [
    "#### Examples\n",
    "\n",
    "- Create/edit the [`example_dask_jobqueue_sge.py`](https://github.com/lukeconibear/swd6_hpp/blob/main/docs/example_dask_jobqueue_sge.py) file.\n",
    "- Submit to the queue using [`qsub example_dask_jobqueue_sge.bash`](https://github.com/lukeconibear/swd6_hpp/blob/main/docs/example_dask_jobqueue_sge.bash).\n",
    "    - If need to share memory across chunks:  \n",
    "        - Use [shared memory](https://docs.dask.org/en/latest/shared.html) (commonly OpenMP, Open Multi-Processing).\n",
    "        - `-pe smp np` on [ARC4](https://arcdocs.leeds.ac.uk/usage/batchjob.html#list-of-sge-options)\n",
    "    - Otherwise:  \n",
    "        - Use [message passing interface, MPI](https://docs.dask.org/en/latest/setup/hpc.html?highlight=mpi#using-mpi) (commonly OpenMPI).\n",
    "        - `-pe ib np` on [ARC4](https://arcdocs.leeds.ac.uk/usage/batchjob.html#list-of-sge-options)"
   ]
  },
  {
   "cell_type": "markdown",
   "id": "28324f52-07e4-4a48-81bb-51a5bcf052b9",
   "metadata": {},
   "source": [
    "#### [Dask-MPI](http://mpi.dask.org/en/latest/)\n",
    "\n",
    "Uses the `mpi4py` package and MPI to distribute the workers (not communication).\n",
    "\n",
    "- [Batch jobs](http://mpi.dask.org/en/latest/batch.html) (recommended)\n",
    "    - Ensure that number of cores here match that in the requested resources at the top\n",
    "- Interactive jobs\n"
   ]
  },
  {
   "cell_type": "markdown",
   "id": "f39a8f6e-523c-44fe-8c21-64eb72d92f6d",
   "metadata": {},
   "source": []
  },
  {
   "cell_type": "markdown",
   "id": "4bc84ee4-b552-4c3e-93e8-00778dbc6457",
   "metadata": {
    "tags": []
   },
   "source": [
    "\n",
    "\n",
    "\n",
    "\n"
   ]
  },
  {
   "cell_type": "code",
   "execution_count": null,
   "id": "2c5e899f-5033-4278-9b0f-128ce5b57d43",
   "metadata": {},
   "outputs": [],
   "source": []
  },
  {
   "cell_type": "code",
   "execution_count": null,
   "id": "9772e4d1-2e0b-4eaa-bfba-9f2b404e4571",
   "metadata": {},
   "outputs": [],
   "source": []
  },
  {
   "cell_type": "code",
   "execution_count": null,
   "id": "82962be1-29e0-4b00-aae0-b90027a5d87d",
   "metadata": {},
   "outputs": [],
   "source": []
  },
  {
   "cell_type": "code",
   "execution_count": null,
   "id": "b68a9bb2-db69-439d-ba9d-459c44e3312b",
   "metadata": {},
   "outputs": [],
   "source": []
  },
  {
   "cell_type": "code",
   "execution_count": null,
   "id": "81490d0d-ab66-4160-9b8c-a6c7b20ea3ac",
   "metadata": {},
   "outputs": [],
   "source": []
  },
  {
   "cell_type": "markdown",
   "id": "543795a3-55a2-4fd9-a0f5-09074c0ce3a1",
   "metadata": {},
   "source": [
    "### [Profiling and diagnostics](https://docs.dask.org/en/stable/understanding-performance.html)\n",
    "\n",
    "Many of the profiling tools we looked at earlier don't work well with parallel code.\n",
    "\n"
   ]
  },
  {
   "cell_type": "markdown",
   "id": "6b3de8e2-e6ad-4726-bb29-2031a4399704",
   "metadata": {},
   "source": [
    "#### [Visualise the task graph](https://docs.dask.org/en/stable/graphviz.html)\n",
    "\n",
    "Before executing the computation, you could visualise the task graph.\n",
    "\n",
    "This can help find potential bottlenecks.\n",
    "\n",
    "For example:\n",
    "\n",
    "```python\n",
    "import dask.array as da\n",
    "x = da.ones((15, 15), chunks=(5, 5))\n",
    "y = x + x.T\n",
    "y.visualize(filename='dask-transpose.svg')\n",
    "```\n",
    "\n",
    "![dask-transpose.svg](images/dask-transpose.svg)  \n",
    "\n",
    "*[Image source](https://docs.dask.org/en/stable/graphviz.html)*"
   ]
  },
  {
   "cell_type": "markdown",
   "id": "9a7acbff-b7f1-455a-b52e-bda9768600da",
   "metadata": {
    "tags": []
   },
   "source": [
    "#### [Local diagnostics](https://docs.dask.org/en/stable/diagnostics-local.html)\n",
    "\n",
    "For work on your laptop or local server.\n",
    "\n",
    "Can use the\n",
    "- [`Profiler()`](https://docs.dask.org/en/stable/diagnostics-local.html#dask.diagnostics.Profiler) for task execution.\n",
    "    - Each worker (rows on y-axis) has tasks (blocks) of different types (colours).\n",
    "    - Time duration (x-axis).\n",
    "- [`ResourceProfiler()`](https://docs.dask.org/en/stable/diagnostics-local.html#dask.diagnostics.ResourceProfiler) for resource use.\n",
    "    - Percentage CPU usage (left y-axis) and memory usage (right y-axis).\n",
    "- [`CacheProfiler()`](https://docs.dask.org/en/stable/diagnostics-local.html#dask.diagnostics.CacheProfiler) for scheduler cache.\n",
    "    - Cache size (y-axis) of different types (colours).\n",
    "\n",
    "For example:\n",
    "\n",
    "```python\n",
    "import dask.array as da\n",
    "from dask.diagnostics import Profiler, ResourceProfiler, CacheProfiler, visualize\n",
    "\n",
    "# Example linear algebra (QR decomposition) with Dask Array to demonstrate diagnostics.\n",
    "# Taken from https://docs.dask.org/en/stable/diagnostics-local.html#example\n",
    "random_array = da.random.random(size=(10_000, 1_000), chunks=(1_000, 1_000))\n",
    "q, r = da.linalg.qr(random_array)\n",
    "random_array_reconstructed = q.dot(r)\n",
    "\n",
    "# the profilers are just context managers\n",
    "# hence, can use many in a with block\n",
    "with Profiler() as prof, ResourceProfiler(dt=0.25) as rprof, CacheProfiler() as cprof:\n",
    "    out = random_array_reconstructed.compute()\n",
    "\n",
    "visualize([prof, rprof, cprof], save=True)\n",
    "```\n",
    "\n",
    "Returns local diagnostics that can viewed in the browser:\n",
    "- Each array creation runs concurrently.\n",
    "- Reduction step to combine the blocks (serial and held in cache).\n",
    "- Released from cache.\n",
    "- Parallel execution of `dot` and `sum`."
   ]
  },
  {
   "cell_type": "code",
   "execution_count": 2,
   "id": "2eb445f5-1656-449c-a19e-b6230d25bf1c",
   "metadata": {
    "tags": [
     "remove_input"
    ]
   },
   "outputs": [
    {
     "data": {
      "text/html": [
       "\n",
       "\n",
       "\n",
       "\n",
       "<!DOCTYPE html>\n",
       "<html lang=\"en\">\n",
       "  \n",
       "  <head>\n",
       "    \n",
       "      <meta charset=\"utf-8\">\n",
       "      <title>Bokeh Plot</title>\n",
       "      \n",
       "      \n",
       "        \n",
       "          \n",
       "        \n",
       "        \n",
       "          \n",
       "        <script type=\"text/javascript\" src=\"https://cdn.bokeh.org/bokeh/release/bokeh-2.4.1.min.js\"></script>\n",
       "        <script type=\"text/javascript\">\n",
       "            Bokeh.set_log_level(\"info\");\n",
       "        </script>\n",
       "        \n",
       "      \n",
       "      \n",
       "    \n",
       "  </head>\n",
       "  \n",
       "  \n",
       "  <body>\n",
       "    \n",
       "      \n",
       "        \n",
       "          \n",
       "          \n",
       "            \n",
       "              <div class=\"bk-root\" id=\"97b1483c-eb57-43b2-9f9c-1c8a116b0b04\" data-root-id=\"1251\"></div>\n",
       "            \n",
       "          \n",
       "        \n",
       "      \n",
       "      \n",
       "        <script type=\"application/json\" id=\"1798\">\n",
       "          {\"ae691afc-78a8-4fe6-ac03-f2256c5c4676\":{\"defs\":[],\"roots\":{\"references\":[{\"attributes\":{\"line_alpha\":0.2,\"line_color\":\"#29788E\",\"line_width\":3,\"x\":{\"field\":\"x\"},\"y\":{\"field\":\"y\"}},\"id\":\"1146\",\"type\":\"Line\"},{\"attributes\":{},\"id\":\"1108\",\"type\":\"UnionRenderers\"},{\"attributes\":{},\"id\":\"1197\",\"type\":\"UnionRenderers\"},{\"attributes\":{\"line_alpha\":0.1,\"line_color\":\"#22A784\",\"line_width\":3,\"x\":{\"field\":\"x\"},\"y\":{\"field\":\"y\"}},\"id\":\"1166\",\"type\":\"Line\"},{\"attributes\":{},\"id\":\"1109\",\"type\":\"Selection\"},{\"attributes\":{},\"id\":\"1198\",\"type\":\"Selection\"},{\"attributes\":{\"line_color\":\"#29788E\",\"line_width\":3,\"x\":{\"field\":\"x\"},\"y\":{\"field\":\"y\"}},\"id\":\"1144\",\"type\":\"Line\"},{\"attributes\":{\"line_color\":\"#440154\",\"line_width\":3,\"x\":{\"field\":\"x\"},\"y\":{\"field\":\"y\"}},\"id\":\"1151\",\"type\":\"Line\"},{\"attributes\":{\"line_alpha\":0.1,\"line_color\":\"#29788E\",\"line_width\":3,\"x\":{\"field\":\"x\"},\"y\":{\"field\":\"y\"}},\"id\":\"1145\",\"type\":\"Line\"},{\"attributes\":{\"source\":{\"id\":\"1142\"}},\"id\":\"1148\",\"type\":\"CDSView\"},{\"attributes\":{},\"id\":\"1186\",\"type\":\"BasicTickFormatter\"},{\"attributes\":{},\"id\":\"1199\",\"type\":\"UnionRenderers\"},{\"attributes\":{\"axis_label\":\"% CPU\",\"coordinates\":null,\"formatter\":{\"id\":\"1083\"},\"group\":null,\"major_label_policy\":{\"id\":\"1084\"},\"ticker\":{\"id\":\"1063\"}},\"id\":\"1062\",\"type\":\"LinearAxis\"},{\"attributes\":{},\"id\":\"1011\",\"type\":\"CategoricalScale\"},{\"attributes\":{\"axis\":{\"id\":\"1058\"},\"coordinates\":null,\"group\":null,\"ticker\":null},\"id\":\"1061\",\"type\":\"Grid\"},{\"attributes\":{\"coordinates\":null,\"data_source\":{\"id\":\"1142\"},\"glyph\":{\"id\":\"1144\"},\"group\":null,\"hover_glyph\":null,\"muted_glyph\":{\"id\":\"1146\"},\"nonselection_glyph\":{\"id\":\"1145\"},\"view\":{\"id\":\"1148\"}},\"id\":\"1147\",\"type\":\"GlyphRenderer\"},{\"attributes\":{},\"id\":\"1187\",\"type\":\"AllLabels\"},{\"attributes\":{\"data\":{\"label\":[\"_\",\"_\",\"_\",\"_\",\"_\",\"_\",\"_\",\"_\",\"_\",\"_\",\"_\",\"_\",\"_\",\"_\",\"_\",\"_\",\"_\",\"_\",\"_\",\"_\",\"_\",\"_\",\"_\",\"_\",\"_\",\"_\",\"_\",\"_\",\"_\",\"_\",\"_\",\"_\",\"_\",\"_\",\"_\",\"_\",\"_\",\"_\",\"_\",\"_\",\"_\",\"_\",\"_\",\"_\",\"_\",\"_\",\"_\",\"_\",\"_\",\"_\",\"_\",\"_\",\"_\",\"_\",\"_\",\"_\",\"_\",\"_\",\"_\",\"_\",\"_\",\"_\",\"_\",\"_\",\"_\",\"_\",\"_\",\"_\",\"_\",\"_\",\"_\",\"_\",\"_\",\"_\",\"_\",\"_\"],\"x\":[0,0.6090371150057763,0.6339190260041505,0.6371179870038759,0.6372572860273067,0.7969783260195982,0.797057952004252,0.797097245027544,0.7971316980256233,0.7971642590127885,0.79719559600926,0.7974993620009627,0.7975828860071488,0.7976291740196757,0.7976689470233396,0.7977120650175493,0.7977509170013946,0.7979236400278751,0.7979640480189119,0.7979974310146645,0.7980285330268089,0.7980589190265164,0.7980906350130681,0.7983995200193021,0.7984528600063641,0.7984723990084603,0.7984907470236067,0.7985266550094821,0.7985429800173733,0.9059785840217955,0.9061748860112857,0.9148743460245896,0.9149025590158999,0.9157041840080637,0.954673731001094,0.954843448009342,0.9548634600068908,0.9643735050049145,0.9645082510251086,0.9646390770212747,0.9646972960035782,1.8333333850023337,1.833532685006503,1.8336738690268248,1.8338166360044852,1.8340433850244153,1.8340851460234262,1.8341202340088785,1.8341531100159045,1.83418609702494,1.8342192750133108,1.8342692380247172,1.8343062850181013,1.8575272420130204,1.8899914500070736,1.908430939016398,1.9269605270237662,1.9466163690085523,1.972579425026197,1.9782700550276786,2.0087790400139056,2.0090092180180363,2.0111126250121742,2.0112918090017047,2.034265217022039,2.0544075650104787,2.0717780550185125,2.082798540010117,2.096622147015296,2.109089594014222,2.1349228670005687,2.1547789120231755,2.161945880012354,2.1781196190277115,2.1926152640080545,2.1927936670253985],\"y\":[0,0,1,1,0,0,0,0,0,0,0,1,2,3,4,5,6,6,6,6,6,6,6,5,4,3,2,1,0,0,1,1,0,0,1,1,0,0,1,1,0,0,1,1,0,0,0,0,0,0,0,0,0,0,0,0,0,0,0,0,0,0,0,0,0,0,0,0,0,0,0,0,0,0,0,0]},\"selected\":{\"id\":\"1194\"},\"selection_policy\":{\"id\":\"1193\"}},\"id\":\"1149\",\"type\":\"ColumnDataSource\"},{\"attributes\":{},\"id\":\"1200\",\"type\":\"Selection\"},{\"attributes\":{\"axis\":{\"id\":\"1062\"},\"coordinates\":null,\"dimension\":1,\"group\":null,\"ticker\":null},\"id\":\"1065\",\"type\":\"Grid\"},{\"attributes\":{},\"id\":\"1219\",\"type\":\"AllLabels\"},{\"attributes\":{},\"id\":\"1059\",\"type\":\"BasicTicker\"},{\"attributes\":{},\"id\":\"1189\",\"type\":\"BasicTickFormatter\"},{\"attributes\":{\"line_alpha\":0.2,\"line_color\":\"#440154\",\"line_width\":3,\"x\":{\"field\":\"x\"},\"y\":{\"field\":\"y\"}},\"id\":\"1153\",\"type\":\"Line\"},{\"attributes\":{\"below\":[{\"id\":\"1058\"}],\"center\":[{\"id\":\"1061\"},{\"id\":\"1065\"},{\"id\":\"1090\"}],\"extra_y_ranges\":{\"memory\":{\"id\":\"1092\"}},\"height\":240,\"left\":[{\"id\":\"1062\"}],\"min_border_bottom\":20,\"min_border_left\":75,\"min_border_right\":75,\"min_border_top\":20,\"renderers\":[{\"id\":\"1079\"},{\"id\":\"1097\"}],\"right\":[{\"id\":\"1111\"}],\"title\":null,\"toolbar\":{\"id\":\"1070\"},\"toolbar_location\":null,\"width\":800,\"x_range\":{\"id\":\"1005\"},\"x_scale\":{\"id\":\"1054\"},\"y_range\":{\"id\":\"1052\"},\"y_scale\":{\"id\":\"1056\"}},\"id\":\"1047\",\"subtype\":\"Figure\",\"type\":\"Plot\"},{\"attributes\":{\"dimensions\":\"width\"},\"id\":\"1069\",\"type\":\"PanTool\"},{\"attributes\":{\"toolbar\":{\"id\":\"1249\"},\"toolbar_location\":\"above\"},\"id\":\"1250\",\"type\":\"ToolbarBox\"},{\"attributes\":{\"toolbars\":[{\"id\":\"1025\"},{\"id\":\"1070\"},{\"id\":\"1136\"}],\"tools\":[{\"id\":\"1020\"},{\"id\":\"1021\"},{\"id\":\"1022\"},{\"id\":\"1023\"},{\"id\":\"1024\"},{\"id\":\"1066\"},{\"id\":\"1067\"},{\"id\":\"1068\"},{\"id\":\"1069\"},{\"id\":\"1131\"},{\"id\":\"1132\"},{\"id\":\"1133\"},{\"id\":\"1134\"},{\"id\":\"1135\"}]},\"id\":\"1249\",\"type\":\"ProxyToolbar\"},{\"attributes\":{},\"id\":\"1063\",\"type\":\"BasicTicker\"},{\"attributes\":{\"source\":{\"id\":\"1149\"}},\"id\":\"1155\",\"type\":\"CDSView\"},{\"attributes\":{\"data\":{\"x\":[0.0,0.26096022900310345,0.5116138019948266,0.7622975470148958,1.0134104890166782,1.2647701970126946,1.515426488011144,1.7661305160145275,2.021048255992355],\"y\":[0.0,716.4,766.1,765.8,740.8,763.8,750.0,761.9,757.1]},\"selected\":{\"id\":\"1089\"},\"selection_policy\":{\"id\":\"1088\"}},\"id\":\"1075\",\"type\":\"ColumnDataSource\"},{\"attributes\":{\"line_alpha\":0.1,\"line_color\":\"#440154\",\"line_width\":3,\"x\":{\"field\":\"x\"},\"y\":{\"field\":\"y\"}},\"id\":\"1152\",\"type\":\"Line\"},{\"attributes\":{},\"id\":\"1190\",\"type\":\"AllLabels\"},{\"attributes\":{\"below\":[{\"id\":\"1013\"}],\"center\":[{\"id\":\"1016\"},{\"id\":\"1019\"}],\"height\":270,\"left\":[{\"id\":\"1017\"}],\"min_border_bottom\":20,\"min_border_left\":75,\"min_border_right\":75,\"renderers\":[{\"id\":\"1036\"}],\"title\":{\"id\":\"1003\"},\"toolbar\":{\"id\":\"1025\"},\"toolbar_location\":null,\"width\":800,\"x_range\":{\"id\":\"1005\"},\"x_scale\":{\"id\":\"1009\"},\"y_range\":{\"id\":\"1007\"},\"y_scale\":{\"id\":\"1011\"}},\"id\":\"1002\",\"subtype\":\"Figure\",\"type\":\"Plot\"},{\"attributes\":{\"dimensions\":\"width\"},\"id\":\"1068\",\"type\":\"WheelZoomTool\"},{\"attributes\":{\"source\":{\"id\":\"1163\"}},\"id\":\"1169\",\"type\":\"CDSView\"},{\"attributes\":{},\"id\":\"1067\",\"type\":\"ResetTool\"},{\"attributes\":{\"data\":{\"label\":[\"getitem(_, *)\",\"getitem(_, *)\",\"getitem(_, *)\",\"getitem(_, *)\",\"getitem(_, *)\",\"getitem(_, *)\",\"getitem(_, *)\",\"getitem(_, *)\",\"getitem(_, *)\",\"getitem(_, *)\",\"getitem(_, *)\",\"getitem(_, *)\",\"getitem(_, *)\",\"getitem(_, *)\",\"getitem(_, *)\",\"getitem(_, *)\",\"getitem(_, *)\",\"getitem(_, *)\",\"getitem(_, *)\",\"getitem(_, *)\",\"getitem(_, *)\",\"getitem(_, *)\",\"getitem(_, *)\",\"getitem(_, *)\",\"getitem(_, *)\",\"getitem(_, *)\",\"getitem(_, *)\",\"getitem(_, *)\",\"getitem(_, *)\",\"getitem(_, *)\",\"getitem(_, *)\",\"getitem(_, *)\",\"getitem(_, *)\",\"getitem(_, *)\",\"getitem(_, *)\",\"getitem(_, *)\",\"getitem(_, *)\",\"getitem(_, *)\",\"getitem(_, *)\",\"getitem(_, *)\",\"getitem(_, *)\",\"getitem(_, *)\",\"getitem(_, *)\",\"getitem(_, *)\",\"getitem(_, *)\",\"getitem(_, *)\",\"getitem(_, *)\",\"getitem(_, *)\",\"getitem(_, *)\",\"getitem(_, *)\",\"getitem(_, *)\",\"getitem(_, *)\",\"getitem(_, *)\",\"getitem(_, *)\",\"getitem(_, *)\",\"getitem(_, *)\",\"getitem(_, *)\",\"getitem(_, *)\",\"getitem(_, *)\",\"getitem(_, *)\",\"getitem(_, *)\",\"getitem(_, *)\",\"getitem(_, *)\",\"getitem(_, *)\",\"getitem(_, *)\",\"getitem(_, *)\",\"getitem(_, *)\",\"getitem(_, *)\",\"getitem(_, *)\",\"getitem(_, *)\",\"getitem(_, *)\",\"getitem(_, *)\",\"getitem(_, *)\",\"getitem(_, *)\",\"getitem(_, *)\",\"getitem(_, *)\"],\"x\":[0,0.6090371150057763,0.6339190260041505,0.6371179870038759,0.6372572860273067,0.7969783260195982,0.797057952004252,0.797097245027544,0.7971316980256233,0.7971642590127885,0.79719559600926,0.7974993620009627,0.7975828860071488,0.7976291740196757,0.7976689470233396,0.7977120650175493,0.7977509170013946,0.7979236400278751,0.7979640480189119,0.7979974310146645,0.7980285330268089,0.7980589190265164,0.7980906350130681,0.7983995200193021,0.7984528600063641,0.7984723990084603,0.7984907470236067,0.7985266550094821,0.7985429800173733,0.9059785840217955,0.9061748860112857,0.9148743460245896,0.9149025590158999,0.9157041840080637,0.954673731001094,0.954843448009342,0.9548634600068908,0.9643735050049145,0.9645082510251086,0.9646390770212747,0.9646972960035782,1.8333333850023337,1.833532685006503,1.8336738690268248,1.8338166360044852,1.8340433850244153,1.8340851460234262,1.8341202340088785,1.8341531100159045,1.83418609702494,1.8342192750133108,1.8342692380247172,1.8343062850181013,1.8575272420130204,1.8899914500070736,1.908430939016398,1.9269605270237662,1.9466163690085523,1.972579425026197,1.9782700550276786,2.0087790400139056,2.0090092180180363,2.0111126250121742,2.0112918090017047,2.034265217022039,2.0544075650104787,2.0717780550185125,2.082798540010117,2.096622147015296,2.109089594014222,2.1349228670005687,2.1547789120231755,2.161945880012354,2.1781196190277115,2.1926152640080545,2.1927936670253985],\"y\":[0,0,0,1,2,2,2,2,2,2,2,2,2,2,2,2,2,3,4,5,6,7,8,9,10,11,12,13,14,14,14,15,16,16,16,17,18,18,18,19,20,10,10,11,12,13,14,15,16,17,18,19,20,18,16,14,12,10,8,6,6,7,7,7,7,7,7,7,5,5,3,1,1,1,0,0]},\"selected\":{\"id\":\"1196\"},\"selection_policy\":{\"id\":\"1195\"}},\"id\":\"1156\",\"type\":\"ColumnDataSource\"},{\"attributes\":{},\"id\":\"1066\",\"type\":\"SaveTool\"},{\"attributes\":{\"coordinates\":null,\"data_source\":{\"id\":\"1149\"},\"glyph\":{\"id\":\"1151\"},\"group\":null,\"hover_glyph\":null,\"muted_glyph\":{\"id\":\"1153\"},\"nonselection_glyph\":{\"id\":\"1152\"},\"view\":{\"id\":\"1155\"}},\"id\":\"1154\",\"type\":\"GlyphRenderer\"},{\"attributes\":{\"data\":{\"label\":[\"subgraph_callable-023c2c09-bde3-46d9-a6e1-137afa43(vstack(...))\",\"subgraph_callable-023c2c09-bde3-46d9-a6e1-137afa43(vstack(...))\",\"subgraph_callable-023c2c09-bde3-46d9-a6e1-137afa43(vstack(...))\",\"subgraph_callable-023c2c09-bde3-46d9-a6e1-137afa43(vstack(...))\",\"subgraph_callable-023c2c09-bde3-46d9-a6e1-137afa43(vstack(...))\",\"subgraph_callable-023c2c09-bde3-46d9-a6e1-137afa43(vstack(...))\",\"subgraph_callable-023c2c09-bde3-46d9-a6e1-137afa43(vstack(...))\",\"subgraph_callable-023c2c09-bde3-46d9-a6e1-137afa43(vstack(...))\",\"subgraph_callable-023c2c09-bde3-46d9-a6e1-137afa43(vstack(...))\",\"subgraph_callable-023c2c09-bde3-46d9-a6e1-137afa43(vstack(...))\",\"subgraph_callable-023c2c09-bde3-46d9-a6e1-137afa43(vstack(...))\",\"subgraph_callable-023c2c09-bde3-46d9-a6e1-137afa43(vstack(...))\",\"subgraph_callable-023c2c09-bde3-46d9-a6e1-137afa43(vstack(...))\",\"subgraph_callable-023c2c09-bde3-46d9-a6e1-137afa43(vstack(...))\",\"subgraph_callable-023c2c09-bde3-46d9-a6e1-137afa43(vstack(...))\",\"subgraph_callable-023c2c09-bde3-46d9-a6e1-137afa43(vstack(...))\",\"subgraph_callable-023c2c09-bde3-46d9-a6e1-137afa43(vstack(...))\",\"subgraph_callable-023c2c09-bde3-46d9-a6e1-137afa43(vstack(...))\",\"subgraph_callable-023c2c09-bde3-46d9-a6e1-137afa43(vstack(...))\",\"subgraph_callable-023c2c09-bde3-46d9-a6e1-137afa43(vstack(...))\",\"subgraph_callable-023c2c09-bde3-46d9-a6e1-137afa43(vstack(...))\",\"subgraph_callable-023c2c09-bde3-46d9-a6e1-137afa43(vstack(...))\",\"subgraph_callable-023c2c09-bde3-46d9-a6e1-137afa43(vstack(...))\",\"subgraph_callable-023c2c09-bde3-46d9-a6e1-137afa43(vstack(...))\",\"subgraph_callable-023c2c09-bde3-46d9-a6e1-137afa43(vstack(...))\",\"subgraph_callable-023c2c09-bde3-46d9-a6e1-137afa43(vstack(...))\",\"subgraph_callable-023c2c09-bde3-46d9-a6e1-137afa43(vstack(...))\",\"subgraph_callable-023c2c09-bde3-46d9-a6e1-137afa43(vstack(...))\",\"subgraph_callable-023c2c09-bde3-46d9-a6e1-137afa43(vstack(...))\",\"subgraph_callable-023c2c09-bde3-46d9-a6e1-137afa43(vstack(...))\",\"subgraph_callable-023c2c09-bde3-46d9-a6e1-137afa43(vstack(...))\",\"subgraph_callable-023c2c09-bde3-46d9-a6e1-137afa43(vstack(...))\",\"subgraph_callable-023c2c09-bde3-46d9-a6e1-137afa43(vstack(...))\",\"subgraph_callable-023c2c09-bde3-46d9-a6e1-137afa43(vstack(...))\",\"subgraph_callable-023c2c09-bde3-46d9-a6e1-137afa43(vstack(...))\",\"subgraph_callable-023c2c09-bde3-46d9-a6e1-137afa43(vstack(...))\",\"subgraph_callable-023c2c09-bde3-46d9-a6e1-137afa43(vstack(...))\",\"subgraph_callable-023c2c09-bde3-46d9-a6e1-137afa43(vstack(...))\",\"subgraph_callable-023c2c09-bde3-46d9-a6e1-137afa43(vstack(...))\",\"subgraph_callable-023c2c09-bde3-46d9-a6e1-137afa43(vstack(...))\",\"subgraph_callable-023c2c09-bde3-46d9-a6e1-137afa43(vstack(...))\",\"subgraph_callable-023c2c09-bde3-46d9-a6e1-137afa43(vstack(...))\",\"subgraph_callable-023c2c09-bde3-46d9-a6e1-137afa43(vstack(...))\",\"subgraph_callable-023c2c09-bde3-46d9-a6e1-137afa43(vstack(...))\",\"subgraph_callable-023c2c09-bde3-46d9-a6e1-137afa43(vstack(...))\",\"subgraph_callable-023c2c09-bde3-46d9-a6e1-137afa43(vstack(...))\",\"subgraph_callable-023c2c09-bde3-46d9-a6e1-137afa43(vstack(...))\",\"subgraph_callable-023c2c09-bde3-46d9-a6e1-137afa43(vstack(...))\",\"subgraph_callable-023c2c09-bde3-46d9-a6e1-137afa43(vstack(...))\",\"subgraph_callable-023c2c09-bde3-46d9-a6e1-137afa43(vstack(...))\",\"subgraph_callable-023c2c09-bde3-46d9-a6e1-137afa43(vstack(...))\",\"subgraph_callable-023c2c09-bde3-46d9-a6e1-137afa43(vstack(...))\",\"subgraph_callable-023c2c09-bde3-46d9-a6e1-137afa43(vstack(...))\",\"subgraph_callable-023c2c09-bde3-46d9-a6e1-137afa43(vstack(...))\",\"subgraph_callable-023c2c09-bde3-46d9-a6e1-137afa43(vstack(...))\",\"subgraph_callable-023c2c09-bde3-46d9-a6e1-137afa43(vstack(...))\",\"subgraph_callable-023c2c09-bde3-46d9-a6e1-137afa43(vstack(...))\",\"subgraph_callable-023c2c09-bde3-46d9-a6e1-137afa43(vstack(...))\",\"subgraph_callable-023c2c09-bde3-46d9-a6e1-137afa43(vstack(...))\",\"subgraph_callable-023c2c09-bde3-46d9-a6e1-137afa43(vstack(...))\",\"subgraph_callable-023c2c09-bde3-46d9-a6e1-137afa43(vstack(...))\",\"subgraph_callable-023c2c09-bde3-46d9-a6e1-137afa43(vstack(...))\",\"subgraph_callable-023c2c09-bde3-46d9-a6e1-137afa43(vstack(...))\",\"subgraph_callable-023c2c09-bde3-46d9-a6e1-137afa43(vstack(...))\",\"subgraph_callable-023c2c09-bde3-46d9-a6e1-137afa43(vstack(...))\",\"subgraph_callable-023c2c09-bde3-46d9-a6e1-137afa43(vstack(...))\",\"subgraph_callable-023c2c09-bde3-46d9-a6e1-137afa43(vstack(...))\",\"subgraph_callable-023c2c09-bde3-46d9-a6e1-137afa43(vstack(...))\",\"subgraph_callable-023c2c09-bde3-46d9-a6e1-137afa43(vstack(...))\",\"subgraph_callable-023c2c09-bde3-46d9-a6e1-137afa43(vstack(...))\",\"subgraph_callable-023c2c09-bde3-46d9-a6e1-137afa43(vstack(...))\",\"subgraph_callable-023c2c09-bde3-46d9-a6e1-137afa43(vstack(...))\",\"subgraph_callable-023c2c09-bde3-46d9-a6e1-137afa43(vstack(...))\",\"subgraph_callable-023c2c09-bde3-46d9-a6e1-137afa43(vstack(...))\",\"subgraph_callable-023c2c09-bde3-46d9-a6e1-137afa43(vstack(...))\",\"subgraph_callable-023c2c09-bde3-46d9-a6e1-137afa43(vstack(...))\"],\"x\":[0,0.6090371150057763,0.6339190260041505,0.6371179870038759,0.6372572860273067,0.7969783260195982,0.797057952004252,0.797097245027544,0.7971316980256233,0.7971642590127885,0.79719559600926,0.7974993620009627,0.7975828860071488,0.7976291740196757,0.7976689470233396,0.7977120650175493,0.7977509170013946,0.7979236400278751,0.7979640480189119,0.7979974310146645,0.7980285330268089,0.7980589190265164,0.7980906350130681,0.7983995200193021,0.7984528600063641,0.7984723990084603,0.7984907470236067,0.7985266550094821,0.7985429800173733,0.9059785840217955,0.9061748860112857,0.9148743460245896,0.9149025590158999,0.9157041840080637,0.954673731001094,0.954843448009342,0.9548634600068908,0.9643735050049145,0.9645082510251086,0.9646390770212747,0.9646972960035782,1.8333333850023337,1.833532685006503,1.8336738690268248,1.8338166360044852,1.8340433850244153,1.8340851460234262,1.8341202340088785,1.8341531100159045,1.83418609702494,1.8342192750133108,1.8342692380247172,1.8343062850181013,1.8575272420130204,1.8899914500070736,1.908430939016398,1.9269605270237662,1.9466163690085523,1.972579425026197,1.9782700550276786,2.0087790400139056,2.0090092180180363,2.0111126250121742,2.0112918090017047,2.034265217022039,2.0544075650104787,2.0717780550185125,2.082798540010117,2.096622147015296,2.109089594014222,2.1349228670005687,2.1547789120231755,2.161945880012354,2.1781196190277115,2.1926152640080545,2.1927936670253985],\"y\":[0,0,0,0,0,0,0,0,0,0,0,0,0,0,0,0,0,0,0,0,0,0,0,0,0,0,0,0,0,0,0,0,0,0,0,0,0,0,0,0,0,1,0,0,0,0,0,0,0,0,0,0,0,0,0,0,0,0,0,0,0,0,0,0,0,0,0,0,0,0,0,0,0,0,0,0]},\"selected\":{\"id\":\"1198\"},\"selection_policy\":{\"id\":\"1197\"}},\"id\":\"1163\",\"type\":\"ColumnDataSource\"},{\"attributes\":{\"coordinates\":null,\"data_source\":{\"id\":\"1156\"},\"glyph\":{\"id\":\"1158\"},\"group\":null,\"hover_glyph\":null,\"muted_glyph\":{\"id\":\"1160\"},\"nonselection_glyph\":{\"id\":\"1159\"},\"view\":{\"id\":\"1162\"}},\"id\":\"1161\",\"type\":\"GlyphRenderer\"},{\"attributes\":{\"source\":{\"id\":\"1156\"}},\"id\":\"1162\",\"type\":\"CDSView\"},{\"attributes\":{\"end\":615.051264,\"start\":142.225408},\"id\":\"1092\",\"type\":\"Range1d\"},{\"attributes\":{\"line_color\":\"#22A784\",\"line_width\":3,\"x\":{\"field\":\"x\"},\"y\":{\"field\":\"y\"}},\"id\":\"1165\",\"type\":\"Line\"},{\"attributes\":{},\"id\":\"1201\",\"type\":\"UnionRenderers\"},{\"attributes\":{},\"id\":\"1218\",\"type\":\"BasicTickFormatter\"},{\"attributes\":{\"line_alpha\":0.2,\"line_color\":\"#22A784\",\"line_width\":3,\"x\":{\"field\":\"x\"},\"y\":{\"field\":\"y\"}},\"id\":\"1167\",\"type\":\"Line\"},{\"attributes\":{},\"id\":\"1191\",\"type\":\"UnionRenderers\"},{\"attributes\":{\"data\":{\"label\":[\"subgraph_callable-00d63e0a-335f-416e-acb5-ad5b4cc6(_apply_random(...))\",\"subgraph_callable-00d63e0a-335f-416e-acb5-ad5b4cc6(_apply_random(...))\",\"subgraph_callable-00d63e0a-335f-416e-acb5-ad5b4cc6(_apply_random(...))\",\"subgraph_callable-00d63e0a-335f-416e-acb5-ad5b4cc6(_apply_random(...))\",\"subgraph_callable-00d63e0a-335f-416e-acb5-ad5b4cc6(_apply_random(...))\",\"subgraph_callable-00d63e0a-335f-416e-acb5-ad5b4cc6(_apply_random(...))\",\"subgraph_callable-00d63e0a-335f-416e-acb5-ad5b4cc6(_apply_random(...))\",\"subgraph_callable-00d63e0a-335f-416e-acb5-ad5b4cc6(_apply_random(...))\",\"subgraph_callable-00d63e0a-335f-416e-acb5-ad5b4cc6(_apply_random(...))\",\"subgraph_callable-00d63e0a-335f-416e-acb5-ad5b4cc6(_apply_random(...))\",\"subgraph_callable-00d63e0a-335f-416e-acb5-ad5b4cc6(_apply_random(...))\",\"subgraph_callable-00d63e0a-335f-416e-acb5-ad5b4cc6(_apply_random(...))\",\"subgraph_callable-00d63e0a-335f-416e-acb5-ad5b4cc6(_apply_random(...))\",\"subgraph_callable-00d63e0a-335f-416e-acb5-ad5b4cc6(_apply_random(...))\",\"subgraph_callable-00d63e0a-335f-416e-acb5-ad5b4cc6(_apply_random(...))\",\"subgraph_callable-00d63e0a-335f-416e-acb5-ad5b4cc6(_apply_random(...))\",\"subgraph_callable-00d63e0a-335f-416e-acb5-ad5b4cc6(_apply_random(...))\",\"subgraph_callable-00d63e0a-335f-416e-acb5-ad5b4cc6(_apply_random(...))\",\"subgraph_callable-00d63e0a-335f-416e-acb5-ad5b4cc6(_apply_random(...))\",\"subgraph_callable-00d63e0a-335f-416e-acb5-ad5b4cc6(_apply_random(...))\",\"subgraph_callable-00d63e0a-335f-416e-acb5-ad5b4cc6(_apply_random(...))\",\"subgraph_callable-00d63e0a-335f-416e-acb5-ad5b4cc6(_apply_random(...))\",\"subgraph_callable-00d63e0a-335f-416e-acb5-ad5b4cc6(_apply_random(...))\",\"subgraph_callable-00d63e0a-335f-416e-acb5-ad5b4cc6(_apply_random(...))\",\"subgraph_callable-00d63e0a-335f-416e-acb5-ad5b4cc6(_apply_random(...))\",\"subgraph_callable-00d63e0a-335f-416e-acb5-ad5b4cc6(_apply_random(...))\",\"subgraph_callable-00d63e0a-335f-416e-acb5-ad5b4cc6(_apply_random(...))\",\"subgraph_callable-00d63e0a-335f-416e-acb5-ad5b4cc6(_apply_random(...))\",\"subgraph_callable-00d63e0a-335f-416e-acb5-ad5b4cc6(_apply_random(...))\",\"subgraph_callable-00d63e0a-335f-416e-acb5-ad5b4cc6(_apply_random(...))\",\"subgraph_callable-00d63e0a-335f-416e-acb5-ad5b4cc6(_apply_random(...))\",\"subgraph_callable-00d63e0a-335f-416e-acb5-ad5b4cc6(_apply_random(...))\",\"subgraph_callable-00d63e0a-335f-416e-acb5-ad5b4cc6(_apply_random(...))\",\"subgraph_callable-00d63e0a-335f-416e-acb5-ad5b4cc6(_apply_random(...))\",\"subgraph_callable-00d63e0a-335f-416e-acb5-ad5b4cc6(_apply_random(...))\",\"subgraph_callable-00d63e0a-335f-416e-acb5-ad5b4cc6(_apply_random(...))\",\"subgraph_callable-00d63e0a-335f-416e-acb5-ad5b4cc6(_apply_random(...))\",\"subgraph_callable-00d63e0a-335f-416e-acb5-ad5b4cc6(_apply_random(...))\",\"subgraph_callable-00d63e0a-335f-416e-acb5-ad5b4cc6(_apply_random(...))\",\"subgraph_callable-00d63e0a-335f-416e-acb5-ad5b4cc6(_apply_random(...))\",\"subgraph_callable-00d63e0a-335f-416e-acb5-ad5b4cc6(_apply_random(...))\",\"subgraph_callable-00d63e0a-335f-416e-acb5-ad5b4cc6(_apply_random(...))\",\"subgraph_callable-00d63e0a-335f-416e-acb5-ad5b4cc6(_apply_random(...))\",\"subgraph_callable-00d63e0a-335f-416e-acb5-ad5b4cc6(_apply_random(...))\",\"subgraph_callable-00d63e0a-335f-416e-acb5-ad5b4cc6(_apply_random(...))\",\"subgraph_callable-00d63e0a-335f-416e-acb5-ad5b4cc6(_apply_random(...))\",\"subgraph_callable-00d63e0a-335f-416e-acb5-ad5b4cc6(_apply_random(...))\",\"subgraph_callable-00d63e0a-335f-416e-acb5-ad5b4cc6(_apply_random(...))\",\"subgraph_callable-00d63e0a-335f-416e-acb5-ad5b4cc6(_apply_random(...))\",\"subgraph_callable-00d63e0a-335f-416e-acb5-ad5b4cc6(_apply_random(...))\",\"subgraph_callable-00d63e0a-335f-416e-acb5-ad5b4cc6(_apply_random(...))\",\"subgraph_callable-00d63e0a-335f-416e-acb5-ad5b4cc6(_apply_random(...))\",\"subgraph_callable-00d63e0a-335f-416e-acb5-ad5b4cc6(_apply_random(...))\",\"subgraph_callable-00d63e0a-335f-416e-acb5-ad5b4cc6(_apply_random(...))\",\"subgraph_callable-00d63e0a-335f-416e-acb5-ad5b4cc6(_apply_random(...))\",\"subgraph_callable-00d63e0a-335f-416e-acb5-ad5b4cc6(_apply_random(...))\",\"subgraph_callable-00d63e0a-335f-416e-acb5-ad5b4cc6(_apply_random(...))\",\"subgraph_callable-00d63e0a-335f-416e-acb5-ad5b4cc6(_apply_random(...))\",\"subgraph_callable-00d63e0a-335f-416e-acb5-ad5b4cc6(_apply_random(...))\",\"subgraph_callable-00d63e0a-335f-416e-acb5-ad5b4cc6(_apply_random(...))\",\"subgraph_callable-00d63e0a-335f-416e-acb5-ad5b4cc6(_apply_random(...))\",\"subgraph_callable-00d63e0a-335f-416e-acb5-ad5b4cc6(_apply_random(...))\",\"subgraph_callable-00d63e0a-335f-416e-acb5-ad5b4cc6(_apply_random(...))\",\"subgraph_callable-00d63e0a-335f-416e-acb5-ad5b4cc6(_apply_random(...))\",\"subgraph_callable-00d63e0a-335f-416e-acb5-ad5b4cc6(_apply_random(...))\",\"subgraph_callable-00d63e0a-335f-416e-acb5-ad5b4cc6(_apply_random(...))\",\"subgraph_callable-00d63e0a-335f-416e-acb5-ad5b4cc6(_apply_random(...))\",\"subgraph_callable-00d63e0a-335f-416e-acb5-ad5b4cc6(_apply_random(...))\",\"subgraph_callable-00d63e0a-335f-416e-acb5-ad5b4cc6(_apply_random(...))\",\"subgraph_callable-00d63e0a-335f-416e-acb5-ad5b4cc6(_apply_random(...))\",\"subgraph_callable-00d63e0a-335f-416e-acb5-ad5b4cc6(_apply_random(...))\",\"subgraph_callable-00d63e0a-335f-416e-acb5-ad5b4cc6(_apply_random(...))\",\"subgraph_callable-00d63e0a-335f-416e-acb5-ad5b4cc6(_apply_random(...))\",\"subgraph_callable-00d63e0a-335f-416e-acb5-ad5b4cc6(_apply_random(...))\",\"subgraph_callable-00d63e0a-335f-416e-acb5-ad5b4cc6(_apply_random(...))\",\"subgraph_callable-00d63e0a-335f-416e-acb5-ad5b4cc6(_apply_random(...))\"],\"x\":[0,0.6090371150057763,0.6339190260041505,0.6371179870038759,0.6372572860273067,0.7969783260195982,0.797057952004252,0.797097245027544,0.7971316980256233,0.7971642590127885,0.79719559600926,0.7974993620009627,0.7975828860071488,0.7976291740196757,0.7976689470233396,0.7977120650175493,0.7977509170013946,0.7979236400278751,0.7979640480189119,0.7979974310146645,0.7980285330268089,0.7980589190265164,0.7980906350130681,0.7983995200193021,0.7984528600063641,0.7984723990084603,0.7984907470236067,0.7985266550094821,0.7985429800173733,0.9059785840217955,0.9061748860112857,0.9148743460245896,0.9149025590158999,0.9157041840080637,0.954673731001094,0.954843448009342,0.9548634600068908,0.9643735050049145,0.9645082510251086,0.9646390770212747,0.9646972960035782,1.8333333850023337,1.833532685006503,1.8336738690268248,1.8338166360044852,1.8340433850244153,1.8340851460234262,1.8341202340088785,1.8341531100159045,1.83418609702494,1.8342192750133108,1.8342692380247172,1.8343062850181013,1.8575272420130204,1.8899914500070736,1.908430939016398,1.9269605270237662,1.9466163690085523,1.972579425026197,1.9782700550276786,2.0087790400139056,2.0090092180180363,2.0111126250121742,2.0112918090017047,2.034265217022039,2.0544075650104787,2.0717780550185125,2.082798540010117,2.096622147015296,2.109089594014222,2.1349228670005687,2.1547789120231755,2.161945880012354,2.1781196190277115,2.1926152640080545,2.1927936670253985],\"y\":[0,1,0,0,0,1,2,3,4,5,6,5,4,3,2,1,0,0,0,0,0,0,0,0,0,0,0,0,0,1,0,0,0,1,0,0,0,1,0,0,0,0,0,0,0,0,0,0,0,0,0,0,0,0,0,0,0,0,0,0,0,0,0,0,0,0,0,0,0,0,0,0,0,0,0,0]},\"selected\":{\"id\":\"1192\"},\"selection_policy\":{\"id\":\"1191\"}},\"id\":\"1142\",\"type\":\"ColumnDataSource\"},{\"attributes\":{\"data\":{\"label\":[\"subgraph_callable-0265622e-7a2c-46f9-92c6-d2d05583(...)\",\"subgraph_callable-0265622e-7a2c-46f9-92c6-d2d05583(...)\",\"subgraph_callable-0265622e-7a2c-46f9-92c6-d2d05583(...)\",\"subgraph_callable-0265622e-7a2c-46f9-92c6-d2d05583(...)\",\"subgraph_callable-0265622e-7a2c-46f9-92c6-d2d05583(...)\",\"subgraph_callable-0265622e-7a2c-46f9-92c6-d2d05583(...)\",\"subgraph_callable-0265622e-7a2c-46f9-92c6-d2d05583(...)\",\"subgraph_callable-0265622e-7a2c-46f9-92c6-d2d05583(...)\",\"subgraph_callable-0265622e-7a2c-46f9-92c6-d2d05583(...)\",\"subgraph_callable-0265622e-7a2c-46f9-92c6-d2d05583(...)\",\"subgraph_callable-0265622e-7a2c-46f9-92c6-d2d05583(...)\",\"subgraph_callable-0265622e-7a2c-46f9-92c6-d2d05583(...)\",\"subgraph_callable-0265622e-7a2c-46f9-92c6-d2d05583(...)\",\"subgraph_callable-0265622e-7a2c-46f9-92c6-d2d05583(...)\",\"subgraph_callable-0265622e-7a2c-46f9-92c6-d2d05583(...)\",\"subgraph_callable-0265622e-7a2c-46f9-92c6-d2d05583(...)\",\"subgraph_callable-0265622e-7a2c-46f9-92c6-d2d05583(...)\",\"subgraph_callable-0265622e-7a2c-46f9-92c6-d2d05583(...)\",\"subgraph_callable-0265622e-7a2c-46f9-92c6-d2d05583(...)\",\"subgraph_callable-0265622e-7a2c-46f9-92c6-d2d05583(...)\",\"subgraph_callable-0265622e-7a2c-46f9-92c6-d2d05583(...)\",\"subgraph_callable-0265622e-7a2c-46f9-92c6-d2d05583(...)\",\"subgraph_callable-0265622e-7a2c-46f9-92c6-d2d05583(...)\",\"subgraph_callable-0265622e-7a2c-46f9-92c6-d2d05583(...)\",\"subgraph_callable-0265622e-7a2c-46f9-92c6-d2d05583(...)\",\"subgraph_callable-0265622e-7a2c-46f9-92c6-d2d05583(...)\",\"subgraph_callable-0265622e-7a2c-46f9-92c6-d2d05583(...)\",\"subgraph_callable-0265622e-7a2c-46f9-92c6-d2d05583(...)\",\"subgraph_callable-0265622e-7a2c-46f9-92c6-d2d05583(...)\",\"subgraph_callable-0265622e-7a2c-46f9-92c6-d2d05583(...)\",\"subgraph_callable-0265622e-7a2c-46f9-92c6-d2d05583(...)\",\"subgraph_callable-0265622e-7a2c-46f9-92c6-d2d05583(...)\",\"subgraph_callable-0265622e-7a2c-46f9-92c6-d2d05583(...)\",\"subgraph_callable-0265622e-7a2c-46f9-92c6-d2d05583(...)\",\"subgraph_callable-0265622e-7a2c-46f9-92c6-d2d05583(...)\",\"subgraph_callable-0265622e-7a2c-46f9-92c6-d2d05583(...)\",\"subgraph_callable-0265622e-7a2c-46f9-92c6-d2d05583(...)\",\"subgraph_callable-0265622e-7a2c-46f9-92c6-d2d05583(...)\",\"subgraph_callable-0265622e-7a2c-46f9-92c6-d2d05583(...)\",\"subgraph_callable-0265622e-7a2c-46f9-92c6-d2d05583(...)\",\"subgraph_callable-0265622e-7a2c-46f9-92c6-d2d05583(...)\",\"subgraph_callable-0265622e-7a2c-46f9-92c6-d2d05583(...)\",\"subgraph_callable-0265622e-7a2c-46f9-92c6-d2d05583(...)\",\"subgraph_callable-0265622e-7a2c-46f9-92c6-d2d05583(...)\",\"subgraph_callable-0265622e-7a2c-46f9-92c6-d2d05583(...)\",\"subgraph_callable-0265622e-7a2c-46f9-92c6-d2d05583(...)\",\"subgraph_callable-0265622e-7a2c-46f9-92c6-d2d05583(...)\",\"subgraph_callable-0265622e-7a2c-46f9-92c6-d2d05583(...)\",\"subgraph_callable-0265622e-7a2c-46f9-92c6-d2d05583(...)\",\"subgraph_callable-0265622e-7a2c-46f9-92c6-d2d05583(...)\",\"subgraph_callable-0265622e-7a2c-46f9-92c6-d2d05583(...)\",\"subgraph_callable-0265622e-7a2c-46f9-92c6-d2d05583(...)\",\"subgraph_callable-0265622e-7a2c-46f9-92c6-d2d05583(...)\",\"subgraph_callable-0265622e-7a2c-46f9-92c6-d2d05583(...)\",\"subgraph_callable-0265622e-7a2c-46f9-92c6-d2d05583(...)\",\"subgraph_callable-0265622e-7a2c-46f9-92c6-d2d05583(...)\",\"subgraph_callable-0265622e-7a2c-46f9-92c6-d2d05583(...)\",\"subgraph_callable-0265622e-7a2c-46f9-92c6-d2d05583(...)\",\"subgraph_callable-0265622e-7a2c-46f9-92c6-d2d05583(...)\",\"subgraph_callable-0265622e-7a2c-46f9-92c6-d2d05583(...)\",\"subgraph_callable-0265622e-7a2c-46f9-92c6-d2d05583(...)\",\"subgraph_callable-0265622e-7a2c-46f9-92c6-d2d05583(...)\",\"subgraph_callable-0265622e-7a2c-46f9-92c6-d2d05583(...)\",\"subgraph_callable-0265622e-7a2c-46f9-92c6-d2d05583(...)\",\"subgraph_callable-0265622e-7a2c-46f9-92c6-d2d05583(...)\",\"subgraph_callable-0265622e-7a2c-46f9-92c6-d2d05583(...)\",\"subgraph_callable-0265622e-7a2c-46f9-92c6-d2d05583(...)\",\"subgraph_callable-0265622e-7a2c-46f9-92c6-d2d05583(...)\",\"subgraph_callable-0265622e-7a2c-46f9-92c6-d2d05583(...)\",\"subgraph_callable-0265622e-7a2c-46f9-92c6-d2d05583(...)\",\"subgraph_callable-0265622e-7a2c-46f9-92c6-d2d05583(...)\",\"subgraph_callable-0265622e-7a2c-46f9-92c6-d2d05583(...)\",\"subgraph_callable-0265622e-7a2c-46f9-92c6-d2d05583(...)\",\"subgraph_callable-0265622e-7a2c-46f9-92c6-d2d05583(...)\",\"subgraph_callable-0265622e-7a2c-46f9-92c6-d2d05583(...)\",\"subgraph_callable-0265622e-7a2c-46f9-92c6-d2d05583(...)\"],\"x\":[0,0.6090371150057763,0.6339190260041505,0.6371179870038759,0.6372572860273067,0.7969783260195982,0.797057952004252,0.797097245027544,0.7971316980256233,0.7971642590127885,0.79719559600926,0.7974993620009627,0.7975828860071488,0.7976291740196757,0.7976689470233396,0.7977120650175493,0.7977509170013946,0.7979236400278751,0.7979640480189119,0.7979974310146645,0.7980285330268089,0.7980589190265164,0.7980906350130681,0.7983995200193021,0.7984528600063641,0.7984723990084603,0.7984907470236067,0.7985266550094821,0.7985429800173733,0.9059785840217955,0.9061748860112857,0.9148743460245896,0.9149025590158999,0.9157041840080637,0.954673731001094,0.954843448009342,0.9548634600068908,0.9643735050049145,0.9645082510251086,0.9646390770212747,0.9646972960035782,1.8333333850023337,1.833532685006503,1.8336738690268248,1.8338166360044852,1.8340433850244153,1.8340851460234262,1.8341202340088785,1.8341531100159045,1.83418609702494,1.8342192750133108,1.8342692380247172,1.8343062850181013,1.8575272420130204,1.8899914500070736,1.908430939016398,1.9269605270237662,1.9466163690085523,1.972579425026197,1.9782700550276786,2.0087790400139056,2.0090092180180363,2.0111126250121742,2.0112918090017047,2.034265217022039,2.0544075650104787,2.0717780550185125,2.082798540010117,2.096622147015296,2.109089594014222,2.1349228670005687,2.1547789120231755,2.161945880012354,2.1781196190277115,2.1926152640080545,2.1927936670253985],\"y\":[0,0,0,0,0,0,0,0,0,0,0,0,0,0,0,0,0,0,0,0,0,0,0,0,0,0,0,0,0,0,0,0,0,0,0,0,0,0,0,0,0,0,0,0,0,0,0,0,0,0,0,0,0,1,2,3,4,5,6,7,6,6,5,5,4,3,2,1,2,1,2,3,2,1,0,0]},\"selected\":{\"id\":\"1200\"},\"selection_policy\":{\"id\":\"1199\"}},\"id\":\"1170\",\"type\":\"ColumnDataSource\"},{\"attributes\":{},\"id\":\"1202\",\"type\":\"Selection\"},{\"attributes\":{\"children\":[{\"id\":\"1250\"},{\"id\":\"1248\"}]},\"id\":\"1251\",\"type\":\"Column\"},{\"attributes\":{\"coordinates\":null,\"group\":null,\"items\":[{\"id\":\"1091\"},{\"id\":\"1110\"}]},\"id\":\"1090\",\"type\":\"Legend\"},{\"attributes\":{\"coordinates\":null,\"data_source\":{\"id\":\"1163\"},\"glyph\":{\"id\":\"1165\"},\"group\":null,\"hover_glyph\":null,\"muted_glyph\":{\"id\":\"1167\"},\"nonselection_glyph\":{\"id\":\"1166\"},\"view\":{\"id\":\"1169\"}},\"id\":\"1168\",\"type\":\"GlyphRenderer\"},{\"attributes\":{},\"id\":\"1217\",\"type\":\"BasicTicker\"},{\"attributes\":{},\"id\":\"1192\",\"type\":\"Selection\"},{\"attributes\":{},\"id\":\"1134\",\"type\":\"WheelZoomTool\"},{\"attributes\":{\"line_color\":\"#79D151\",\"line_width\":3,\"x\":{\"field\":\"x\"},\"y\":{\"field\":\"y\"}},\"id\":\"1172\",\"type\":\"Line\"},{\"attributes\":{\"line_alpha\":0.2,\"line_color\":\"#79D151\",\"line_width\":3,\"x\":{\"field\":\"x\"},\"y\":{\"field\":\"y\"}},\"id\":\"1174\",\"type\":\"Line\"},{\"attributes\":{\"below\":[{\"id\":\"1123\"}],\"center\":[{\"id\":\"1126\"},{\"id\":\"1130\"}],\"height\":270,\"left\":[{\"id\":\"1127\"}],\"min_border_left\":75,\"min_border_right\":75,\"min_border_top\":20,\"renderers\":[{\"id\":\"1147\"},{\"id\":\"1154\"},{\"id\":\"1161\"},{\"id\":\"1168\"},{\"id\":\"1175\"},{\"id\":\"1182\"}],\"title\":null,\"toolbar\":{\"id\":\"1136\"},\"toolbar_location\":null,\"width\":800,\"x_range\":{\"id\":\"1005\"},\"x_scale\":{\"id\":\"1119\"},\"y_range\":{\"id\":\"1117\"},\"y_scale\":{\"id\":\"1121\"}},\"id\":\"1112\",\"subtype\":\"Figure\",\"type\":\"Plot\"},{\"attributes\":{\"source\":{\"id\":\"1170\"}},\"id\":\"1176\",\"type\":\"CDSView\"},{\"attributes\":{},\"id\":\"1117\",\"type\":\"DataRange1d\"},{\"attributes\":{\"line_alpha\":0.1,\"line_color\":\"#79D151\",\"line_width\":3,\"x\":{\"field\":\"x\"},\"y\":{\"field\":\"y\"}},\"id\":\"1173\",\"type\":\"Line\"},{\"attributes\":{},\"id\":\"1119\",\"type\":\"LinearScale\"},{\"attributes\":{},\"id\":\"1121\",\"type\":\"LinearScale\"},{\"attributes\":{\"data\":{\"label\":[\"subgraph_callable-e5f19ae3-4723-4a5a-ba4d-f12eb082(...)\",\"subgraph_callable-e5f19ae3-4723-4a5a-ba4d-f12eb082(...)\",\"subgraph_callable-e5f19ae3-4723-4a5a-ba4d-f12eb082(...)\",\"subgraph_callable-e5f19ae3-4723-4a5a-ba4d-f12eb082(...)\",\"subgraph_callable-e5f19ae3-4723-4a5a-ba4d-f12eb082(...)\",\"subgraph_callable-e5f19ae3-4723-4a5a-ba4d-f12eb082(...)\",\"subgraph_callable-e5f19ae3-4723-4a5a-ba4d-f12eb082(...)\",\"subgraph_callable-e5f19ae3-4723-4a5a-ba4d-f12eb082(...)\",\"subgraph_callable-e5f19ae3-4723-4a5a-ba4d-f12eb082(...)\",\"subgraph_callable-e5f19ae3-4723-4a5a-ba4d-f12eb082(...)\",\"subgraph_callable-e5f19ae3-4723-4a5a-ba4d-f12eb082(...)\",\"subgraph_callable-e5f19ae3-4723-4a5a-ba4d-f12eb082(...)\",\"subgraph_callable-e5f19ae3-4723-4a5a-ba4d-f12eb082(...)\",\"subgraph_callable-e5f19ae3-4723-4a5a-ba4d-f12eb082(...)\",\"subgraph_callable-e5f19ae3-4723-4a5a-ba4d-f12eb082(...)\",\"subgraph_callable-e5f19ae3-4723-4a5a-ba4d-f12eb082(...)\",\"subgraph_callable-e5f19ae3-4723-4a5a-ba4d-f12eb082(...)\",\"subgraph_callable-e5f19ae3-4723-4a5a-ba4d-f12eb082(...)\",\"subgraph_callable-e5f19ae3-4723-4a5a-ba4d-f12eb082(...)\",\"subgraph_callable-e5f19ae3-4723-4a5a-ba4d-f12eb082(...)\",\"subgraph_callable-e5f19ae3-4723-4a5a-ba4d-f12eb082(...)\",\"subgraph_callable-e5f19ae3-4723-4a5a-ba4d-f12eb082(...)\",\"subgraph_callable-e5f19ae3-4723-4a5a-ba4d-f12eb082(...)\",\"subgraph_callable-e5f19ae3-4723-4a5a-ba4d-f12eb082(...)\",\"subgraph_callable-e5f19ae3-4723-4a5a-ba4d-f12eb082(...)\",\"subgraph_callable-e5f19ae3-4723-4a5a-ba4d-f12eb082(...)\",\"subgraph_callable-e5f19ae3-4723-4a5a-ba4d-f12eb082(...)\",\"subgraph_callable-e5f19ae3-4723-4a5a-ba4d-f12eb082(...)\",\"subgraph_callable-e5f19ae3-4723-4a5a-ba4d-f12eb082(...)\",\"subgraph_callable-e5f19ae3-4723-4a5a-ba4d-f12eb082(...)\",\"subgraph_callable-e5f19ae3-4723-4a5a-ba4d-f12eb082(...)\",\"subgraph_callable-e5f19ae3-4723-4a5a-ba4d-f12eb082(...)\",\"subgraph_callable-e5f19ae3-4723-4a5a-ba4d-f12eb082(...)\",\"subgraph_callable-e5f19ae3-4723-4a5a-ba4d-f12eb082(...)\",\"subgraph_callable-e5f19ae3-4723-4a5a-ba4d-f12eb082(...)\",\"subgraph_callable-e5f19ae3-4723-4a5a-ba4d-f12eb082(...)\",\"subgraph_callable-e5f19ae3-4723-4a5a-ba4d-f12eb082(...)\",\"subgraph_callable-e5f19ae3-4723-4a5a-ba4d-f12eb082(...)\",\"subgraph_callable-e5f19ae3-4723-4a5a-ba4d-f12eb082(...)\",\"subgraph_callable-e5f19ae3-4723-4a5a-ba4d-f12eb082(...)\",\"subgraph_callable-e5f19ae3-4723-4a5a-ba4d-f12eb082(...)\",\"subgraph_callable-e5f19ae3-4723-4a5a-ba4d-f12eb082(...)\",\"subgraph_callable-e5f19ae3-4723-4a5a-ba4d-f12eb082(...)\",\"subgraph_callable-e5f19ae3-4723-4a5a-ba4d-f12eb082(...)\",\"subgraph_callable-e5f19ae3-4723-4a5a-ba4d-f12eb082(...)\",\"subgraph_callable-e5f19ae3-4723-4a5a-ba4d-f12eb082(...)\",\"subgraph_callable-e5f19ae3-4723-4a5a-ba4d-f12eb082(...)\",\"subgraph_callable-e5f19ae3-4723-4a5a-ba4d-f12eb082(...)\",\"subgraph_callable-e5f19ae3-4723-4a5a-ba4d-f12eb082(...)\",\"subgraph_callable-e5f19ae3-4723-4a5a-ba4d-f12eb082(...)\",\"subgraph_callable-e5f19ae3-4723-4a5a-ba4d-f12eb082(...)\",\"subgraph_callable-e5f19ae3-4723-4a5a-ba4d-f12eb082(...)\",\"subgraph_callable-e5f19ae3-4723-4a5a-ba4d-f12eb082(...)\",\"subgraph_callable-e5f19ae3-4723-4a5a-ba4d-f12eb082(...)\",\"subgraph_callable-e5f19ae3-4723-4a5a-ba4d-f12eb082(...)\",\"subgraph_callable-e5f19ae3-4723-4a5a-ba4d-f12eb082(...)\",\"subgraph_callable-e5f19ae3-4723-4a5a-ba4d-f12eb082(...)\",\"subgraph_callable-e5f19ae3-4723-4a5a-ba4d-f12eb082(...)\",\"subgraph_callable-e5f19ae3-4723-4a5a-ba4d-f12eb082(...)\",\"subgraph_callable-e5f19ae3-4723-4a5a-ba4d-f12eb082(...)\",\"subgraph_callable-e5f19ae3-4723-4a5a-ba4d-f12eb082(...)\",\"subgraph_callable-e5f19ae3-4723-4a5a-ba4d-f12eb082(...)\",\"subgraph_callable-e5f19ae3-4723-4a5a-ba4d-f12eb082(...)\",\"subgraph_callable-e5f19ae3-4723-4a5a-ba4d-f12eb082(...)\",\"subgraph_callable-e5f19ae3-4723-4a5a-ba4d-f12eb082(...)\",\"subgraph_callable-e5f19ae3-4723-4a5a-ba4d-f12eb082(...)\",\"subgraph_callable-e5f19ae3-4723-4a5a-ba4d-f12eb082(...)\",\"subgraph_callable-e5f19ae3-4723-4a5a-ba4d-f12eb082(...)\",\"subgraph_callable-e5f19ae3-4723-4a5a-ba4d-f12eb082(...)\",\"subgraph_callable-e5f19ae3-4723-4a5a-ba4d-f12eb082(...)\",\"subgraph_callable-e5f19ae3-4723-4a5a-ba4d-f12eb082(...)\",\"subgraph_callable-e5f19ae3-4723-4a5a-ba4d-f12eb082(...)\",\"subgraph_callable-e5f19ae3-4723-4a5a-ba4d-f12eb082(...)\",\"subgraph_callable-e5f19ae3-4723-4a5a-ba4d-f12eb082(...)\",\"subgraph_callable-e5f19ae3-4723-4a5a-ba4d-f12eb082(...)\",\"subgraph_callable-e5f19ae3-4723-4a5a-ba4d-f12eb082(...)\"],\"x\":[0,0.6090371150057763,0.6339190260041505,0.6371179870038759,0.6372572860273067,0.7969783260195982,0.797057952004252,0.797097245027544,0.7971316980256233,0.7971642590127885,0.79719559600926,0.7974993620009627,0.7975828860071488,0.7976291740196757,0.7976689470233396,0.7977120650175493,0.7977509170013946,0.7979236400278751,0.7979640480189119,0.7979974310146645,0.7980285330268089,0.7980589190265164,0.7980906350130681,0.7983995200193021,0.7984528600063641,0.7984723990084603,0.7984907470236067,0.7985266550094821,0.7985429800173733,0.9059785840217955,0.9061748860112857,0.9148743460245896,0.9149025590158999,0.9157041840080637,0.954673731001094,0.954843448009342,0.9548634600068908,0.9643735050049145,0.9645082510251086,0.9646390770212747,0.9646972960035782,1.8333333850023337,1.833532685006503,1.8336738690268248,1.8338166360044852,1.8340433850244153,1.8340851460234262,1.8341202340088785,1.8341531100159045,1.83418609702494,1.8342192750133108,1.8342692380247172,1.8343062850181013,1.8575272420130204,1.8899914500070736,1.908430939016398,1.9269605270237662,1.9466163690085523,1.972579425026197,1.9782700550276786,2.0087790400139056,2.0090092180180363,2.0111126250121742,2.0112918090017047,2.034265217022039,2.0544075650104787,2.0717780550185125,2.082798540010117,2.096622147015296,2.109089594014222,2.1349228670005687,2.1547789120231755,2.161945880012354,2.1781196190277115,2.1926152640080545,2.1927936670253985],\"y\":[0,0,0,0,0,0,0,0,0,0,0,0,0,0,0,0,0,0,0,0,0,0,0,0,0,0,0,0,0,0,0,0,0,0,0,0,0,0,0,0,0,0,0,0,0,0,0,0,0,0,0,0,0,0,0,0,0,0,0,0,1,1,2,2,3,4,5,6,6,7,7,7,8,9,10,0]},\"selected\":{\"id\":\"1202\"},\"selection_policy\":{\"id\":\"1201\"}},\"id\":\"1177\",\"type\":\"ColumnDataSource\"},{\"attributes\":{\"coordinates\":null,\"data_source\":{\"id\":\"1170\"},\"glyph\":{\"id\":\"1172\"},\"group\":null,\"hover_glyph\":null,\"muted_glyph\":{\"id\":\"1174\"},\"nonselection_glyph\":{\"id\":\"1173\"},\"view\":{\"id\":\"1176\"}},\"id\":\"1175\",\"type\":\"GlyphRenderer\"},{\"attributes\":{\"data\":{\"color\":[\"#29788E\",\"#29788E\",\"#29788E\",\"#29788E\",\"#29788E\",\"#29788E\",\"#29788E\",\"#29788E\",\"#440154\",\"#404387\",\"#404387\",\"#29788E\",\"#440154\",\"#440154\",\"#440154\",\"#440154\",\"#440154\",\"#440154\",\"#404387\",\"#404387\",\"#404387\",\"#404387\",\"#404387\",\"#404387\",\"#404387\",\"#404387\",\"#404387\",\"#404387\",\"#404387\",\"#404387\",\"#29788E\",\"#440154\",\"#404387\",\"#404387\",\"#440154\",\"#404387\",\"#404387\",\"#440154\",\"#404387\",\"#404387\",\"#22A784\",\"#440154\",\"#404387\",\"#404387\",\"#404387\",\"#404387\",\"#404387\",\"#404387\",\"#404387\",\"#404387\",\"#404387\",\"#404387\",\"#79D151\",\"#79D151\",\"#79D151\",\"#79D151\",\"#79D151\",\"#79D151\",\"#79D151\",\"#79D151\",\"#FDE724\",\"#FDE724\",\"#FDE724\",\"#FDE724\",\"#FDE724\",\"#FDE724\",\"#FDE724\",\"#404387\",\"#79D151\",\"#404387\",\"#79D151\",\"#FDE724\",\"#FDE724\",\"#FDE724\"],\"function\":[\"subgraph_callable-00d63e0a-335f-416e-acb5-ad5b4cc6(_apply_random(...))\",\"subgraph_callable-00d63e0a-335f-416e-acb5-ad5b4cc6(_apply_random(...))\",\"subgraph_callable-00d63e0a-335f-416e-acb5-ad5b4cc6(_apply_random(...))\",\"subgraph_callable-00d63e0a-335f-416e-acb5-ad5b4cc6(_apply_random(...))\",\"subgraph_callable-00d63e0a-335f-416e-acb5-ad5b4cc6(_apply_random(...))\",\"subgraph_callable-00d63e0a-335f-416e-acb5-ad5b4cc6(_apply_random(...))\",\"subgraph_callable-00d63e0a-335f-416e-acb5-ad5b4cc6(_apply_random(...))\",\"subgraph_callable-00d63e0a-335f-416e-acb5-ad5b4cc6(_apply_random(...))\",\"_\",\"getitem(_, *)\",\"getitem(_, *)\",\"subgraph_callable-00d63e0a-335f-416e-acb5-ad5b4cc6(_apply_random(...))\",\"_\",\"_\",\"_\",\"_\",\"_\",\"_\",\"getitem(_, *)\",\"getitem(_, *)\",\"getitem(_, *)\",\"getitem(_, *)\",\"getitem(_, *)\",\"getitem(_, *)\",\"getitem(_, *)\",\"getitem(_, *)\",\"getitem(_, *)\",\"getitem(_, *)\",\"getitem(_, *)\",\"getitem(_, *)\",\"subgraph_callable-00d63e0a-335f-416e-acb5-ad5b4cc6(_apply_random(...))\",\"_\",\"getitem(_, *)\",\"getitem(_, *)\",\"_\",\"getitem(_, *)\",\"getitem(_, *)\",\"_\",\"getitem(_, *)\",\"getitem(_, *)\",\"subgraph_callable-023c2c09-bde3-46d9-a6e1-137afa43(vstack(...))\",\"_\",\"getitem(_, *)\",\"getitem(_, *)\",\"getitem(_, *)\",\"getitem(_, *)\",\"getitem(_, *)\",\"getitem(_, *)\",\"getitem(_, *)\",\"getitem(_, *)\",\"getitem(_, *)\",\"getitem(_, *)\",\"subgraph_callable-0265622e-7a2c-46f9-92c6-d2d05583(...)\",\"subgraph_callable-0265622e-7a2c-46f9-92c6-d2d05583(...)\",\"subgraph_callable-0265622e-7a2c-46f9-92c6-d2d05583(...)\",\"subgraph_callable-0265622e-7a2c-46f9-92c6-d2d05583(...)\",\"subgraph_callable-0265622e-7a2c-46f9-92c6-d2d05583(...)\",\"subgraph_callable-0265622e-7a2c-46f9-92c6-d2d05583(...)\",\"subgraph_callable-0265622e-7a2c-46f9-92c6-d2d05583(...)\",\"subgraph_callable-0265622e-7a2c-46f9-92c6-d2d05583(...)\",\"subgraph_callable-e5f19ae3-4723-4a5a-ba4d-f12eb082(...)\",\"subgraph_callable-e5f19ae3-4723-4a5a-ba4d-f12eb082(...)\",\"subgraph_callable-e5f19ae3-4723-4a5a-ba4d-f12eb082(...)\",\"subgraph_callable-e5f19ae3-4723-4a5a-ba4d-f12eb082(...)\",\"subgraph_callable-e5f19ae3-4723-4a5a-ba4d-f12eb082(...)\",\"subgraph_callable-e5f19ae3-4723-4a5a-ba4d-f12eb082(...)\",\"subgraph_callable-e5f19ae3-4723-4a5a-ba4d-f12eb082(...)\",\"getitem(_, *)\",\"subgraph_callable-0265622e-7a2c-46f9-92c6-d2d05583(...)\",\"getitem(_, *)\",\"subgraph_callable-0265622e-7a2c-46f9-92c6-d2d05583(...)\",\"subgraph_callable-e5f19ae3-4723-4a5a-ba4d-f12eb082(...)\",\"subgraph_callable-e5f19ae3-4723-4a5a-ba4d-f12eb082(...)\",\"subgraph_callable-e5f19ae3-4723-4a5a-ba4d-f12eb082(...)\"],\"key\":[\"('random_sample-qr-b69fdf83ba535252ca669f21cbdc966e', 0, 0)\",\"('random_sample-qr-b69fdf83ba535252ca669f21cbdc966e', 1, 0)\",\"('random_sample-qr-b69fdf83ba535252ca669f21cbdc966e', 2, 0)\",\"('random_sample-qr-b69fdf83ba535252ca669f21cbdc966e', 3, 0)\",\"('random_sample-qr-b69fdf83ba535252ca669f21cbdc966e', 4, 0)\",\"('random_sample-qr-b69fdf83ba535252ca669f21cbdc966e', 5, 0)\",\"('random_sample-qr-b69fdf83ba535252ca669f21cbdc966e', 6, 0)\",\"('random_sample-qr-b69fdf83ba535252ca669f21cbdc966e', 7, 0)\",\"('qr-b69fdf83ba535252ca669f21cbdc966e', 2, 0)\",\"('getitem-b69fdf83ba535252ca669f21cbdc966e-r1', 2, 0)\",\"('getitem-b69fdf83ba535252ca669f21cbdc966e-q1', 2, 0)\",\"('random_sample-qr-b69fdf83ba535252ca669f21cbdc966e', 8, 0)\",\"('qr-b69fdf83ba535252ca669f21cbdc966e', 5, 0)\",\"('qr-b69fdf83ba535252ca669f21cbdc966e', 0, 0)\",\"('qr-b69fdf83ba535252ca669f21cbdc966e', 6, 0)\",\"('qr-b69fdf83ba535252ca669f21cbdc966e', 1, 0)\",\"('qr-b69fdf83ba535252ca669f21cbdc966e', 3, 0)\",\"('qr-b69fdf83ba535252ca669f21cbdc966e', 7, 0)\",\"('getitem-b69fdf83ba535252ca669f21cbdc966e-r1', 5, 0)\",\"('getitem-b69fdf83ba535252ca669f21cbdc966e-q1', 0, 0)\",\"('getitem-b69fdf83ba535252ca669f21cbdc966e-r1', 6, 0)\",\"('getitem-b69fdf83ba535252ca669f21cbdc966e-r1', 1, 0)\",\"('getitem-b69fdf83ba535252ca669f21cbdc966e-r1', 3, 0)\",\"('getitem-b69fdf83ba535252ca669f21cbdc966e-r1', 7, 0)\",\"('getitem-b69fdf83ba535252ca669f21cbdc966e-q1', 7, 0)\",\"('getitem-b69fdf83ba535252ca669f21cbdc966e-q1', 3, 0)\",\"('getitem-b69fdf83ba535252ca669f21cbdc966e-q1', 1, 0)\",\"('getitem-b69fdf83ba535252ca669f21cbdc966e-q1', 6, 0)\",\"('getitem-b69fdf83ba535252ca669f21cbdc966e-r1', 0, 0)\",\"('getitem-b69fdf83ba535252ca669f21cbdc966e-q1', 5, 0)\",\"('random_sample-qr-b69fdf83ba535252ca669f21cbdc966e', 9, 0)\",\"('qr-b69fdf83ba535252ca669f21cbdc966e', 4, 0)\",\"('getitem-b69fdf83ba535252ca669f21cbdc966e-r1', 4, 0)\",\"('getitem-b69fdf83ba535252ca669f21cbdc966e-q1', 4, 0)\",\"('qr-b69fdf83ba535252ca669f21cbdc966e', 8, 0)\",\"('getitem-b69fdf83ba535252ca669f21cbdc966e-r1', 8, 0)\",\"('getitem-b69fdf83ba535252ca669f21cbdc966e-q1', 8, 0)\",\"('qr-b69fdf83ba535252ca669f21cbdc966e', 9, 0)\",\"('getitem-b69fdf83ba535252ca669f21cbdc966e-r1', 9, 0)\",\"('getitem-b69fdf83ba535252ca669f21cbdc966e-q1', 9, 0)\",\"('stack-qr-b69fdf83ba535252ca669f21cbdc966e-qr2', 0, 0)\",\"('qr-b69fdf83ba535252ca669f21cbdc966e-qr2', 0, 0)\",\"('getitem-b69fdf83ba535252ca669f21cbdc966e-q2-aux', 0, 0)\",\"('getitem-b69fdf83ba535252ca669f21cbdc966e-r2', 0, 0)\",\"('getitem-b69fdf83ba535252ca669f21cbdc966e-q2', 0, 0)\",\"('getitem-b69fdf83ba535252ca669f21cbdc966e-q2', 1, 0)\",\"('getitem-b69fdf83ba535252ca669f21cbdc966e-q2', 2, 0)\",\"('getitem-b69fdf83ba535252ca669f21cbdc966e-q2', 3, 0)\",\"('getitem-b69fdf83ba535252ca669f21cbdc966e-q2', 4, 0)\",\"('getitem-b69fdf83ba535252ca669f21cbdc966e-q2', 5, 0)\",\"('getitem-b69fdf83ba535252ca669f21cbdc966e-q2', 6, 0)\",\"('getitem-b69fdf83ba535252ca669f21cbdc966e-q2', 7, 0)\",\"('dot-b69fdf83ba535252ca669f21cbdc966e-q3', 0, 0)\",\"('dot-b69fdf83ba535252ca669f21cbdc966e-q3', 1, 0)\",\"('dot-b69fdf83ba535252ca669f21cbdc966e-q3', 2, 0)\",\"('dot-b69fdf83ba535252ca669f21cbdc966e-q3', 3, 0)\",\"('dot-b69fdf83ba535252ca669f21cbdc966e-q3', 4, 0)\",\"('dot-b69fdf83ba535252ca669f21cbdc966e-q3', 5, 0)\",\"('dot-b69fdf83ba535252ca669f21cbdc966e-q3', 6, 0)\",\"('dot-b69fdf83ba535252ca669f21cbdc966e-q3', 7, 0)\",\"('tensordot-7c3726adac1026b270aa4af53c791656', 0, 0)\",\"('tensordot-7c3726adac1026b270aa4af53c791656', 1, 0)\",\"('tensordot-7c3726adac1026b270aa4af53c791656', 2, 0)\",\"('tensordot-7c3726adac1026b270aa4af53c791656', 3, 0)\",\"('tensordot-7c3726adac1026b270aa4af53c791656', 4, 0)\",\"('tensordot-7c3726adac1026b270aa4af53c791656', 5, 0)\",\"('tensordot-7c3726adac1026b270aa4af53c791656', 6, 0)\",\"('getitem-b69fdf83ba535252ca669f21cbdc966e-q2', 8, 0)\",\"('dot-b69fdf83ba535252ca669f21cbdc966e-q3', 8, 0)\",\"('getitem-b69fdf83ba535252ca669f21cbdc966e-q2', 9, 0)\",\"('dot-b69fdf83ba535252ca669f21cbdc966e-q3', 9, 0)\",\"('tensordot-7c3726adac1026b270aa4af53c791656', 7, 0)\",\"('tensordot-7c3726adac1026b270aa4af53c791656', 8, 0)\",\"('tensordot-7c3726adac1026b270aa4af53c791656', 9, 0)\"],\"width\":[0.7960337990080006,0.7960961239878088,0.607990375981899,0.7961206339823548,0.9049257139849942,0.7959242700017057,0.7960422420001123,0.7961376600142103,0.024846902990248054,0.0031435580167453736,0.00012378700193949044,0.2784330190042965,0.0005015349888708442,0.0005182799941394478,0.0005255370051600039,0.0005315500020515174,0.00054243701742962,0.0005500070110429078,0.00040078998426906765,0.0003713449987117201,0.0003594470035750419,0.00034874299308285117,0.0003391210047993809,0.0003326089936308563,0.00046917700092308223,0.0004831800179090351,0.00046972898417152464,0.0004569570010062307,0.0004625519795808941,0.0004470650164876133,0.16596157499589026,0.0001677190011832863,0.008681748004164547,0.008701966988155618,0.03895324800396338,0.00014049201854504645,0.000146997015690431,0.0001147319853771478,0.0001154799829237163,0.00016464799409732223,0.8686829840007704,0.0001488410052843392,0.00013172300532460213,0.0002586900081951171,0.000358710007276386,0.0003837380209006369,0.00041236801189370453,0.00043991600978188217,0.00046657901839353144,0.0004946069966536015,0.0005395839980337769,0.00048048500320874155,0.02347402198938653,0.055895549012348056,0.07429972902173176,0.09279517599497922,0.11242006899556145,0.13835009600734338,0.14398819199413992,0.26230392200523056,0.1535516580042895,0.14422194499638863,0.145924995013047,0.14476021399605088,0.13613562000682577,0.03615553199779242,0.13077795301796868,0.00018998602172359824,0.12589594000019133,0.0001495509932283312,0.14346732199192047,0.0652673419972416,0.04314929599058814,0.03778721101116389],\"x\":[0.3980168995040003,0.39805979700759053,0.30401140998583287,0.3980799720156938,0.4524869379820302,0.39798961000633426,0.39805225300369784,0.3981030809809454,0.6204674674954731,0.6345195419853553,0.6361716274986975,0.7754620565101504,0.7962219825130887,0.7962997130234726,0.796342490502866,0.7963794150273316,0.7964170335035305,0.7964521105168387,0.7966994550079107,0.7967545355204493,0.7967938755173236,0.7968303704983555,0.7968656254815869,0.7969005854974966,0.7971410325262696,0.7971875810180791,0.7972139724879526,0.7972386705223471,0.7972717760130763,0.7972959075123072,0.8803661715064663,0.905067213519942,0.9095084200089332,0.9095276675070636,0.9341701339872088,0.9537491860101,0.9537663005176,0.9634270269889385,0.9635575069987681,0.9635910489887465,1.3979642060003243,1.832434103504056,1.832584070507437,1.8326635520206764,1.8328400769969448,1.8328693509974983,1.8328902139910497,1.8329093449865468,1.8329288875102066,1.8329481154796667,1.8329757889732718,1.833042383485008,1.8447640060039703,1.86101576249348,1.8702525194967166,1.8795331789879128,1.8893785435066093,1.90237652300857,1.905248044990003,1.9644407129962929,1.9333101279917173,1.9611266655265354,1.9804156335012522,1.998369687993545,2.0137022669950966,1.9896732560009696,2.0426731905026827,2.007889177999459,2.070944147009868,2.010192294488661,2.082015494990628,2.1282844850211404,2.155518101993948,2.1726945395057555],\"y\":[6,4,8,3,1,7,5,2,8,8,8,8,7,7,7,7,7,7,5,5,5,5,5,5,3,3,3,3,3,3,7,5,2,2,4,5,5,2,8,8,1,3,2,2,8,8,8,8,8,8,8,8,5,1,3,7,2,6,8,4,5,1,3,7,2,8,6,8,8,5,5,1,7,4]},\"selected\":{\"id\":\"1046\"},\"selection_policy\":{\"id\":\"1045\"}},\"id\":\"1031\",\"type\":\"ColumnDataSource\"},{\"attributes\":{\"line_alpha\":0.2,\"line_color\":\"#440154\",\"line_width\":4,\"x\":{\"field\":\"x\"},\"y\":{\"field\":\"y\"}},\"id\":\"1078\",\"type\":\"Line\"},{\"attributes\":{\"axis_label\":\"Cache Size (count)\",\"coordinates\":null,\"formatter\":{\"id\":\"1186\"},\"group\":null,\"major_label_policy\":{\"id\":\"1187\"},\"ticker\":{\"id\":\"1128\"}},\"id\":\"1127\",\"type\":\"LinearAxis\"},{\"attributes\":{\"line_color\":\"#FDE724\",\"line_width\":3,\"x\":{\"field\":\"x\"},\"y\":{\"field\":\"y\"}},\"id\":\"1179\",\"type\":\"Line\"},{\"attributes\":{\"axis_label\":null,\"axis_line_color\":null,\"coordinates\":null,\"formatter\":{\"id\":\"1043\"},\"group\":null,\"major_label_policy\":{\"id\":\"1044\"},\"major_tick_line_color\":null,\"ticker\":{\"id\":\"1014\"}},\"id\":\"1013\",\"type\":\"LinearAxis\"},{\"attributes\":{\"line_alpha\":0.2,\"line_color\":\"#FDE724\",\"line_width\":3,\"x\":{\"field\":\"x\"},\"y\":{\"field\":\"y\"}},\"id\":\"1181\",\"type\":\"Line\"},{\"attributes\":{\"axis_label\":\"Time (s)\",\"coordinates\":null,\"formatter\":{\"id\":\"1189\"},\"group\":null,\"major_label_policy\":{\"id\":\"1190\"},\"ticker\":{\"id\":\"1124\"}},\"id\":\"1123\",\"type\":\"LinearAxis\"},{\"attributes\":{\"axis\":{\"id\":\"1123\"},\"coordinates\":null,\"group\":null,\"ticker\":null},\"id\":\"1126\",\"type\":\"Grid\"},{\"attributes\":{\"source\":{\"id\":\"1177\"}},\"id\":\"1183\",\"type\":\"CDSView\"},{\"attributes\":{\"line_alpha\":0.1,\"line_color\":\"#FDE724\",\"line_width\":3,\"x\":{\"field\":\"x\"},\"y\":{\"field\":\"y\"}},\"id\":\"1180\",\"type\":\"Line\"},{\"attributes\":{},\"id\":\"1124\",\"type\":\"BasicTicker\"},{\"attributes\":{},\"id\":\"1193\",\"type\":\"UnionRenderers\"},{\"attributes\":{\"coordinates\":null,\"data_source\":{\"id\":\"1177\"},\"glyph\":{\"id\":\"1179\"},\"group\":null,\"hover_glyph\":null,\"muted_glyph\":{\"id\":\"1181\"},\"nonselection_glyph\":{\"id\":\"1180\"},\"view\":{\"id\":\"1183\"}},\"id\":\"1182\",\"type\":\"GlyphRenderer\"},{\"attributes\":{\"axis\":{\"id\":\"1127\"},\"coordinates\":null,\"dimension\":1,\"group\":null,\"ticker\":null},\"id\":\"1130\",\"type\":\"Grid\"},{\"attributes\":{\"source\":{\"id\":\"1075\"}},\"id\":\"1080\",\"type\":\"CDSView\"},{\"attributes\":{},\"id\":\"1128\",\"type\":\"BasicTicker\"},{\"attributes\":{},\"id\":\"1194\",\"type\":\"Selection\"},{\"attributes\":{},\"id\":\"1014\",\"type\":\"BasicTicker\"},{\"attributes\":{\"line_alpha\":0.1,\"line_color\":\"#29788E\",\"line_width\":4,\"x\":{\"field\":\"x\"},\"y\":{\"field\":\"y\"}},\"id\":\"1095\",\"type\":\"Line\"},{\"attributes\":{},\"id\":\"1132\",\"type\":\"SaveTool\"},{\"attributes\":{\"callback\":null,\"tooltips\":\"\\n    &lt;div&gt;\\n        &lt;span style=\\\"font-size: 14px; font-weight: bold;\\\"&gt;Task:&lt;/span&gt;&amp;nbsp;\\n        &lt;span style=\\\"font-size: 10px; font-family: Monaco, monospace;\\\"&gt;@label&lt;/span&gt;\\n    &lt;/div&gt;\\n    \"},\"id\":\"1131\",\"type\":\"HoverTool\"},{\"attributes\":{\"data\":{\"x\":[0.0,0.26096022900310345,0.5116138019948266,0.7622975470148958,1.0134104890166782,1.2647701970126946,1.515426488011144,1.7661305160145275,2.021048255992355],\"y\":[142.225408,238.497792,287.125504,333.008896,530.866176,535.175168,615.051264,615.051264,538.267648]},\"selected\":{\"id\":\"1109\"},\"selection_policy\":{\"id\":\"1108\"}},\"id\":\"1093\",\"type\":\"ColumnDataSource\"},{\"attributes\":{},\"id\":\"1133\",\"type\":\"ResetTool\"},{\"attributes\":{\"tools\":[{\"id\":\"1131\"},{\"id\":\"1132\"},{\"id\":\"1133\"},{\"id\":\"1134\"},{\"id\":\"1135\"}]},\"id\":\"1136\",\"type\":\"Toolbar\"},{\"attributes\":{\"dimensions\":\"width\"},\"id\":\"1135\",\"type\":\"PanTool\"},{\"attributes\":{\"children\":[[{\"id\":\"1002\"},0,0],[{\"id\":\"1047\"},1,0],[{\"id\":\"1112\"},2,0]]},\"id\":\"1248\",\"type\":\"GridBox\"},{\"attributes\":{\"end\":2.1915881450113375},\"id\":\"1005\",\"type\":\"Range1d\"},{\"attributes\":{},\"id\":\"1195\",\"type\":\"UnionRenderers\"},{\"attributes\":{\"axis\":{\"id\":\"1013\"},\"coordinates\":null,\"grid_line_color\":null,\"group\":null,\"ticker\":null},\"id\":\"1016\",\"type\":\"Grid\"},{\"attributes\":{\"coordinates\":null,\"data_source\":{\"id\":\"1075\"},\"glyph\":{\"id\":\"1076\"},\"group\":null,\"hover_glyph\":null,\"muted_glyph\":{\"id\":\"1078\"},\"nonselection_glyph\":{\"id\":\"1077\"},\"view\":{\"id\":\"1080\"}},\"id\":\"1079\",\"type\":\"GlyphRenderer\"},{\"attributes\":{},\"id\":\"1196\",\"type\":\"Selection\"},{\"attributes\":{\"line_alpha\":0.1,\"line_color\":\"#440154\",\"line_width\":4,\"x\":{\"field\":\"x\"},\"y\":{\"field\":\"y\"}},\"id\":\"1077\",\"type\":\"Line\"},{\"attributes\":{\"line_alpha\":0.1,\"line_color\":\"#404387\",\"line_width\":3,\"x\":{\"field\":\"x\"},\"y\":{\"field\":\"y\"}},\"id\":\"1159\",\"type\":\"Line\"},{\"attributes\":{\"line_color\":\"#404387\",\"line_width\":3,\"x\":{\"field\":\"x\"},\"y\":{\"field\":\"y\"}},\"id\":\"1158\",\"type\":\"Line\"},{\"attributes\":{\"label\":{\"value\":\"% CPU\"},\"renderers\":[{\"id\":\"1079\"}]},\"id\":\"1091\",\"type\":\"LegendItem\"},{\"attributes\":{\"line_alpha\":0.2,\"line_color\":\"#404387\",\"line_width\":3,\"x\":{\"field\":\"x\"},\"y\":{\"field\":\"y\"}},\"id\":\"1160\",\"type\":\"Line\"},{\"attributes\":{\"line_color\":\"#29788E\",\"line_width\":4,\"x\":{\"field\":\"x\"},\"y\":{\"field\":\"y\"}},\"id\":\"1094\",\"type\":\"Line\"},{\"attributes\":{\"tools\":[{\"id\":\"1066\"},{\"id\":\"1067\"},{\"id\":\"1068\"},{\"id\":\"1069\"}]},\"id\":\"1070\",\"type\":\"Toolbar\"},{\"attributes\":{},\"id\":\"1083\",\"type\":\"BasicTickFormatter\"},{\"attributes\":{},\"id\":\"1084\",\"type\":\"AllLabels\"},{\"attributes\":{},\"id\":\"1086\",\"type\":\"BasicTickFormatter\"},{\"attributes\":{},\"id\":\"1087\",\"type\":\"AllLabels\"},{\"attributes\":{},\"id\":\"1040\",\"type\":\"CategoricalTickFormatter\"},{\"attributes\":{},\"id\":\"1041\",\"type\":\"AllLabels\"},{\"attributes\":{\"dimensions\":\"width\"},\"id\":\"1023\",\"type\":\"WheelZoomTool\"},{\"attributes\":{},\"id\":\"1043\",\"type\":\"BasicTickFormatter\"},{\"attributes\":{\"end\":766.1},\"id\":\"1052\",\"type\":\"Range1d\"},{\"attributes\":{},\"id\":\"1088\",\"type\":\"UnionRenderers\"},{\"attributes\":{},\"id\":\"1044\",\"type\":\"AllLabels\"},{\"attributes\":{\"axis_label\":\"Worker ID\",\"axis_line_color\":null,\"coordinates\":null,\"formatter\":{\"id\":\"1040\"},\"group\":null,\"major_label_policy\":{\"id\":\"1041\"},\"major_tick_line_color\":null,\"ticker\":{\"id\":\"1018\"}},\"id\":\"1017\",\"type\":\"CategoricalAxis\"},{\"attributes\":{\"axis\":{\"id\":\"1017\"},\"coordinates\":null,\"dimension\":1,\"grid_line_color\":null,\"group\":null,\"ticker\":null},\"id\":\"1019\",\"type\":\"Grid\"},{\"attributes\":{},\"id\":\"1089\",\"type\":\"Selection\"},{\"attributes\":{},\"id\":\"1018\",\"type\":\"CategoricalTicker\"},{\"attributes\":{},\"id\":\"1021\",\"type\":\"SaveTool\"},{\"attributes\":{},\"id\":\"1022\",\"type\":\"ResetTool\"},{\"attributes\":{\"callback\":null,\"point_policy\":\"follow_mouse\",\"tooltips\":\"\\n    &lt;div&gt;\\n        &lt;span style=\\\"font-size: 14px; font-weight: bold;\\\"&gt;Key:&lt;/span&gt;&amp;nbsp;\\n        &lt;span style=\\\"font-size: 10px; font-family: Monaco, monospace;\\\"&gt;@key&lt;/span&gt;\\n    &lt;/div&gt;\\n    &lt;div&gt;\\n        &lt;span style=\\\"font-size: 14px; font-weight: bold;\\\"&gt;Task:&lt;/span&gt;&amp;nbsp;\\n        &lt;span style=\\\"font-size: 10px; font-family: Monaco, monospace;\\\"&gt;@function&lt;/span&gt;\\n    &lt;/div&gt;\\n    \"},\"id\":\"1020\",\"type\":\"HoverTool\"},{\"attributes\":{},\"id\":\"1045\",\"type\":\"UnionRenderers\"},{\"attributes\":{\"fill_color\":{\"field\":\"color\"},\"hatch_color\":{\"field\":\"color\"},\"height\":{\"value\":1},\"line_color\":{\"value\":\"gray\"},\"width\":{\"field\":\"width\"},\"x\":{\"field\":\"x\"},\"y\":{\"field\":\"y\"}},\"id\":\"1033\",\"type\":\"Rect\"},{\"attributes\":{\"dimensions\":\"width\"},\"id\":\"1024\",\"type\":\"PanTool\"},{\"attributes\":{},\"id\":\"1046\",\"type\":\"Selection\"},{\"attributes\":{\"coordinates\":null,\"group\":null,\"text\":\"Profile Results\"},\"id\":\"1003\",\"type\":\"Title\"},{\"attributes\":{\"factors\":[\"0\",\"1\",\"2\",\"3\",\"4\",\"5\",\"6\",\"7\"]},\"id\":\"1007\",\"type\":\"FactorRange\"},{\"attributes\":{},\"id\":\"1009\",\"type\":\"LinearScale\"},{\"attributes\":{\"source\":{\"id\":\"1031\"}},\"id\":\"1037\",\"type\":\"CDSView\"},{\"attributes\":{\"line_color\":\"#440154\",\"line_width\":4,\"x\":{\"field\":\"x\"},\"y\":{\"field\":\"y\"}},\"id\":\"1076\",\"type\":\"Line\"},{\"attributes\":{\"fill_alpha\":{\"value\":0.1},\"fill_color\":{\"field\":\"color\"},\"hatch_alpha\":{\"value\":0.1},\"hatch_color\":{\"field\":\"color\"},\"height\":{\"value\":1},\"line_alpha\":{\"value\":0.1},\"line_color\":{\"value\":\"gray\"},\"width\":{\"field\":\"width\"},\"x\":{\"field\":\"x\"},\"y\":{\"field\":\"y\"}},\"id\":\"1034\",\"type\":\"Rect\"},{\"attributes\":{\"axis_label\":null,\"coordinates\":null,\"formatter\":{\"id\":\"1086\"},\"group\":null,\"major_label_policy\":{\"id\":\"1087\"},\"ticker\":{\"id\":\"1059\"}},\"id\":\"1058\",\"type\":\"LinearAxis\"},{\"attributes\":{\"tools\":[{\"id\":\"1020\"},{\"id\":\"1021\"},{\"id\":\"1022\"},{\"id\":\"1023\"},{\"id\":\"1024\"}]},\"id\":\"1025\",\"type\":\"Toolbar\"},{\"attributes\":{},\"id\":\"1054\",\"type\":\"LinearScale\"},{\"attributes\":{\"coordinates\":null,\"data_source\":{\"id\":\"1093\"},\"glyph\":{\"id\":\"1094\"},\"group\":null,\"hover_glyph\":null,\"muted_glyph\":{\"id\":\"1096\"},\"nonselection_glyph\":{\"id\":\"1095\"},\"view\":{\"id\":\"1098\"},\"y_range_name\":\"memory\"},\"id\":\"1097\",\"type\":\"GlyphRenderer\"},{\"attributes\":{\"source\":{\"id\":\"1093\"}},\"id\":\"1098\",\"type\":\"CDSView\"},{\"attributes\":{\"line_alpha\":0.2,\"line_color\":\"#29788E\",\"line_width\":4,\"x\":{\"field\":\"x\"},\"y\":{\"field\":\"y\"}},\"id\":\"1096\",\"type\":\"Line\"},{\"attributes\":{},\"id\":\"1056\",\"type\":\"LinearScale\"},{\"attributes\":{\"axis_label\":\"Memory (MB)\",\"coordinates\":null,\"formatter\":{\"id\":\"1218\"},\"group\":null,\"major_label_policy\":{\"id\":\"1219\"},\"ticker\":{\"id\":\"1217\"},\"y_range_name\":\"memory\"},\"id\":\"1111\",\"type\":\"LinearAxis\"},{\"attributes\":{\"fill_alpha\":{\"value\":0.2},\"fill_color\":{\"field\":\"color\"},\"hatch_alpha\":{\"value\":0.2},\"hatch_color\":{\"field\":\"color\"},\"height\":{\"value\":1},\"line_alpha\":{\"value\":0.2},\"line_color\":{\"value\":\"gray\"},\"width\":{\"field\":\"width\"},\"x\":{\"field\":\"x\"},\"y\":{\"field\":\"y\"}},\"id\":\"1035\",\"type\":\"Rect\"},{\"attributes\":{\"label\":{\"value\":\"Memory\"},\"renderers\":[{\"id\":\"1097\"}]},\"id\":\"1110\",\"type\":\"LegendItem\"},{\"attributes\":{\"coordinates\":null,\"data_source\":{\"id\":\"1031\"},\"glyph\":{\"id\":\"1033\"},\"group\":null,\"hover_glyph\":null,\"muted_glyph\":{\"id\":\"1035\"},\"nonselection_glyph\":{\"id\":\"1034\"},\"view\":{\"id\":\"1037\"}},\"id\":\"1036\",\"type\":\"GlyphRenderer\"}],\"root_ids\":[\"1251\"]},\"title\":\"Bokeh Application\",\"version\":\"2.4.1\"}}\n",
       "        </script>\n",
       "        <script type=\"text/javascript\">\n",
       "          (function() {\n",
       "            const fn = function() {\n",
       "              Bokeh.safely(function() {\n",
       "                (function(root) {\n",
       "                  function embed_document(root) {\n",
       "                    \n",
       "                  const docs_json = document.getElementById('1798').textContent;\n",
       "                  const render_items = [{\"docid\":\"ae691afc-78a8-4fe6-ac03-f2256c5c4676\",\"root_ids\":[\"1251\"],\"roots\":{\"1251\":\"97b1483c-eb57-43b2-9f9c-1c8a116b0b04\"}}];\n",
       "                  root.Bokeh.embed.embed_items(docs_json, render_items);\n",
       "                \n",
       "                  }\n",
       "                  if (root.Bokeh !== undefined) {\n",
       "                    embed_document(root);\n",
       "                  } else {\n",
       "                    let attempts = 0;\n",
       "                    const timer = setInterval(function(root) {\n",
       "                      if (root.Bokeh !== undefined) {\n",
       "                        clearInterval(timer);\n",
       "                        embed_document(root);\n",
       "                      } else {\n",
       "                        attempts++;\n",
       "                        if (attempts > 100) {\n",
       "                          clearInterval(timer);\n",
       "                          console.log(\"Bokeh: ERROR: Unable to run BokehJS code because BokehJS library is missing\");\n",
       "                        }\n",
       "                      }\n",
       "                    }, 10, root)\n",
       "                  }\n",
       "                })(window);\n",
       "              });\n",
       "            };\n",
       "            if (document.readyState != \"loading\") fn();\n",
       "            else document.addEventListener(\"DOMContentLoaded\", fn);\n",
       "          })();\n",
       "        </script>\n",
       "    \n",
       "  </body>\n",
       "  \n",
       "</html>"
      ],
      "text/plain": [
       "<IPython.core.display.HTML object>"
      ]
     },
     "metadata": {},
     "output_type": "display_data"
    }
   ],
   "source": [
    "from IPython.display import display, HTML\n",
    "\n",
    "display(HTML(filename='images/dask_local_diagnostics.html'))"
   ]
  },
  {
   "cell_type": "markdown",
   "id": "73e3e3ed-8bc5-435b-9139-a4782182ef79",
   "metadata": {
    "tags": []
   },
   "source": [
    "#### [Distributed diagnostics](https://docs.dask.org/en/stable/diagnostics-distributed.html)\n",
    "\n",
    "- ...\n",
    "\n",
    "[`dask-report_example_mpi_sge.html`](https://github.com/lukeconibear/swd6_hpp/blob/main/docs/images/dask-report_example_mpi_sge.html)  \n",
    "[`dask-report_example_jobqueue_sge.html`](https://github.com/lukeconibear/swd6_hpp/blob/main/docs/images/dask-report_example_jobqueue_sge.html)"
   ]
  },
  {
   "cell_type": "code",
   "execution_count": null,
   "id": "e72ebab1-459e-45bb-aef6-63437927dbc3",
   "metadata": {},
   "outputs": [],
   "source": []
  },
  {
   "cell_type": "code",
   "execution_count": null,
   "id": "f3017e30-f88c-4327-8928-1d043c4e9389",
   "metadata": {},
   "outputs": [],
   "source": []
  },
  {
   "cell_type": "code",
   "execution_count": null,
   "id": "4ad0360f-0654-402f-9d7b-680803ca84ca",
   "metadata": {},
   "outputs": [],
   "source": []
  },
  {
   "cell_type": "markdown",
   "id": "f63ae5e2-81d3-40c1-a5ea-dc7cfe864f7f",
   "metadata": {},
   "source": [
    "### [More Dask examples](https://examples.dask.org/)"
   ]
  },
  {
   "cell_type": "markdown",
   "id": "ffddfeac-ddd8-4380-b817-b893effe6831",
   "metadata": {},
   "source": [
    "## [Ray](https://www.ray.io/)\n",
    "Ray will automatically detect the available GPUs and CPUs on the machine.\n",
    "- Can also [specify required resources](https://docs.ray.io/en/latest/walkthrough.html#specifying-required-resources)."
   ]
  },
  {
   "cell_type": "markdown",
   "id": "5449c4d4-bf18-46c4-a572-8d8e957c1674",
   "metadata": {},
   "source": [
    "First, initialise Ray."
   ]
  },
  {
   "cell_type": "code",
   "execution_count": null,
   "id": "305875bc-134a-4f22-80ed-a0117345ae29",
   "metadata": {},
   "outputs": [],
   "source": [
    "import ray\n",
    "ray.init()"
   ]
  },
  {
   "cell_type": "markdown",
   "id": "08be24a6-c056-4013-8dc8-41f204c7e421",
   "metadata": {
    "tags": []
   },
   "source": [
    "### Functions become Tasks\n",
    "- Parallelise functions by adding `@ray.remote` decorator  \n",
    "- Then instead of calling it normally, use the `.remote()` method  \n",
    "- This yields a future object reference that you can retrieve with `ray.get(object)` "
   ]
  },
  {
   "cell_type": "code",
   "execution_count": null,
   "id": "cc39f660-734d-4b53-84a7-3b8c8df07f58",
   "metadata": {},
   "outputs": [],
   "source": [
    "@ray.remote\n",
    "def f(x):\n",
    "    return x * x"
   ]
  },
  {
   "cell_type": "code",
   "execution_count": null,
   "id": "a3454321-f0c0-4d61-ad32-00e29f21f330",
   "metadata": {},
   "outputs": [],
   "source": [
    "# asynchronously run a task\n",
    "futures = [f.remote(i) for i in range(4)]\n",
    "print(ray.get(futures))"
   ]
  },
  {
   "cell_type": "markdown",
   "id": "c7eb9d5a-64bb-4b42-a06e-52e20e8fb74b",
   "metadata": {},
   "source": [
    "### Classes become Actors\n",
    "- Parallelise classes the same way\n",
    "- These actors maintain their internal state  "
   ]
  },
  {
   "cell_type": "code",
   "execution_count": null,
   "id": "6d3b3e05-e18a-4a19-bbba-17159ac6a9bf",
   "metadata": {},
   "outputs": [],
   "source": [
    "@ray.remote\n",
    "class Counter(object):\n",
    "    def __init__(self):\n",
    "        self.value = 0\n",
    "        \n",
    "    def increment(self):\n",
    "        self.value += 1\n",
    "    \n",
    "    def read(self):\n",
    "        return self.value"
   ]
  },
  {
   "cell_type": "code",
   "execution_count": null,
   "id": "4037ffcb-dccd-408b-bcf7-2df61e337905",
   "metadata": {},
   "outputs": [],
   "source": [
    "# construct an actor instance using .remote()\n",
    "counters = [Counter.remote() for i in range(4)]"
   ]
  },
  {
   "cell_type": "code",
   "execution_count": null,
   "id": "4cf0a7b5-6b32-4238-ba7b-1e4005837f35",
   "metadata": {},
   "outputs": [],
   "source": [
    "# asynchronously run actor methods\n",
    "[counter.increment.remote() for counter in counters]\n",
    "futures = [counter.read.remote() for counter in counters]\n",
    "print(ray.get(futures))"
   ]
  },
  {
   "cell_type": "markdown",
   "id": "358a0190-d4b4-488e-bbb1-1a79bf5b07b4",
   "metadata": {},
   "source": [
    "Other key API methods:\n",
    "- `ray.put()`\n",
    "    - Put a value in the distributed object store.\n",
    "    - `put_id = ray.put(my_object)`\n",
    "- `ray.get()`\n",
    "    - Get an object from the distributed object store, either placed there by `ray.put()` explicitly or by a task or actor method, blocking until object is available.\n",
    "    - `thing = ray.get(put_id)`\n",
    "- `ray.wait()`\n",
    "    - Wait on a list of ids until one of the corresponding objects is available (e.g., the task completes). Return two lists, one with ids for the available objects and the other with ids for the still-running tasks or method calls.\n",
    "    `finished, running = ray.wait([train_id, track_id])`"
   ]
  },
  {
   "cell_type": "markdown",
   "id": "17ff7718-e93c-497d-90bf-8da746d31add",
   "metadata": {},
   "source": [
    "### Ray's [`multiprocessing`](https://docs.ray.io/en/latest/multiprocessing.html)\n",
    "To scale beyond one machine and generally manage a pool of processes.  \n",
    "\n",
    "Replace:\n",
    "```python\n",
    "from multiprocessing.pool import Pool\n",
    "```\n",
    "\n",
    "With:\n",
    "\n",
    "```python\n",
    "from ray.util.multiprocessing.pool import Pool\n",
    "```\n"
   ]
  },
  {
   "cell_type": "code",
   "execution_count": null,
   "id": "d2e3793a-c08f-4fbb-bbc7-074a8e309d6a",
   "metadata": {},
   "outputs": [],
   "source": [
    "from ray.util.multiprocessing.pool import Pool"
   ]
  },
  {
   "cell_type": "code",
   "execution_count": null,
   "id": "441e6b75-ce18-4b02-b3db-0ad8fcad4533",
   "metadata": {},
   "outputs": [],
   "source": [
    "def my_function(x):\n",
    "    return x * x"
   ]
  },
  {
   "cell_type": "code",
   "execution_count": null,
   "id": "24ec938a-652c-4636-8da1-1a177eb989eb",
   "metadata": {},
   "outputs": [],
   "source": [
    "with Pool(2) as workers:\n",
    "    print(workers.map(my_function, [1, 2, 3]))"
   ]
  },
  {
   "cell_type": "markdown",
   "id": "cf4457d7-d7b3-4364-8d71-40455a3bd225",
   "metadata": {
    "tags": []
   },
   "source": [
    "### Ray's [`joblib`](https://docs.ray.io/en/latest/joblib.html)\n",
    "The underpinnings of [scikit-learn](https://scikit-learn.org/stable/), which Ray can scale to a cluster.\n",
    "\n",
    "Import and instantiate `register_ray`, which registers Ray as a `joblib` backend for `scikit-learn`:  \n",
    "```python\n",
    "import joblib\n",
    "from ray.util.joblib import register_ray\n",
    "register_ray()\n",
    "```\n",
    "\n",
    "Then run your original `scikit-learn` code within a Ray/`joblib` backend:\n",
    "```python\n",
    "with joblib.parallel_backend('ray'):\n",
    "    # original scikit-learn code\n",
    "```\n",
    "\n",
    "For example, here's some parallel hyperparameter tuning:\n",
    "```python\n",
    "import joblib\n",
    "from ray.util.joblib import register_ray\n",
    "register_ray()\n",
    "\n",
    "import numpy as np\n",
    "from sklearn.datasets import load_digits\n",
    "from sklearn.svm import SVC\n",
    "from sklearn.model_selection import RandomizedSearchCV\n",
    "\n",
    "digits = load_digits()\n",
    "param_space = {\n",
    "    'C': np.logspace(-6, 6, 30),\n",
    "    'gamma': np.logspace(-8, 8, 30),\n",
    "    'tol': np.logspace(-4, -1, 30),\n",
    "    'class_weight': [None, 'balanced'],\n",
    "}\n",
    "model = SVC(kernel='rbf')\n",
    "search = sklearn.model_selection.RandomizedSearchCV(\n",
    "    model, param_space, cv=5, n_iter=300, verbose=10)\n",
    "\n",
    "with joblib.parallel_backend('ray'):\n",
    "    search.fit(digits.data, digits.target)\n",
    "```"
   ]
  },
  {
   "cell_type": "markdown",
   "id": "16793ada-97bd-4723-b225-bce2c1d24fd6",
   "metadata": {},
   "source": [
    "When finished, remember to shut down the Ray connection."
   ]
  },
  {
   "cell_type": "code",
   "execution_count": null,
   "id": "636be3a3-28d6-4663-8a78-fb8292b27223",
   "metadata": {},
   "outputs": [],
   "source": [
    "ray.shutdown()"
   ]
  },
  {
   "cell_type": "markdown",
   "id": "33ebccf4-2bc3-4fbc-97b9-8ce74fa30698",
   "metadata": {},
   "source": [
    "Please see this [repository](https://github.com/lukeconibear/distributed_deep_learning) for examples of how to do distributed deep learning using Ray Train with TensorFlow, PyTorch, and Horovod."
   ]
  },
  {
   "cell_type": "markdown",
   "id": "380cf30b-7eec-4d87-9dc2-1ae4c480cfb2",
   "metadata": {},
   "source": [
    "## [Dask on Ray](https://docs.ray.io/en/latest/data/dask-on-ray.html)\n",
    "Use Ray as a backend for Dask tasks.  \n",
    "Dask dispatches tasks to Ray for scheduling and execution."
   ]
  },
  {
   "cell_type": "code",
   "execution_count": 10,
   "id": "4dc0ae7b-4d26-4410-aec6-fc104f8a8135",
   "metadata": {},
   "outputs": [],
   "source": [
    "import ray\n",
    "import dask\n",
    "import dask.dataframe as dd \n",
    "import pandas as pd\n",
    "import numpy as np\n",
    "from ray.util.dask import ray_dask_get"
   ]
  },
  {
   "cell_type": "code",
   "execution_count": 11,
   "id": "57a8ef39-65df-45ca-b26e-9b539cc523ea",
   "metadata": {},
   "outputs": [
    {
     "data": {
      "text/plain": [
       "{'node_ip_address': '129.11.87.102',\n",
       " 'raylet_ip_address': '129.11.87.102',\n",
       " 'redis_address': '129.11.87.102:6379',\n",
       " 'object_store_address': '/tmp/ray/session_2021-12-20_11-47-12_888567_25572/sockets/plasma_store',\n",
       " 'raylet_socket_name': '/tmp/ray/session_2021-12-20_11-47-12_888567_25572/sockets/raylet',\n",
       " 'webui_url': None,\n",
       " 'session_dir': '/tmp/ray/session_2021-12-20_11-47-12_888567_25572',\n",
       " 'metrics_export_port': 63246,\n",
       " 'node_id': 'e37649cbb30caaafbcfb5fdbe4645c1e07fbbc9c2a044468ebf0a02d'}"
      ]
     },
     "execution_count": 11,
     "metadata": {},
     "output_type": "execute_result"
    }
   ],
   "source": [
    "dask.config.set(scheduler=ray_dask_get) \n",
    "ray.init()"
   ]
  },
  {
   "cell_type": "code",
   "execution_count": null,
   "id": "dab4eba7-acfb-4aff-b525-c4d9e8022689",
   "metadata": {},
   "outputs": [],
   "source": [
    "df = pd.DataFrame(np.random.randint(0, 100, size=(2**10, 2**8)))\n",
    "df = dd.from_pandas(df, npartitions=10)\n",
    "df.head(10)"
   ]
  },
  {
   "cell_type": "code",
   "execution_count": null,
   "id": "d5359569-5cf9-4adf-b0ae-e63a9564cd41",
   "metadata": {},
   "outputs": [],
   "source": [
    "ray.shutdown()"
   ]
  },
  {
   "cell_type": "markdown",
   "id": "ee2abd54-2404-4fa3-8042-a3ca772f949f",
   "metadata": {},
   "source": [
    "## Exercise\n",
    "\n",
    "..."
   ]
  },
  {
   "cell_type": "markdown",
   "id": "a3c97e49-4137-4cc7-ba53-1dd42feb7084",
   "metadata": {},
   "source": [
    "## Further information\n",
    "\n",
    "### Good practises\n",
    "\n",
    "- Start small.\n",
    "- Avoid very large chunks / partitions / task graphs (a good first option is to allow auto-chunking).\n",
    "- Only use parallelisation (e.g., Dask) when needed, then move back to normal Python ( / NumPy / Pandas).\n",
    "- Persist data in memory (RAM) where can, as faster than accessing from disk.\n",
    "- Load data with the parallel library (e.g., Dask), rather than just passing data to it to manage.\n",
    "- Call compute once, on lots of computations.\n",
    "- Avoid global state.\n",
    "- Don't modify the data in place.\n",
    "- More information:\n",
    "    - [Dask](https://docs.dask.org/en/stable/best-practices.html), [Dask Array](https://docs.dask.org/en/stable/array-best-practices.html), [Dask DataFrame]()\n",
    "    [Dask Delayed](https://docs.dask.org/en/stable/delayed-best-practices.html)\n",
    "\n",
    "### Other options\n",
    "\n",
    "- [Modin](https://modin.readthedocs.io/en/latest/)\n",
    "  - Swap out the library import and use the same API.\n",
    "  - Uses Ray or Dask to easily speed up your Pandas code.  \n",
    "  - To use Modin, simply replace the import and use Pandas API as normal.\n",
    "- [Mars](https://docs.pymars.org/en/latest/)\n",
    "  - A tensor-based unified framework for large-scale data computation which scales numpy, pandas, scikit-learn and many other libraries.\n",
    "  - Swap out the library import, use the same API, and add `.execute()`.\n",
    "  - [Mars Tensor](https://docs.pymars.org/en/latest/getting_started/tensor.html) for NumPy.  \n",
    "  - [Mars DataFrame](https://docs.pymars.org/en/latest/getting_started/dataframe.html) for Pandas.\n",
    "  - Mars can also use Ray as the backend ([instructions](https://docs.ray.io/en/latest/data/mars-on-ray.html)).\n",
    "- [Polars](https://www.pola.rs/)\n",
    "  - Lightning-fast DataFrame library for Rust and Python.\n",
    "- [RayDP](https://docs.ray.io/en/latest/data/raydp.html)\n",
    "  - Combines your Spark and Ray clusters, making it easy to do large scale data processing using the PySpark API and seemlessly use that data to train your models using TensorFlow and PyTorch.\n",
    "\n",
    "### Resources\n",
    "\n",
    "- [Using `eliot` with Dask](https://eliot.readthedocs.io/en/stable/scientific-computing.html)\n",
    "- [Using IPython for parallel computing](https://ipyparallel.readthedocs.io/en/latest/)\n",
    "- [Concurrency](https://youtu.be/18B1pznaU1o) can also run different tasks together, but work is not done at the same time ([concurrency from the ground up](https://youtu.be/MCs5OvhV9S4)).   \n",
    "- [Asynchronous](https://youtu.be/iG6fr81xHKA) (multi-threading), useful for massive scaling, threads controlled explicitly.  "
   ]
  }
 ],
 "metadata": {
  "interpreter": {
   "hash": "b1ffad78e3b53a26aeabe29bd69865e9fcde2eed64638bf28084d4e5d53534f3"
  },
  "kernelspec": {
   "display_name": "swd6_hpp",
   "language": "python",
   "name": "swd6_hpp"
  },
  "language_info": {
   "codemirror_mode": {
    "name": "ipython",
    "version": 3
   },
   "file_extension": ".py",
   "mimetype": "text/x-python",
   "name": "python",
   "nbconvert_exporter": "python",
   "pygments_lexer": "ipython3",
   "version": "3.9.7"
  }
 },
 "nbformat": 4,
 "nbformat_minor": 5
}
