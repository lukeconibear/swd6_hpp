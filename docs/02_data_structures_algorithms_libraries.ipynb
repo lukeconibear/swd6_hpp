{
 "cells": [
  {
   "cell_type": "markdown",
   "id": "591316ac-72a9-4d80-8220-0267b16f1358",
   "metadata": {},
   "source": [
    "# Data Structures, Algorithms, and Libraries"
   ]
  },
  {
   "cell_type": "markdown",
   "id": "94351edd-5d8b-4a0b-b552-aa2eefecef88",
   "metadata": {},
   "source": [
    "[![Open in Colab](https://colab.research.google.com/assets/colab-badge.svg)](https://colab.research.google.com/github/lukeconibear/swd6_hpp/blob/main/docs/02_data_structures_algorithms_libraries.ipynb)"
   ]
  },
  {
   "cell_type": "code",
   "execution_count": 4,
   "id": "a06a0187-cad0-4998-abfe-b268b4d8ce53",
   "metadata": {},
   "outputs": [],
   "source": [
    "# if you're using colab, then install the required modules\n",
    "import sys\n",
    "IN_COLAB = 'google.colab' in sys.modules\n",
    "if IN_COLAB:\n",
    "    %pip install algorithms"
   ]
  },
  {
   "cell_type": "markdown",
   "id": "5b5e4991-2286-4c93-b9cc-2a08e7511ddc",
   "metadata": {},
   "source": [
    "Python comes with a [standard library](https://docs.python.org/3/library/index.html).\n",
    "\n",
    "This includes:\n",
    "\n",
    "- [Built-in functions](https://docs.python.org/3/library/functions.html) (e.g., `len`)\n",
    "- [Data types/structures](https://docs.python.org/3/library/stdtypes.html)\n",
    "    - [Numerics](https://docs.python.org/3/library/stdtypes.html#numeric-types-int-float-complex) (e.g., `int`, `float`)\n",
    "    - [Sequences](https://docs.python.org/3/library/stdtypes.html#sequence-types-list-tuple-range) (e.g., `list`, `str`)\n",
    "    - [Mappings](https://docs.python.org/3/library/stdtypes.html#mapping-types-dict) (e.g., `dict`)\n",
    "- Modules\n",
    "    - [Numeric and Mathematical](https://docs.python.org/3/library/numeric.html) (e.g., `math`)\n",
    "\n",
    "And lots more.\n",
    "\n",
    "They are optimised in C (statically typed and compiled). Hence, they're often faster than reimplementing them yourself.\n",
    "\n",
    "They provide standardized solutions for many problems that occur in everyday programming.\n",
    "\n"
   ]
  },
  {
   "cell_type": "markdown",
   "id": "d67b6d67-1ee6-4f4b-9d8d-8771c16b265b",
   "metadata": {},
   "source": [
    "## [Built-in functions](https://docs.python.org/3/library/functions.html)"
   ]
  },
  {
   "cell_type": "markdown",
   "id": "daae1cfb-6ea0-4942-85d4-4a61abb99459",
   "metadata": {},
   "source": [
    "### [`len`](https://docs.python.org/3/library/functions.html#len)\n",
    "\n",
    "Return the length (the number of items) of an object. The argument may be a sequence (e.g., list) or a collection (e.g., dictionary).\n",
    "\n",
    "**_Tip_: Use `len` rather than counting the items in an object in a loop.**  "
   ]
  },
  {
   "cell_type": "code",
   "execution_count": 3,
   "id": "f563c49a-3dd3-435e-9ef5-9df8a55d3a65",
   "metadata": {},
   "outputs": [],
   "source": [
    "nums = [num for num in range(1_000_000)]"
   ]
  },
  {
   "cell_type": "code",
   "execution_count": 2,
   "id": "79cb72e1-870f-46df-a655-d88ef66dc114",
   "metadata": {},
   "outputs": [
    {
     "name": "stdout",
     "output_type": "stream",
     "text": [
      "38.7 ms ± 3.87 ms per loop (mean ± std. dev. of 7 runs, 10 loops each)\n"
     ]
    }
   ],
   "source": [
    "%%timeit\n",
    "count = 0\n",
    "for num in nums: # time O(n)\n",
    "    count += 1"
   ]
  },
  {
   "cell_type": "code",
   "execution_count": 4,
   "id": "e81f47a5-eb1e-41ba-89af-2eb3c1e0a4e8",
   "metadata": {},
   "outputs": [
    {
     "name": "stdout",
     "output_type": "stream",
     "text": [
      "47.3 ns ± 1.57 ns per loop (mean ± std. dev. of 7 runs, 10000000 loops each)\n"
     ]
    }
   ],
   "source": [
    "%%timeit\n",
    "len(nums) # time O(1)"
   ]
  },
  {
   "cell_type": "markdown",
   "id": "fe503115-44ee-45b8-97fd-a05ad041cedd",
   "metadata": {},
   "source": [
    "## [Data types/structures](https://docs.python.org/3/library/datatypes.html)"
   ]
  },
  {
   "cell_type": "markdown",
   "id": "0f2edb15-e272-45f4-98fb-289dc9629d15",
   "metadata": {
    "tags": []
   },
   "source": [
    "### [Lists](https://docs.python.org/3/tutorial/datastructures.html#more-on-lists)\n",
    "\n",
    "A sequence of objects.\n",
    "\n",
    "**_Tip_: Append to lists, rather than concatenating.**  \n",
    "\n",
    "- *Lists are allocated twice the memory required, so appending fills this up in O(1) (long-term average), while concatenating creates a new list each time in O(n).*"
   ]
  },
  {
   "cell_type": "code",
   "execution_count": 2,
   "id": "336d761f-4583-460c-b4ab-4baca920665c",
   "metadata": {},
   "outputs": [
    {
     "name": "stdout",
     "output_type": "stream",
     "text": [
      "42.6 µs ± 440 ns per loop (mean ± std. dev. of 7 runs, 10000 loops each)\n"
     ]
    }
   ],
   "source": [
    "%%timeit\n",
    "my_list = []\n",
    "for num in range(1_000):\n",
    "    my_list += [num] # time O(n)"
   ]
  },
  {
   "cell_type": "code",
   "execution_count": 3,
   "id": "e79a0bd4-b8b3-44bf-a58a-afdee570eeb4",
   "metadata": {},
   "outputs": [
    {
     "name": "stdout",
     "output_type": "stream",
     "text": [
      "33.3 µs ± 169 ns per loop (mean ± std. dev. of 7 runs, 10000 loops each)\n"
     ]
    }
   ],
   "source": [
    "%%timeit\n",
    "my_list = []\n",
    "for num in range(1_000):\n",
    "    my_list.append(num) # time O(1)"
   ]
  },
  {
   "cell_type": "markdown",
   "id": "c7f4eb07-70a9-44cf-93b5-7e3c0a95544c",
   "metadata": {},
   "source": [
    "### [Dictionaries](https://docs.python.org/3/tutorial/datastructures.html#dictionaries)\n",
    "\n",
    "A set of key: value pairs, where the keys are unique and immutable indicies.\n",
    "\n",
    "**_Tip_: Use them as look-ups, as they're fast to search, O(1).**  \n",
    "\n",
    "- *Example from Luciano Ramalho, [Fluent Python, Clear, Concise, and Effective Programming](https://www.oreilly.com/library/view/fluent-python/9781491946237/), 2015. O'Reilly Media, Inc.*"
   ]
  },
  {
   "cell_type": "code",
   "execution_count": 11,
   "id": "a1954187-2dc2-45c4-b07f-faadc851e599",
   "metadata": {},
   "outputs": [],
   "source": [
    "import numpy as np"
   ]
  },
  {
   "cell_type": "code",
   "execution_count": 12,
   "id": "cef32a95-7c84-49ae-883f-2531e4caf580",
   "metadata": {},
   "outputs": [],
   "source": [
    "haystack_list = np.random.uniform(low=0, high=100, size=(1_000_000))\n",
    "haystack_dict = {key: value for key, value in enumerate(haystack_list)}\n",
    "needles = [0.1, 50.1, 99.1]"
   ]
  },
  {
   "cell_type": "code",
   "execution_count": 13,
   "id": "11fea428-80ad-4343-9779-b49c9b02ffbd",
   "metadata": {},
   "outputs": [
    {
     "name": "stdout",
     "output_type": "stream",
     "text": [
      "533 µs ± 6.9 µs per loop (mean ± std. dev. of 7 runs, 1000 loops each)\n"
     ]
    }
   ],
   "source": [
    "%%timeit\n",
    "needles_found = 0\n",
    "for needle in needles:\n",
    "    if needle in haystack_list: # time O(n) within list\n",
    "        needles_found += 1"
   ]
  },
  {
   "cell_type": "code",
   "execution_count": 14,
   "id": "54d68f59-7100-4618-92f8-d74cf73c9b96",
   "metadata": {},
   "outputs": [
    {
     "name": "stdout",
     "output_type": "stream",
     "text": [
      "133 ns ± 0.813 ns per loop (mean ± std. dev. of 7 runs, 10000000 loops each)\n"
     ]
    }
   ],
   "source": [
    "%%timeit\n",
    "needles_found = 0\n",
    "for needle in needles:\n",
    "    if needle in haystack_dict: # time O(1) within dict\n",
    "        needles_found += 1"
   ]
  },
  {
   "cell_type": "markdown",
   "id": "cad264eb-a366-46a5-b2aa-96fbc73fe796",
   "metadata": {},
   "source": [
    "**_Tip_: Reduce repeated calculations with [caching](https://realpython.com/lru-cache-python/)**  \n",
    "\n",
    "- e.g. [Fibonacci sequence](https://en.wikipedia.org/wiki/Fibonacci_number) (each number is the sum of the two preceding ones starting from 0 and 1 e.g. 0, 1, 1, 2, 3, 5, 8, 13, 21, 34)."
   ]
  },
  {
   "cell_type": "code",
   "execution_count": 5,
   "id": "2e0a1a4b-25df-479a-94c9-ea3c1efef98e",
   "metadata": {},
   "outputs": [],
   "source": [
    "def fibonacci(n): # time O(2^n) as 2 calls to the function n times (a balanced tree of repeated calls)\n",
    "    if n == 0 or n == 1:\n",
    "        return 0\n",
    "    elif n == 2:\n",
    "        return 1\n",
    "    else:\n",
    "        return fibonacci(n - 1) + fibonacci(n - 2)"
   ]
  },
  {
   "cell_type": "code",
   "execution_count": 6,
   "id": "825cd1ea-36ba-4cbb-b986-829e47bd5817",
   "metadata": {},
   "outputs": [
    {
     "name": "stdout",
     "output_type": "stream",
     "text": [
      "1.09 ms ± 6.57 µs per loop (mean ± std. dev. of 7 runs, 1000 loops each)\n"
     ]
    }
   ],
   "source": [
    "%timeit fibonacci(20)"
   ]
  },
  {
   "cell_type": "code",
   "execution_count": 7,
   "id": "132bad14-75d7-40b1-a62c-d1ee4ae388c0",
   "metadata": {},
   "outputs": [],
   "source": [
    "def fibonacci_with_caching(n, cache={0: 0, 1: 0, 2: 1}): # time O(n) as 1 call per n\n",
    "    if n in cache:\n",
    "        return cache[n]\n",
    "    else:\n",
    "        cache[n] = fibonacci_with_caching(n - 1, cache) + fibonacci_with_caching(n - 2, cache)\n",
    "        return cache[n]"
   ]
  },
  {
   "cell_type": "code",
   "execution_count": 8,
   "id": "a2aa251f-4a6f-4877-a855-b9f99e2d2d71",
   "metadata": {},
   "outputs": [
    {
     "name": "stdout",
     "output_type": "stream",
     "text": [
      "4.12 µs ± 18.4 ns per loop (mean ± std. dev. of 7 runs, 100000 loops each)\n"
     ]
    }
   ],
   "source": [
    "%timeit fibonacci_with_caching(20, cache={0: 0, 1: 0, 2: 1})"
   ]
  },
  {
   "cell_type": "markdown",
   "id": "ebf579bd-7583-480a-9ef0-069f819e733b",
   "metadata": {},
   "source": [
    "## Modules"
   ]
  },
  {
   "cell_type": "markdown",
   "id": "01681149",
   "metadata": {},
   "source": [
    "### [`math`](https://docs.python.org/3/library/math.html)"
   ]
  },
  {
   "cell_type": "code",
   "execution_count": 1,
   "id": "4c59f778-5085-44ae-990e-f0d97578758d",
   "metadata": {},
   "outputs": [],
   "source": [
    "def hypotenuse(x, y):\n",
    "    x = abs(x)\n",
    "    y = abs(y)\n",
    "    t = min(x, y)\n",
    "    x = max(x, y)\n",
    "    t = t / x\n",
    "    return x * (1 + t*t) ** 0.5"
   ]
  },
  {
   "cell_type": "code",
   "execution_count": 3,
   "id": "0ea2b324-5fad-4449-907a-9c6ff844a298",
   "metadata": {},
   "outputs": [
    {
     "name": "stdout",
     "output_type": "stream",
     "text": [
      "354 ns ± 3.22 ns per loop (mean ± std. dev. of 7 runs, 1000000 loops each)\n"
     ]
    }
   ],
   "source": [
    "%timeit hypotenuse(3.0, 4.0)"
   ]
  },
  {
   "cell_type": "code",
   "execution_count": 4,
   "id": "b8aa4bbb",
   "metadata": {},
   "outputs": [],
   "source": [
    "import math"
   ]
  },
  {
   "cell_type": "code",
   "execution_count": 5,
   "id": "8affafab",
   "metadata": {},
   "outputs": [
    {
     "name": "stdout",
     "output_type": "stream",
     "text": [
      "66.7 ns ± 0.268 ns per loop (mean ± std. dev. of 7 runs, 10000000 loops each)\n"
     ]
    }
   ],
   "source": [
    "%timeit math.hypot(3.0, 4.0)"
   ]
  },
  {
   "cell_type": "markdown",
   "id": "ff3e3e60-ea4a-4ece-b40b-e6ad9169ac65",
   "metadata": {
    "tags": []
   },
   "source": [
    "## Algorithms\n",
    "\n",
    "The instructions to solve the problem.\n",
    "\n",
    "- Many existing libraries are already optimised (computationally and algorithmically).\n",
    "  - [Minimal examples of data structures and algorithms in Python](https://github.com/keon/algorithms)."
   ]
  },
  {
   "cell_type": "markdown",
   "id": "4fd0781b-6d89-488b-8f61-a93f1c6b0b4d",
   "metadata": {},
   "source": [
    "### [Sorting](https://en.wikipedia.org/wiki/Sorting_algorithm)"
   ]
  },
  {
   "cell_type": "code",
   "execution_count": 15,
   "id": "eb5b8206-ea52-4c0b-83e9-53517b28042a",
   "metadata": {},
   "outputs": [],
   "source": [
    "from algorithms import sort"
   ]
  },
  {
   "cell_type": "code",
   "execution_count": 16,
   "id": "ddc3e360-f865-49c6-a3c6-2c931a5df061",
   "metadata": {},
   "outputs": [],
   "source": [
    "unsorted_array = np.random.rand(1_000)"
   ]
  },
  {
   "cell_type": "markdown",
   "id": "8accb4ba-7bc0-4036-8965-8e9ab7efb382",
   "metadata": {},
   "source": [
    "#### [Selection sort](https://en.wikipedia.org/wiki/Selection_sort)  \n",
    "\n",
    "*Time O(n^2), space O(1)*\n",
    "\n",
    "1. Two arrays: one unsorted (original) and one sorted (can do in place to avoid extra memory).\n",
    "2. Find smallest number in the unsorted array and add to the sorted array.\n",
    "3. Repeat step 2 until final index is the largest number (i.e. sorted array)."
   ]
  },
  {
   "cell_type": "code",
   "execution_count": 17,
   "id": "fd9f6668-7686-43a3-ba3b-42d3d638e502",
   "metadata": {},
   "outputs": [
    {
     "name": "stdout",
     "output_type": "stream",
     "text": [
      "77.3 ms ± 1.52 ms per loop (mean ± std. dev. of 7 runs, 10 loops each)\n"
     ]
    }
   ],
   "source": [
    "%timeit sort.selection_sort(unsorted_array)"
   ]
  },
  {
   "cell_type": "markdown",
   "id": "0edd9869-ec77-4869-ac7a-87228b529490",
   "metadata": {},
   "source": [
    "#### [Merge sort](https://en.wikipedia.org/wiki/Merge_sort)  \n",
    "\n",
    "*Time O(nlgn), space O(n or nlgn, depending on implementation)*\n",
    "\n",
    "1. Divide array in half.  \n",
    "2. Recusively apply:  \n",
    "    a. Step 1 to both halves, until hit the base case where both halves are length 1.  \n",
    "    b. Merge the two length 1 arrays into sorted array of length 2.  \n",
    "    c. Repeat b, all the way up for this half.  "
   ]
  },
  {
   "cell_type": "code",
   "execution_count": 18,
   "id": "6f264212-a2d1-4192-9589-292566f090b2",
   "metadata": {},
   "outputs": [
    {
     "name": "stdout",
     "output_type": "stream",
     "text": [
      "3.42 ms ± 66.2 µs per loop (mean ± std. dev. of 7 runs, 100 loops each)\n"
     ]
    }
   ],
   "source": [
    "%timeit sort.merge_sort(unsorted_array)"
   ]
  },
  {
   "cell_type": "markdown",
   "id": "2ad7b0d7-24dc-47c2-bfeb-22c784814405",
   "metadata": {},
   "source": [
    "#### [Timsort](https://en.wikipedia.org/wiki/Timsort)  \n",
    "\n",
    "*Time O(nlgn = worst case, n = best case), space O(n)*\n",
    "\n",
    "- Default in Python.\n",
    "- Combines merge sort with insertion sort (insert each element into new sorted list).\n",
    "- Takes advantage of runs of consecutive ordered elements, to reduce comparisons (vs. merge sort).\n",
    "- Merges when runs match criterion.\n",
    "- Runs have minimum size (attained by insertion sort, if needed).\n",
    "\n",
    "`sorted(my_iterable)`\n",
    "\n",
    "- Creates a new sorted list.\n",
    "- Works for any iterable."
   ]
  },
  {
   "cell_type": "code",
   "execution_count": 19,
   "id": "ec633d7a-b07b-4637-b2c7-8c0bd38c4f8e",
   "metadata": {},
   "outputs": [
    {
     "name": "stdout",
     "output_type": "stream",
     "text": [
      "47.7 µs ± 718 ns per loop (mean ± std. dev. of 7 runs, 10000 loops each)\n"
     ]
    }
   ],
   "source": [
    "%timeit sorted(unsorted_array)"
   ]
  },
  {
   "cell_type": "markdown",
   "id": "b6f66e59-7875-4d78-bc52-597b3b5f22b3",
   "metadata": {},
   "source": [
    "`my_list.sort()`\n",
    "\n",
    "- In-place (only for lists)."
   ]
  },
  {
   "cell_type": "code",
   "execution_count": 20,
   "id": "5cb1e35a-70e0-4e54-aaca-51cea1217470",
   "metadata": {},
   "outputs": [
    {
     "name": "stdout",
     "output_type": "stream",
     "text": [
      "4.71 µs ± 56.4 ns per loop (mean ± std. dev. of 7 runs, 100000 loops each)\n"
     ]
    }
   ],
   "source": [
    "%timeit unsorted_array.sort()"
   ]
  },
  {
   "cell_type": "markdown",
   "id": "b8067f0e-05ed-4c4a-9cb0-03d51e244b6e",
   "metadata": {},
   "source": [
    "## Exercise\n",
    "\n",
    "..."
   ]
  },
  {
   "cell_type": "markdown",
   "id": "8363240e",
   "metadata": {},
   "source": [
    "## Further information\n",
    "\n",
    "### Other options\n",
    "\n",
    "- Data types/structures:\n",
    "    - Many more [examples](https://www.bigocheatsheet.com/) e.g.:\n",
    "        - Generators save memory by yielding only the next iteration.\n",
    "        - Memory usage for floats/integers of 16 bit < 32 bit < 64 bit.\n",
    "        - For NetCDFs, using [`engine='h5netcdf'`](https://github.com/shoyer/h5netcdf) with `xarray` can be faster, over than the default [`engine='netcdf4'`](https://github.com/Unidata/netcdf4-python).  \n",
    "        - [Compression](https://youtu.be/8pFnrr0NnwY): If arrays are mostly 0, then can save memory using [sparse arrays](https://sparse.pydata.org/en/stable/quickstart.html).\n",
    "        - [Chunking](https://youtu.be/8pFnrr0NnwY): If need all data, then can load/process in chunks to reduce amount in memory: [Zarr](https://zarr.readthedocs.io/en/stable/) for arrays, [Pandas](https://pythonspeed.com/articles/chunking-pandas/).\n",
    "        - [Indexing](https://youtu.be/8pFnrr0NnwY): If need a subset of the data, then can index (multi-index) to reduce memory and increase speed for queries: [Pandas](https://pythonspeed.com/articles/indexing-pandas-sqlite/), [SQLite](https://docs.python.org/3/library/sqlite3.html).\n",
    "- Suitable data types for parallel computing\n",
    "    - [Parquet](https://examples.dask.org/dataframes/01-data-access.html#Write-to-Parquet) creates efficient tabular data (e.g. dataframes), useful for parallel computing.\n",
    "        - Accessed via [pyarrow](https://arrow.apache.org/docs/python/install.html).\n",
    "    - [Zarr](https://zarr.readthedocs.io/en/stable/) creates compressed, chunked, N-dimensional arrays, designed for use in parallel computing.\n",
    "\n",
    "### Resources\n",
    "\n",
    "- Free MIT course on '*Introduction to algorithms*', [video lectures](https://youtube.com/playlist?list=PLUl4u3cNGP61Oq3tWYp6V_F-5jb5L2iHb)\n",
    "- [LeetCode](https://leetcode.com), [AlgoExpert](https://www.algoexpert.io/product)"
   ]
  }
 ],
 "metadata": {
  "interpreter": {
   "hash": "b1ffad78e3b53a26aeabe29bd69865e9fcde2eed64638bf28084d4e5d53534f3"
  },
  "kernelspec": {
   "display_name": "Python 3",
   "language": "python",
   "name": "python3"
  },
  "language_info": {
   "codemirror_mode": {
    "name": "ipython",
    "version": 3
   },
   "file_extension": ".py",
   "mimetype": "text/x-python",
   "name": "python",
   "nbconvert_exporter": "python",
   "pygments_lexer": "ipython3",
   "version": "3.9.7"
  }
 },
 "nbformat": 4,
 "nbformat_minor": 5
}
