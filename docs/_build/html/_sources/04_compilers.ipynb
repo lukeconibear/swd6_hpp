{
 "cells": [
  {
   "cell_type": "markdown",
   "id": "e959b40e-a651-404d-aee8-f23870af2e9c",
   "metadata": {},
   "source": [
    "# Compilers"
   ]
  },
  {
   "cell_type": "markdown",
   "id": "8aa45220-a638-4a4d-8fe1-f78e67007ea9",
   "metadata": {},
   "source": [
    "[![Open in Colab](https://colab.research.google.com/assets/colab-badge.svg)](https://colab.research.google.com/github/lukeconibear/swd6_hpp/blob/main/docs/05_compilers.ipynb)"
   ]
  },
  {
   "cell_type": "markdown",
   "id": "7226fa6c-aa30-47d0-99b4-475adfab7b24",
   "metadata": {},
   "source": [
    "- [CPython](https://www.python.org/)\n",
    "  - *Ahead-Of-Time (AOT) compiler.*\n",
    "    - Statically compiled C extensions.\n",
    "  - General purpose interpreter.\n",
    "    - Can work on a variety of problems.\n",
    "  - Dynamically typed.\n",
    "    - Types can change e.g. `x = 5`, then later `x = 'gary'`.\n",
    "- [PyPy](https://www.pypy.org/)\n",
    "  - *Just−In−Time (JIT) compiler (written in Python).*\n",
    "    - Enables optimisations at run time, especially for numerical tasks with repitition and loops.\n",
    "    - Replaces CPython.\n",
    "    - Faster, though overheads for start-up and memory.\n",
    "    - Helpful when want to speed up numerical opterations in all of code.  \n",
    "- [Numba](http://numba.pydata.org/)\n",
    "  - *Uses JIT compiler on functions.*\n",
    "    - Converts to fast machine code (LLVM).\n",
    "    - Uses decorators around functions.\n",
    "    - Use with the default CPython.\n",
    "    - Helpful when want to speed up numerical opterations in specific functions.  \n",
    "    - Examples for [NumPy](https://numba.pydata.org/numba-doc/dev/reference/numpysupported.html) and [Pandas](https://pandas.pydata.org/pandas-docs/stable/user_guide/enhancingperf.html#using-numba)."
   ]
  },
  {
   "cell_type": "code",
   "execution_count": 1,
   "id": "06499d6a-ba3d-4562-874a-9ada15483633",
   "metadata": {},
   "outputs": [],
   "source": [
    "import numpy as np\n",
    "from numba import njit"
   ]
  },
  {
   "cell_type": "code",
   "execution_count": 2,
   "id": "a75a8351-5c29-45c1-aca3-404f31cd30f2",
   "metadata": {},
   "outputs": [],
   "source": [
    "nums = np.arange(1_000_000)"
   ]
  },
  {
   "cell_type": "code",
   "execution_count": 3,
   "id": "66e12c99-3efc-450d-8d02-a714d41ddd68",
   "metadata": {},
   "outputs": [],
   "source": [
    "def super_function(nums):\n",
    "    trace = 0.0\n",
    "    for num in nums: # loop\n",
    "        trace += np.cos(num) # numpy\n",
    "    return nums + trace # broadcasting"
   ]
  },
  {
   "cell_type": "code",
   "execution_count": 4,
   "id": "bc13dda5-b28a-45ba-811f-5b19efd47541",
   "metadata": {},
   "outputs": [
    {
     "name": "stdout",
     "output_type": "stream",
     "text": [
      "1.39 s ± 13 ms per loop (mean ± std. dev. of 7 runs, 1 loop each)\n"
     ]
    }
   ],
   "source": [
    "%timeit super_function(nums)"
   ]
  },
  {
   "cell_type": "code",
   "execution_count": 20,
   "id": "813e0666-4516-483f-bb94-ffbce61a3b1c",
   "metadata": {},
   "outputs": [],
   "source": [
    "@njit # numba decorator\n",
    "def super_function(nums):\n",
    "    trace = 0.0\n",
    "    for num in nums: # loop\n",
    "        trace += np.cos(num) # numpy\n",
    "    return nums + trace # broadcasting"
   ]
  },
  {
   "cell_type": "markdown",
   "id": "db5b57c0-adee-4c40-862a-894730bf15d7",
   "metadata": {},
   "source": [
    "The first call of the expression has an overhead to compile the function."
   ]
  },
  {
   "cell_type": "code",
   "execution_count": 21,
   "id": "71903154-46f8-4378-8396-938a70e49794",
   "metadata": {},
   "outputs": [
    {
     "name": "stdout",
     "output_type": "stream",
     "text": [
      "225 ms ± 0 ns per loop (mean ± std. dev. of 1 run, 1 loop each)\n"
     ]
    }
   ],
   "source": [
    "%%timeit -n 1 -r 1\n",
    "super_function(nums)"
   ]
  },
  {
   "cell_type": "markdown",
   "id": "0f3fee17-da48-4faa-b535-6b57b5bc552a",
   "metadata": {},
   "source": [
    "All subsequent calls use this compiled version, and are therefore much faster."
   ]
  },
  {
   "cell_type": "code",
   "execution_count": 22,
   "id": "82098da6-655c-4d0f-9926-239e2a2d9da1",
   "metadata": {},
   "outputs": [
    {
     "name": "stdout",
     "output_type": "stream",
     "text": [
      "73.2 ms ± 0 ns per loop (mean ± std. dev. of 1 run, 1 loop each)\n"
     ]
    }
   ],
   "source": [
    "%%timeit -n 1 -r 1\n",
    "super_function(nums)"
   ]
  },
  {
   "cell_type": "markdown",
   "id": "4f5c8e69-8ff2-44d1-a6a8-3c8ae5b3707e",
   "metadata": {},
   "source": [
    "- [Cython](https://cython.org/)\n",
    "  - *Compiles to statically typed C/C++*.\n",
    "  - Use for any amount of code.\n",
    "  - Use with the default CPython.\n",
    "  - Helpful when need static typing.  \n",
    "  - Examples [not using IPython](https://cython.readthedocs.io/en/latest/src/quickstart/build.html#building-a-cython-module-using-setuptools), [NumPy](https://cython.readthedocs.io/en/latest/src/tutorial/numpy.html), [Pandas](https://pandas.pydata.org/pandas-docs/stable/user_guide/enhancingperf.html) (example below)."
   ]
  },
  {
   "cell_type": "code",
   "execution_count": 7,
   "id": "935842ef-5fec-4fc3-81de-807a743e2082",
   "metadata": {},
   "outputs": [],
   "source": [
    "import pandas as pd"
   ]
  },
  {
   "cell_type": "code",
   "execution_count": 8,
   "id": "41e0618f-0a4c-4b0c-9565-261c3b16ea61",
   "metadata": {},
   "outputs": [
    {
     "data": {
      "text/html": [
       "<div>\n",
       "<style scoped>\n",
       "    .dataframe tbody tr th:only-of-type {\n",
       "        vertical-align: middle;\n",
       "    }\n",
       "\n",
       "    .dataframe tbody tr th {\n",
       "        vertical-align: top;\n",
       "    }\n",
       "\n",
       "    .dataframe thead th {\n",
       "        text-align: right;\n",
       "    }\n",
       "</style>\n",
       "<table border=\"1\" class=\"dataframe\">\n",
       "  <thead>\n",
       "    <tr style=\"text-align: right;\">\n",
       "      <th></th>\n",
       "      <th>a</th>\n",
       "      <th>b</th>\n",
       "      <th>N</th>\n",
       "      <th>x</th>\n",
       "    </tr>\n",
       "  </thead>\n",
       "  <tbody>\n",
       "    <tr>\n",
       "      <th>0</th>\n",
       "      <td>-0.923216</td>\n",
       "      <td>-0.254888</td>\n",
       "      <td>974</td>\n",
       "      <td>x</td>\n",
       "    </tr>\n",
       "    <tr>\n",
       "      <th>1</th>\n",
       "      <td>0.641271</td>\n",
       "      <td>0.205449</td>\n",
       "      <td>497</td>\n",
       "      <td>x</td>\n",
       "    </tr>\n",
       "    <tr>\n",
       "      <th>2</th>\n",
       "      <td>0.254692</td>\n",
       "      <td>0.409151</td>\n",
       "      <td>391</td>\n",
       "      <td>x</td>\n",
       "    </tr>\n",
       "    <tr>\n",
       "      <th>3</th>\n",
       "      <td>-0.967972</td>\n",
       "      <td>-1.980833</td>\n",
       "      <td>497</td>\n",
       "      <td>x</td>\n",
       "    </tr>\n",
       "    <tr>\n",
       "      <th>4</th>\n",
       "      <td>0.154094</td>\n",
       "      <td>0.510685</td>\n",
       "      <td>480</td>\n",
       "      <td>x</td>\n",
       "    </tr>\n",
       "  </tbody>\n",
       "</table>\n",
       "</div>"
      ],
      "text/plain": [
       "          a         b    N  x\n",
       "0 -0.923216 -0.254888  974  x\n",
       "1  0.641271  0.205449  497  x\n",
       "2  0.254692  0.409151  391  x\n",
       "3 -0.967972 -1.980833  497  x\n",
       "4  0.154094  0.510685  480  x"
      ]
     },
     "execution_count": 8,
     "metadata": {},
     "output_type": "execute_result"
    }
   ],
   "source": [
    "df = pd.DataFrame({\n",
    "    \"a\": np.random.randn(1000),\n",
    "    \"b\": np.random.randn(1000),\n",
    "    \"N\": np.random.randint(100, 1000, (1000)),\n",
    "    \"x\": \"x\",\n",
    "})\n",
    "df.head()"
   ]
  },
  {
   "cell_type": "code",
   "execution_count": 9,
   "id": "39365c06-ffda-4f14-b9a1-b919ffcd0a02",
   "metadata": {},
   "outputs": [],
   "source": [
    "def f(x):\n",
    "    return x * (x - 1)\n",
    "   \n",
    "\n",
    "def integrate_f(a, b, N):\n",
    "    s = 0\n",
    "    dx = (b - a) / N\n",
    "    for i in range(N):\n",
    "        s += f(a + i * dx)\n",
    "        \n",
    "    return s * dx"
   ]
  },
  {
   "cell_type": "code",
   "execution_count": 10,
   "id": "9b7b5751-46be-44f7-b8f5-cdab2454ad10",
   "metadata": {},
   "outputs": [
    {
     "name": "stdout",
     "output_type": "stream",
     "text": [
      "97.3 ms ± 83.8 µs per loop (mean ± std. dev. of 7 runs, 10 loops each)\n"
     ]
    }
   ],
   "source": [
    "%timeit df.apply(lambda x: integrate_f(x[\"a\"], x[\"b\"], x[\"N\"]), axis=1)"
   ]
  },
  {
   "cell_type": "code",
   "execution_count": 11,
   "id": "a28ee7c5-9019-4780-9afc-501e333f9684",
   "metadata": {},
   "outputs": [],
   "source": [
    "%load_ext Cython"
   ]
  },
  {
   "cell_type": "markdown",
   "id": "a7bacd43-a054-415d-8c01-21617597aedf",
   "metadata": {},
   "source": [
    "The only change below is the addition of the `%%cython` IPython magic command to state that this is a cython cell."
   ]
  },
  {
   "cell_type": "code",
   "execution_count": 13,
   "id": "e38f883c-3723-41b0-8a6e-4fc5b0bd720c",
   "metadata": {},
   "outputs": [],
   "source": [
    "%%cython\n",
    "def f(x):\n",
    "    return x * (x - 1)\n",
    "   \n",
    "\n",
    "def integrate_f(a, b, N):\n",
    "    s = 0\n",
    "    dx = (b - a) / N\n",
    "    for i in range(N):\n",
    "        s += f(a + i * dx)\n",
    "        \n",
    "    return s * dx"
   ]
  },
  {
   "cell_type": "code",
   "execution_count": 14,
   "id": "2d18d4d2-05e5-42e0-a0f6-44b5ec7b869c",
   "metadata": {},
   "outputs": [
    {
     "name": "stdout",
     "output_type": "stream",
     "text": [
      "52.3 ms ± 83.8 µs per loop (mean ± std. dev. of 7 runs, 10 loops each)\n"
     ]
    }
   ],
   "source": [
    "%timeit df.apply(lambda x: integrate_f(x[\"a\"], x[\"b\"], x[\"N\"]), axis=1)"
   ]
  },
  {
   "cell_type": "code",
   "execution_count": 15,
   "id": "89f6fb6b-6fd6-4dcc-9e81-855ead973bdd",
   "metadata": {},
   "outputs": [],
   "source": [
    "%%cython\n",
    "cdef double f(double x) except? -2:                  # adding types\n",
    "    return x * (x - 1)\n",
    "   \n",
    "\n",
    "cpdef double integrate_f(double a, double b, int N): # adding types\n",
    "    cdef int i                                       # adding types\n",
    "    cdef double s, dx                                # adding types\n",
    "    s = 0\n",
    "    dx = (b - a) / N\n",
    "    for i in range(N):\n",
    "        s += f(a + i * dx)\n",
    "        \n",
    "    return s * dx"
   ]
  },
  {
   "cell_type": "code",
   "execution_count": 16,
   "id": "8d49a2b3-49c5-4c4f-a859-3f5501bdd8ec",
   "metadata": {},
   "outputs": [
    {
     "name": "stdout",
     "output_type": "stream",
     "text": [
      "13.4 ms ± 27.1 µs per loop (mean ± std. dev. of 7 runs, 100 loops each)\n"
     ]
    }
   ],
   "source": [
    "%timeit df.apply(lambda x: integrate_f(x[\"a\"], x[\"b\"], x[\"N\"]), axis=1)"
   ]
  },
  {
   "cell_type": "markdown",
   "id": "71ec8c44-4ca3-4ee1-bac3-fc788b771946",
   "metadata": {},
   "source": [
    "## Further information\n",
    "[Why is Python slow?](https://youtu.be/I4nkgJdVZFA), Anthony Shaw, PyCon 2020. [CPython Internals](https://realpython.com/products/cpython-internals-book/)."
   ]
  }
 ],
 "metadata": {
  "kernelspec": {
   "display_name": "swd6_hpp",
   "language": "python",
   "name": "swd6_hpp"
  },
  "language_info": {
   "codemirror_mode": {
    "name": "ipython",
    "version": 3
   },
   "file_extension": ".py",
   "mimetype": "text/x-python",
   "name": "python",
   "nbconvert_exporter": "python",
   "pygments_lexer": "ipython3",
   "version": "3.9.7"
  }
 },
 "nbformat": 4,
 "nbformat_minor": 5
}
