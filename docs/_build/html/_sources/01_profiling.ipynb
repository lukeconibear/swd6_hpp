{
 "cells": [
  {
   "cell_type": "markdown",
   "id": "c24c725f-0aed-4b26-b2c0-6e02de0ad324",
   "metadata": {},
   "source": [
    "# Profiling\n",
    "\n",
    "[Profiling](https://jakevdp.github.io/PythonDataScienceHandbook/01.07-timing-and-profiling.html) analyses your in terms of speed and/or memory. This can help identify where the bottlenecks are and how much potential there is for improvement."
   ]
  },
  {
   "cell_type": "markdown",
   "id": "7f879806-bf28-44e0-8c53-6b72d640f3de",
   "metadata": {
    "tags": []
   },
   "source": [
    "## [line_profiler](https://github.com/pyutils/line_profiler)\n",
    "\n",
    "- [IPython magic](https://jakevdp.github.io/PythonDataScienceHandbook/01.03-magic-commands.html) (Jupyter Lab)\n",
    "  - Line: `%timeit`\n",
    "  - Cell: `%%timeit`\n",
    "  - If `pip install line_profiler`:\n",
    "    - First load module: `%load_ext line_profiler`\n",
    "    - Scripts: `%prun`\n",
    "    - Line-by-line: `%lprun`\n",
    "      - `@profile` decorator around the function"
   ]
  },
  {
   "cell_type": "markdown",
   "id": "414551c3-a115-4b7f-af71-0348f975639f",
   "metadata": {},
   "source": [
    "## [memory_profiler](https://github.com/pythonprofilers/memory_profiler)\n",
    "\n",
    "- If `pip install memory_profiler`:\n",
    "- First load module:\n",
    "  - `%load_ext memory_profiler`\n",
    "  - Line: `%memit`\n",
    "  - Cell: `%%memit`\n",
    "  - Line-by-line: `%mprun`\n"
   ]
  },
  {
   "cell_type": "markdown",
   "id": "452482a7-70b5-48b5-82fc-0f6513673de5",
   "metadata": {},
   "source": [
    "## [pyinstrument](https://pyinstrument.readthedocs.io/en/latest/)\n",
    "..."
   ]
  },
  {
   "cell_type": "markdown",
   "id": "ddf6dccb-3368-4c9d-bbad-5d0e37309826",
   "metadata": {},
   "source": [
    "#### Profile parallel code\n",
    "- [Example visualisation of profiler](https://docs.dask.org/en/latest/diagnostics-local.html#example)."
   ]
  },
  {
   "cell_type": "markdown",
   "id": "d73bcbb5-e4c3-4032-b7af-8fd24d9e19e9",
   "metadata": {},
   "source": [
    "## Further information\n",
    "[PythonSpeed.com](https://pythonspeed.com/), Itamar Turner-Trauring"
   ]
  },
  {
   "cell_type": "code",
   "execution_count": null,
   "id": "7b6a6e8e-339a-43be-8e51-32c0b78eceec",
   "metadata": {},
   "outputs": [],
   "source": []
  }
 ],
 "metadata": {
  "kernelspec": {
   "display_name": "swd6_hpp",
   "language": "python",
   "name": "swd6_hpp"
  },
  "language_info": {
   "codemirror_mode": {
    "name": "ipython",
    "version": 3
   },
   "file_extension": ".py",
   "mimetype": "text/x-python",
   "name": "python",
   "nbconvert_exporter": "python",
   "pygments_lexer": "ipython3",
   "version": "3.9.7"
  }
 },
 "nbformat": 4,
 "nbformat_minor": 5
}
