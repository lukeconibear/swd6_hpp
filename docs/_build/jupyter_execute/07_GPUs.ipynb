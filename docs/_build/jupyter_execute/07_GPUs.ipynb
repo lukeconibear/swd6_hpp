{
 "cells": [
  {
   "cell_type": "markdown",
   "id": "b8eda9a1-0b12-40da-836e-96f0cebf1b25",
   "metadata": {},
   "source": [
    "# GPUs"
   ]
  },
  {
   "cell_type": "markdown",
   "id": "69c16cb6-0cba-4fda-acf4-03b9a791df9a",
   "metadata": {},
   "source": [
    "<table align=\"left\">\n",
    "\n",
    "  <td>\n",
    "    <a href=\"https://colab.research.google.com/github/lukeconibear/swd6_hpp/blob/main/docs/01_profiling.ipynb\" target=\"_parent\"><img src=\"https://colab.research.google.com/assets/colab-badge.svg\" alt=\"Open In Colab\"/></a>\n",
    "  </td>\n",
    "\n",
    "</table>"
   ]
  },
  {
   "cell_type": "markdown",
   "id": "3c417818-9ff3-42f3-8e45-453b9a8e1c4e",
   "metadata": {
    "tags": []
   },
   "source": [
    "GPUs (Graphics Processing Units) are optimised for numerical operations, while CPUs perform general computation.\n",
    "- [cuPy](https://cupy.dev/) (NumPy).\n",
    "```python\n",
    "import cupy as cp\n",
    "x = cp.arange(6).reshape(2, 3).astype('f')\n",
    "x.sum(axis=1)\n",
    "```\n",
    "- [cuDF](https://docs.rapids.ai/api/cudf/stable/) (Pandas).\n",
    "\n",
    "\n",
    "\n",
    "- Can run in [parallel](https://docs.dask.org/en/latest/gpu.html).\n",
    "  - GPUs available on [ARC4](https://arcdocs.leeds.ac.uk/systems/arc4.html#using-the-v100-gpu-nodes)."
   ]
  },
  {
   "cell_type": "markdown",
   "id": "25f8b804-2628-4ada-863a-e8ad3693b5aa",
   "metadata": {},
   "source": [
    "Many libraries can use GPUs automatically if they can detect one.\n",
    "\n",
    "[`TensorFlow`](https://www.tensorflow.org/install/gpu)\n",
    "```python\n",
    "import tensorflow as tf\n",
    "tf.config.list_physical_devices('GPU')\n",
    "```\n",
    "\n",
    "[`PyTorch`](https://pytorch.org/docs/stable/notes/cuda.html)\n",
    "```python\n",
    "import torch\n",
    "torch.cuda.is_available()\n",
    "```"
   ]
  },
  {
   "cell_type": "code",
   "execution_count": null,
   "id": "c4104ebb-8771-4d60-809a-e36ab2baf270",
   "metadata": {},
   "outputs": [],
   "source": []
  }
 ],
 "metadata": {
  "kernelspec": {
   "display_name": "swd6_hpp",
   "language": "python",
   "name": "swd6_hpp"
  },
  "language_info": {
   "codemirror_mode": {
    "name": "ipython",
    "version": 3
   },
   "file_extension": ".py",
   "mimetype": "text/x-python",
   "name": "python",
   "nbconvert_exporter": "python",
   "pygments_lexer": "ipython3",
   "version": "3.9.7"
  }
 },
 "nbformat": 4,
 "nbformat_minor": 5
}